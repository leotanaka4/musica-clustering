{
 "cells": [
  {
   "cell_type": "code",
   "execution_count": 2,
   "metadata": {},
   "outputs": [],
   "source": [
    "import pandas as pd\n",
    "import numpy as np"
   ]
  },
  {
   "cell_type": "code",
   "execution_count": 3,
   "metadata": {},
   "outputs": [],
   "source": [
    "dados = pd.read_csv('https://raw.githubusercontent.com/sthemonica/music-clustering/main/Dados/Dados_totais.csv')\n",
    "dados_generos = pd.read_csv('https://raw.githubusercontent.com/sthemonica/music-clustering/main/Dados/data_by_genres.csv')\n",
    "dados_anos = pd.read_csv('https://raw.githubusercontent.com/sthemonica/music-clustering/main/Dados/data_by_year.csv')"
   ]
  },
  {
   "cell_type": "code",
   "execution_count": 4,
   "metadata": {},
   "outputs": [
    {
     "data": {
      "text/html": [
       "<div>\n",
       "<style scoped>\n",
       "    .dataframe tbody tr th:only-of-type {\n",
       "        vertical-align: middle;\n",
       "    }\n",
       "\n",
       "    .dataframe tbody tr th {\n",
       "        vertical-align: top;\n",
       "    }\n",
       "\n",
       "    .dataframe thead th {\n",
       "        text-align: right;\n",
       "    }\n",
       "</style>\n",
       "<table border=\"1\" class=\"dataframe\">\n",
       "  <thead>\n",
       "    <tr style=\"text-align: right;\">\n",
       "      <th></th>\n",
       "      <th>valence</th>\n",
       "      <th>year</th>\n",
       "      <th>acousticness</th>\n",
       "      <th>artists</th>\n",
       "      <th>danceability</th>\n",
       "      <th>duration_ms</th>\n",
       "      <th>energy</th>\n",
       "      <th>explicit</th>\n",
       "      <th>id</th>\n",
       "      <th>instrumentalness</th>\n",
       "      <th>key</th>\n",
       "      <th>liveness</th>\n",
       "      <th>loudness</th>\n",
       "      <th>mode</th>\n",
       "      <th>name</th>\n",
       "      <th>popularity</th>\n",
       "      <th>speechiness</th>\n",
       "      <th>tempo</th>\n",
       "      <th>artists_song</th>\n",
       "    </tr>\n",
       "  </thead>\n",
       "  <tbody>\n",
       "    <tr>\n",
       "      <th>0</th>\n",
       "      <td>0.285</td>\n",
       "      <td>2000</td>\n",
       "      <td>0.00239</td>\n",
       "      <td>Coldplay</td>\n",
       "      <td>0.429</td>\n",
       "      <td>266773</td>\n",
       "      <td>0.661</td>\n",
       "      <td>0</td>\n",
       "      <td>3AJwUDP919kvQ9QcozQPxg</td>\n",
       "      <td>0.000121</td>\n",
       "      <td>11</td>\n",
       "      <td>0.2340</td>\n",
       "      <td>-7.227</td>\n",
       "      <td>1</td>\n",
       "      <td>Yellow</td>\n",
       "      <td>84</td>\n",
       "      <td>0.0281</td>\n",
       "      <td>173.372</td>\n",
       "      <td>Coldplay - Yellow</td>\n",
       "    </tr>\n",
       "    <tr>\n",
       "      <th>1</th>\n",
       "      <td>0.613</td>\n",
       "      <td>2000</td>\n",
       "      <td>0.14300</td>\n",
       "      <td>OutKast</td>\n",
       "      <td>0.843</td>\n",
       "      <td>270507</td>\n",
       "      <td>0.806</td>\n",
       "      <td>1</td>\n",
       "      <td>0I3q5fE6wg7LIfHGngUTnV</td>\n",
       "      <td>0.000000</td>\n",
       "      <td>4</td>\n",
       "      <td>0.0771</td>\n",
       "      <td>-5.946</td>\n",
       "      <td>0</td>\n",
       "      <td>Ms. Jackson</td>\n",
       "      <td>80</td>\n",
       "      <td>0.2690</td>\n",
       "      <td>94.948</td>\n",
       "      <td>OutKast - Ms. Jackson</td>\n",
       "    </tr>\n",
       "    <tr>\n",
       "      <th>2</th>\n",
       "      <td>0.400</td>\n",
       "      <td>2000</td>\n",
       "      <td>0.00958</td>\n",
       "      <td>Linkin Park</td>\n",
       "      <td>0.556</td>\n",
       "      <td>216880</td>\n",
       "      <td>0.864</td>\n",
       "      <td>0</td>\n",
       "      <td>60a0Rd6pjrkxjPbaKzXjfq</td>\n",
       "      <td>0.000000</td>\n",
       "      <td>3</td>\n",
       "      <td>0.2090</td>\n",
       "      <td>-5.870</td>\n",
       "      <td>0</td>\n",
       "      <td>In the End</td>\n",
       "      <td>84</td>\n",
       "      <td>0.0584</td>\n",
       "      <td>105.143</td>\n",
       "      <td>Linkin Park - In the End</td>\n",
       "    </tr>\n",
       "    <tr>\n",
       "      <th>3</th>\n",
       "      <td>0.543</td>\n",
       "      <td>2000</td>\n",
       "      <td>0.00664</td>\n",
       "      <td>3 Doors Down</td>\n",
       "      <td>0.545</td>\n",
       "      <td>233933</td>\n",
       "      <td>0.865</td>\n",
       "      <td>0</td>\n",
       "      <td>6ZOBP3NvffbU4SZcrnt1k6</td>\n",
       "      <td>0.000011</td>\n",
       "      <td>11</td>\n",
       "      <td>0.1680</td>\n",
       "      <td>-5.708</td>\n",
       "      <td>0</td>\n",
       "      <td>Kryptonite</td>\n",
       "      <td>78</td>\n",
       "      <td>0.0286</td>\n",
       "      <td>99.009</td>\n",
       "      <td>3 Doors Down - Kryptonite</td>\n",
       "    </tr>\n",
       "    <tr>\n",
       "      <th>4</th>\n",
       "      <td>0.760</td>\n",
       "      <td>2000</td>\n",
       "      <td>0.03020</td>\n",
       "      <td>Eminem</td>\n",
       "      <td>0.949</td>\n",
       "      <td>284200</td>\n",
       "      <td>0.661</td>\n",
       "      <td>1</td>\n",
       "      <td>3yfqSUWxFvZELEM4PmlwIR</td>\n",
       "      <td>0.000000</td>\n",
       "      <td>5</td>\n",
       "      <td>0.0454</td>\n",
       "      <td>-4.244</td>\n",
       "      <td>0</td>\n",
       "      <td>The Real Slim Shady</td>\n",
       "      <td>80</td>\n",
       "      <td>0.0572</td>\n",
       "      <td>104.504</td>\n",
       "      <td>Eminem - The Real Slim Shady</td>\n",
       "    </tr>\n",
       "  </tbody>\n",
       "</table>\n",
       "</div>"
      ],
      "text/plain": [
       "   valence  year  acousticness       artists  danceability  duration_ms  \\\n",
       "0    0.285  2000       0.00239      Coldplay         0.429       266773   \n",
       "1    0.613  2000       0.14300       OutKast         0.843       270507   \n",
       "2    0.400  2000       0.00958   Linkin Park         0.556       216880   \n",
       "3    0.543  2000       0.00664  3 Doors Down         0.545       233933   \n",
       "4    0.760  2000       0.03020        Eminem         0.949       284200   \n",
       "\n",
       "   energy  explicit                      id  instrumentalness  key  liveness  \\\n",
       "0   0.661         0  3AJwUDP919kvQ9QcozQPxg          0.000121   11    0.2340   \n",
       "1   0.806         1  0I3q5fE6wg7LIfHGngUTnV          0.000000    4    0.0771   \n",
       "2   0.864         0  60a0Rd6pjrkxjPbaKzXjfq          0.000000    3    0.2090   \n",
       "3   0.865         0  6ZOBP3NvffbU4SZcrnt1k6          0.000011   11    0.1680   \n",
       "4   0.661         1  3yfqSUWxFvZELEM4PmlwIR          0.000000    5    0.0454   \n",
       "\n",
       "   loudness  mode                 name  popularity  speechiness    tempo  \\\n",
       "0    -7.227     1               Yellow          84       0.0281  173.372   \n",
       "1    -5.946     0          Ms. Jackson          80       0.2690   94.948   \n",
       "2    -5.870     0           In the End          84       0.0584  105.143   \n",
       "3    -5.708     0           Kryptonite          78       0.0286   99.009   \n",
       "4    -4.244     0  The Real Slim Shady          80       0.0572  104.504   \n",
       "\n",
       "                   artists_song  \n",
       "0             Coldplay - Yellow  \n",
       "1         OutKast - Ms. Jackson  \n",
       "2      Linkin Park - In the End  \n",
       "3     3 Doors Down - Kryptonite  \n",
       "4  Eminem - The Real Slim Shady  "
      ]
     },
     "execution_count": 4,
     "metadata": {},
     "output_type": "execute_result"
    }
   ],
   "source": [
    "dados.head()"
   ]
  },
  {
   "cell_type": "code",
   "execution_count": 5,
   "metadata": {},
   "outputs": [
    {
     "data": {
      "text/plain": [
       "array([2000, 2001, 2002, 2003, 2004, 2005, 2006, 2007, 2008, 2009, 2010,\n",
       "       2011, 2012, 2013, 2014, 2015, 2016, 2017, 2018, 2019, 2020],\n",
       "      dtype=int64)"
      ]
     },
     "execution_count": 5,
     "metadata": {},
     "output_type": "execute_result"
    }
   ],
   "source": [
    "dados[\"year\"].unique()"
   ]
  },
  {
   "cell_type": "code",
   "execution_count": 6,
   "metadata": {},
   "outputs": [
    {
     "data": {
      "text/plain": [
       "(20311, 19)"
      ]
     },
     "execution_count": 6,
     "metadata": {},
     "output_type": "execute_result"
    }
   ],
   "source": [
    "dados.shape"
   ]
  },
  {
   "cell_type": "code",
   "execution_count": 7,
   "metadata": {},
   "outputs": [],
   "source": [
    "dados = dados.drop([\"explicit\", \"key\", \"mode\"], axis=1)"
   ]
  },
  {
   "cell_type": "code",
   "execution_count": 8,
   "metadata": {},
   "outputs": [
    {
     "data": {
      "text/plain": [
       "valence             0\n",
       "year                0\n",
       "acousticness        0\n",
       "artists             0\n",
       "danceability        0\n",
       "duration_ms         0\n",
       "energy              0\n",
       "id                  0\n",
       "instrumentalness    0\n",
       "liveness            0\n",
       "loudness            0\n",
       "name                0\n",
       "popularity          0\n",
       "speechiness         0\n",
       "tempo               0\n",
       "artists_song        0\n",
       "dtype: int64"
      ]
     },
     "execution_count": 8,
     "metadata": {},
     "output_type": "execute_result"
    }
   ],
   "source": [
    "dados.isnull().sum()"
   ]
  },
  {
   "cell_type": "code",
   "execution_count": 9,
   "metadata": {},
   "outputs": [
    {
     "data": {
      "text/plain": [
       "valence             0\n",
       "year                0\n",
       "acousticness        0\n",
       "artists             0\n",
       "danceability        0\n",
       "duration_ms         0\n",
       "energy              0\n",
       "id                  0\n",
       "instrumentalness    0\n",
       "liveness            0\n",
       "loudness            0\n",
       "name                0\n",
       "popularity          0\n",
       "speechiness         0\n",
       "tempo               0\n",
       "artists_song        0\n",
       "dtype: int64"
      ]
     },
     "execution_count": 9,
     "metadata": {},
     "output_type": "execute_result"
    }
   ],
   "source": [
    "dados.isna().sum()"
   ]
  },
  {
   "cell_type": "code",
   "execution_count": 10,
   "metadata": {},
   "outputs": [
    {
     "data": {
      "text/html": [
       "<div>\n",
       "<style scoped>\n",
       "    .dataframe tbody tr th:only-of-type {\n",
       "        vertical-align: middle;\n",
       "    }\n",
       "\n",
       "    .dataframe tbody tr th {\n",
       "        vertical-align: top;\n",
       "    }\n",
       "\n",
       "    .dataframe thead th {\n",
       "        text-align: right;\n",
       "    }\n",
       "</style>\n",
       "<table border=\"1\" class=\"dataframe\">\n",
       "  <thead>\n",
       "    <tr style=\"text-align: right;\">\n",
       "      <th></th>\n",
       "      <th>mode</th>\n",
       "      <th>genres</th>\n",
       "      <th>acousticness</th>\n",
       "      <th>danceability</th>\n",
       "      <th>duration_ms</th>\n",
       "      <th>energy</th>\n",
       "      <th>instrumentalness</th>\n",
       "      <th>liveness</th>\n",
       "      <th>loudness</th>\n",
       "      <th>speechiness</th>\n",
       "      <th>tempo</th>\n",
       "      <th>valence</th>\n",
       "      <th>popularity</th>\n",
       "      <th>key</th>\n",
       "    </tr>\n",
       "  </thead>\n",
       "  <tbody>\n",
       "    <tr>\n",
       "      <th>0</th>\n",
       "      <td>1</td>\n",
       "      <td>21st century classical</td>\n",
       "      <td>0.979333</td>\n",
       "      <td>0.162883</td>\n",
       "      <td>1.602977e+05</td>\n",
       "      <td>0.071317</td>\n",
       "      <td>0.606834</td>\n",
       "      <td>0.361600</td>\n",
       "      <td>-31.514333</td>\n",
       "      <td>0.040567</td>\n",
       "      <td>75.336500</td>\n",
       "      <td>0.103783</td>\n",
       "      <td>27.833333</td>\n",
       "      <td>6</td>\n",
       "    </tr>\n",
       "    <tr>\n",
       "      <th>1</th>\n",
       "      <td>1</td>\n",
       "      <td>432hz</td>\n",
       "      <td>0.494780</td>\n",
       "      <td>0.299333</td>\n",
       "      <td>1.048887e+06</td>\n",
       "      <td>0.450678</td>\n",
       "      <td>0.477762</td>\n",
       "      <td>0.131000</td>\n",
       "      <td>-16.854000</td>\n",
       "      <td>0.076817</td>\n",
       "      <td>120.285667</td>\n",
       "      <td>0.221750</td>\n",
       "      <td>52.500000</td>\n",
       "      <td>5</td>\n",
       "    </tr>\n",
       "    <tr>\n",
       "      <th>2</th>\n",
       "      <td>1</td>\n",
       "      <td>8-bit</td>\n",
       "      <td>0.762000</td>\n",
       "      <td>0.712000</td>\n",
       "      <td>1.151770e+05</td>\n",
       "      <td>0.818000</td>\n",
       "      <td>0.876000</td>\n",
       "      <td>0.126000</td>\n",
       "      <td>-9.180000</td>\n",
       "      <td>0.047000</td>\n",
       "      <td>133.444000</td>\n",
       "      <td>0.975000</td>\n",
       "      <td>48.000000</td>\n",
       "      <td>7</td>\n",
       "    </tr>\n",
       "    <tr>\n",
       "      <th>3</th>\n",
       "      <td>1</td>\n",
       "      <td>[]</td>\n",
       "      <td>0.651417</td>\n",
       "      <td>0.529093</td>\n",
       "      <td>2.328809e+05</td>\n",
       "      <td>0.419146</td>\n",
       "      <td>0.205309</td>\n",
       "      <td>0.218696</td>\n",
       "      <td>-12.288965</td>\n",
       "      <td>0.107872</td>\n",
       "      <td>112.857352</td>\n",
       "      <td>0.513604</td>\n",
       "      <td>20.859882</td>\n",
       "      <td>7</td>\n",
       "    </tr>\n",
       "    <tr>\n",
       "      <th>4</th>\n",
       "      <td>1</td>\n",
       "      <td>a cappella</td>\n",
       "      <td>0.676557</td>\n",
       "      <td>0.538961</td>\n",
       "      <td>1.906285e+05</td>\n",
       "      <td>0.316434</td>\n",
       "      <td>0.003003</td>\n",
       "      <td>0.172254</td>\n",
       "      <td>-12.479387</td>\n",
       "      <td>0.082851</td>\n",
       "      <td>112.110362</td>\n",
       "      <td>0.448249</td>\n",
       "      <td>45.820071</td>\n",
       "      <td>7</td>\n",
       "    </tr>\n",
       "  </tbody>\n",
       "</table>\n",
       "</div>"
      ],
      "text/plain": [
       "   mode                  genres  acousticness  danceability   duration_ms  \\\n",
       "0     1  21st century classical      0.979333      0.162883  1.602977e+05   \n",
       "1     1                   432hz      0.494780      0.299333  1.048887e+06   \n",
       "2     1                   8-bit      0.762000      0.712000  1.151770e+05   \n",
       "3     1                      []      0.651417      0.529093  2.328809e+05   \n",
       "4     1              a cappella      0.676557      0.538961  1.906285e+05   \n",
       "\n",
       "     energy  instrumentalness  liveness   loudness  speechiness       tempo  \\\n",
       "0  0.071317          0.606834  0.361600 -31.514333     0.040567   75.336500   \n",
       "1  0.450678          0.477762  0.131000 -16.854000     0.076817  120.285667   \n",
       "2  0.818000          0.876000  0.126000  -9.180000     0.047000  133.444000   \n",
       "3  0.419146          0.205309  0.218696 -12.288965     0.107872  112.857352   \n",
       "4  0.316434          0.003003  0.172254 -12.479387     0.082851  112.110362   \n",
       "\n",
       "    valence  popularity  key  \n",
       "0  0.103783   27.833333    6  \n",
       "1  0.221750   52.500000    5  \n",
       "2  0.975000   48.000000    7  \n",
       "3  0.513604   20.859882    7  \n",
       "4  0.448249   45.820071    7  "
      ]
     },
     "execution_count": 10,
     "metadata": {},
     "output_type": "execute_result"
    }
   ],
   "source": [
    "dados_generos.head()"
   ]
  },
  {
   "cell_type": "code",
   "execution_count": 11,
   "metadata": {},
   "outputs": [
    {
     "data": {
      "text/html": [
       "<div>\n",
       "<style scoped>\n",
       "    .dataframe tbody tr th:only-of-type {\n",
       "        vertical-align: middle;\n",
       "    }\n",
       "\n",
       "    .dataframe tbody tr th {\n",
       "        vertical-align: top;\n",
       "    }\n",
       "\n",
       "    .dataframe thead th {\n",
       "        text-align: right;\n",
       "    }\n",
       "</style>\n",
       "<table border=\"1\" class=\"dataframe\">\n",
       "  <thead>\n",
       "    <tr style=\"text-align: right;\">\n",
       "      <th></th>\n",
       "      <th>genres</th>\n",
       "      <th>acousticness</th>\n",
       "      <th>danceability</th>\n",
       "      <th>duration_ms</th>\n",
       "      <th>energy</th>\n",
       "      <th>instrumentalness</th>\n",
       "      <th>liveness</th>\n",
       "      <th>loudness</th>\n",
       "      <th>speechiness</th>\n",
       "      <th>tempo</th>\n",
       "      <th>valence</th>\n",
       "      <th>popularity</th>\n",
       "    </tr>\n",
       "  </thead>\n",
       "  <tbody>\n",
       "    <tr>\n",
       "      <th>0</th>\n",
       "      <td>21st century classical</td>\n",
       "      <td>0.979333</td>\n",
       "      <td>0.162883</td>\n",
       "      <td>1.602977e+05</td>\n",
       "      <td>0.071317</td>\n",
       "      <td>0.606834</td>\n",
       "      <td>0.361600</td>\n",
       "      <td>-31.514333</td>\n",
       "      <td>0.040567</td>\n",
       "      <td>75.336500</td>\n",
       "      <td>0.103783</td>\n",
       "      <td>27.833333</td>\n",
       "    </tr>\n",
       "    <tr>\n",
       "      <th>1</th>\n",
       "      <td>432hz</td>\n",
       "      <td>0.494780</td>\n",
       "      <td>0.299333</td>\n",
       "      <td>1.048887e+06</td>\n",
       "      <td>0.450678</td>\n",
       "      <td>0.477762</td>\n",
       "      <td>0.131000</td>\n",
       "      <td>-16.854000</td>\n",
       "      <td>0.076817</td>\n",
       "      <td>120.285667</td>\n",
       "      <td>0.221750</td>\n",
       "      <td>52.500000</td>\n",
       "    </tr>\n",
       "    <tr>\n",
       "      <th>2</th>\n",
       "      <td>8-bit</td>\n",
       "      <td>0.762000</td>\n",
       "      <td>0.712000</td>\n",
       "      <td>1.151770e+05</td>\n",
       "      <td>0.818000</td>\n",
       "      <td>0.876000</td>\n",
       "      <td>0.126000</td>\n",
       "      <td>-9.180000</td>\n",
       "      <td>0.047000</td>\n",
       "      <td>133.444000</td>\n",
       "      <td>0.975000</td>\n",
       "      <td>48.000000</td>\n",
       "    </tr>\n",
       "    <tr>\n",
       "      <th>3</th>\n",
       "      <td>[]</td>\n",
       "      <td>0.651417</td>\n",
       "      <td>0.529093</td>\n",
       "      <td>2.328809e+05</td>\n",
       "      <td>0.419146</td>\n",
       "      <td>0.205309</td>\n",
       "      <td>0.218696</td>\n",
       "      <td>-12.288965</td>\n",
       "      <td>0.107872</td>\n",
       "      <td>112.857352</td>\n",
       "      <td>0.513604</td>\n",
       "      <td>20.859882</td>\n",
       "    </tr>\n",
       "    <tr>\n",
       "      <th>4</th>\n",
       "      <td>a cappella</td>\n",
       "      <td>0.676557</td>\n",
       "      <td>0.538961</td>\n",
       "      <td>1.906285e+05</td>\n",
       "      <td>0.316434</td>\n",
       "      <td>0.003003</td>\n",
       "      <td>0.172254</td>\n",
       "      <td>-12.479387</td>\n",
       "      <td>0.082851</td>\n",
       "      <td>112.110362</td>\n",
       "      <td>0.448249</td>\n",
       "      <td>45.820071</td>\n",
       "    </tr>\n",
       "  </tbody>\n",
       "</table>\n",
       "</div>"
      ],
      "text/plain": [
       "                   genres  acousticness  danceability   duration_ms    energy  \\\n",
       "0  21st century classical      0.979333      0.162883  1.602977e+05  0.071317   \n",
       "1                   432hz      0.494780      0.299333  1.048887e+06  0.450678   \n",
       "2                   8-bit      0.762000      0.712000  1.151770e+05  0.818000   \n",
       "3                      []      0.651417      0.529093  2.328809e+05  0.419146   \n",
       "4              a cappella      0.676557      0.538961  1.906285e+05  0.316434   \n",
       "\n",
       "   instrumentalness  liveness   loudness  speechiness       tempo   valence  \\\n",
       "0          0.606834  0.361600 -31.514333     0.040567   75.336500  0.103783   \n",
       "1          0.477762  0.131000 -16.854000     0.076817  120.285667  0.221750   \n",
       "2          0.876000  0.126000  -9.180000     0.047000  133.444000  0.975000   \n",
       "3          0.205309  0.218696 -12.288965     0.107872  112.857352  0.513604   \n",
       "4          0.003003  0.172254 -12.479387     0.082851  112.110362  0.448249   \n",
       "\n",
       "   popularity  \n",
       "0   27.833333  \n",
       "1   52.500000  \n",
       "2   48.000000  \n",
       "3   20.859882  \n",
       "4   45.820071  "
      ]
     },
     "execution_count": 11,
     "metadata": {},
     "output_type": "execute_result"
    }
   ],
   "source": [
    "dados_generos = dados_generos.drop([\"key\", \"mode\"], axis=1)\n",
    "dados_generos.head()"
   ]
  },
  {
   "cell_type": "code",
   "execution_count": 12,
   "metadata": {},
   "outputs": [
    {
     "data": {
      "text/plain": [
       "genres              0\n",
       "acousticness        0\n",
       "danceability        0\n",
       "duration_ms         0\n",
       "energy              0\n",
       "instrumentalness    0\n",
       "liveness            0\n",
       "loudness            0\n",
       "speechiness         0\n",
       "tempo               0\n",
       "valence             0\n",
       "popularity          0\n",
       "dtype: int64"
      ]
     },
     "execution_count": 12,
     "metadata": {},
     "output_type": "execute_result"
    }
   ],
   "source": [
    "dados_generos.isnull().sum()"
   ]
  },
  {
   "cell_type": "code",
   "execution_count": 13,
   "metadata": {},
   "outputs": [
    {
     "data": {
      "text/plain": [
       "genres              0\n",
       "acousticness        0\n",
       "danceability        0\n",
       "duration_ms         0\n",
       "energy              0\n",
       "instrumentalness    0\n",
       "liveness            0\n",
       "loudness            0\n",
       "speechiness         0\n",
       "tempo               0\n",
       "valence             0\n",
       "popularity          0\n",
       "dtype: int64"
      ]
     },
     "execution_count": 13,
     "metadata": {},
     "output_type": "execute_result"
    }
   ],
   "source": [
    "dados_generos.isna().sum()"
   ]
  },
  {
   "cell_type": "code",
   "execution_count": 14,
   "metadata": {},
   "outputs": [
    {
     "data": {
      "text/html": [
       "<div>\n",
       "<style scoped>\n",
       "    .dataframe tbody tr th:only-of-type {\n",
       "        vertical-align: middle;\n",
       "    }\n",
       "\n",
       "    .dataframe tbody tr th {\n",
       "        vertical-align: top;\n",
       "    }\n",
       "\n",
       "    .dataframe thead th {\n",
       "        text-align: right;\n",
       "    }\n",
       "</style>\n",
       "<table border=\"1\" class=\"dataframe\">\n",
       "  <thead>\n",
       "    <tr style=\"text-align: right;\">\n",
       "      <th></th>\n",
       "      <th>mode</th>\n",
       "      <th>year</th>\n",
       "      <th>acousticness</th>\n",
       "      <th>danceability</th>\n",
       "      <th>duration_ms</th>\n",
       "      <th>energy</th>\n",
       "      <th>instrumentalness</th>\n",
       "      <th>liveness</th>\n",
       "      <th>loudness</th>\n",
       "      <th>speechiness</th>\n",
       "      <th>tempo</th>\n",
       "      <th>valence</th>\n",
       "      <th>popularity</th>\n",
       "      <th>key</th>\n",
       "    </tr>\n",
       "  </thead>\n",
       "  <tbody>\n",
       "    <tr>\n",
       "      <th>0</th>\n",
       "      <td>1</td>\n",
       "      <td>1921</td>\n",
       "      <td>0.886896</td>\n",
       "      <td>0.418597</td>\n",
       "      <td>260537.166667</td>\n",
       "      <td>0.231815</td>\n",
       "      <td>0.344878</td>\n",
       "      <td>0.205710</td>\n",
       "      <td>-17.048667</td>\n",
       "      <td>0.073662</td>\n",
       "      <td>101.531493</td>\n",
       "      <td>0.379327</td>\n",
       "      <td>0.653333</td>\n",
       "      <td>2</td>\n",
       "    </tr>\n",
       "    <tr>\n",
       "      <th>1</th>\n",
       "      <td>1</td>\n",
       "      <td>1922</td>\n",
       "      <td>0.938592</td>\n",
       "      <td>0.482042</td>\n",
       "      <td>165469.746479</td>\n",
       "      <td>0.237815</td>\n",
       "      <td>0.434195</td>\n",
       "      <td>0.240720</td>\n",
       "      <td>-19.275282</td>\n",
       "      <td>0.116655</td>\n",
       "      <td>100.884521</td>\n",
       "      <td>0.535549</td>\n",
       "      <td>0.140845</td>\n",
       "      <td>10</td>\n",
       "    </tr>\n",
       "    <tr>\n",
       "      <th>2</th>\n",
       "      <td>1</td>\n",
       "      <td>1923</td>\n",
       "      <td>0.957247</td>\n",
       "      <td>0.577341</td>\n",
       "      <td>177942.362162</td>\n",
       "      <td>0.262406</td>\n",
       "      <td>0.371733</td>\n",
       "      <td>0.227462</td>\n",
       "      <td>-14.129211</td>\n",
       "      <td>0.093949</td>\n",
       "      <td>114.010730</td>\n",
       "      <td>0.625492</td>\n",
       "      <td>5.389189</td>\n",
       "      <td>0</td>\n",
       "    </tr>\n",
       "    <tr>\n",
       "      <th>3</th>\n",
       "      <td>1</td>\n",
       "      <td>1924</td>\n",
       "      <td>0.940200</td>\n",
       "      <td>0.549894</td>\n",
       "      <td>191046.707627</td>\n",
       "      <td>0.344347</td>\n",
       "      <td>0.581701</td>\n",
       "      <td>0.235219</td>\n",
       "      <td>-14.231343</td>\n",
       "      <td>0.092089</td>\n",
       "      <td>120.689572</td>\n",
       "      <td>0.663725</td>\n",
       "      <td>0.661017</td>\n",
       "      <td>10</td>\n",
       "    </tr>\n",
       "    <tr>\n",
       "      <th>4</th>\n",
       "      <td>1</td>\n",
       "      <td>1925</td>\n",
       "      <td>0.962607</td>\n",
       "      <td>0.573863</td>\n",
       "      <td>184986.924460</td>\n",
       "      <td>0.278594</td>\n",
       "      <td>0.418297</td>\n",
       "      <td>0.237668</td>\n",
       "      <td>-14.146414</td>\n",
       "      <td>0.111918</td>\n",
       "      <td>115.521921</td>\n",
       "      <td>0.621929</td>\n",
       "      <td>2.604317</td>\n",
       "      <td>5</td>\n",
       "    </tr>\n",
       "  </tbody>\n",
       "</table>\n",
       "</div>"
      ],
      "text/plain": [
       "   mode  year  acousticness  danceability    duration_ms    energy  \\\n",
       "0     1  1921      0.886896      0.418597  260537.166667  0.231815   \n",
       "1     1  1922      0.938592      0.482042  165469.746479  0.237815   \n",
       "2     1  1923      0.957247      0.577341  177942.362162  0.262406   \n",
       "3     1  1924      0.940200      0.549894  191046.707627  0.344347   \n",
       "4     1  1925      0.962607      0.573863  184986.924460  0.278594   \n",
       "\n",
       "   instrumentalness  liveness   loudness  speechiness       tempo   valence  \\\n",
       "0          0.344878  0.205710 -17.048667     0.073662  101.531493  0.379327   \n",
       "1          0.434195  0.240720 -19.275282     0.116655  100.884521  0.535549   \n",
       "2          0.371733  0.227462 -14.129211     0.093949  114.010730  0.625492   \n",
       "3          0.581701  0.235219 -14.231343     0.092089  120.689572  0.663725   \n",
       "4          0.418297  0.237668 -14.146414     0.111918  115.521921  0.621929   \n",
       "\n",
       "   popularity  key  \n",
       "0    0.653333    2  \n",
       "1    0.140845   10  \n",
       "2    5.389189    0  \n",
       "3    0.661017   10  \n",
       "4    2.604317    5  "
      ]
     },
     "execution_count": 14,
     "metadata": {},
     "output_type": "execute_result"
    }
   ],
   "source": [
    "dados_anos.head()"
   ]
  },
  {
   "cell_type": "code",
   "execution_count": 15,
   "metadata": {},
   "outputs": [
    {
     "data": {
      "text/plain": [
       "array([1921, 1922, 1923, 1924, 1925, 1926, 1927, 1928, 1929, 1930, 1931,\n",
       "       1932, 1933, 1934, 1935, 1936, 1937, 1938, 1939, 1940, 1941, 1942,\n",
       "       1943, 1944, 1945, 1946, 1947, 1948, 1949, 1950, 1951, 1952, 1953,\n",
       "       1954, 1955, 1956, 1957, 1958, 1959, 1960, 1961, 1962, 1963, 1964,\n",
       "       1965, 1966, 1967, 1968, 1969, 1970, 1971, 1972, 1973, 1974, 1975,\n",
       "       1976, 1977, 1978, 1979, 1980, 1981, 1982, 1983, 1984, 1985, 1986,\n",
       "       1987, 1988, 1989, 1990, 1991, 1992, 1993, 1994, 1995, 1996, 1997,\n",
       "       1998, 1999, 2000, 2001, 2002, 2003, 2004, 2005, 2006, 2007, 2008,\n",
       "       2009, 2010, 2011, 2012, 2013, 2014, 2015, 2016, 2017, 2018, 2019,\n",
       "       2020], dtype=int64)"
      ]
     },
     "execution_count": 15,
     "metadata": {},
     "output_type": "execute_result"
    }
   ],
   "source": [
    "dados_anos[\"year\"].unique()"
   ]
  },
  {
   "cell_type": "code",
   "execution_count": 16,
   "metadata": {},
   "outputs": [
    {
     "data": {
      "text/plain": [
       "array([2000, 2001, 2002, 2003, 2004, 2005, 2006, 2007, 2008, 2009, 2010,\n",
       "       2011, 2012, 2013, 2014, 2015, 2016, 2017, 2018, 2019, 2020],\n",
       "      dtype=int64)"
      ]
     },
     "execution_count": 16,
     "metadata": {},
     "output_type": "execute_result"
    }
   ],
   "source": [
    "dados_anos = dados_anos[dados_anos[\"year\"]>=2000]\n",
    "dados_anos[\"year\"].unique()"
   ]
  },
  {
   "cell_type": "code",
   "execution_count": 17,
   "metadata": {},
   "outputs": [
    {
     "data": {
      "text/html": [
       "<div>\n",
       "<style scoped>\n",
       "    .dataframe tbody tr th:only-of-type {\n",
       "        vertical-align: middle;\n",
       "    }\n",
       "\n",
       "    .dataframe tbody tr th {\n",
       "        vertical-align: top;\n",
       "    }\n",
       "\n",
       "    .dataframe thead th {\n",
       "        text-align: right;\n",
       "    }\n",
       "</style>\n",
       "<table border=\"1\" class=\"dataframe\">\n",
       "  <thead>\n",
       "    <tr style=\"text-align: right;\">\n",
       "      <th></th>\n",
       "      <th>year</th>\n",
       "      <th>acousticness</th>\n",
       "      <th>danceability</th>\n",
       "      <th>duration_ms</th>\n",
       "      <th>energy</th>\n",
       "      <th>instrumentalness</th>\n",
       "      <th>liveness</th>\n",
       "      <th>loudness</th>\n",
       "      <th>speechiness</th>\n",
       "      <th>tempo</th>\n",
       "      <th>valence</th>\n",
       "      <th>popularity</th>\n",
       "    </tr>\n",
       "  </thead>\n",
       "  <tbody>\n",
       "    <tr>\n",
       "      <th>79</th>\n",
       "      <td>2000</td>\n",
       "      <td>0.289323</td>\n",
       "      <td>0.590918</td>\n",
       "      <td>242724.642638</td>\n",
       "      <td>0.625413</td>\n",
       "      <td>0.101168</td>\n",
       "      <td>0.197686</td>\n",
       "      <td>-8.247766</td>\n",
       "      <td>0.089205</td>\n",
       "      <td>118.999323</td>\n",
       "      <td>0.559475</td>\n",
       "      <td>46.684049</td>\n",
       "    </tr>\n",
       "    <tr>\n",
       "      <th>80</th>\n",
       "      <td>2001</td>\n",
       "      <td>0.286842</td>\n",
       "      <td>0.583318</td>\n",
       "      <td>240307.796010</td>\n",
       "      <td>0.626986</td>\n",
       "      <td>0.107214</td>\n",
       "      <td>0.187026</td>\n",
       "      <td>-8.305095</td>\n",
       "      <td>0.089182</td>\n",
       "      <td>117.765399</td>\n",
       "      <td>0.541479</td>\n",
       "      <td>48.750125</td>\n",
       "    </tr>\n",
       "    <tr>\n",
       "      <th>81</th>\n",
       "      <td>2002</td>\n",
       "      <td>0.282624</td>\n",
       "      <td>0.576160</td>\n",
       "      <td>239503.283000</td>\n",
       "      <td>0.641270</td>\n",
       "      <td>0.088048</td>\n",
       "      <td>0.193911</td>\n",
       "      <td>-7.686640</td>\n",
       "      <td>0.084308</td>\n",
       "      <td>119.239738</td>\n",
       "      <td>0.542397</td>\n",
       "      <td>48.655500</td>\n",
       "    </tr>\n",
       "    <tr>\n",
       "      <th>82</th>\n",
       "      <td>2003</td>\n",
       "      <td>0.256471</td>\n",
       "      <td>0.575763</td>\n",
       "      <td>244670.575230</td>\n",
       "      <td>0.660165</td>\n",
       "      <td>0.083049</td>\n",
       "      <td>0.196976</td>\n",
       "      <td>-7.485545</td>\n",
       "      <td>0.093926</td>\n",
       "      <td>120.914622</td>\n",
       "      <td>0.530504</td>\n",
       "      <td>48.626407</td>\n",
       "    </tr>\n",
       "    <tr>\n",
       "      <th>83</th>\n",
       "      <td>2004</td>\n",
       "      <td>0.280559</td>\n",
       "      <td>0.567680</td>\n",
       "      <td>237378.708037</td>\n",
       "      <td>0.648868</td>\n",
       "      <td>0.077934</td>\n",
       "      <td>0.202199</td>\n",
       "      <td>-7.601655</td>\n",
       "      <td>0.094239</td>\n",
       "      <td>121.290346</td>\n",
       "      <td>0.524489</td>\n",
       "      <td>49.273143</td>\n",
       "    </tr>\n",
       "  </tbody>\n",
       "</table>\n",
       "</div>"
      ],
      "text/plain": [
       "    year  acousticness  danceability    duration_ms    energy  \\\n",
       "79  2000      0.289323      0.590918  242724.642638  0.625413   \n",
       "80  2001      0.286842      0.583318  240307.796010  0.626986   \n",
       "81  2002      0.282624      0.576160  239503.283000  0.641270   \n",
       "82  2003      0.256471      0.575763  244670.575230  0.660165   \n",
       "83  2004      0.280559      0.567680  237378.708037  0.648868   \n",
       "\n",
       "    instrumentalness  liveness  loudness  speechiness       tempo   valence  \\\n",
       "79          0.101168  0.197686 -8.247766     0.089205  118.999323  0.559475   \n",
       "80          0.107214  0.187026 -8.305095     0.089182  117.765399  0.541479   \n",
       "81          0.088048  0.193911 -7.686640     0.084308  119.239738  0.542397   \n",
       "82          0.083049  0.196976 -7.485545     0.093926  120.914622  0.530504   \n",
       "83          0.077934  0.202199 -7.601655     0.094239  121.290346  0.524489   \n",
       "\n",
       "    popularity  \n",
       "79   46.684049  \n",
       "80   48.750125  \n",
       "81   48.655500  \n",
       "82   48.626407  \n",
       "83   49.273143  "
      ]
     },
     "execution_count": 17,
     "metadata": {},
     "output_type": "execute_result"
    }
   ],
   "source": [
    "dados_anos = dados_anos.drop([\"key\", \"mode\"], axis=1)\n",
    "dados_anos.head()"
   ]
  },
  {
   "cell_type": "code",
   "execution_count": 18,
   "metadata": {},
   "outputs": [
    {
     "data": {
      "text/html": [
       "<div>\n",
       "<style scoped>\n",
       "    .dataframe tbody tr th:only-of-type {\n",
       "        vertical-align: middle;\n",
       "    }\n",
       "\n",
       "    .dataframe tbody tr th {\n",
       "        vertical-align: top;\n",
       "    }\n",
       "\n",
       "    .dataframe thead th {\n",
       "        text-align: right;\n",
       "    }\n",
       "</style>\n",
       "<table border=\"1\" class=\"dataframe\">\n",
       "  <thead>\n",
       "    <tr style=\"text-align: right;\">\n",
       "      <th></th>\n",
       "      <th>index</th>\n",
       "      <th>year</th>\n",
       "      <th>acousticness</th>\n",
       "      <th>danceability</th>\n",
       "      <th>duration_ms</th>\n",
       "      <th>energy</th>\n",
       "      <th>instrumentalness</th>\n",
       "      <th>liveness</th>\n",
       "      <th>loudness</th>\n",
       "      <th>speechiness</th>\n",
       "      <th>tempo</th>\n",
       "      <th>valence</th>\n",
       "      <th>popularity</th>\n",
       "    </tr>\n",
       "  </thead>\n",
       "  <tbody>\n",
       "    <tr>\n",
       "      <th>0</th>\n",
       "      <td>79</td>\n",
       "      <td>2000</td>\n",
       "      <td>0.289323</td>\n",
       "      <td>0.590918</td>\n",
       "      <td>242724.642638</td>\n",
       "      <td>0.625413</td>\n",
       "      <td>0.101168</td>\n",
       "      <td>0.197686</td>\n",
       "      <td>-8.247766</td>\n",
       "      <td>0.089205</td>\n",
       "      <td>118.999323</td>\n",
       "      <td>0.559475</td>\n",
       "      <td>46.684049</td>\n",
       "    </tr>\n",
       "    <tr>\n",
       "      <th>1</th>\n",
       "      <td>80</td>\n",
       "      <td>2001</td>\n",
       "      <td>0.286842</td>\n",
       "      <td>0.583318</td>\n",
       "      <td>240307.796010</td>\n",
       "      <td>0.626986</td>\n",
       "      <td>0.107214</td>\n",
       "      <td>0.187026</td>\n",
       "      <td>-8.305095</td>\n",
       "      <td>0.089182</td>\n",
       "      <td>117.765399</td>\n",
       "      <td>0.541479</td>\n",
       "      <td>48.750125</td>\n",
       "    </tr>\n",
       "    <tr>\n",
       "      <th>2</th>\n",
       "      <td>81</td>\n",
       "      <td>2002</td>\n",
       "      <td>0.282624</td>\n",
       "      <td>0.576160</td>\n",
       "      <td>239503.283000</td>\n",
       "      <td>0.641270</td>\n",
       "      <td>0.088048</td>\n",
       "      <td>0.193911</td>\n",
       "      <td>-7.686640</td>\n",
       "      <td>0.084308</td>\n",
       "      <td>119.239738</td>\n",
       "      <td>0.542397</td>\n",
       "      <td>48.655500</td>\n",
       "    </tr>\n",
       "    <tr>\n",
       "      <th>3</th>\n",
       "      <td>82</td>\n",
       "      <td>2003</td>\n",
       "      <td>0.256471</td>\n",
       "      <td>0.575763</td>\n",
       "      <td>244670.575230</td>\n",
       "      <td>0.660165</td>\n",
       "      <td>0.083049</td>\n",
       "      <td>0.196976</td>\n",
       "      <td>-7.485545</td>\n",
       "      <td>0.093926</td>\n",
       "      <td>120.914622</td>\n",
       "      <td>0.530504</td>\n",
       "      <td>48.626407</td>\n",
       "    </tr>\n",
       "    <tr>\n",
       "      <th>4</th>\n",
       "      <td>83</td>\n",
       "      <td>2004</td>\n",
       "      <td>0.280559</td>\n",
       "      <td>0.567680</td>\n",
       "      <td>237378.708037</td>\n",
       "      <td>0.648868</td>\n",
       "      <td>0.077934</td>\n",
       "      <td>0.202199</td>\n",
       "      <td>-7.601655</td>\n",
       "      <td>0.094239</td>\n",
       "      <td>121.290346</td>\n",
       "      <td>0.524489</td>\n",
       "      <td>49.273143</td>\n",
       "    </tr>\n",
       "    <tr>\n",
       "      <th>5</th>\n",
       "      <td>84</td>\n",
       "      <td>2005</td>\n",
       "      <td>0.255764</td>\n",
       "      <td>0.572281</td>\n",
       "      <td>237229.588205</td>\n",
       "      <td>0.653209</td>\n",
       "      <td>0.090194</td>\n",
       "      <td>0.190082</td>\n",
       "      <td>-7.466159</td>\n",
       "      <td>0.093334</td>\n",
       "      <td>121.617967</td>\n",
       "      <td>0.532531</td>\n",
       "      <td>50.953333</td>\n",
       "    </tr>\n",
       "    <tr>\n",
       "      <th>6</th>\n",
       "      <td>85</td>\n",
       "      <td>2006</td>\n",
       "      <td>0.279986</td>\n",
       "      <td>0.568230</td>\n",
       "      <td>234042.914359</td>\n",
       "      <td>0.650326</td>\n",
       "      <td>0.077701</td>\n",
       "      <td>0.188289</td>\n",
       "      <td>-7.265501</td>\n",
       "      <td>0.085847</td>\n",
       "      <td>121.798615</td>\n",
       "      <td>0.520028</td>\n",
       "      <td>51.313846</td>\n",
       "    </tr>\n",
       "    <tr>\n",
       "      <th>7</th>\n",
       "      <td>86</td>\n",
       "      <td>2007</td>\n",
       "      <td>0.254081</td>\n",
       "      <td>0.563414</td>\n",
       "      <td>241049.962564</td>\n",
       "      <td>0.668305</td>\n",
       "      <td>0.072957</td>\n",
       "      <td>0.196127</td>\n",
       "      <td>-7.044536</td>\n",
       "      <td>0.084347</td>\n",
       "      <td>124.087516</td>\n",
       "      <td>0.516794</td>\n",
       "      <td>51.075897</td>\n",
       "    </tr>\n",
       "    <tr>\n",
       "      <th>8</th>\n",
       "      <td>87</td>\n",
       "      <td>2008</td>\n",
       "      <td>0.249192</td>\n",
       "      <td>0.579193</td>\n",
       "      <td>240107.315601</td>\n",
       "      <td>0.671461</td>\n",
       "      <td>0.063662</td>\n",
       "      <td>0.198431</td>\n",
       "      <td>-6.843804</td>\n",
       "      <td>0.077356</td>\n",
       "      <td>123.509934</td>\n",
       "      <td>0.527542</td>\n",
       "      <td>50.630179</td>\n",
       "    </tr>\n",
       "    <tr>\n",
       "      <th>9</th>\n",
       "      <td>88</td>\n",
       "      <td>2009</td>\n",
       "      <td>0.261929</td>\n",
       "      <td>0.564190</td>\n",
       "      <td>238140.013265</td>\n",
       "      <td>0.670749</td>\n",
       "      <td>0.075872</td>\n",
       "      <td>0.205252</td>\n",
       "      <td>-7.046015</td>\n",
       "      <td>0.085458</td>\n",
       "      <td>123.463808</td>\n",
       "      <td>0.507170</td>\n",
       "      <td>51.440816</td>\n",
       "    </tr>\n",
       "    <tr>\n",
       "      <th>10</th>\n",
       "      <td>89</td>\n",
       "      <td>2010</td>\n",
       "      <td>0.242687</td>\n",
       "      <td>0.572488</td>\n",
       "      <td>242811.804563</td>\n",
       "      <td>0.681778</td>\n",
       "      <td>0.082981</td>\n",
       "      <td>0.199701</td>\n",
       "      <td>-6.909904</td>\n",
       "      <td>0.081031</td>\n",
       "      <td>123.570215</td>\n",
       "      <td>0.520895</td>\n",
       "      <td>52.730159</td>\n",
       "    </tr>\n",
       "    <tr>\n",
       "      <th>11</th>\n",
       "      <td>90</td>\n",
       "      <td>2011</td>\n",
       "      <td>0.273183</td>\n",
       "      <td>0.552867</td>\n",
       "      <td>236998.787308</td>\n",
       "      <td>0.648301</td>\n",
       "      <td>0.103772</td>\n",
       "      <td>0.203309</td>\n",
       "      <td>-7.574986</td>\n",
       "      <td>0.087479</td>\n",
       "      <td>121.483997</td>\n",
       "      <td>0.472454</td>\n",
       "      <td>53.307387</td>\n",
       "    </tr>\n",
       "    <tr>\n",
       "      <th>12</th>\n",
       "      <td>91</td>\n",
       "      <td>2012</td>\n",
       "      <td>0.249953</td>\n",
       "      <td>0.570882</td>\n",
       "      <td>245807.457584</td>\n",
       "      <td>0.656571</td>\n",
       "      <td>0.085206</td>\n",
       "      <td>0.189733</td>\n",
       "      <td>-7.260550</td>\n",
       "      <td>0.081742</td>\n",
       "      <td>121.781736</td>\n",
       "      <td>0.462709</td>\n",
       "      <td>52.655013</td>\n",
       "    </tr>\n",
       "    <tr>\n",
       "      <th>13</th>\n",
       "      <td>92</td>\n",
       "      <td>2013</td>\n",
       "      <td>0.257488</td>\n",
       "      <td>0.571148</td>\n",
       "      <td>242267.661437</td>\n",
       "      <td>0.645597</td>\n",
       "      <td>0.098365</td>\n",
       "      <td>0.199631</td>\n",
       "      <td>-7.472039</td>\n",
       "      <td>0.093849</td>\n",
       "      <td>120.806829</td>\n",
       "      <td>0.454741</td>\n",
       "      <td>54.047065</td>\n",
       "    </tr>\n",
       "    <tr>\n",
       "      <th>14</th>\n",
       "      <td>93</td>\n",
       "      <td>2014</td>\n",
       "      <td>0.249313</td>\n",
       "      <td>0.589948</td>\n",
       "      <td>233728.314713</td>\n",
       "      <td>0.648795</td>\n",
       "      <td>0.076570</td>\n",
       "      <td>0.191822</td>\n",
       "      <td>-7.067440</td>\n",
       "      <td>0.084061</td>\n",
       "      <td>122.305263</td>\n",
       "      <td>0.463049</td>\n",
       "      <td>55.543142</td>\n",
       "    </tr>\n",
       "    <tr>\n",
       "      <th>15</th>\n",
       "      <td>94</td>\n",
       "      <td>2015</td>\n",
       "      <td>0.253952</td>\n",
       "      <td>0.593774</td>\n",
       "      <td>230029.046606</td>\n",
       "      <td>0.627064</td>\n",
       "      <td>0.106787</td>\n",
       "      <td>0.188856</td>\n",
       "      <td>-7.625639</td>\n",
       "      <td>0.096779</td>\n",
       "      <td>120.115411</td>\n",
       "      <td>0.432098</td>\n",
       "      <td>56.700608</td>\n",
       "    </tr>\n",
       "    <tr>\n",
       "      <th>16</th>\n",
       "      <td>95</td>\n",
       "      <td>2016</td>\n",
       "      <td>0.284171</td>\n",
       "      <td>0.600202</td>\n",
       "      <td>221396.510295</td>\n",
       "      <td>0.592855</td>\n",
       "      <td>0.093984</td>\n",
       "      <td>0.181170</td>\n",
       "      <td>-8.061056</td>\n",
       "      <td>0.104313</td>\n",
       "      <td>118.652630</td>\n",
       "      <td>0.431532</td>\n",
       "      <td>59.647190</td>\n",
       "    </tr>\n",
       "    <tr>\n",
       "      <th>17</th>\n",
       "      <td>96</td>\n",
       "      <td>2017</td>\n",
       "      <td>0.286099</td>\n",
       "      <td>0.612217</td>\n",
       "      <td>211115.696787</td>\n",
       "      <td>0.590421</td>\n",
       "      <td>0.097091</td>\n",
       "      <td>0.191713</td>\n",
       "      <td>-8.312630</td>\n",
       "      <td>0.110536</td>\n",
       "      <td>117.202740</td>\n",
       "      <td>0.416476</td>\n",
       "      <td>63.263554</td>\n",
       "    </tr>\n",
       "    <tr>\n",
       "      <th>18</th>\n",
       "      <td>97</td>\n",
       "      <td>2018</td>\n",
       "      <td>0.267633</td>\n",
       "      <td>0.663500</td>\n",
       "      <td>206001.007133</td>\n",
       "      <td>0.602435</td>\n",
       "      <td>0.054217</td>\n",
       "      <td>0.176326</td>\n",
       "      <td>-7.168785</td>\n",
       "      <td>0.127176</td>\n",
       "      <td>121.922308</td>\n",
       "      <td>0.447921</td>\n",
       "      <td>63.296243</td>\n",
       "    </tr>\n",
       "    <tr>\n",
       "      <th>19</th>\n",
       "      <td>98</td>\n",
       "      <td>2019</td>\n",
       "      <td>0.278299</td>\n",
       "      <td>0.644814</td>\n",
       "      <td>201024.788096</td>\n",
       "      <td>0.593224</td>\n",
       "      <td>0.077640</td>\n",
       "      <td>0.172616</td>\n",
       "      <td>-7.722192</td>\n",
       "      <td>0.121043</td>\n",
       "      <td>120.235644</td>\n",
       "      <td>0.458818</td>\n",
       "      <td>65.256542</td>\n",
       "    </tr>\n",
       "    <tr>\n",
       "      <th>20</th>\n",
       "      <td>99</td>\n",
       "      <td>2020</td>\n",
       "      <td>0.219931</td>\n",
       "      <td>0.692904</td>\n",
       "      <td>193728.397537</td>\n",
       "      <td>0.631232</td>\n",
       "      <td>0.016376</td>\n",
       "      <td>0.178535</td>\n",
       "      <td>-6.595067</td>\n",
       "      <td>0.141384</td>\n",
       "      <td>124.283129</td>\n",
       "      <td>0.501048</td>\n",
       "      <td>64.301970</td>\n",
       "    </tr>\n",
       "  </tbody>\n",
       "</table>\n",
       "</div>"
      ],
      "text/plain": [
       "    index  year  acousticness  danceability    duration_ms    energy  \\\n",
       "0      79  2000      0.289323      0.590918  242724.642638  0.625413   \n",
       "1      80  2001      0.286842      0.583318  240307.796010  0.626986   \n",
       "2      81  2002      0.282624      0.576160  239503.283000  0.641270   \n",
       "3      82  2003      0.256471      0.575763  244670.575230  0.660165   \n",
       "4      83  2004      0.280559      0.567680  237378.708037  0.648868   \n",
       "5      84  2005      0.255764      0.572281  237229.588205  0.653209   \n",
       "6      85  2006      0.279986      0.568230  234042.914359  0.650326   \n",
       "7      86  2007      0.254081      0.563414  241049.962564  0.668305   \n",
       "8      87  2008      0.249192      0.579193  240107.315601  0.671461   \n",
       "9      88  2009      0.261929      0.564190  238140.013265  0.670749   \n",
       "10     89  2010      0.242687      0.572488  242811.804563  0.681778   \n",
       "11     90  2011      0.273183      0.552867  236998.787308  0.648301   \n",
       "12     91  2012      0.249953      0.570882  245807.457584  0.656571   \n",
       "13     92  2013      0.257488      0.571148  242267.661437  0.645597   \n",
       "14     93  2014      0.249313      0.589948  233728.314713  0.648795   \n",
       "15     94  2015      0.253952      0.593774  230029.046606  0.627064   \n",
       "16     95  2016      0.284171      0.600202  221396.510295  0.592855   \n",
       "17     96  2017      0.286099      0.612217  211115.696787  0.590421   \n",
       "18     97  2018      0.267633      0.663500  206001.007133  0.602435   \n",
       "19     98  2019      0.278299      0.644814  201024.788096  0.593224   \n",
       "20     99  2020      0.219931      0.692904  193728.397537  0.631232   \n",
       "\n",
       "    instrumentalness  liveness  loudness  speechiness       tempo   valence  \\\n",
       "0           0.101168  0.197686 -8.247766     0.089205  118.999323  0.559475   \n",
       "1           0.107214  0.187026 -8.305095     0.089182  117.765399  0.541479   \n",
       "2           0.088048  0.193911 -7.686640     0.084308  119.239738  0.542397   \n",
       "3           0.083049  0.196976 -7.485545     0.093926  120.914622  0.530504   \n",
       "4           0.077934  0.202199 -7.601655     0.094239  121.290346  0.524489   \n",
       "5           0.090194  0.190082 -7.466159     0.093334  121.617967  0.532531   \n",
       "6           0.077701  0.188289 -7.265501     0.085847  121.798615  0.520028   \n",
       "7           0.072957  0.196127 -7.044536     0.084347  124.087516  0.516794   \n",
       "8           0.063662  0.198431 -6.843804     0.077356  123.509934  0.527542   \n",
       "9           0.075872  0.205252 -7.046015     0.085458  123.463808  0.507170   \n",
       "10          0.082981  0.199701 -6.909904     0.081031  123.570215  0.520895   \n",
       "11          0.103772  0.203309 -7.574986     0.087479  121.483997  0.472454   \n",
       "12          0.085206  0.189733 -7.260550     0.081742  121.781736  0.462709   \n",
       "13          0.098365  0.199631 -7.472039     0.093849  120.806829  0.454741   \n",
       "14          0.076570  0.191822 -7.067440     0.084061  122.305263  0.463049   \n",
       "15          0.106787  0.188856 -7.625639     0.096779  120.115411  0.432098   \n",
       "16          0.093984  0.181170 -8.061056     0.104313  118.652630  0.431532   \n",
       "17          0.097091  0.191713 -8.312630     0.110536  117.202740  0.416476   \n",
       "18          0.054217  0.176326 -7.168785     0.127176  121.922308  0.447921   \n",
       "19          0.077640  0.172616 -7.722192     0.121043  120.235644  0.458818   \n",
       "20          0.016376  0.178535 -6.595067     0.141384  124.283129  0.501048   \n",
       "\n",
       "    popularity  \n",
       "0    46.684049  \n",
       "1    48.750125  \n",
       "2    48.655500  \n",
       "3    48.626407  \n",
       "4    49.273143  \n",
       "5    50.953333  \n",
       "6    51.313846  \n",
       "7    51.075897  \n",
       "8    50.630179  \n",
       "9    51.440816  \n",
       "10   52.730159  \n",
       "11   53.307387  \n",
       "12   52.655013  \n",
       "13   54.047065  \n",
       "14   55.543142  \n",
       "15   56.700608  \n",
       "16   59.647190  \n",
       "17   63.263554  \n",
       "18   63.296243  \n",
       "19   65.256542  \n",
       "20   64.301970  "
      ]
     },
     "execution_count": 18,
     "metadata": {},
     "output_type": "execute_result"
    }
   ],
   "source": [
    "dados_anos.reset_index()"
   ]
  },
  {
   "cell_type": "code",
   "execution_count": 19,
   "metadata": {},
   "outputs": [
    {
     "data": {
      "text/plain": [
       "year                0\n",
       "acousticness        0\n",
       "danceability        0\n",
       "duration_ms         0\n",
       "energy              0\n",
       "instrumentalness    0\n",
       "liveness            0\n",
       "loudness            0\n",
       "speechiness         0\n",
       "tempo               0\n",
       "valence             0\n",
       "popularity          0\n",
       "dtype: int64"
      ]
     },
     "execution_count": 19,
     "metadata": {},
     "output_type": "execute_result"
    }
   ],
   "source": [
    "dados_anos.isnull().sum()"
   ]
  },
  {
   "cell_type": "code",
   "execution_count": 20,
   "metadata": {},
   "outputs": [
    {
     "data": {
      "text/plain": [
       "year                0\n",
       "acousticness        0\n",
       "danceability        0\n",
       "duration_ms         0\n",
       "energy              0\n",
       "instrumentalness    0\n",
       "liveness            0\n",
       "loudness            0\n",
       "speechiness         0\n",
       "tempo               0\n",
       "valence             0\n",
       "popularity          0\n",
       "dtype: int64"
      ]
     },
     "execution_count": 20,
     "metadata": {},
     "output_type": "execute_result"
    }
   ],
   "source": [
    "dados_anos.isna().sum()"
   ]
  },
  {
   "cell_type": "code",
   "execution_count": 21,
   "metadata": {},
   "outputs": [],
   "source": [
    "import plotly.express as px"
   ]
  },
  {
   "cell_type": "code",
   "execution_count": 22,
   "metadata": {},
   "outputs": [
    {
     "data": {
      "application/vnd.plotly.v1+json": {
       "config": {
        "plotlyServerURL": "https://plot.ly"
       },
       "data": [
        {
         "hovertemplate": "year=%{x}<br>loudness=%{y}<extra></extra>",
         "legendgroup": "",
         "line": {
          "color": "#636efa",
          "dash": "solid"
         },
         "marker": {
          "symbol": "circle"
         },
         "mode": "markers+lines",
         "name": "",
         "orientation": "v",
         "showlegend": false,
         "type": "scatter",
         "x": [
          2000,
          2001,
          2002,
          2003,
          2004,
          2005,
          2006,
          2007,
          2008,
          2009,
          2010,
          2011,
          2012,
          2013,
          2014,
          2015,
          2016,
          2017,
          2018,
          2019,
          2020
         ],
         "xaxis": "x",
         "y": [
          -8.247765848670758,
          -8.305095261845384,
          -7.686639500000013,
          -7.485545035823955,
          -7.601655137334684,
          -7.46615897435897,
          -7.265500512820514,
          -7.044535897435892,
          -6.8438040920716166,
          -7.0460147959183645,
          -6.9099042658730125,
          -7.574986117997006,
          -7.260549614395888,
          -7.472039473684207,
          -7.06743990024938,
          -7.625639311043569,
          -8.061056204785759,
          -8.31262951807228,
          -7.168785068949124,
          -7.722191893278596,
          -6.595066995073878
         ],
         "yaxis": "y"
        }
       ],
       "layout": {
        "legend": {
         "tracegroupgap": 0
        },
        "template": {
         "data": {
          "bar": [
           {
            "error_x": {
             "color": "#2a3f5f"
            },
            "error_y": {
             "color": "#2a3f5f"
            },
            "marker": {
             "line": {
              "color": "#E5ECF6",
              "width": 0.5
             },
             "pattern": {
              "fillmode": "overlay",
              "size": 10,
              "solidity": 0.2
             }
            },
            "type": "bar"
           }
          ],
          "barpolar": [
           {
            "marker": {
             "line": {
              "color": "#E5ECF6",
              "width": 0.5
             },
             "pattern": {
              "fillmode": "overlay",
              "size": 10,
              "solidity": 0.2
             }
            },
            "type": "barpolar"
           }
          ],
          "carpet": [
           {
            "aaxis": {
             "endlinecolor": "#2a3f5f",
             "gridcolor": "white",
             "linecolor": "white",
             "minorgridcolor": "white",
             "startlinecolor": "#2a3f5f"
            },
            "baxis": {
             "endlinecolor": "#2a3f5f",
             "gridcolor": "white",
             "linecolor": "white",
             "minorgridcolor": "white",
             "startlinecolor": "#2a3f5f"
            },
            "type": "carpet"
           }
          ],
          "choropleth": [
           {
            "colorbar": {
             "outlinewidth": 0,
             "ticks": ""
            },
            "type": "choropleth"
           }
          ],
          "contour": [
           {
            "colorbar": {
             "outlinewidth": 0,
             "ticks": ""
            },
            "colorscale": [
             [
              0,
              "#0d0887"
             ],
             [
              0.1111111111111111,
              "#46039f"
             ],
             [
              0.2222222222222222,
              "#7201a8"
             ],
             [
              0.3333333333333333,
              "#9c179e"
             ],
             [
              0.4444444444444444,
              "#bd3786"
             ],
             [
              0.5555555555555556,
              "#d8576b"
             ],
             [
              0.6666666666666666,
              "#ed7953"
             ],
             [
              0.7777777777777778,
              "#fb9f3a"
             ],
             [
              0.8888888888888888,
              "#fdca26"
             ],
             [
              1,
              "#f0f921"
             ]
            ],
            "type": "contour"
           }
          ],
          "contourcarpet": [
           {
            "colorbar": {
             "outlinewidth": 0,
             "ticks": ""
            },
            "type": "contourcarpet"
           }
          ],
          "heatmap": [
           {
            "colorbar": {
             "outlinewidth": 0,
             "ticks": ""
            },
            "colorscale": [
             [
              0,
              "#0d0887"
             ],
             [
              0.1111111111111111,
              "#46039f"
             ],
             [
              0.2222222222222222,
              "#7201a8"
             ],
             [
              0.3333333333333333,
              "#9c179e"
             ],
             [
              0.4444444444444444,
              "#bd3786"
             ],
             [
              0.5555555555555556,
              "#d8576b"
             ],
             [
              0.6666666666666666,
              "#ed7953"
             ],
             [
              0.7777777777777778,
              "#fb9f3a"
             ],
             [
              0.8888888888888888,
              "#fdca26"
             ],
             [
              1,
              "#f0f921"
             ]
            ],
            "type": "heatmap"
           }
          ],
          "heatmapgl": [
           {
            "colorbar": {
             "outlinewidth": 0,
             "ticks": ""
            },
            "colorscale": [
             [
              0,
              "#0d0887"
             ],
             [
              0.1111111111111111,
              "#46039f"
             ],
             [
              0.2222222222222222,
              "#7201a8"
             ],
             [
              0.3333333333333333,
              "#9c179e"
             ],
             [
              0.4444444444444444,
              "#bd3786"
             ],
             [
              0.5555555555555556,
              "#d8576b"
             ],
             [
              0.6666666666666666,
              "#ed7953"
             ],
             [
              0.7777777777777778,
              "#fb9f3a"
             ],
             [
              0.8888888888888888,
              "#fdca26"
             ],
             [
              1,
              "#f0f921"
             ]
            ],
            "type": "heatmapgl"
           }
          ],
          "histogram": [
           {
            "marker": {
             "pattern": {
              "fillmode": "overlay",
              "size": 10,
              "solidity": 0.2
             }
            },
            "type": "histogram"
           }
          ],
          "histogram2d": [
           {
            "colorbar": {
             "outlinewidth": 0,
             "ticks": ""
            },
            "colorscale": [
             [
              0,
              "#0d0887"
             ],
             [
              0.1111111111111111,
              "#46039f"
             ],
             [
              0.2222222222222222,
              "#7201a8"
             ],
             [
              0.3333333333333333,
              "#9c179e"
             ],
             [
              0.4444444444444444,
              "#bd3786"
             ],
             [
              0.5555555555555556,
              "#d8576b"
             ],
             [
              0.6666666666666666,
              "#ed7953"
             ],
             [
              0.7777777777777778,
              "#fb9f3a"
             ],
             [
              0.8888888888888888,
              "#fdca26"
             ],
             [
              1,
              "#f0f921"
             ]
            ],
            "type": "histogram2d"
           }
          ],
          "histogram2dcontour": [
           {
            "colorbar": {
             "outlinewidth": 0,
             "ticks": ""
            },
            "colorscale": [
             [
              0,
              "#0d0887"
             ],
             [
              0.1111111111111111,
              "#46039f"
             ],
             [
              0.2222222222222222,
              "#7201a8"
             ],
             [
              0.3333333333333333,
              "#9c179e"
             ],
             [
              0.4444444444444444,
              "#bd3786"
             ],
             [
              0.5555555555555556,
              "#d8576b"
             ],
             [
              0.6666666666666666,
              "#ed7953"
             ],
             [
              0.7777777777777778,
              "#fb9f3a"
             ],
             [
              0.8888888888888888,
              "#fdca26"
             ],
             [
              1,
              "#f0f921"
             ]
            ],
            "type": "histogram2dcontour"
           }
          ],
          "mesh3d": [
           {
            "colorbar": {
             "outlinewidth": 0,
             "ticks": ""
            },
            "type": "mesh3d"
           }
          ],
          "parcoords": [
           {
            "line": {
             "colorbar": {
              "outlinewidth": 0,
              "ticks": ""
             }
            },
            "type": "parcoords"
           }
          ],
          "pie": [
           {
            "automargin": true,
            "type": "pie"
           }
          ],
          "scatter": [
           {
            "fillpattern": {
             "fillmode": "overlay",
             "size": 10,
             "solidity": 0.2
            },
            "type": "scatter"
           }
          ],
          "scatter3d": [
           {
            "line": {
             "colorbar": {
              "outlinewidth": 0,
              "ticks": ""
             }
            },
            "marker": {
             "colorbar": {
              "outlinewidth": 0,
              "ticks": ""
             }
            },
            "type": "scatter3d"
           }
          ],
          "scattercarpet": [
           {
            "marker": {
             "colorbar": {
              "outlinewidth": 0,
              "ticks": ""
             }
            },
            "type": "scattercarpet"
           }
          ],
          "scattergeo": [
           {
            "marker": {
             "colorbar": {
              "outlinewidth": 0,
              "ticks": ""
             }
            },
            "type": "scattergeo"
           }
          ],
          "scattergl": [
           {
            "marker": {
             "colorbar": {
              "outlinewidth": 0,
              "ticks": ""
             }
            },
            "type": "scattergl"
           }
          ],
          "scattermapbox": [
           {
            "marker": {
             "colorbar": {
              "outlinewidth": 0,
              "ticks": ""
             }
            },
            "type": "scattermapbox"
           }
          ],
          "scatterpolar": [
           {
            "marker": {
             "colorbar": {
              "outlinewidth": 0,
              "ticks": ""
             }
            },
            "type": "scatterpolar"
           }
          ],
          "scatterpolargl": [
           {
            "marker": {
             "colorbar": {
              "outlinewidth": 0,
              "ticks": ""
             }
            },
            "type": "scatterpolargl"
           }
          ],
          "scatterternary": [
           {
            "marker": {
             "colorbar": {
              "outlinewidth": 0,
              "ticks": ""
             }
            },
            "type": "scatterternary"
           }
          ],
          "surface": [
           {
            "colorbar": {
             "outlinewidth": 0,
             "ticks": ""
            },
            "colorscale": [
             [
              0,
              "#0d0887"
             ],
             [
              0.1111111111111111,
              "#46039f"
             ],
             [
              0.2222222222222222,
              "#7201a8"
             ],
             [
              0.3333333333333333,
              "#9c179e"
             ],
             [
              0.4444444444444444,
              "#bd3786"
             ],
             [
              0.5555555555555556,
              "#d8576b"
             ],
             [
              0.6666666666666666,
              "#ed7953"
             ],
             [
              0.7777777777777778,
              "#fb9f3a"
             ],
             [
              0.8888888888888888,
              "#fdca26"
             ],
             [
              1,
              "#f0f921"
             ]
            ],
            "type": "surface"
           }
          ],
          "table": [
           {
            "cells": {
             "fill": {
              "color": "#EBF0F8"
             },
             "line": {
              "color": "white"
             }
            },
            "header": {
             "fill": {
              "color": "#C8D4E3"
             },
             "line": {
              "color": "white"
             }
            },
            "type": "table"
           }
          ]
         },
         "layout": {
          "annotationdefaults": {
           "arrowcolor": "#2a3f5f",
           "arrowhead": 0,
           "arrowwidth": 1
          },
          "autotypenumbers": "strict",
          "coloraxis": {
           "colorbar": {
            "outlinewidth": 0,
            "ticks": ""
           }
          },
          "colorscale": {
           "diverging": [
            [
             0,
             "#8e0152"
            ],
            [
             0.1,
             "#c51b7d"
            ],
            [
             0.2,
             "#de77ae"
            ],
            [
             0.3,
             "#f1b6da"
            ],
            [
             0.4,
             "#fde0ef"
            ],
            [
             0.5,
             "#f7f7f7"
            ],
            [
             0.6,
             "#e6f5d0"
            ],
            [
             0.7,
             "#b8e186"
            ],
            [
             0.8,
             "#7fbc41"
            ],
            [
             0.9,
             "#4d9221"
            ],
            [
             1,
             "#276419"
            ]
           ],
           "sequential": [
            [
             0,
             "#0d0887"
            ],
            [
             0.1111111111111111,
             "#46039f"
            ],
            [
             0.2222222222222222,
             "#7201a8"
            ],
            [
             0.3333333333333333,
             "#9c179e"
            ],
            [
             0.4444444444444444,
             "#bd3786"
            ],
            [
             0.5555555555555556,
             "#d8576b"
            ],
            [
             0.6666666666666666,
             "#ed7953"
            ],
            [
             0.7777777777777778,
             "#fb9f3a"
            ],
            [
             0.8888888888888888,
             "#fdca26"
            ],
            [
             1,
             "#f0f921"
            ]
           ],
           "sequentialminus": [
            [
             0,
             "#0d0887"
            ],
            [
             0.1111111111111111,
             "#46039f"
            ],
            [
             0.2222222222222222,
             "#7201a8"
            ],
            [
             0.3333333333333333,
             "#9c179e"
            ],
            [
             0.4444444444444444,
             "#bd3786"
            ],
            [
             0.5555555555555556,
             "#d8576b"
            ],
            [
             0.6666666666666666,
             "#ed7953"
            ],
            [
             0.7777777777777778,
             "#fb9f3a"
            ],
            [
             0.8888888888888888,
             "#fdca26"
            ],
            [
             1,
             "#f0f921"
            ]
           ]
          },
          "colorway": [
           "#636efa",
           "#EF553B",
           "#00cc96",
           "#ab63fa",
           "#FFA15A",
           "#19d3f3",
           "#FF6692",
           "#B6E880",
           "#FF97FF",
           "#FECB52"
          ],
          "font": {
           "color": "#2a3f5f"
          },
          "geo": {
           "bgcolor": "white",
           "lakecolor": "white",
           "landcolor": "#E5ECF6",
           "showlakes": true,
           "showland": true,
           "subunitcolor": "white"
          },
          "hoverlabel": {
           "align": "left"
          },
          "hovermode": "closest",
          "mapbox": {
           "style": "light"
          },
          "paper_bgcolor": "white",
          "plot_bgcolor": "#E5ECF6",
          "polar": {
           "angularaxis": {
            "gridcolor": "white",
            "linecolor": "white",
            "ticks": ""
           },
           "bgcolor": "#E5ECF6",
           "radialaxis": {
            "gridcolor": "white",
            "linecolor": "white",
            "ticks": ""
           }
          },
          "scene": {
           "xaxis": {
            "backgroundcolor": "#E5ECF6",
            "gridcolor": "white",
            "gridwidth": 2,
            "linecolor": "white",
            "showbackground": true,
            "ticks": "",
            "zerolinecolor": "white"
           },
           "yaxis": {
            "backgroundcolor": "#E5ECF6",
            "gridcolor": "white",
            "gridwidth": 2,
            "linecolor": "white",
            "showbackground": true,
            "ticks": "",
            "zerolinecolor": "white"
           },
           "zaxis": {
            "backgroundcolor": "#E5ECF6",
            "gridcolor": "white",
            "gridwidth": 2,
            "linecolor": "white",
            "showbackground": true,
            "ticks": "",
            "zerolinecolor": "white"
           }
          },
          "shapedefaults": {
           "line": {
            "color": "#2a3f5f"
           }
          },
          "ternary": {
           "aaxis": {
            "gridcolor": "white",
            "linecolor": "white",
            "ticks": ""
           },
           "baxis": {
            "gridcolor": "white",
            "linecolor": "white",
            "ticks": ""
           },
           "bgcolor": "#E5ECF6",
           "caxis": {
            "gridcolor": "white",
            "linecolor": "white",
            "ticks": ""
           }
          },
          "title": {
           "x": 0.05
          },
          "xaxis": {
           "automargin": true,
           "gridcolor": "white",
           "linecolor": "white",
           "ticks": "",
           "title": {
            "standoff": 15
           },
           "zerolinecolor": "white",
           "zerolinewidth": 2
          },
          "yaxis": {
           "automargin": true,
           "gridcolor": "white",
           "linecolor": "white",
           "ticks": "",
           "title": {
            "standoff": 15
           },
           "zerolinecolor": "white",
           "zerolinewidth": 2
          }
         }
        },
        "title": {
         "text": "Variação do loudness conforme os anos"
        },
        "xaxis": {
         "anchor": "y",
         "domain": [
          0,
          1
         ],
         "title": {
          "text": "year"
         }
        },
        "yaxis": {
         "anchor": "x",
         "domain": [
          0,
          1
         ],
         "title": {
          "text": "loudness"
         }
        }
       }
      }
     },
     "metadata": {},
     "output_type": "display_data"
    }
   ],
   "source": [
    "fig = px.line(dados_anos, x=\"year\", y=\"loudness\", markers= True, title='Variação do loudness conforme os anos')\n",
    "fig.show()"
   ]
  },
  {
   "cell_type": "code",
   "execution_count": 23,
   "metadata": {},
   "outputs": [],
   "source": [
    "import plotly.graph_objects as go"
   ]
  },
  {
   "cell_type": "code",
   "execution_count": 24,
   "metadata": {},
   "outputs": [
    {
     "data": {
      "application/vnd.plotly.v1+json": {
       "config": {
        "plotlyServerURL": "https://plot.ly"
       },
       "data": [
        {
         "name": "Acousticness",
         "type": "scatter",
         "x": [
          2000,
          2001,
          2002,
          2003,
          2004,
          2005,
          2006,
          2007,
          2008,
          2009,
          2010,
          2011,
          2012,
          2013,
          2014,
          2015,
          2016,
          2017,
          2018,
          2019,
          2020
         ],
         "y": [
          0.2893227005163599,
          0.2868424748428934,
          0.282624289885001,
          0.2564705181729783,
          0.2805589466225845,
          0.2557635068666665,
          0.2799863520256408,
          0.2540809575538463,
          0.2491917627212275,
          0.261928619096939,
          0.2426866435515872,
          0.2731826625185919,
          0.2499530443804624,
          0.2574880859564779,
          0.249312645880299,
          0.2539522577102332,
          0.2841710299554814,
          0.2860990665261043,
          0.2676329907750836,
          0.2782985863365824,
          0.2199308880935964
         ]
        },
        {
         "name": "Valence",
         "type": "scatter",
         "x": [
          2000,
          2001,
          2002,
          2003,
          2004,
          2005,
          2006,
          2007,
          2008,
          2009,
          2010,
          2011,
          2012,
          2013,
          2014,
          2015,
          2016,
          2017,
          2018,
          2019,
          2020
         ],
         "y": [
          0.5594754601226991,
          0.541479107231919,
          0.5423971500000008,
          0.5305042476970324,
          0.5244885554425227,
          0.5325309230769236,
          0.5200283076923078,
          0.5167938461538473,
          0.5275418925831203,
          0.5071696617346935,
          0.5208951587301589,
          0.4724536787307882,
          0.4627090128534706,
          0.4547411943319834,
          0.4630487780548628,
          0.4320983687943254,
          0.4315320589872012,
          0.4164763112449793,
          0.4479212743699474,
          0.4588176295536167,
          0.5010478078817729
         ]
        },
        {
         "name": "Danceability",
         "type": "scatter",
         "x": [
          2000,
          2001,
          2002,
          2003,
          2004,
          2005,
          2006,
          2007,
          2008,
          2009,
          2010,
          2011,
          2012,
          2013,
          2014,
          2015,
          2016,
          2017,
          2018,
          2019,
          2020
         ],
         "y": [
          0.590918047034764,
          0.5833178553615969,
          0.5761602999999997,
          0.5757633060388944,
          0.5676803662258397,
          0.5722805641025652,
          0.5682301538461539,
          0.5634143589743592,
          0.5791928388746803,
          0.5641903571428577,
          0.5724883432539687,
          0.5528669806643526,
          0.5708818508997433,
          0.5711480263157896,
          0.5899476807980057,
          0.5937740628166152,
          0.6002023928770179,
          0.6122170180722886,
          0.6635004755111744,
          0.6448141097998967,
          0.6929043349753701
         ]
        },
        {
         "name": "Energy",
         "type": "scatter",
         "x": [
          2000,
          2001,
          2002,
          2003,
          2004,
          2005,
          2006,
          2007,
          2008,
          2009,
          2010,
          2011,
          2012,
          2013,
          2014,
          2015,
          2016,
          2017,
          2018,
          2019,
          2020
         ],
         "y": [
          0.6254128323108387,
          0.6269855221945144,
          0.6412697960000012,
          0.6601652610030712,
          0.6488679450661226,
          0.653208511282051,
          0.6503262820512825,
          0.6683047743589737,
          0.6714608207672623,
          0.6707487551020408,
          0.6817778026289684,
          0.6483008934060499,
          0.6565714601542408,
          0.6455968914473688,
          0.6487954437905223,
          0.6270642715298895,
          0.5928552316082347,
          0.5904210208835337,
          0.6024346220161672,
          0.5932240360184717,
          0.6312316354679793
         ]
        },
        {
         "name": "Instrumentalness",
         "type": "scatter",
         "x": [
          2000,
          2001,
          2002,
          2003,
          2004,
          2005,
          2006,
          2007,
          2008,
          2009,
          2010,
          2011,
          2012,
          2013,
          2014,
          2015,
          2016,
          2017,
          2018,
          2019,
          2020
         ],
         "y": [
          0.1011677687934559,
          0.1072140189925186,
          0.0880483503149999,
          0.0830492746673491,
          0.0779340349084435,
          0.0901943611846154,
          0.0777014718769231,
          0.0729572680512819,
          0.0636620903171356,
          0.0758720736836735,
          0.0829805682192461,
          0.103772332166584,
          0.0852055206786631,
          0.0983650539170038,
          0.0765695548379051,
          0.1067868780547114,
          0.0939843871174179,
          0.0970906090662649,
          0.0542171216690441,
          0.0776402469728064,
          0.0163755243054187
         ]
        },
        {
         "name": "Liveness",
         "type": "scatter",
         "x": [
          2000,
          2001,
          2002,
          2003,
          2004,
          2005,
          2006,
          2007,
          2008,
          2009,
          2010,
          2011,
          2012,
          2013,
          2014,
          2015,
          2016,
          2017,
          2018,
          2019,
          2020
         ],
         "y": [
          0.1976860429447853,
          0.1870256359102248,
          0.1939111999999998,
          0.196976305015353,
          0.2021994404883014,
          0.1900816256410258,
          0.1882892820512821,
          0.1961265641025642,
          0.1984314066496162,
          0.2052522959183674,
          0.1997006448412699,
          0.2033088249876056,
          0.1897330077120824,
          0.1996308198380571,
          0.1918215960099752,
          0.1888564336372847,
          0.181169894268225,
          0.1917126004016064,
          0.1763255349500711,
          0.1726164186762446,
          0.1785354187192117
         ]
        },
        {
         "name": "Speechiness",
         "type": "scatter",
         "x": [
          2000,
          2001,
          2002,
          2003,
          2004,
          2005,
          2006,
          2007,
          2008,
          2009,
          2010,
          2011,
          2012,
          2013,
          2014,
          2015,
          2016,
          2017,
          2018,
          2019,
          2020
         ],
         "y": [
          0.0892054192229039,
          0.0891822942643391,
          0.0843075999999999,
          0.0939257420675538,
          0.0942388097660224,
          0.093333692307692,
          0.0858467692307692,
          0.0843473333333333,
          0.077356368286445,
          0.0854578061224489,
          0.0810314980158731,
          0.087479276152702,
          0.081742467866324,
          0.0938488866396761,
          0.0840605486284289,
          0.0967792299898684,
          0.1043132999443518,
          0.1105364959839356,
          0.1271755587256302,
          0.1210433555669573,
          0.1413836945812805
         ]
        }
       ],
       "layout": {
        "template": {
         "data": {
          "bar": [
           {
            "error_x": {
             "color": "#2a3f5f"
            },
            "error_y": {
             "color": "#2a3f5f"
            },
            "marker": {
             "line": {
              "color": "#E5ECF6",
              "width": 0.5
             },
             "pattern": {
              "fillmode": "overlay",
              "size": 10,
              "solidity": 0.2
             }
            },
            "type": "bar"
           }
          ],
          "barpolar": [
           {
            "marker": {
             "line": {
              "color": "#E5ECF6",
              "width": 0.5
             },
             "pattern": {
              "fillmode": "overlay",
              "size": 10,
              "solidity": 0.2
             }
            },
            "type": "barpolar"
           }
          ],
          "carpet": [
           {
            "aaxis": {
             "endlinecolor": "#2a3f5f",
             "gridcolor": "white",
             "linecolor": "white",
             "minorgridcolor": "white",
             "startlinecolor": "#2a3f5f"
            },
            "baxis": {
             "endlinecolor": "#2a3f5f",
             "gridcolor": "white",
             "linecolor": "white",
             "minorgridcolor": "white",
             "startlinecolor": "#2a3f5f"
            },
            "type": "carpet"
           }
          ],
          "choropleth": [
           {
            "colorbar": {
             "outlinewidth": 0,
             "ticks": ""
            },
            "type": "choropleth"
           }
          ],
          "contour": [
           {
            "colorbar": {
             "outlinewidth": 0,
             "ticks": ""
            },
            "colorscale": [
             [
              0,
              "#0d0887"
             ],
             [
              0.1111111111111111,
              "#46039f"
             ],
             [
              0.2222222222222222,
              "#7201a8"
             ],
             [
              0.3333333333333333,
              "#9c179e"
             ],
             [
              0.4444444444444444,
              "#bd3786"
             ],
             [
              0.5555555555555556,
              "#d8576b"
             ],
             [
              0.6666666666666666,
              "#ed7953"
             ],
             [
              0.7777777777777778,
              "#fb9f3a"
             ],
             [
              0.8888888888888888,
              "#fdca26"
             ],
             [
              1,
              "#f0f921"
             ]
            ],
            "type": "contour"
           }
          ],
          "contourcarpet": [
           {
            "colorbar": {
             "outlinewidth": 0,
             "ticks": ""
            },
            "type": "contourcarpet"
           }
          ],
          "heatmap": [
           {
            "colorbar": {
             "outlinewidth": 0,
             "ticks": ""
            },
            "colorscale": [
             [
              0,
              "#0d0887"
             ],
             [
              0.1111111111111111,
              "#46039f"
             ],
             [
              0.2222222222222222,
              "#7201a8"
             ],
             [
              0.3333333333333333,
              "#9c179e"
             ],
             [
              0.4444444444444444,
              "#bd3786"
             ],
             [
              0.5555555555555556,
              "#d8576b"
             ],
             [
              0.6666666666666666,
              "#ed7953"
             ],
             [
              0.7777777777777778,
              "#fb9f3a"
             ],
             [
              0.8888888888888888,
              "#fdca26"
             ],
             [
              1,
              "#f0f921"
             ]
            ],
            "type": "heatmap"
           }
          ],
          "heatmapgl": [
           {
            "colorbar": {
             "outlinewidth": 0,
             "ticks": ""
            },
            "colorscale": [
             [
              0,
              "#0d0887"
             ],
             [
              0.1111111111111111,
              "#46039f"
             ],
             [
              0.2222222222222222,
              "#7201a8"
             ],
             [
              0.3333333333333333,
              "#9c179e"
             ],
             [
              0.4444444444444444,
              "#bd3786"
             ],
             [
              0.5555555555555556,
              "#d8576b"
             ],
             [
              0.6666666666666666,
              "#ed7953"
             ],
             [
              0.7777777777777778,
              "#fb9f3a"
             ],
             [
              0.8888888888888888,
              "#fdca26"
             ],
             [
              1,
              "#f0f921"
             ]
            ],
            "type": "heatmapgl"
           }
          ],
          "histogram": [
           {
            "marker": {
             "pattern": {
              "fillmode": "overlay",
              "size": 10,
              "solidity": 0.2
             }
            },
            "type": "histogram"
           }
          ],
          "histogram2d": [
           {
            "colorbar": {
             "outlinewidth": 0,
             "ticks": ""
            },
            "colorscale": [
             [
              0,
              "#0d0887"
             ],
             [
              0.1111111111111111,
              "#46039f"
             ],
             [
              0.2222222222222222,
              "#7201a8"
             ],
             [
              0.3333333333333333,
              "#9c179e"
             ],
             [
              0.4444444444444444,
              "#bd3786"
             ],
             [
              0.5555555555555556,
              "#d8576b"
             ],
             [
              0.6666666666666666,
              "#ed7953"
             ],
             [
              0.7777777777777778,
              "#fb9f3a"
             ],
             [
              0.8888888888888888,
              "#fdca26"
             ],
             [
              1,
              "#f0f921"
             ]
            ],
            "type": "histogram2d"
           }
          ],
          "histogram2dcontour": [
           {
            "colorbar": {
             "outlinewidth": 0,
             "ticks": ""
            },
            "colorscale": [
             [
              0,
              "#0d0887"
             ],
             [
              0.1111111111111111,
              "#46039f"
             ],
             [
              0.2222222222222222,
              "#7201a8"
             ],
             [
              0.3333333333333333,
              "#9c179e"
             ],
             [
              0.4444444444444444,
              "#bd3786"
             ],
             [
              0.5555555555555556,
              "#d8576b"
             ],
             [
              0.6666666666666666,
              "#ed7953"
             ],
             [
              0.7777777777777778,
              "#fb9f3a"
             ],
             [
              0.8888888888888888,
              "#fdca26"
             ],
             [
              1,
              "#f0f921"
             ]
            ],
            "type": "histogram2dcontour"
           }
          ],
          "mesh3d": [
           {
            "colorbar": {
             "outlinewidth": 0,
             "ticks": ""
            },
            "type": "mesh3d"
           }
          ],
          "parcoords": [
           {
            "line": {
             "colorbar": {
              "outlinewidth": 0,
              "ticks": ""
             }
            },
            "type": "parcoords"
           }
          ],
          "pie": [
           {
            "automargin": true,
            "type": "pie"
           }
          ],
          "scatter": [
           {
            "fillpattern": {
             "fillmode": "overlay",
             "size": 10,
             "solidity": 0.2
            },
            "type": "scatter"
           }
          ],
          "scatter3d": [
           {
            "line": {
             "colorbar": {
              "outlinewidth": 0,
              "ticks": ""
             }
            },
            "marker": {
             "colorbar": {
              "outlinewidth": 0,
              "ticks": ""
             }
            },
            "type": "scatter3d"
           }
          ],
          "scattercarpet": [
           {
            "marker": {
             "colorbar": {
              "outlinewidth": 0,
              "ticks": ""
             }
            },
            "type": "scattercarpet"
           }
          ],
          "scattergeo": [
           {
            "marker": {
             "colorbar": {
              "outlinewidth": 0,
              "ticks": ""
             }
            },
            "type": "scattergeo"
           }
          ],
          "scattergl": [
           {
            "marker": {
             "colorbar": {
              "outlinewidth": 0,
              "ticks": ""
             }
            },
            "type": "scattergl"
           }
          ],
          "scattermapbox": [
           {
            "marker": {
             "colorbar": {
              "outlinewidth": 0,
              "ticks": ""
             }
            },
            "type": "scattermapbox"
           }
          ],
          "scatterpolar": [
           {
            "marker": {
             "colorbar": {
              "outlinewidth": 0,
              "ticks": ""
             }
            },
            "type": "scatterpolar"
           }
          ],
          "scatterpolargl": [
           {
            "marker": {
             "colorbar": {
              "outlinewidth": 0,
              "ticks": ""
             }
            },
            "type": "scatterpolargl"
           }
          ],
          "scatterternary": [
           {
            "marker": {
             "colorbar": {
              "outlinewidth": 0,
              "ticks": ""
             }
            },
            "type": "scatterternary"
           }
          ],
          "surface": [
           {
            "colorbar": {
             "outlinewidth": 0,
             "ticks": ""
            },
            "colorscale": [
             [
              0,
              "#0d0887"
             ],
             [
              0.1111111111111111,
              "#46039f"
             ],
             [
              0.2222222222222222,
              "#7201a8"
             ],
             [
              0.3333333333333333,
              "#9c179e"
             ],
             [
              0.4444444444444444,
              "#bd3786"
             ],
             [
              0.5555555555555556,
              "#d8576b"
             ],
             [
              0.6666666666666666,
              "#ed7953"
             ],
             [
              0.7777777777777778,
              "#fb9f3a"
             ],
             [
              0.8888888888888888,
              "#fdca26"
             ],
             [
              1,
              "#f0f921"
             ]
            ],
            "type": "surface"
           }
          ],
          "table": [
           {
            "cells": {
             "fill": {
              "color": "#EBF0F8"
             },
             "line": {
              "color": "white"
             }
            },
            "header": {
             "fill": {
              "color": "#C8D4E3"
             },
             "line": {
              "color": "white"
             }
            },
            "type": "table"
           }
          ]
         },
         "layout": {
          "annotationdefaults": {
           "arrowcolor": "#2a3f5f",
           "arrowhead": 0,
           "arrowwidth": 1
          },
          "autotypenumbers": "strict",
          "coloraxis": {
           "colorbar": {
            "outlinewidth": 0,
            "ticks": ""
           }
          },
          "colorscale": {
           "diverging": [
            [
             0,
             "#8e0152"
            ],
            [
             0.1,
             "#c51b7d"
            ],
            [
             0.2,
             "#de77ae"
            ],
            [
             0.3,
             "#f1b6da"
            ],
            [
             0.4,
             "#fde0ef"
            ],
            [
             0.5,
             "#f7f7f7"
            ],
            [
             0.6,
             "#e6f5d0"
            ],
            [
             0.7,
             "#b8e186"
            ],
            [
             0.8,
             "#7fbc41"
            ],
            [
             0.9,
             "#4d9221"
            ],
            [
             1,
             "#276419"
            ]
           ],
           "sequential": [
            [
             0,
             "#0d0887"
            ],
            [
             0.1111111111111111,
             "#46039f"
            ],
            [
             0.2222222222222222,
             "#7201a8"
            ],
            [
             0.3333333333333333,
             "#9c179e"
            ],
            [
             0.4444444444444444,
             "#bd3786"
            ],
            [
             0.5555555555555556,
             "#d8576b"
            ],
            [
             0.6666666666666666,
             "#ed7953"
            ],
            [
             0.7777777777777778,
             "#fb9f3a"
            ],
            [
             0.8888888888888888,
             "#fdca26"
            ],
            [
             1,
             "#f0f921"
            ]
           ],
           "sequentialminus": [
            [
             0,
             "#0d0887"
            ],
            [
             0.1111111111111111,
             "#46039f"
            ],
            [
             0.2222222222222222,
             "#7201a8"
            ],
            [
             0.3333333333333333,
             "#9c179e"
            ],
            [
             0.4444444444444444,
             "#bd3786"
            ],
            [
             0.5555555555555556,
             "#d8576b"
            ],
            [
             0.6666666666666666,
             "#ed7953"
            ],
            [
             0.7777777777777778,
             "#fb9f3a"
            ],
            [
             0.8888888888888888,
             "#fdca26"
            ],
            [
             1,
             "#f0f921"
            ]
           ]
          },
          "colorway": [
           "#636efa",
           "#EF553B",
           "#00cc96",
           "#ab63fa",
           "#FFA15A",
           "#19d3f3",
           "#FF6692",
           "#B6E880",
           "#FF97FF",
           "#FECB52"
          ],
          "font": {
           "color": "#2a3f5f"
          },
          "geo": {
           "bgcolor": "white",
           "lakecolor": "white",
           "landcolor": "#E5ECF6",
           "showlakes": true,
           "showland": true,
           "subunitcolor": "white"
          },
          "hoverlabel": {
           "align": "left"
          },
          "hovermode": "closest",
          "mapbox": {
           "style": "light"
          },
          "paper_bgcolor": "white",
          "plot_bgcolor": "#E5ECF6",
          "polar": {
           "angularaxis": {
            "gridcolor": "white",
            "linecolor": "white",
            "ticks": ""
           },
           "bgcolor": "#E5ECF6",
           "radialaxis": {
            "gridcolor": "white",
            "linecolor": "white",
            "ticks": ""
           }
          },
          "scene": {
           "xaxis": {
            "backgroundcolor": "#E5ECF6",
            "gridcolor": "white",
            "gridwidth": 2,
            "linecolor": "white",
            "showbackground": true,
            "ticks": "",
            "zerolinecolor": "white"
           },
           "yaxis": {
            "backgroundcolor": "#E5ECF6",
            "gridcolor": "white",
            "gridwidth": 2,
            "linecolor": "white",
            "showbackground": true,
            "ticks": "",
            "zerolinecolor": "white"
           },
           "zaxis": {
            "backgroundcolor": "#E5ECF6",
            "gridcolor": "white",
            "gridwidth": 2,
            "linecolor": "white",
            "showbackground": true,
            "ticks": "",
            "zerolinecolor": "white"
           }
          },
          "shapedefaults": {
           "line": {
            "color": "#2a3f5f"
           }
          },
          "ternary": {
           "aaxis": {
            "gridcolor": "white",
            "linecolor": "white",
            "ticks": ""
           },
           "baxis": {
            "gridcolor": "white",
            "linecolor": "white",
            "ticks": ""
           },
           "bgcolor": "#E5ECF6",
           "caxis": {
            "gridcolor": "white",
            "linecolor": "white",
            "ticks": ""
           }
          },
          "title": {
           "x": 0.05
          },
          "xaxis": {
           "automargin": true,
           "gridcolor": "white",
           "linecolor": "white",
           "ticks": "",
           "title": {
            "standoff": 15
           },
           "zerolinecolor": "white",
           "zerolinewidth": 2
          },
          "yaxis": {
           "automargin": true,
           "gridcolor": "white",
           "linecolor": "white",
           "ticks": "",
           "title": {
            "standoff": 15
           },
           "zerolinecolor": "white",
           "zerolinewidth": 2
          }
         }
        }
       }
      }
     },
     "metadata": {},
     "output_type": "display_data"
    }
   ],
   "source": [
    "fig = go.Figure()\n",
    "\n",
    "fig.add_trace(go.Scatter(x=dados_anos['year'], y=dados_anos['acousticness'],\n",
    "                    name='Acousticness'))\n",
    "fig.add_trace(go.Scatter(x=dados_anos['year'], y=dados_anos['valence'],\n",
    "                    name='Valence'))\n",
    "fig.add_trace(go.Scatter(x=dados_anos['year'], y=dados_anos['danceability'],\n",
    "                    name='Danceability'))\n",
    "fig.add_trace(go.Scatter(x=dados_anos['year'], y=dados_anos['energy'],\n",
    "                    name='Energy'))\n",
    "fig.add_trace(go.Scatter(x=dados_anos['year'], y=dados_anos['instrumentalness'],\n",
    "                    name='Instrumentalness'))\n",
    "fig.add_trace(go.Scatter(x=dados_anos['year'], y=dados_anos['liveness'],\n",
    "                    name='Liveness'))\n",
    "fig.add_trace(go.Scatter(x=dados_anos['year'], y=dados_anos['speechiness'],\n",
    "                    name='Speechiness'))\n",
    "\n",
    "fig.show()"
   ]
  },
  {
   "cell_type": "code",
   "execution_count": 25,
   "metadata": {},
   "outputs": [
    {
     "data": {
      "application/vnd.plotly.v1+json": {
       "config": {
        "plotlyServerURL": "https://plot.ly"
       },
       "data": [
        {
         "coloraxis": "coloraxis",
         "hovertemplate": "x: %{x}<br>y: %{y}<br>color: %{z}<extra></extra>",
         "name": "0",
         "texttemplate": "%{z}",
         "type": "heatmap",
         "x": [
          "valence",
          "year",
          "acousticness",
          "danceability",
          "duration_ms",
          "energy",
          "instrumentalness",
          "liveness",
          "loudness",
          "popularity",
          "speechiness",
          "tempo"
         ],
         "xaxis": "x",
         "y": [
          "valence",
          "year",
          "acousticness",
          "danceability",
          "duration_ms",
          "energy",
          "instrumentalness",
          "liveness",
          "loudness",
          "popularity",
          "speechiness",
          "tempo"
         ],
         "yaxis": "y",
         "z": [
          [
           1,
           -0.11152818996552269,
           -0.17906507578880113,
           0.4706016928505381,
           -0.19255117869290994,
           0.35029199798428345,
           -0.2557841048653347,
           0.02221366049722543,
           0.3378977669900986,
           -0.02666406634639214,
           0.08252614933102408,
           0.07315334866798318
          ],
          [
           -0.11152818996552269,
           1,
           -0.011224012558530316,
           0.17440028973064198,
           -0.14627395555186518,
           -0.06995658525945365,
           -0.13203456252176587,
           -0.04295002368784964,
           0.052483197651396335,
           0.5520537744643068,
           0.12405143773766447,
           0.02311722172289499
          ],
          [
           -0.17906507578880113,
           -0.011224012558530316,
           1,
           -0.1758942916516538,
           -0.05596681465486787,
           -0.7091107964699702,
           0.29973973152822125,
           -0.09844289738151028,
           -0.6036127005064934,
           -0.03187901141421101,
           -0.12082482277726948,
           -0.15474122793050457
          ],
          [
           0.4706016928505381,
           0.17440028973064198,
           -0.1758942916516538,
           1,
           -0.15971497774585897,
           0.08735820678113757,
           -0.3142998559030547,
           -0.0696597044523255,
           0.2679343205070181,
           0.1809607849711362,
           0.2267015756782655,
           -0.09486499562608043
          ],
          [
           -0.19255117869290994,
           -0.14627395555186518,
           -0.05596681465486787,
           -0.15971497774585897,
           1,
           0.014565108670534132,
           0.07164598789913075,
           0.052743206410793615,
           -0.017003038059048684,
           -0.10932110003241752,
           -0.02851359221465405,
           -0.028602148844984
          ],
          [
           0.35029199798428345,
           -0.06995658525945365,
           -0.7091107964699702,
           0.08735820678113757,
           0.014565108670534132,
           1,
           -0.3164682501295295,
           0.17387777376175623,
           0.7595724242928918,
           -0.028459539491050623,
           0.11401773090551177,
           0.1916455676981815
          ],
          [
           -0.2557841048653347,
           -0.13203456252176587,
           0.29973973152822125,
           -0.3142998559030547,
           0.07164598789913075,
           -0.3164682501295295,
           1,
           -0.06234712806061889,
           -0.5588938236531733,
           -0.12504620012490858,
           -0.1371187140191706,
           -0.09444020881622293
          ],
          [
           0.02221366049722543,
           -0.04295002368784964,
           -0.09844289738151028,
           -0.0696597044523255,
           0.052743206410793615,
           0.17387777376175623,
           -0.06234712806061889,
           1,
           0.09144172661855732,
           -0.06860593075406679,
           0.11955070410710385,
           0.014857567069808593
          ],
          [
           0.3378977669900986,
           0.052483197651396335,
           -0.6036127005064934,
           0.2679343205070181,
           -0.017003038059048684,
           0.7595724242928918,
           -0.5588938236531733,
           0.09144172661855732,
           1,
           0.09292468076617552,
           0.07902873344113712,
           0.18045939002871472
          ],
          [
           -0.02666406634639214,
           0.5520537744643068,
           -0.03187901141421101,
           0.1809607849711362,
           -0.10932110003241752,
           -0.028459539491050623,
           -0.12504620012490858,
           -0.06860593075406679,
           0.09292468076617552,
           1,
           0.057125553208252515,
           -0.00033755419876421543
          ],
          [
           0.08252614933102408,
           0.12405143773766447,
           -0.12082482277726948,
           0.2267015756782655,
           -0.02851359221465405,
           0.11401773090551177,
           -0.1371187140191706,
           0.11955070410710385,
           0.07902873344113712,
           0.057125553208252515,
           1,
           0.04062153175888837
          ],
          [
           0.07315334866798318,
           0.02311722172289499,
           -0.15474122793050457,
           -0.09486499562608043,
           -0.028602148844984,
           0.1916455676981815,
           -0.09444020881622293,
           0.014857567069808593,
           0.18045939002871472,
           -0.00033755419876421543,
           0.04062153175888837,
           1
          ]
         ]
        }
       ],
       "layout": {
        "coloraxis": {
         "colorscale": [
          [
           0,
           "#0d0887"
          ],
          [
           0.1111111111111111,
           "#46039f"
          ],
          [
           0.2222222222222222,
           "#7201a8"
          ],
          [
           0.3333333333333333,
           "#9c179e"
          ],
          [
           0.4444444444444444,
           "#bd3786"
          ],
          [
           0.5555555555555556,
           "#d8576b"
          ],
          [
           0.6666666666666666,
           "#ed7953"
          ],
          [
           0.7777777777777778,
           "#fb9f3a"
          ],
          [
           0.8888888888888888,
           "#fdca26"
          ],
          [
           1,
           "#f0f921"
          ]
         ]
        },
        "margin": {
         "t": 60
        },
        "template": {
         "data": {
          "bar": [
           {
            "error_x": {
             "color": "#2a3f5f"
            },
            "error_y": {
             "color": "#2a3f5f"
            },
            "marker": {
             "line": {
              "color": "#E5ECF6",
              "width": 0.5
             },
             "pattern": {
              "fillmode": "overlay",
              "size": 10,
              "solidity": 0.2
             }
            },
            "type": "bar"
           }
          ],
          "barpolar": [
           {
            "marker": {
             "line": {
              "color": "#E5ECF6",
              "width": 0.5
             },
             "pattern": {
              "fillmode": "overlay",
              "size": 10,
              "solidity": 0.2
             }
            },
            "type": "barpolar"
           }
          ],
          "carpet": [
           {
            "aaxis": {
             "endlinecolor": "#2a3f5f",
             "gridcolor": "white",
             "linecolor": "white",
             "minorgridcolor": "white",
             "startlinecolor": "#2a3f5f"
            },
            "baxis": {
             "endlinecolor": "#2a3f5f",
             "gridcolor": "white",
             "linecolor": "white",
             "minorgridcolor": "white",
             "startlinecolor": "#2a3f5f"
            },
            "type": "carpet"
           }
          ],
          "choropleth": [
           {
            "colorbar": {
             "outlinewidth": 0,
             "ticks": ""
            },
            "type": "choropleth"
           }
          ],
          "contour": [
           {
            "colorbar": {
             "outlinewidth": 0,
             "ticks": ""
            },
            "colorscale": [
             [
              0,
              "#0d0887"
             ],
             [
              0.1111111111111111,
              "#46039f"
             ],
             [
              0.2222222222222222,
              "#7201a8"
             ],
             [
              0.3333333333333333,
              "#9c179e"
             ],
             [
              0.4444444444444444,
              "#bd3786"
             ],
             [
              0.5555555555555556,
              "#d8576b"
             ],
             [
              0.6666666666666666,
              "#ed7953"
             ],
             [
              0.7777777777777778,
              "#fb9f3a"
             ],
             [
              0.8888888888888888,
              "#fdca26"
             ],
             [
              1,
              "#f0f921"
             ]
            ],
            "type": "contour"
           }
          ],
          "contourcarpet": [
           {
            "colorbar": {
             "outlinewidth": 0,
             "ticks": ""
            },
            "type": "contourcarpet"
           }
          ],
          "heatmap": [
           {
            "colorbar": {
             "outlinewidth": 0,
             "ticks": ""
            },
            "colorscale": [
             [
              0,
              "#0d0887"
             ],
             [
              0.1111111111111111,
              "#46039f"
             ],
             [
              0.2222222222222222,
              "#7201a8"
             ],
             [
              0.3333333333333333,
              "#9c179e"
             ],
             [
              0.4444444444444444,
              "#bd3786"
             ],
             [
              0.5555555555555556,
              "#d8576b"
             ],
             [
              0.6666666666666666,
              "#ed7953"
             ],
             [
              0.7777777777777778,
              "#fb9f3a"
             ],
             [
              0.8888888888888888,
              "#fdca26"
             ],
             [
              1,
              "#f0f921"
             ]
            ],
            "type": "heatmap"
           }
          ],
          "heatmapgl": [
           {
            "colorbar": {
             "outlinewidth": 0,
             "ticks": ""
            },
            "colorscale": [
             [
              0,
              "#0d0887"
             ],
             [
              0.1111111111111111,
              "#46039f"
             ],
             [
              0.2222222222222222,
              "#7201a8"
             ],
             [
              0.3333333333333333,
              "#9c179e"
             ],
             [
              0.4444444444444444,
              "#bd3786"
             ],
             [
              0.5555555555555556,
              "#d8576b"
             ],
             [
              0.6666666666666666,
              "#ed7953"
             ],
             [
              0.7777777777777778,
              "#fb9f3a"
             ],
             [
              0.8888888888888888,
              "#fdca26"
             ],
             [
              1,
              "#f0f921"
             ]
            ],
            "type": "heatmapgl"
           }
          ],
          "histogram": [
           {
            "marker": {
             "pattern": {
              "fillmode": "overlay",
              "size": 10,
              "solidity": 0.2
             }
            },
            "type": "histogram"
           }
          ],
          "histogram2d": [
           {
            "colorbar": {
             "outlinewidth": 0,
             "ticks": ""
            },
            "colorscale": [
             [
              0,
              "#0d0887"
             ],
             [
              0.1111111111111111,
              "#46039f"
             ],
             [
              0.2222222222222222,
              "#7201a8"
             ],
             [
              0.3333333333333333,
              "#9c179e"
             ],
             [
              0.4444444444444444,
              "#bd3786"
             ],
             [
              0.5555555555555556,
              "#d8576b"
             ],
             [
              0.6666666666666666,
              "#ed7953"
             ],
             [
              0.7777777777777778,
              "#fb9f3a"
             ],
             [
              0.8888888888888888,
              "#fdca26"
             ],
             [
              1,
              "#f0f921"
             ]
            ],
            "type": "histogram2d"
           }
          ],
          "histogram2dcontour": [
           {
            "colorbar": {
             "outlinewidth": 0,
             "ticks": ""
            },
            "colorscale": [
             [
              0,
              "#0d0887"
             ],
             [
              0.1111111111111111,
              "#46039f"
             ],
             [
              0.2222222222222222,
              "#7201a8"
             ],
             [
              0.3333333333333333,
              "#9c179e"
             ],
             [
              0.4444444444444444,
              "#bd3786"
             ],
             [
              0.5555555555555556,
              "#d8576b"
             ],
             [
              0.6666666666666666,
              "#ed7953"
             ],
             [
              0.7777777777777778,
              "#fb9f3a"
             ],
             [
              0.8888888888888888,
              "#fdca26"
             ],
             [
              1,
              "#f0f921"
             ]
            ],
            "type": "histogram2dcontour"
           }
          ],
          "mesh3d": [
           {
            "colorbar": {
             "outlinewidth": 0,
             "ticks": ""
            },
            "type": "mesh3d"
           }
          ],
          "parcoords": [
           {
            "line": {
             "colorbar": {
              "outlinewidth": 0,
              "ticks": ""
             }
            },
            "type": "parcoords"
           }
          ],
          "pie": [
           {
            "automargin": true,
            "type": "pie"
           }
          ],
          "scatter": [
           {
            "fillpattern": {
             "fillmode": "overlay",
             "size": 10,
             "solidity": 0.2
            },
            "type": "scatter"
           }
          ],
          "scatter3d": [
           {
            "line": {
             "colorbar": {
              "outlinewidth": 0,
              "ticks": ""
             }
            },
            "marker": {
             "colorbar": {
              "outlinewidth": 0,
              "ticks": ""
             }
            },
            "type": "scatter3d"
           }
          ],
          "scattercarpet": [
           {
            "marker": {
             "colorbar": {
              "outlinewidth": 0,
              "ticks": ""
             }
            },
            "type": "scattercarpet"
           }
          ],
          "scattergeo": [
           {
            "marker": {
             "colorbar": {
              "outlinewidth": 0,
              "ticks": ""
             }
            },
            "type": "scattergeo"
           }
          ],
          "scattergl": [
           {
            "marker": {
             "colorbar": {
              "outlinewidth": 0,
              "ticks": ""
             }
            },
            "type": "scattergl"
           }
          ],
          "scattermapbox": [
           {
            "marker": {
             "colorbar": {
              "outlinewidth": 0,
              "ticks": ""
             }
            },
            "type": "scattermapbox"
           }
          ],
          "scatterpolar": [
           {
            "marker": {
             "colorbar": {
              "outlinewidth": 0,
              "ticks": ""
             }
            },
            "type": "scatterpolar"
           }
          ],
          "scatterpolargl": [
           {
            "marker": {
             "colorbar": {
              "outlinewidth": 0,
              "ticks": ""
             }
            },
            "type": "scatterpolargl"
           }
          ],
          "scatterternary": [
           {
            "marker": {
             "colorbar": {
              "outlinewidth": 0,
              "ticks": ""
             }
            },
            "type": "scatterternary"
           }
          ],
          "surface": [
           {
            "colorbar": {
             "outlinewidth": 0,
             "ticks": ""
            },
            "colorscale": [
             [
              0,
              "#0d0887"
             ],
             [
              0.1111111111111111,
              "#46039f"
             ],
             [
              0.2222222222222222,
              "#7201a8"
             ],
             [
              0.3333333333333333,
              "#9c179e"
             ],
             [
              0.4444444444444444,
              "#bd3786"
             ],
             [
              0.5555555555555556,
              "#d8576b"
             ],
             [
              0.6666666666666666,
              "#ed7953"
             ],
             [
              0.7777777777777778,
              "#fb9f3a"
             ],
             [
              0.8888888888888888,
              "#fdca26"
             ],
             [
              1,
              "#f0f921"
             ]
            ],
            "type": "surface"
           }
          ],
          "table": [
           {
            "cells": {
             "fill": {
              "color": "#EBF0F8"
             },
             "line": {
              "color": "white"
             }
            },
            "header": {
             "fill": {
              "color": "#C8D4E3"
             },
             "line": {
              "color": "white"
             }
            },
            "type": "table"
           }
          ]
         },
         "layout": {
          "annotationdefaults": {
           "arrowcolor": "#2a3f5f",
           "arrowhead": 0,
           "arrowwidth": 1
          },
          "autotypenumbers": "strict",
          "coloraxis": {
           "colorbar": {
            "outlinewidth": 0,
            "ticks": ""
           }
          },
          "colorscale": {
           "diverging": [
            [
             0,
             "#8e0152"
            ],
            [
             0.1,
             "#c51b7d"
            ],
            [
             0.2,
             "#de77ae"
            ],
            [
             0.3,
             "#f1b6da"
            ],
            [
             0.4,
             "#fde0ef"
            ],
            [
             0.5,
             "#f7f7f7"
            ],
            [
             0.6,
             "#e6f5d0"
            ],
            [
             0.7,
             "#b8e186"
            ],
            [
             0.8,
             "#7fbc41"
            ],
            [
             0.9,
             "#4d9221"
            ],
            [
             1,
             "#276419"
            ]
           ],
           "sequential": [
            [
             0,
             "#0d0887"
            ],
            [
             0.1111111111111111,
             "#46039f"
            ],
            [
             0.2222222222222222,
             "#7201a8"
            ],
            [
             0.3333333333333333,
             "#9c179e"
            ],
            [
             0.4444444444444444,
             "#bd3786"
            ],
            [
             0.5555555555555556,
             "#d8576b"
            ],
            [
             0.6666666666666666,
             "#ed7953"
            ],
            [
             0.7777777777777778,
             "#fb9f3a"
            ],
            [
             0.8888888888888888,
             "#fdca26"
            ],
            [
             1,
             "#f0f921"
            ]
           ],
           "sequentialminus": [
            [
             0,
             "#0d0887"
            ],
            [
             0.1111111111111111,
             "#46039f"
            ],
            [
             0.2222222222222222,
             "#7201a8"
            ],
            [
             0.3333333333333333,
             "#9c179e"
            ],
            [
             0.4444444444444444,
             "#bd3786"
            ],
            [
             0.5555555555555556,
             "#d8576b"
            ],
            [
             0.6666666666666666,
             "#ed7953"
            ],
            [
             0.7777777777777778,
             "#fb9f3a"
            ],
            [
             0.8888888888888888,
             "#fdca26"
            ],
            [
             1,
             "#f0f921"
            ]
           ]
          },
          "colorway": [
           "#636efa",
           "#EF553B",
           "#00cc96",
           "#ab63fa",
           "#FFA15A",
           "#19d3f3",
           "#FF6692",
           "#B6E880",
           "#FF97FF",
           "#FECB52"
          ],
          "font": {
           "color": "#2a3f5f"
          },
          "geo": {
           "bgcolor": "white",
           "lakecolor": "white",
           "landcolor": "#E5ECF6",
           "showlakes": true,
           "showland": true,
           "subunitcolor": "white"
          },
          "hoverlabel": {
           "align": "left"
          },
          "hovermode": "closest",
          "mapbox": {
           "style": "light"
          },
          "paper_bgcolor": "white",
          "plot_bgcolor": "#E5ECF6",
          "polar": {
           "angularaxis": {
            "gridcolor": "white",
            "linecolor": "white",
            "ticks": ""
           },
           "bgcolor": "#E5ECF6",
           "radialaxis": {
            "gridcolor": "white",
            "linecolor": "white",
            "ticks": ""
           }
          },
          "scene": {
           "xaxis": {
            "backgroundcolor": "#E5ECF6",
            "gridcolor": "white",
            "gridwidth": 2,
            "linecolor": "white",
            "showbackground": true,
            "ticks": "",
            "zerolinecolor": "white"
           },
           "yaxis": {
            "backgroundcolor": "#E5ECF6",
            "gridcolor": "white",
            "gridwidth": 2,
            "linecolor": "white",
            "showbackground": true,
            "ticks": "",
            "zerolinecolor": "white"
           },
           "zaxis": {
            "backgroundcolor": "#E5ECF6",
            "gridcolor": "white",
            "gridwidth": 2,
            "linecolor": "white",
            "showbackground": true,
            "ticks": "",
            "zerolinecolor": "white"
           }
          },
          "shapedefaults": {
           "line": {
            "color": "#2a3f5f"
           }
          },
          "ternary": {
           "aaxis": {
            "gridcolor": "white",
            "linecolor": "white",
            "ticks": ""
           },
           "baxis": {
            "gridcolor": "white",
            "linecolor": "white",
            "ticks": ""
           },
           "bgcolor": "#E5ECF6",
           "caxis": {
            "gridcolor": "white",
            "linecolor": "white",
            "ticks": ""
           }
          },
          "title": {
           "x": 0.05
          },
          "xaxis": {
           "automargin": true,
           "gridcolor": "white",
           "linecolor": "white",
           "ticks": "",
           "title": {
            "standoff": 15
           },
           "zerolinecolor": "white",
           "zerolinewidth": 2
          },
          "yaxis": {
           "automargin": true,
           "gridcolor": "white",
           "linecolor": "white",
           "ticks": "",
           "title": {
            "standoff": 15
           },
           "zerolinecolor": "white",
           "zerolinewidth": 2
          }
         }
        },
        "xaxis": {
         "anchor": "y",
         "constrain": "domain",
         "domain": [
          0,
          1
         ],
         "scaleanchor": "y"
        },
        "yaxis": {
         "anchor": "x",
         "autorange": "reversed",
         "constrain": "domain",
         "domain": [
          0,
          1
         ]
        }
       }
      }
     },
     "metadata": {},
     "output_type": "display_data"
    }
   ],
   "source": [
    "fig = px.imshow(dados.corr(), text_auto=True)\n",
    "fig.show()"
   ]
  },
  {
   "cell_type": "code",
   "execution_count": 26,
   "metadata": {},
   "outputs": [
    {
     "data": {
      "text/html": [
       "<div>\n",
       "<style scoped>\n",
       "    .dataframe tbody tr th:only-of-type {\n",
       "        vertical-align: middle;\n",
       "    }\n",
       "\n",
       "    .dataframe tbody tr th {\n",
       "        vertical-align: top;\n",
       "    }\n",
       "\n",
       "    .dataframe thead th {\n",
       "        text-align: right;\n",
       "    }\n",
       "</style>\n",
       "<table border=\"1\" class=\"dataframe\">\n",
       "  <thead>\n",
       "    <tr style=\"text-align: right;\">\n",
       "      <th></th>\n",
       "      <th>genres</th>\n",
       "      <th>acousticness</th>\n",
       "      <th>danceability</th>\n",
       "      <th>duration_ms</th>\n",
       "      <th>energy</th>\n",
       "      <th>instrumentalness</th>\n",
       "      <th>liveness</th>\n",
       "      <th>loudness</th>\n",
       "      <th>speechiness</th>\n",
       "      <th>tempo</th>\n",
       "      <th>valence</th>\n",
       "      <th>popularity</th>\n",
       "    </tr>\n",
       "  </thead>\n",
       "  <tbody>\n",
       "    <tr>\n",
       "      <th>0</th>\n",
       "      <td>21st century classical</td>\n",
       "      <td>0.979333</td>\n",
       "      <td>0.162883</td>\n",
       "      <td>1.602977e+05</td>\n",
       "      <td>0.071317</td>\n",
       "      <td>0.606834</td>\n",
       "      <td>0.361600</td>\n",
       "      <td>-31.514333</td>\n",
       "      <td>0.040567</td>\n",
       "      <td>75.336500</td>\n",
       "      <td>0.103783</td>\n",
       "      <td>27.833333</td>\n",
       "    </tr>\n",
       "    <tr>\n",
       "      <th>1</th>\n",
       "      <td>432hz</td>\n",
       "      <td>0.494780</td>\n",
       "      <td>0.299333</td>\n",
       "      <td>1.048887e+06</td>\n",
       "      <td>0.450678</td>\n",
       "      <td>0.477762</td>\n",
       "      <td>0.131000</td>\n",
       "      <td>-16.854000</td>\n",
       "      <td>0.076817</td>\n",
       "      <td>120.285667</td>\n",
       "      <td>0.221750</td>\n",
       "      <td>52.500000</td>\n",
       "    </tr>\n",
       "    <tr>\n",
       "      <th>2</th>\n",
       "      <td>8-bit</td>\n",
       "      <td>0.762000</td>\n",
       "      <td>0.712000</td>\n",
       "      <td>1.151770e+05</td>\n",
       "      <td>0.818000</td>\n",
       "      <td>0.876000</td>\n",
       "      <td>0.126000</td>\n",
       "      <td>-9.180000</td>\n",
       "      <td>0.047000</td>\n",
       "      <td>133.444000</td>\n",
       "      <td>0.975000</td>\n",
       "      <td>48.000000</td>\n",
       "    </tr>\n",
       "    <tr>\n",
       "      <th>3</th>\n",
       "      <td>[]</td>\n",
       "      <td>0.651417</td>\n",
       "      <td>0.529093</td>\n",
       "      <td>2.328809e+05</td>\n",
       "      <td>0.419146</td>\n",
       "      <td>0.205309</td>\n",
       "      <td>0.218696</td>\n",
       "      <td>-12.288965</td>\n",
       "      <td>0.107872</td>\n",
       "      <td>112.857352</td>\n",
       "      <td>0.513604</td>\n",
       "      <td>20.859882</td>\n",
       "    </tr>\n",
       "    <tr>\n",
       "      <th>4</th>\n",
       "      <td>a cappella</td>\n",
       "      <td>0.676557</td>\n",
       "      <td>0.538961</td>\n",
       "      <td>1.906285e+05</td>\n",
       "      <td>0.316434</td>\n",
       "      <td>0.003003</td>\n",
       "      <td>0.172254</td>\n",
       "      <td>-12.479387</td>\n",
       "      <td>0.082851</td>\n",
       "      <td>112.110362</td>\n",
       "      <td>0.448249</td>\n",
       "      <td>45.820071</td>\n",
       "    </tr>\n",
       "    <tr>\n",
       "      <th>...</th>\n",
       "      <td>...</td>\n",
       "      <td>...</td>\n",
       "      <td>...</td>\n",
       "      <td>...</td>\n",
       "      <td>...</td>\n",
       "      <td>...</td>\n",
       "      <td>...</td>\n",
       "      <td>...</td>\n",
       "      <td>...</td>\n",
       "      <td>...</td>\n",
       "      <td>...</td>\n",
       "      <td>...</td>\n",
       "    </tr>\n",
       "    <tr>\n",
       "      <th>2968</th>\n",
       "      <td>zolo</td>\n",
       "      <td>0.222625</td>\n",
       "      <td>0.547082</td>\n",
       "      <td>2.580991e+05</td>\n",
       "      <td>0.610240</td>\n",
       "      <td>0.143872</td>\n",
       "      <td>0.204206</td>\n",
       "      <td>-11.295878</td>\n",
       "      <td>0.061088</td>\n",
       "      <td>125.494919</td>\n",
       "      <td>0.596155</td>\n",
       "      <td>33.778943</td>\n",
       "    </tr>\n",
       "    <tr>\n",
       "      <th>2969</th>\n",
       "      <td>zouglou</td>\n",
       "      <td>0.161000</td>\n",
       "      <td>0.863000</td>\n",
       "      <td>2.063200e+05</td>\n",
       "      <td>0.909000</td>\n",
       "      <td>0.000000</td>\n",
       "      <td>0.108000</td>\n",
       "      <td>-5.985000</td>\n",
       "      <td>0.081300</td>\n",
       "      <td>119.038000</td>\n",
       "      <td>0.845000</td>\n",
       "      <td>58.000000</td>\n",
       "    </tr>\n",
       "    <tr>\n",
       "      <th>2970</th>\n",
       "      <td>zouk</td>\n",
       "      <td>0.263261</td>\n",
       "      <td>0.748889</td>\n",
       "      <td>3.060728e+05</td>\n",
       "      <td>0.622444</td>\n",
       "      <td>0.257227</td>\n",
       "      <td>0.089678</td>\n",
       "      <td>-10.289222</td>\n",
       "      <td>0.038778</td>\n",
       "      <td>101.965222</td>\n",
       "      <td>0.824111</td>\n",
       "      <td>46.666667</td>\n",
       "    </tr>\n",
       "    <tr>\n",
       "      <th>2971</th>\n",
       "      <td>zurich indie</td>\n",
       "      <td>0.993000</td>\n",
       "      <td>0.705667</td>\n",
       "      <td>1.984173e+05</td>\n",
       "      <td>0.172667</td>\n",
       "      <td>0.468633</td>\n",
       "      <td>0.179667</td>\n",
       "      <td>-11.453333</td>\n",
       "      <td>0.348667</td>\n",
       "      <td>91.278000</td>\n",
       "      <td>0.739000</td>\n",
       "      <td>0.000000</td>\n",
       "    </tr>\n",
       "    <tr>\n",
       "      <th>2972</th>\n",
       "      <td>zydeco</td>\n",
       "      <td>0.421038</td>\n",
       "      <td>0.629409</td>\n",
       "      <td>1.716717e+05</td>\n",
       "      <td>0.609369</td>\n",
       "      <td>0.019248</td>\n",
       "      <td>0.255877</td>\n",
       "      <td>-9.854825</td>\n",
       "      <td>0.050491</td>\n",
       "      <td>126.366087</td>\n",
       "      <td>0.808544</td>\n",
       "      <td>30.261905</td>\n",
       "    </tr>\n",
       "  </tbody>\n",
       "</table>\n",
       "<p>2973 rows × 12 columns</p>\n",
       "</div>"
      ],
      "text/plain": [
       "                      genres  acousticness  danceability   duration_ms  \\\n",
       "0     21st century classical      0.979333      0.162883  1.602977e+05   \n",
       "1                      432hz      0.494780      0.299333  1.048887e+06   \n",
       "2                      8-bit      0.762000      0.712000  1.151770e+05   \n",
       "3                         []      0.651417      0.529093  2.328809e+05   \n",
       "4                 a cappella      0.676557      0.538961  1.906285e+05   \n",
       "...                      ...           ...           ...           ...   \n",
       "2968                    zolo      0.222625      0.547082  2.580991e+05   \n",
       "2969                 zouglou      0.161000      0.863000  2.063200e+05   \n",
       "2970                    zouk      0.263261      0.748889  3.060728e+05   \n",
       "2971            zurich indie      0.993000      0.705667  1.984173e+05   \n",
       "2972                  zydeco      0.421038      0.629409  1.716717e+05   \n",
       "\n",
       "        energy  instrumentalness  liveness   loudness  speechiness  \\\n",
       "0     0.071317          0.606834  0.361600 -31.514333     0.040567   \n",
       "1     0.450678          0.477762  0.131000 -16.854000     0.076817   \n",
       "2     0.818000          0.876000  0.126000  -9.180000     0.047000   \n",
       "3     0.419146          0.205309  0.218696 -12.288965     0.107872   \n",
       "4     0.316434          0.003003  0.172254 -12.479387     0.082851   \n",
       "...        ...               ...       ...        ...          ...   \n",
       "2968  0.610240          0.143872  0.204206 -11.295878     0.061088   \n",
       "2969  0.909000          0.000000  0.108000  -5.985000     0.081300   \n",
       "2970  0.622444          0.257227  0.089678 -10.289222     0.038778   \n",
       "2971  0.172667          0.468633  0.179667 -11.453333     0.348667   \n",
       "2972  0.609369          0.019248  0.255877  -9.854825     0.050491   \n",
       "\n",
       "           tempo   valence  popularity  \n",
       "0      75.336500  0.103783   27.833333  \n",
       "1     120.285667  0.221750   52.500000  \n",
       "2     133.444000  0.975000   48.000000  \n",
       "3     112.857352  0.513604   20.859882  \n",
       "4     112.110362  0.448249   45.820071  \n",
       "...          ...       ...         ...  \n",
       "2968  125.494919  0.596155   33.778943  \n",
       "2969  119.038000  0.845000   58.000000  \n",
       "2970  101.965222  0.824111   46.666667  \n",
       "2971   91.278000  0.739000    0.000000  \n",
       "2972  126.366087  0.808544   30.261905  \n",
       "\n",
       "[2973 rows x 12 columns]"
      ]
     },
     "execution_count": 26,
     "metadata": {},
     "output_type": "execute_result"
    }
   ],
   "source": [
    "dados_generos"
   ]
  },
  {
   "cell_type": "code",
   "execution_count": 27,
   "metadata": {},
   "outputs": [
    {
     "data": {
      "text/plain": [
       "2973"
      ]
     },
     "execution_count": 27,
     "metadata": {},
     "output_type": "execute_result"
    }
   ],
   "source": [
    "dados_generos[\"genres\"].value_counts().sum()"
   ]
  },
  {
   "cell_type": "code",
   "execution_count": 28,
   "metadata": {},
   "outputs": [
    {
     "data": {
      "text/html": [
       "<div>\n",
       "<style scoped>\n",
       "    .dataframe tbody tr th:only-of-type {\n",
       "        vertical-align: middle;\n",
       "    }\n",
       "\n",
       "    .dataframe tbody tr th {\n",
       "        vertical-align: top;\n",
       "    }\n",
       "\n",
       "    .dataframe thead th {\n",
       "        text-align: right;\n",
       "    }\n",
       "</style>\n",
       "<table border=\"1\" class=\"dataframe\">\n",
       "  <thead>\n",
       "    <tr style=\"text-align: right;\">\n",
       "      <th></th>\n",
       "      <th>acousticness</th>\n",
       "      <th>danceability</th>\n",
       "      <th>duration_ms</th>\n",
       "      <th>energy</th>\n",
       "      <th>instrumentalness</th>\n",
       "      <th>liveness</th>\n",
       "      <th>loudness</th>\n",
       "      <th>speechiness</th>\n",
       "      <th>tempo</th>\n",
       "      <th>valence</th>\n",
       "      <th>popularity</th>\n",
       "    </tr>\n",
       "  </thead>\n",
       "  <tbody>\n",
       "    <tr>\n",
       "      <th>0</th>\n",
       "      <td>0.979333</td>\n",
       "      <td>0.162883</td>\n",
       "      <td>1.602977e+05</td>\n",
       "      <td>0.071317</td>\n",
       "      <td>0.606834</td>\n",
       "      <td>0.361600</td>\n",
       "      <td>-31.514333</td>\n",
       "      <td>0.040567</td>\n",
       "      <td>75.336500</td>\n",
       "      <td>0.103783</td>\n",
       "      <td>27.833333</td>\n",
       "    </tr>\n",
       "    <tr>\n",
       "      <th>1</th>\n",
       "      <td>0.494780</td>\n",
       "      <td>0.299333</td>\n",
       "      <td>1.048887e+06</td>\n",
       "      <td>0.450678</td>\n",
       "      <td>0.477762</td>\n",
       "      <td>0.131000</td>\n",
       "      <td>-16.854000</td>\n",
       "      <td>0.076817</td>\n",
       "      <td>120.285667</td>\n",
       "      <td>0.221750</td>\n",
       "      <td>52.500000</td>\n",
       "    </tr>\n",
       "    <tr>\n",
       "      <th>2</th>\n",
       "      <td>0.762000</td>\n",
       "      <td>0.712000</td>\n",
       "      <td>1.151770e+05</td>\n",
       "      <td>0.818000</td>\n",
       "      <td>0.876000</td>\n",
       "      <td>0.126000</td>\n",
       "      <td>-9.180000</td>\n",
       "      <td>0.047000</td>\n",
       "      <td>133.444000</td>\n",
       "      <td>0.975000</td>\n",
       "      <td>48.000000</td>\n",
       "    </tr>\n",
       "    <tr>\n",
       "      <th>3</th>\n",
       "      <td>0.651417</td>\n",
       "      <td>0.529093</td>\n",
       "      <td>2.328809e+05</td>\n",
       "      <td>0.419146</td>\n",
       "      <td>0.205309</td>\n",
       "      <td>0.218696</td>\n",
       "      <td>-12.288965</td>\n",
       "      <td>0.107872</td>\n",
       "      <td>112.857352</td>\n",
       "      <td>0.513604</td>\n",
       "      <td>20.859882</td>\n",
       "    </tr>\n",
       "    <tr>\n",
       "      <th>4</th>\n",
       "      <td>0.676557</td>\n",
       "      <td>0.538961</td>\n",
       "      <td>1.906285e+05</td>\n",
       "      <td>0.316434</td>\n",
       "      <td>0.003003</td>\n",
       "      <td>0.172254</td>\n",
       "      <td>-12.479387</td>\n",
       "      <td>0.082851</td>\n",
       "      <td>112.110362</td>\n",
       "      <td>0.448249</td>\n",
       "      <td>45.820071</td>\n",
       "    </tr>\n",
       "    <tr>\n",
       "      <th>...</th>\n",
       "      <td>...</td>\n",
       "      <td>...</td>\n",
       "      <td>...</td>\n",
       "      <td>...</td>\n",
       "      <td>...</td>\n",
       "      <td>...</td>\n",
       "      <td>...</td>\n",
       "      <td>...</td>\n",
       "      <td>...</td>\n",
       "      <td>...</td>\n",
       "      <td>...</td>\n",
       "    </tr>\n",
       "    <tr>\n",
       "      <th>2968</th>\n",
       "      <td>0.222625</td>\n",
       "      <td>0.547082</td>\n",
       "      <td>2.580991e+05</td>\n",
       "      <td>0.610240</td>\n",
       "      <td>0.143872</td>\n",
       "      <td>0.204206</td>\n",
       "      <td>-11.295878</td>\n",
       "      <td>0.061088</td>\n",
       "      <td>125.494919</td>\n",
       "      <td>0.596155</td>\n",
       "      <td>33.778943</td>\n",
       "    </tr>\n",
       "    <tr>\n",
       "      <th>2969</th>\n",
       "      <td>0.161000</td>\n",
       "      <td>0.863000</td>\n",
       "      <td>2.063200e+05</td>\n",
       "      <td>0.909000</td>\n",
       "      <td>0.000000</td>\n",
       "      <td>0.108000</td>\n",
       "      <td>-5.985000</td>\n",
       "      <td>0.081300</td>\n",
       "      <td>119.038000</td>\n",
       "      <td>0.845000</td>\n",
       "      <td>58.000000</td>\n",
       "    </tr>\n",
       "    <tr>\n",
       "      <th>2970</th>\n",
       "      <td>0.263261</td>\n",
       "      <td>0.748889</td>\n",
       "      <td>3.060728e+05</td>\n",
       "      <td>0.622444</td>\n",
       "      <td>0.257227</td>\n",
       "      <td>0.089678</td>\n",
       "      <td>-10.289222</td>\n",
       "      <td>0.038778</td>\n",
       "      <td>101.965222</td>\n",
       "      <td>0.824111</td>\n",
       "      <td>46.666667</td>\n",
       "    </tr>\n",
       "    <tr>\n",
       "      <th>2971</th>\n",
       "      <td>0.993000</td>\n",
       "      <td>0.705667</td>\n",
       "      <td>1.984173e+05</td>\n",
       "      <td>0.172667</td>\n",
       "      <td>0.468633</td>\n",
       "      <td>0.179667</td>\n",
       "      <td>-11.453333</td>\n",
       "      <td>0.348667</td>\n",
       "      <td>91.278000</td>\n",
       "      <td>0.739000</td>\n",
       "      <td>0.000000</td>\n",
       "    </tr>\n",
       "    <tr>\n",
       "      <th>2972</th>\n",
       "      <td>0.421038</td>\n",
       "      <td>0.629409</td>\n",
       "      <td>1.716717e+05</td>\n",
       "      <td>0.609369</td>\n",
       "      <td>0.019248</td>\n",
       "      <td>0.255877</td>\n",
       "      <td>-9.854825</td>\n",
       "      <td>0.050491</td>\n",
       "      <td>126.366087</td>\n",
       "      <td>0.808544</td>\n",
       "      <td>30.261905</td>\n",
       "    </tr>\n",
       "  </tbody>\n",
       "</table>\n",
       "<p>2973 rows × 11 columns</p>\n",
       "</div>"
      ],
      "text/plain": [
       "      acousticness  danceability   duration_ms    energy  instrumentalness  \\\n",
       "0         0.979333      0.162883  1.602977e+05  0.071317          0.606834   \n",
       "1         0.494780      0.299333  1.048887e+06  0.450678          0.477762   \n",
       "2         0.762000      0.712000  1.151770e+05  0.818000          0.876000   \n",
       "3         0.651417      0.529093  2.328809e+05  0.419146          0.205309   \n",
       "4         0.676557      0.538961  1.906285e+05  0.316434          0.003003   \n",
       "...            ...           ...           ...       ...               ...   \n",
       "2968      0.222625      0.547082  2.580991e+05  0.610240          0.143872   \n",
       "2969      0.161000      0.863000  2.063200e+05  0.909000          0.000000   \n",
       "2970      0.263261      0.748889  3.060728e+05  0.622444          0.257227   \n",
       "2971      0.993000      0.705667  1.984173e+05  0.172667          0.468633   \n",
       "2972      0.421038      0.629409  1.716717e+05  0.609369          0.019248   \n",
       "\n",
       "      liveness   loudness  speechiness       tempo   valence  popularity  \n",
       "0     0.361600 -31.514333     0.040567   75.336500  0.103783   27.833333  \n",
       "1     0.131000 -16.854000     0.076817  120.285667  0.221750   52.500000  \n",
       "2     0.126000  -9.180000     0.047000  133.444000  0.975000   48.000000  \n",
       "3     0.218696 -12.288965     0.107872  112.857352  0.513604   20.859882  \n",
       "4     0.172254 -12.479387     0.082851  112.110362  0.448249   45.820071  \n",
       "...        ...        ...          ...         ...       ...         ...  \n",
       "2968  0.204206 -11.295878     0.061088  125.494919  0.596155   33.778943  \n",
       "2969  0.108000  -5.985000     0.081300  119.038000  0.845000   58.000000  \n",
       "2970  0.089678 -10.289222     0.038778  101.965222  0.824111   46.666667  \n",
       "2971  0.179667 -11.453333     0.348667   91.278000  0.739000    0.000000  \n",
       "2972  0.255877  -9.854825     0.050491  126.366087  0.808544   30.261905  \n",
       "\n",
       "[2973 rows x 11 columns]"
      ]
     },
     "execution_count": 28,
     "metadata": {},
     "output_type": "execute_result"
    }
   ],
   "source": [
    "dados_generos1 = dados_generos.drop(\"genres\", axis=1)\n",
    "dados_generos1"
   ]
  },
  {
   "cell_type": "code",
   "execution_count": 29,
   "metadata": {},
   "outputs": [],
   "source": [
    "from sklearn.pipeline import Pipeline\n",
    "from sklearn.preprocessing import StandardScaler\n",
    "from sklearn.decomposition import PCA"
   ]
  },
  {
   "cell_type": "code",
   "execution_count": 30,
   "metadata": {},
   "outputs": [],
   "source": [
    "SEED = 1224\n",
    "np.random.seed(1224)\n",
    "\n",
    "pca_pipeline = Pipeline([(\"scaler\", StandardScaler()), (\"PCA\", PCA(n_components=2, random_state=SEED))])"
   ]
  },
  {
   "cell_type": "code",
   "execution_count": 31,
   "metadata": {},
   "outputs": [],
   "source": [
    "genre_embedding_pca = pca_pipeline.fit_transform(dados_generos1)\n",
    "projection = pd.DataFrame(columns=[\"x\", \"y\"], data=genre_embedding_pca)"
   ]
  },
  {
   "cell_type": "code",
   "execution_count": 32,
   "metadata": {},
   "outputs": [
    {
     "data": {
      "text/html": [
       "<div>\n",
       "<style scoped>\n",
       "    .dataframe tbody tr th:only-of-type {\n",
       "        vertical-align: middle;\n",
       "    }\n",
       "\n",
       "    .dataframe tbody tr th {\n",
       "        vertical-align: top;\n",
       "    }\n",
       "\n",
       "    .dataframe thead th {\n",
       "        text-align: right;\n",
       "    }\n",
       "</style>\n",
       "<table border=\"1\" class=\"dataframe\">\n",
       "  <thead>\n",
       "    <tr style=\"text-align: right;\">\n",
       "      <th></th>\n",
       "      <th>x</th>\n",
       "      <th>y</th>\n",
       "    </tr>\n",
       "  </thead>\n",
       "  <tbody>\n",
       "    <tr>\n",
       "      <th>0</th>\n",
       "      <td>5.910268</td>\n",
       "      <td>-0.011146</td>\n",
       "    </tr>\n",
       "    <tr>\n",
       "      <th>1</th>\n",
       "      <td>2.787093</td>\n",
       "      <td>4.498483</td>\n",
       "    </tr>\n",
       "    <tr>\n",
       "      <th>2</th>\n",
       "      <td>-0.757538</td>\n",
       "      <td>-1.258495</td>\n",
       "    </tr>\n",
       "    <tr>\n",
       "      <th>3</th>\n",
       "      <td>1.020521</td>\n",
       "      <td>-0.931690</td>\n",
       "    </tr>\n",
       "    <tr>\n",
       "      <th>4</th>\n",
       "      <td>0.753911</td>\n",
       "      <td>-0.999861</td>\n",
       "    </tr>\n",
       "    <tr>\n",
       "      <th>...</th>\n",
       "      <td>...</td>\n",
       "      <td>...</td>\n",
       "    </tr>\n",
       "    <tr>\n",
       "      <th>2968</th>\n",
       "      <td>-0.475136</td>\n",
       "      <td>-0.017126</td>\n",
       "    </tr>\n",
       "    <tr>\n",
       "      <th>2969</th>\n",
       "      <td>-3.026756</td>\n",
       "      <td>-1.304983</td>\n",
       "    </tr>\n",
       "    <tr>\n",
       "      <th>2970</th>\n",
       "      <td>-0.832511</td>\n",
       "      <td>-1.089726</td>\n",
       "    </tr>\n",
       "    <tr>\n",
       "      <th>2971</th>\n",
       "      <td>1.774790</td>\n",
       "      <td>-3.695233</td>\n",
       "    </tr>\n",
       "    <tr>\n",
       "      <th>2972</th>\n",
       "      <td>-1.028069</td>\n",
       "      <td>-1.390709</td>\n",
       "    </tr>\n",
       "  </tbody>\n",
       "</table>\n",
       "<p>2973 rows × 2 columns</p>\n",
       "</div>"
      ],
      "text/plain": [
       "             x         y\n",
       "0     5.910268 -0.011146\n",
       "1     2.787093  4.498483\n",
       "2    -0.757538 -1.258495\n",
       "3     1.020521 -0.931690\n",
       "4     0.753911 -0.999861\n",
       "...        ...       ...\n",
       "2968 -0.475136 -0.017126\n",
       "2969 -3.026756 -1.304983\n",
       "2970 -0.832511 -1.089726\n",
       "2971  1.774790 -3.695233\n",
       "2972 -1.028069 -1.390709\n",
       "\n",
       "[2973 rows x 2 columns]"
      ]
     },
     "execution_count": 32,
     "metadata": {},
     "output_type": "execute_result"
    }
   ],
   "source": [
    "projection"
   ]
  },
  {
   "cell_type": "code",
   "execution_count": 33,
   "metadata": {},
   "outputs": [],
   "source": [
    "from sklearn.cluster import KMeans"
   ]
  },
  {
   "cell_type": "code",
   "execution_count": 34,
   "metadata": {},
   "outputs": [
    {
     "name": "stdout",
     "output_type": "stream",
     "text": [
      "Initialization complete\n",
      "Iteration 0, inertia 4523.567815543698.\n",
      "Iteration 1, inertia 3668.9855521560285.\n",
      "Iteration 2, inertia 3624.730925711823.\n",
      "Iteration 3, inertia 3602.495813758819.\n",
      "Iteration 4, inertia 3588.0607912404926.\n",
      "Iteration 5, inertia 3575.439570259308.\n",
      "Iteration 6, inertia 3566.3761311630237.\n",
      "Iteration 7, inertia 3562.5917284574966.\n",
      "Iteration 8, inertia 3560.314467700936.\n",
      "Iteration 9, inertia 3558.885495152652.\n",
      "Iteration 10, inertia 3558.0027489340564.\n",
      "Iteration 11, inertia 3557.7295547754966.\n",
      "Converged at iteration 11: center shift 9.319981044865677e-05 within tolerance 0.00027098868470996516.\n",
      "Initialization complete\n",
      "Iteration 0, inertia 3650.5166847646533.\n",
      "Iteration 1, inertia 3552.89153656482.\n",
      "Iteration 2, inertia 3528.942542123226.\n",
      "Iteration 3, inertia 3518.849132048714.\n",
      "Iteration 4, inertia 3512.6717916139787.\n",
      "Iteration 5, inertia 3509.1741078247464.\n",
      "Iteration 6, inertia 3506.38833355138.\n",
      "Iteration 7, inertia 3505.091074309412.\n",
      "Iteration 8, inertia 3504.646511738497.\n",
      "Converged at iteration 8: center shift 7.503519990461705e-05 within tolerance 0.00027098868470996516.\n",
      "Initialization complete\n",
      "Iteration 0, inertia 4414.321464862244.\n",
      "Iteration 1, inertia 4264.089604762606.\n",
      "Iteration 2, inertia 4086.2164718564054.\n",
      "Iteration 3, inertia 3913.5040021644563.\n",
      "Iteration 4, inertia 3808.4662476218155.\n",
      "Iteration 5, inertia 3745.661059736386.\n",
      "Iteration 6, inertia 3695.2334705998987.\n",
      "Iteration 7, inertia 3657.9034106955464.\n",
      "Iteration 8, inertia 3632.6437458148475.\n",
      "Iteration 9, inertia 3614.3881006065644.\n",
      "Iteration 10, inertia 3596.1084839860473.\n",
      "Iteration 11, inertia 3579.5250440964005.\n",
      "Iteration 12, inertia 3568.079845494882.\n",
      "Iteration 13, inertia 3560.7114931318433.\n",
      "Iteration 14, inertia 3555.678927842753.\n",
      "Iteration 15, inertia 3551.0457527019803.\n",
      "Iteration 16, inertia 3547.8151952209205.\n",
      "Iteration 17, inertia 3544.5858546587983.\n",
      "Iteration 18, inertia 3541.2249019489245.\n",
      "Iteration 19, inertia 3537.22075531452.\n",
      "Iteration 20, inertia 3533.4811126828117.\n",
      "Iteration 21, inertia 3530.8313918691997.\n",
      "Iteration 22, inertia 3528.2990382894986.\n",
      "Iteration 23, inertia 3525.962848818209.\n",
      "Iteration 24, inertia 3523.302493609694.\n",
      "Iteration 25, inertia 3521.2371826846584.\n",
      "Iteration 26, inertia 3519.7176960588386.\n",
      "Iteration 27, inertia 3518.292189243769.\n",
      "Iteration 28, inertia 3517.6503461161296.\n",
      "Iteration 29, inertia 3517.291990899689.\n",
      "Iteration 30, inertia 3516.8130739026597.\n",
      "Iteration 31, inertia 3516.080736548995.\n",
      "Iteration 32, inertia 3515.663822195966.\n",
      "Converged at iteration 32: center shift 5.3255553091936675e-05 within tolerance 0.00027098868470996516.\n",
      "Initialization complete\n",
      "Iteration 0, inertia 4454.784085215459.\n",
      "Iteration 1, inertia 3768.566040695701.\n",
      "Iteration 2, inertia 3646.0793671699253.\n",
      "Iteration 3, inertia 3588.1052546265473.\n",
      "Iteration 4, inertia 3563.8174545934435.\n",
      "Iteration 5, inertia 3553.0609261815357.\n",
      "Iteration 6, inertia 3547.572109608476.\n",
      "Iteration 7, inertia 3544.5866171395783.\n",
      "Iteration 8, inertia 3542.3199661131453.\n",
      "Iteration 9, inertia 3541.491829826801.\n",
      "Iteration 10, inertia 3541.163552531025.\n",
      "Converged at iteration 10: center shift 0.00011361514233643913 within tolerance 0.00027098868470996516.\n",
      "Initialization complete\n",
      "Iteration 0, inertia 4292.020575436044.\n",
      "Iteration 1, inertia 3675.2033628822433.\n",
      "Iteration 2, inertia 3600.2652059024585.\n",
      "Iteration 3, inertia 3567.104006679202.\n",
      "Iteration 4, inertia 3555.9954996232586.\n",
      "Iteration 5, inertia 3551.7224371196485.\n",
      "Iteration 6, inertia 3549.45879853276.\n",
      "Iteration 7, inertia 3547.6816324276424.\n",
      "Iteration 8, inertia 3546.140998056878.\n",
      "Iteration 9, inertia 3545.1814280412004.\n",
      "Iteration 10, inertia 3544.5660486551997.\n",
      "Converged at iteration 10: center shift 0.00021718608215509476 within tolerance 0.00027098868470996516.\n",
      "Initialization complete\n",
      "Iteration 0, inertia 5229.734133923964.\n",
      "Iteration 1, inertia 3901.9140754163436.\n",
      "Iteration 2, inertia 3684.138956110473.\n",
      "Iteration 3, inertia 3625.7642920482685.\n",
      "Iteration 4, inertia 3598.678831280845.\n",
      "Iteration 5, inertia 3577.346348139749.\n",
      "Iteration 6, inertia 3558.4703786807663.\n",
      "Iteration 7, inertia 3543.7613905608205.\n",
      "Iteration 8, inertia 3531.7513344899467.\n",
      "Iteration 9, inertia 3523.392200683916.\n",
      "Iteration 10, inertia 3517.4587511672526.\n",
      "Iteration 11, inertia 3511.357774840684.\n",
      "Iteration 12, inertia 3507.9073202368404.\n",
      "Iteration 13, inertia 3506.449127090968.\n",
      "Iteration 14, inertia 3505.530597167015.\n",
      "Iteration 15, inertia 3505.168296509927.\n",
      "Iteration 16, inertia 3504.812793213711.\n",
      "Converged at iteration 16: center shift 0.00015979191515766517 within tolerance 0.00027098868470996516.\n",
      "Initialization complete\n",
      "Iteration 0, inertia 4258.464385644754.\n",
      "Iteration 1, inertia 3757.825912494682.\n",
      "Iteration 2, inertia 3651.0581454035582.\n",
      "Iteration 3, inertia 3609.3545045378883.\n",
      "Iteration 4, inertia 3585.8938498036473.\n",
      "Iteration 5, inertia 3570.941804662226.\n",
      "Iteration 6, inertia 3564.037650400697.\n",
      "Iteration 7, inertia 3561.29952612839.\n",
      "Iteration 8, inertia 3559.8589251152134.\n",
      "Iteration 9, inertia 3558.954926115672.\n",
      "Iteration 10, inertia 3558.644657648666.\n",
      "Iteration 11, inertia 3558.250564580612.\n",
      "Converged at iteration 11: center shift 0.00017503536183741778 within tolerance 0.00027098868470996516.\n",
      "Initialization complete\n",
      "Iteration 0, inertia 4718.5261359996675.\n",
      "Iteration 1, inertia 3758.1507091224776.\n",
      "Iteration 2, inertia 3624.922738585433.\n",
      "Iteration 3, inertia 3583.400450514349.\n",
      "Iteration 4, inertia 3564.525298278212.\n",
      "Iteration 5, inertia 3555.2726539991513.\n",
      "Iteration 6, inertia 3551.323203354956.\n",
      "Iteration 7, inertia 3548.77739428532.\n",
      "Iteration 8, inertia 3546.706487706707.\n",
      "Iteration 9, inertia 3544.940808912321.\n",
      "Iteration 10, inertia 3541.602926434052.\n",
      "Iteration 11, inertia 3538.2954164325874.\n",
      "Iteration 12, inertia 3535.9986063113806.\n",
      "Iteration 13, inertia 3534.366436997933.\n",
      "Iteration 14, inertia 3532.1532885577503.\n",
      "Iteration 15, inertia 3529.02195993727.\n",
      "Iteration 16, inertia 3523.7411194979754.\n",
      "Iteration 17, inertia 3519.0747925846945.\n",
      "Iteration 18, inertia 3516.6810828301464.\n",
      "Iteration 19, inertia 3515.673695498448.\n",
      "Iteration 20, inertia 3514.1110599644676.\n",
      "Iteration 21, inertia 3511.9265427786886.\n",
      "Iteration 22, inertia 3509.923997363932.\n",
      "Iteration 23, inertia 3508.66594604393.\n",
      "Iteration 24, inertia 3507.576714118869.\n",
      "Iteration 25, inertia 3506.3382872728193.\n",
      "Iteration 26, inertia 3505.3138272242404.\n",
      "Iteration 27, inertia 3504.8047979287267.\n",
      "Iteration 28, inertia 3504.552433516027.\n",
      "Converged at iteration 28: center shift 0.0001294637432248579 within tolerance 0.00027098868470996516.\n",
      "Initialization complete\n",
      "Iteration 0, inertia 5726.817439830068.\n",
      "Iteration 1, inertia 4002.818616376.\n",
      "Iteration 2, inertia 3677.022813030344.\n",
      "Iteration 3, inertia 3594.0235945734985.\n",
      "Iteration 4, inertia 3568.0392461810397.\n",
      "Iteration 5, inertia 3559.4047642395553.\n",
      "Iteration 6, inertia 3554.535649933391.\n",
      "Iteration 7, inertia 3550.9000086430474.\n",
      "Iteration 8, inertia 3547.931977312037.\n",
      "Iteration 9, inertia 3546.186206463716.\n",
      "Iteration 10, inertia 3544.5930799012176.\n",
      "Iteration 11, inertia 3544.1573100085816.\n",
      "Iteration 12, inertia 3543.9417539989795.\n",
      "Converged at iteration 12: center shift 0.00010369698781414543 within tolerance 0.00027098868470996516.\n",
      "Initialization complete\n",
      "Iteration 0, inertia 4375.718400720182.\n",
      "Iteration 1, inertia 3663.3718697369386.\n",
      "Iteration 2, inertia 3584.8228907672724.\n",
      "Iteration 3, inertia 3560.5525771794487.\n",
      "Iteration 4, inertia 3552.653553654189.\n",
      "Iteration 5, inertia 3550.9863322071387.\n",
      "Iteration 6, inertia 3548.841299825513.\n",
      "Iteration 7, inertia 3546.3432965447855.\n",
      "Iteration 8, inertia 3544.2721141108677.\n",
      "Iteration 9, inertia 3541.083241117697.\n",
      "Iteration 10, inertia 3538.703786254467.\n",
      "Iteration 11, inertia 3536.961047098966.\n",
      "Iteration 12, inertia 3535.146837088558.\n",
      "Iteration 13, inertia 3533.5433662533533.\n",
      "Iteration 14, inertia 3530.7882440270673.\n",
      "Iteration 15, inertia 3527.1960244191655.\n",
      "Iteration 16, inertia 3522.5419691521683.\n",
      "Iteration 17, inertia 3518.244795809643.\n",
      "Iteration 18, inertia 3516.63431446954.\n",
      "Iteration 19, inertia 3515.622106084472.\n",
      "Iteration 20, inertia 3513.997398179623.\n",
      "Iteration 21, inertia 3511.1887036707794.\n",
      "Iteration 22, inertia 3509.978252687885.\n",
      "Iteration 23, inertia 3508.7925003676382.\n",
      "Iteration 24, inertia 3507.6587975550838.\n",
      "Iteration 25, inertia 3506.365172128437.\n",
      "Iteration 26, inertia 3505.3138272242404.\n",
      "Iteration 27, inertia 3504.8047979287267.\n",
      "Iteration 28, inertia 3504.552433516027.\n",
      "Converged at iteration 28: center shift 0.00012946374322485575 within tolerance 0.00027098868470996516.\n"
     ]
    }
   ],
   "source": [
    "kmeans_pca = KMeans(n_clusters=5, verbose=True, random_state=SEED)\n",
    "\n",
    "kmeans_pca.fit(projection)\n",
    "\n",
    "dados_generos[\"cluster_pca\"] = kmeans_pca.predict(projection)\n",
    "projection[\"cluster_pca\"] = kmeans_pca.predict(projection)"
   ]
  },
  {
   "cell_type": "code",
   "execution_count": 35,
   "metadata": {},
   "outputs": [
    {
     "data": {
      "text/html": [
       "<div>\n",
       "<style scoped>\n",
       "    .dataframe tbody tr th:only-of-type {\n",
       "        vertical-align: middle;\n",
       "    }\n",
       "\n",
       "    .dataframe tbody tr th {\n",
       "        vertical-align: top;\n",
       "    }\n",
       "\n",
       "    .dataframe thead th {\n",
       "        text-align: right;\n",
       "    }\n",
       "</style>\n",
       "<table border=\"1\" class=\"dataframe\">\n",
       "  <thead>\n",
       "    <tr style=\"text-align: right;\">\n",
       "      <th></th>\n",
       "      <th>x</th>\n",
       "      <th>y</th>\n",
       "      <th>cluster_pca</th>\n",
       "    </tr>\n",
       "  </thead>\n",
       "  <tbody>\n",
       "    <tr>\n",
       "      <th>0</th>\n",
       "      <td>5.910268</td>\n",
       "      <td>-0.011146</td>\n",
       "      <td>3</td>\n",
       "    </tr>\n",
       "    <tr>\n",
       "      <th>1</th>\n",
       "      <td>2.787093</td>\n",
       "      <td>4.498483</td>\n",
       "      <td>3</td>\n",
       "    </tr>\n",
       "    <tr>\n",
       "      <th>2</th>\n",
       "      <td>-0.757538</td>\n",
       "      <td>-1.258495</td>\n",
       "      <td>4</td>\n",
       "    </tr>\n",
       "    <tr>\n",
       "      <th>3</th>\n",
       "      <td>1.020521</td>\n",
       "      <td>-0.931690</td>\n",
       "      <td>1</td>\n",
       "    </tr>\n",
       "    <tr>\n",
       "      <th>4</th>\n",
       "      <td>0.753911</td>\n",
       "      <td>-0.999861</td>\n",
       "      <td>1</td>\n",
       "    </tr>\n",
       "    <tr>\n",
       "      <th>...</th>\n",
       "      <td>...</td>\n",
       "      <td>...</td>\n",
       "      <td>...</td>\n",
       "    </tr>\n",
       "    <tr>\n",
       "      <th>2968</th>\n",
       "      <td>-0.475136</td>\n",
       "      <td>-0.017126</td>\n",
       "      <td>2</td>\n",
       "    </tr>\n",
       "    <tr>\n",
       "      <th>2969</th>\n",
       "      <td>-3.026756</td>\n",
       "      <td>-1.304983</td>\n",
       "      <td>4</td>\n",
       "    </tr>\n",
       "    <tr>\n",
       "      <th>2970</th>\n",
       "      <td>-0.832511</td>\n",
       "      <td>-1.089726</td>\n",
       "      <td>4</td>\n",
       "    </tr>\n",
       "    <tr>\n",
       "      <th>2971</th>\n",
       "      <td>1.774790</td>\n",
       "      <td>-3.695233</td>\n",
       "      <td>1</td>\n",
       "    </tr>\n",
       "    <tr>\n",
       "      <th>2972</th>\n",
       "      <td>-1.028069</td>\n",
       "      <td>-1.390709</td>\n",
       "      <td>4</td>\n",
       "    </tr>\n",
       "  </tbody>\n",
       "</table>\n",
       "<p>2973 rows × 3 columns</p>\n",
       "</div>"
      ],
      "text/plain": [
       "             x         y  cluster_pca\n",
       "0     5.910268 -0.011146            3\n",
       "1     2.787093  4.498483            3\n",
       "2    -0.757538 -1.258495            4\n",
       "3     1.020521 -0.931690            1\n",
       "4     0.753911 -0.999861            1\n",
       "...        ...       ...          ...\n",
       "2968 -0.475136 -0.017126            2\n",
       "2969 -3.026756 -1.304983            4\n",
       "2970 -0.832511 -1.089726            4\n",
       "2971  1.774790 -3.695233            1\n",
       "2972 -1.028069 -1.390709            4\n",
       "\n",
       "[2973 rows x 3 columns]"
      ]
     },
     "execution_count": 35,
     "metadata": {},
     "output_type": "execute_result"
    }
   ],
   "source": [
    "projection"
   ]
  },
  {
   "cell_type": "code",
   "execution_count": 36,
   "metadata": {},
   "outputs": [],
   "source": [
    "projection[\"generos\"] = dados_generos[\"genres\"]"
   ]
  },
  {
   "cell_type": "code",
   "execution_count": 37,
   "metadata": {},
   "outputs": [
    {
     "data": {
      "text/html": [
       "<div>\n",
       "<style scoped>\n",
       "    .dataframe tbody tr th:only-of-type {\n",
       "        vertical-align: middle;\n",
       "    }\n",
       "\n",
       "    .dataframe tbody tr th {\n",
       "        vertical-align: top;\n",
       "    }\n",
       "\n",
       "    .dataframe thead th {\n",
       "        text-align: right;\n",
       "    }\n",
       "</style>\n",
       "<table border=\"1\" class=\"dataframe\">\n",
       "  <thead>\n",
       "    <tr style=\"text-align: right;\">\n",
       "      <th></th>\n",
       "      <th>x</th>\n",
       "      <th>y</th>\n",
       "      <th>cluster_pca</th>\n",
       "      <th>generos</th>\n",
       "    </tr>\n",
       "  </thead>\n",
       "  <tbody>\n",
       "    <tr>\n",
       "      <th>0</th>\n",
       "      <td>5.910268</td>\n",
       "      <td>-0.011146</td>\n",
       "      <td>3</td>\n",
       "      <td>21st century classical</td>\n",
       "    </tr>\n",
       "    <tr>\n",
       "      <th>1</th>\n",
       "      <td>2.787093</td>\n",
       "      <td>4.498483</td>\n",
       "      <td>3</td>\n",
       "      <td>432hz</td>\n",
       "    </tr>\n",
       "    <tr>\n",
       "      <th>2</th>\n",
       "      <td>-0.757538</td>\n",
       "      <td>-1.258495</td>\n",
       "      <td>4</td>\n",
       "      <td>8-bit</td>\n",
       "    </tr>\n",
       "    <tr>\n",
       "      <th>3</th>\n",
       "      <td>1.020521</td>\n",
       "      <td>-0.931690</td>\n",
       "      <td>1</td>\n",
       "      <td>[]</td>\n",
       "    </tr>\n",
       "    <tr>\n",
       "      <th>4</th>\n",
       "      <td>0.753911</td>\n",
       "      <td>-0.999861</td>\n",
       "      <td>1</td>\n",
       "      <td>a cappella</td>\n",
       "    </tr>\n",
       "    <tr>\n",
       "      <th>...</th>\n",
       "      <td>...</td>\n",
       "      <td>...</td>\n",
       "      <td>...</td>\n",
       "      <td>...</td>\n",
       "    </tr>\n",
       "    <tr>\n",
       "      <th>2968</th>\n",
       "      <td>-0.475136</td>\n",
       "      <td>-0.017126</td>\n",
       "      <td>2</td>\n",
       "      <td>zolo</td>\n",
       "    </tr>\n",
       "    <tr>\n",
       "      <th>2969</th>\n",
       "      <td>-3.026756</td>\n",
       "      <td>-1.304983</td>\n",
       "      <td>4</td>\n",
       "      <td>zouglou</td>\n",
       "    </tr>\n",
       "    <tr>\n",
       "      <th>2970</th>\n",
       "      <td>-0.832511</td>\n",
       "      <td>-1.089726</td>\n",
       "      <td>4</td>\n",
       "      <td>zouk</td>\n",
       "    </tr>\n",
       "    <tr>\n",
       "      <th>2971</th>\n",
       "      <td>1.774790</td>\n",
       "      <td>-3.695233</td>\n",
       "      <td>1</td>\n",
       "      <td>zurich indie</td>\n",
       "    </tr>\n",
       "    <tr>\n",
       "      <th>2972</th>\n",
       "      <td>-1.028069</td>\n",
       "      <td>-1.390709</td>\n",
       "      <td>4</td>\n",
       "      <td>zydeco</td>\n",
       "    </tr>\n",
       "  </tbody>\n",
       "</table>\n",
       "<p>2973 rows × 4 columns</p>\n",
       "</div>"
      ],
      "text/plain": [
       "             x         y  cluster_pca                 generos\n",
       "0     5.910268 -0.011146            3  21st century classical\n",
       "1     2.787093  4.498483            3                   432hz\n",
       "2    -0.757538 -1.258495            4                   8-bit\n",
       "3     1.020521 -0.931690            1                      []\n",
       "4     0.753911 -0.999861            1              a cappella\n",
       "...        ...       ...          ...                     ...\n",
       "2968 -0.475136 -0.017126            2                    zolo\n",
       "2969 -3.026756 -1.304983            4                 zouglou\n",
       "2970 -0.832511 -1.089726            4                    zouk\n",
       "2971  1.774790 -3.695233            1            zurich indie\n",
       "2972 -1.028069 -1.390709            4                  zydeco\n",
       "\n",
       "[2973 rows x 4 columns]"
      ]
     },
     "execution_count": 37,
     "metadata": {},
     "output_type": "execute_result"
    }
   ],
   "source": [
    "projection"
   ]
  },
  {
   "cell_type": "code",
   "execution_count": 38,
   "metadata": {},
   "outputs": [
    {
     "data": {
      "application/vnd.plotly.v1+json": {
       "config": {
        "plotlyServerURL": "https://plot.ly"
       },
       "data": [
        {
         "customdata": [
          [
           "21st century classical"
          ],
          [
           "432hz"
          ],
          [
           "8-bit"
          ],
          [
           "[]"
          ],
          [
           "a cappella"
          ],
          [
           "abstract"
          ],
          [
           "abstract beats"
          ],
          [
           "abstract hip hop"
          ],
          [
           "accordeon"
          ],
          [
           "accordion"
          ],
          [
           "acid house"
          ],
          [
           "acid rock"
          ],
          [
           "acid trance"
          ],
          [
           "acousmatic"
          ],
          [
           "acoustic blues"
          ],
          [
           "acoustic pop"
          ],
          [
           "acoustic punk"
          ],
          [
           "acoustic rock"
          ],
          [
           "action rock"
          ],
          [
           "adoracion"
          ],
          [
           "adult standards"
          ],
          [
           "adventista"
          ],
          [
           "afghan pop"
          ],
          [
           "afghan traditional"
          ],
          [
           "african percussion"
          ],
          [
           "african reggae"
          ],
          [
           "african rock"
          ],
          [
           "african-american classical"
          ],
          [
           "afro dancehall"
          ],
          [
           "afro house"
          ],
          [
           "afro psych"
          ],
          [
           "afro soul"
          ],
          [
           "afro-funk"
          ],
          [
           "afrobeat"
          ],
          [
           "afrofuturism"
          ],
          [
           "afrofuturismo brasileiro"
          ],
          [
           "afropop"
          ],
          [
           "afroswing"
          ],
          [
           "aggrotech"
          ],
          [
           "alabama indie"
          ],
          [
           "alabama metal"
          ],
          [
           "alabama rap"
          ],
          [
           "alaska indie"
          ],
          [
           "albanian pop"
          ],
          [
           "albany ny indie"
          ],
          [
           "alberta country"
          ],
          [
           "alberta hip hop"
          ],
          [
           "album rock"
          ],
          [
           "albuquerque indie"
          ],
          [
           "alt-idol"
          ],
          [
           "alte"
          ],
          [
           "alternative americana"
          ],
          [
           "alternative country"
          ],
          [
           "alternative dance"
          ],
          [
           "alternative emo"
          ],
          [
           "alternative hip hop"
          ],
          [
           "alternative metal"
          ],
          [
           "alternative pop"
          ],
          [
           "alternative pop rock"
          ],
          [
           "alternative r&b"
          ],
          [
           "alternative rock"
          ],
          [
           "alternative roots rock"
          ],
          [
           "ambeat"
          ],
          [
           "ambient"
          ],
          [
           "ambient black metal"
          ],
          [
           "ambient folk"
          ],
          [
           "ambient house"
          ],
          [
           "ambient idm"
          ],
          [
           "ambient industrial"
          ],
          [
           "ambient pop"
          ],
          [
           "ambient techno"
          ],
          [
           "ambient worship"
          ],
          [
           "american 21st century classical"
          ],
          [
           "american choir"
          ],
          [
           "american classical piano"
          ],
          [
           "american contemporary classical"
          ],
          [
           "american early music"
          ],
          [
           "american folk revival"
          ],
          [
           "american metalcore"
          ],
          [
           "american modern classical"
          ],
          [
           "american oi"
          ],
          [
           "american orchestra"
          ],
          [
           "american post-rock"
          ],
          [
           "american primitive"
          ],
          [
           "american romanticism"
          ],
          [
           "american shoegaze"
          ],
          [
           "anadolu rock"
          ],
          [
           "anarcho-punk"
          ],
          [
           "anglican liturgy"
          ],
          [
           "animal singing"
          ],
          [
           "anime"
          ],
          [
           "anime latino"
          ],
          [
           "anime rock"
          ],
          [
           "anime score"
          ],
          [
           "ann arbor indie"
          ],
          [
           "anthem emo"
          ],
          [
           "anthem worship"
          ],
          [
           "anti-folk"
          ],
          [
           "antilliaanse folklore"
          ],
          [
           "antiviral pop"
          ],
          [
           "appalachian folk"
          ],
          [
           "arab folk"
          ],
          [
           "arab groove"
          ],
          [
           "arab pop"
          ],
          [
           "arabesk"
          ],
          [
           "arabic hip hop"
          ],
          [
           "arabic jazz"
          ],
          [
           "argentine ambient"
          ],
          [
           "argentine hardcore"
          ],
          [
           "argentine heavy metal"
          ],
          [
           "argentine hip hop"
          ],
          [
           "argentine indie"
          ],
          [
           "argentine metal"
          ],
          [
           "argentine punk"
          ],
          [
           "argentine reggae"
          ],
          [
           "argentine rock"
          ],
          [
           "argentine telepop"
          ],
          [
           "arizona punk"
          ],
          [
           "arkansas country"
          ],
          [
           "arkansas hip hop"
          ],
          [
           "arkansas indie"
          ],
          [
           "armenian folk"
          ],
          [
           "art pop"
          ],
          [
           "art punk"
          ],
          [
           "art rock"
          ],
          [
           "art song"
          ],
          [
           "asbury park indie"
          ],
          [
           "asheville indie"
          ],
          [
           "asian american hip hop"
          ],
          [
           "asmr"
          ],
          [
           "athens indie"
          ],
          [
           "atl hip hop"
          ],
          [
           "atl trap"
          ],
          [
           "atlanta indie"
          ],
          [
           "atlanta metal"
          ],
          [
           "atlanta punk"
          ],
          [
           "atmosphere"
          ],
          [
           "atmospheric black metal"
          ],
          [
           "atmospheric dnb"
          ],
          [
           "atmospheric post-metal"
          ],
          [
           "atmospheric post-rock"
          ],
          [
           "atmospheric sludge"
          ],
          [
           "auckland indie"
          ],
          [
           "audiophile vocal"
          ],
          [
           "aussietronica"
          ],
          [
           "austin americana"
          ],
          [
           "austin singer-songwriter"
          ],
          [
           "austindie"
          ],
          [
           "australian alternative pop"
          ],
          [
           "australian alternative rock"
          ],
          [
           "australian ambient"
          ],
          [
           "australian children's music"
          ],
          [
           "australian choir"
          ],
          [
           "australian classical"
          ],
          [
           "australian classical piano"
          ],
          [
           "australian country"
          ],
          [
           "australian dance"
          ],
          [
           "australian electropop"
          ],
          [
           "australian garage punk"
          ],
          [
           "australian hip hop"
          ],
          [
           "australian house"
          ],
          [
           "australian indie"
          ],
          [
           "australian indie folk"
          ],
          [
           "australian indie rock"
          ],
          [
           "australian indigenous"
          ],
          [
           "australian metal"
          ],
          [
           "australian metalcore"
          ],
          [
           "australian pop"
          ],
          [
           "australian post-hardcore"
          ],
          [
           "australian post-punk"
          ],
          [
           "australian psych"
          ],
          [
           "australian r&b"
          ],
          [
           "australian reggae fusion"
          ],
          [
           "australian rock"
          ],
          [
           "australian singer-songwriter"
          ],
          [
           "australian ska"
          ],
          [
           "australian talent show"
          ],
          [
           "australian trap"
          ],
          [
           "australian underground hip hop"
          ],
          [
           "austrian choir"
          ],
          [
           "austrian classical piano"
          ],
          [
           "austrian orchestra"
          ],
          [
           "austrian pop"
          ],
          [
           "austro-german modernism"
          ],
          [
           "austropop"
          ],
          [
           "autoharp"
          ],
          [
           "autonomous black metal"
          ],
          [
           "avant-garde"
          ],
          [
           "avant-garde jazz"
          ],
          [
           "avant-garde metal"
          ],
          [
           "axe"
          ],
          [
           "azeri traditional"
          ],
          [
           "azonto"
          ],
          [
           "azontobeats"
          ],
          [
           "bachata"
          ],
          [
           "bachata dominicana"
          ],
          [
           "background music"
          ],
          [
           "background piano"
          ],
          [
           "baglama"
          ],
          [
           "bahai"
          ],
          [
           "bahamian folk"
          ],
          [
           "bahamian pop"
          ],
          [
           "baiao"
          ],
          [
           "bajki"
          ],
          [
           "bakersfield sound"
          ],
          [
           "balearic"
          ],
          [
           "balkan brass"
          ],
          [
           "balkan classical piano"
          ],
          [
           "ballet class"
          ],
          [
           "ballroom"
          ],
          [
           "baltic classical"
          ],
          [
           "baltimore hip hop"
          ],
          [
           "baltimore indie"
          ],
          [
           "banda"
          ],
          [
           "banda caliente"
          ],
          [
           "banda carnavalera"
          ],
          [
           "bandinhas"
          ],
          [
           "bandolim"
          ],
          [
           "bandoneon"
          ],
          [
           "bangla"
          ],
          [
           "banjo"
          ],
          [
           "bansuri"
          ],
          [
           "barbadian pop"
          ],
          [
           "barbershop"
          ],
          [
           "bard"
          ],
          [
           "barnmusik"
          ],
          [
           "barockinterpreten"
          ],
          [
           "baroque"
          ],
          [
           "baroque brass"
          ],
          [
           "baroque ensemble"
          ],
          [
           "baroque pop"
          ],
          [
           "baroque singing"
          ],
          [
           "baroque violin"
          ],
          [
           "baroque woodwind"
          ],
          [
           "bass house"
          ],
          [
           "bass music"
          ],
          [
           "bass trap"
          ],
          [
           "basshall"
          ],
          [
           "bassline"
          ],
          [
           "bath indie"
          ],
          [
           "baton rouge indie"
          ],
          [
           "baton rouge rap"
          ],
          [
           "battle rap"
          ],
          [
           "bay area hip hop"
          ],
          [
           "bay area indie"
          ],
          [
           "bboy"
          ],
          [
           "bc underground hip hop"
          ],
          [
           "beach music"
          ],
          [
           "beat italiano"
          ],
          [
           "beat poetry"
          ],
          [
           "beatboxing"
          ],
          [
           "beatlesque"
          ],
          [
           "bebop"
          ],
          [
           "bedroom pop"
          ],
          [
           "bedroom soul"
          ],
          [
           "belarusian indie"
          ],
          [
           "belarusian pop"
          ],
          [
           "belarusian rock"
          ],
          [
           "belgian classical piano"
          ],
          [
           "belgian contemporary classical"
          ],
          [
           "belgian dance"
          ],
          [
           "belgian edm"
          ],
          [
           "belgian hardcore"
          ],
          [
           "belgian indie"
          ],
          [
           "belgian indie rock"
          ],
          [
           "belgian jazz"
          ],
          [
           "belgian new wave"
          ],
          [
           "belgian pop"
          ],
          [
           "belgian rock"
          ],
          [
           "belgian singer-songwriter"
          ],
          [
           "belgian techno"
          ],
          [
           "belly dance"
          ],
          [
           "bengali folk"
          ],
          [
           "beninese pop"
          ],
          [
           "bergen indie"
          ],
          [
           "berlin minimal techno"
          ],
          [
           "berlin school"
          ],
          [
           "bhajan"
          ],
          [
           "bhangra"
          ],
          [
           "bible"
          ],
          [
           "big band"
          ],
          [
           "big beat"
          ],
          [
           "big room"
          ],
          [
           "binaural"
          ],
          [
           "birdsong"
          ],
          [
           "birmingham grime"
          ],
          [
           "birmingham hip hop"
          ],
          [
           "birmingham metal"
          ],
          [
           "bitpop"
          ],
          [
           "black 'n' roll"
          ],
          [
           "black comedy"
          ],
          [
           "black metal"
          ],
          [
           "black punk"
          ],
          [
           "black thrash"
          ],
          [
           "blackened crust"
          ],
          [
           "blackgaze"
          ],
          [
           "bleep techno"
          ],
          [
           "bluegrass"
          ],
          [
           "bluegrass fiddle"
          ],
          [
           "bluegrass gospel"
          ],
          [
           "blues"
          ],
          [
           "blues latinoamericano"
          ],
          [
           "blues mexicano"
          ],
          [
           "blues rock"
          ],
          [
           "bmore"
          ],
          [
           "bolero"
          ],
          [
           "bolero cubano"
          ],
          [
           "boogaloo"
          ],
          [
           "boogie"
          ],
          [
           "boogie-woogie"
          ],
          [
           "boom bap"
          ],
          [
           "boom bap brasileiro"
          ],
          [
           "bossa nova"
          ],
          [
           "bossa nova jazz"
          ],
          [
           "boston folk"
          ],
          [
           "boston hardcore"
          ],
          [
           "boston hip hop"
          ],
          [
           "boston indie"
          ],
          [
           "boston metal"
          ],
          [
           "boston punk"
          ],
          [
           "boston rock"
          ],
          [
           "bounce"
          ],
          [
           "bouncy house"
          ],
          [
           "bouzouki"
          ],
          [
           "bow pop"
          ],
          [
           "boy band"
          ],
          [
           "boy pop"
          ],
          [
           "boy soprano"
          ],
          [
           "brain waves"
          ],
          [
           "braindance"
          ],
          [
           "brass band"
          ],
          [
           "brass ensemble"
          ],
          [
           "brass quintet"
          ],
          [
           "brazilian boogie"
          ],
          [
           "brazilian classical"
          ],
          [
           "brazilian classical piano"
          ],
          [
           "brazilian contemporary classical"
          ],
          [
           "brazilian edm"
          ],
          [
           "brazilian groove metal"
          ],
          [
           "brazilian hip hop"
          ],
          [
           "brazilian indie"
          ],
          [
           "brazilian jazz"
          ],
          [
           "brazilian metal"
          ],
          [
           "brazilian modern jazz"
          ],
          [
           "brazilian percussion"
          ],
          [
           "brazilian punk"
          ],
          [
           "brazilian reggae"
          ],
          [
           "brazilian rock"
          ],
          [
           "brazilian ska"
          ],
          [
           "brazilian soul"
          ],
          [
           "brazilian thrash metal"
          ],
          [
           "breakbeat"
          ],
          [
           "breakcore"
          ],
          [
           "brega"
          ],
          [
           "breton folk"
          ],
          [
           "brighton indie"
          ],
          [
           "brill building pop"
          ],
          [
           "brisbane indie"
          ],
          [
           "bristol electronic"
          ],
          [
           "bristol indie"
          ],
          [
           "brit funk"
          ],
          [
           "british alternative rock"
          ],
          [
           "british black metal"
          ],
          [
           "british blues"
          ],
          [
           "british children's music"
          ],
          [
           "british choir"
          ],
          [
           "british classical piano"
          ],
          [
           "british comedy"
          ],
          [
           "british contemporary classical"
          ],
          [
           "british dance band"
          ],
          [
           "british death metal"
          ],
          [
           "british experimental"
          ],
          [
           "british folk"
          ],
          [
           "british grindcore"
          ],
          [
           "british indie rock"
          ],
          [
           "british industrial"
          ],
          [
           "british invasion"
          ],
          [
           "british jazz"
          ],
          [
           "british modern classical"
          ],
          [
           "british orchestra"
          ],
          [
           "british post-rock"
          ],
          [
           "british power metal"
          ],
          [
           "british singer-songwriter"
          ],
          [
           "british soul"
          ],
          [
           "british soundtrack"
          ],
          [
           "britpop"
          ],
          [
           "broadway"
          ],
          [
           "broken beat"
          ],
          [
           "bronx hip hop"
          ],
          [
           "brooklyn drill"
          ],
          [
           "brooklyn indie"
          ],
          [
           "brostep"
          ],
          [
           "brutal death metal"
          ],
          [
           "brutal deathcore"
          ],
          [
           "bubble trance"
          ],
          [
           "bubblegrunge"
          ],
          [
           "bubblegum dance"
          ],
          [
           "bubblegum pop"
          ],
          [
           "buffalo hip hop"
          ],
          [
           "buffalo ny indie"
          ],
          [
           "buffalo ny metal"
          ],
          [
           "bulgarian experimental"
          ],
          [
           "burmese traditional"
          ],
          [
           "bush ballad"
          ],
          [
           "c-pop"
          ],
          [
           "c86"
          ],
          [
           "cabaret"
          ],
          [
           "cajun"
          ],
          [
           "calgary indie"
          ],
          [
           "cali rap"
          ],
          [
           "calming instrumental"
          ],
          [
           "calypso"
          ],
          [
           "cambodian rock"
          ],
          [
           "cambridge choir"
          ],
          [
           "cambridgeshire indie"
          ],
          [
           "cameroonian pop"
          ],
          [
           "canadian americana"
          ],
          [
           "canadian blues"
          ],
          [
           "canadian ccm"
          ],
          [
           "canadian celtic"
          ],
          [
           "canadian children's music"
          ],
          [
           "canadian choir"
          ],
          [
           "canadian classical"
          ],
          [
           "canadian classical piano"
          ],
          [
           "canadian comedy"
          ],
          [
           "canadian contemporary country"
          ],
          [
           "canadian contemporary r&b"
          ],
          [
           "canadian country"
          ],
          [
           "canadian electronic"
          ],
          [
           "canadian electropop"
          ],
          [
           "canadian experimental"
          ],
          [
           "canadian folk"
          ],
          [
           "canadian hardcore"
          ],
          [
           "canadian hip hop"
          ],
          [
           "canadian house"
          ],
          [
           "canadian indie"
          ],
          [
           "canadian indie folk"
          ],
          [
           "canadian indigenous"
          ],
          [
           "canadian indigenous hip hop"
          ],
          [
           "canadian latin"
          ],
          [
           "canadian metal"
          ],
          [
           "canadian metalcore"
          ],
          [
           "canadian modern jazz"
          ],
          [
           "canadian pop"
          ],
          [
           "canadian pop punk"
          ],
          [
           "canadian post-hardcore"
          ],
          [
           "canadian post-rock"
          ],
          [
           "canadian psychedelic"
          ],
          [
           "canadian punk"
          ],
          [
           "canadian rock"
          ],
          [
           "canadian rockabilly"
          ],
          [
           "canadian singer-songwriter"
          ],
          [
           "canadian soundtrack"
          ],
          [
           "cancion melodica"
          ],
          [
           "candy pop"
          ],
          [
           "cantautor"
          ],
          [
           "cante flamenco"
          ],
          [
           "canterbury scene"
          ],
          [
           "canto popular uruguayo"
          ],
          [
           "cantopop"
          ],
          [
           "canzone d'autore"
          ],
          [
           "canzone genovese"
          ],
          [
           "canzone napoletana"
          ],
          [
           "cape town indie"
          ],
          [
           "cape verdean folk"
          ],
          [
           "capoeira"
          ],
          [
           "caracas indie"
          ],
          [
           "carnatic"
          ],
          [
           "carnatic instrumental"
          ],
          [
           "carnatic vocal"
          ],
          [
           "cartoon"
          ],
          [
           "cathedral choir"
          ],
          [
           "caucasian classical"
          ],
          [
           "caucasian classical piano"
          ],
          [
           "ccm"
          ],
          [
           "cedm"
          ],
          [
           "cello"
          ],
          [
           "celtic"
          ],
          [
           "celtic harp"
          ],
          [
           "celtic metal"
          ],
          [
           "celtic punk"
          ],
          [
           "celtic rock"
          ],
          [
           "cha-cha-cha"
          ],
          [
           "chakra"
          ],
          [
           "chamame"
          ],
          [
           "chamber choir"
          ],
          [
           "chamber ensemble"
          ],
          [
           "chamber folk"
          ],
          [
           "chamber orchestra"
          ],
          [
           "chamber pop"
          ],
          [
           "chamber psych"
          ],
          [
           "champeta"
          ],
          [
           "channel islands indie"
          ],
          [
           "channel pop"
          ],
          [
           "chanson"
          ],
          [
           "chanson paillarde"
          ],
          [
           "chaotic hardcore"
          ],
          [
           "charanga"
          ],
          [
           "charango"
          ],
          [
           "charlotte nc indie"
          ],
          [
           "charlottesville indie"
          ],
          [
           "chattanooga indie"
          ],
          [
           "chicago blues"
          ],
          [
           "chicago drill"
          ],
          [
           "chicago hardcore"
          ],
          [
           "chicago house"
          ],
          [
           "chicago indie"
          ],
          [
           "chicago pop punk"
          ],
          [
           "chicago punk"
          ],
          [
           "chicago rap"
          ],
          [
           "chicago soul"
          ],
          [
           "chicano punk"
          ],
          [
           "chicano rap"
          ],
          [
           "chicha"
          ],
          [
           "chihuahua indie"
          ],
          [
           "children's choir"
          ],
          [
           "children's folk"
          ],
          [
           "children's music"
          ],
          [
           "children's story"
          ],
          [
           "chilean hardcore"
          ],
          [
           "chilean indie"
          ],
          [
           "chilean rock"
          ],
          [
           "chilena"
          ],
          [
           "chill beats"
          ],
          [
           "chill guitar"
          ],
          [
           "chill lounge"
          ],
          [
           "chill out"
          ],
          [
           "chill pop"
          ],
          [
           "chill r&b"
          ],
          [
           "chillhop"
          ],
          [
           "chillstep"
          ],
          [
           "chillwave"
          ],
          [
           "chinese audiophile"
          ],
          [
           "chinese classical"
          ],
          [
           "chinese classical performance"
          ],
          [
           "chinese classical piano"
          ],
          [
           "chinese electropop"
          ],
          [
           "chinese hip hop"
          ],
          [
           "chinese idol pop"
          ],
          [
           "chinese indie"
          ],
          [
           "chinese indie rock"
          ],
          [
           "chinese instrumental"
          ],
          [
           "chinese jazz"
          ],
          [
           "chinese r&b"
          ],
          [
           "chinese soundtrack"
          ],
          [
           "chinese traditional"
          ],
          [
           "chiptune"
          ],
          [
           "chopped and screwed"
          ],
          [
           "choral"
          ],
          [
           "choro"
          ],
          [
           "christchurch indie"
          ],
          [
           "christelijk"
          ],
          [
           "christian a cappella"
          ],
          [
           "christian alternative rock"
          ],
          [
           "christian dance"
          ],
          [
           "christian hard rock"
          ],
          [
           "christian hardcore"
          ],
          [
           "christian hip hop"
          ],
          [
           "christian indie"
          ],
          [
           "christian metal"
          ],
          [
           "christian metalcore"
          ],
          [
           "christian music"
          ],
          [
           "christian pop"
          ],
          [
           "christian power metal"
          ],
          [
           "christian punk"
          ],
          [
           "christian relaxative"
          ],
          [
           "christian rock"
          ],
          [
           "christian trap"
          ],
          [
           "christian uplift"
          ],
          [
           "christmas instrumental"
          ],
          [
           "christmas product"
          ],
          [
           "chunchaca"
          ],
          [
           "chutney"
          ],
          [
           "cincinnati rap"
          ],
          [
           "cinematic post-rock"
          ],
          [
           "circuit"
          ],
          [
           "circus"
          ],
          [
           "classic afrobeat"
          ],
          [
           "classic arab pop"
          ],
          [
           "classic australian country"
          ],
          [
           "classic belgian pop"
          ],
          [
           "classic bhangra"
          ],
          [
           "classic bollywood"
          ],
          [
           "classic canadian rock"
          ],
          [
           "classic cantopop"
          ],
          [
           "classic colombian pop"
          ],
          [
           "classic country pop"
          ],
          [
           "classic czech pop"
          ],
          [
           "classic danish pop"
          ],
          [
           "classic dubstep"
          ],
          [
           "classic eurovision"
          ],
          [
           "classic finnish pop"
          ],
          [
           "classic french pop"
          ],
          [
           "classic garage rock"
          ],
          [
           "classic girl group"
          ],
          [
           "classic greek pop"
          ],
          [
           "classic hardstyle"
          ],
          [
           "classic icelandic pop"
          ],
          [
           "classic indo pop"
          ],
          [
           "classic iskelma"
          ],
          [
           "classic israeli pop"
          ],
          [
           "classic italian folk pop"
          ],
          [
           "classic italian pop"
          ],
          [
           "classic j-rock"
          ],
          [
           "classic japanese jazz"
          ],
          [
           "classic korean pop"
          ],
          [
           "classic latvian pop"
          ],
          [
           "classic mandopop"
          ],
          [
           "classic norwegian pop"
          ],
          [
           "classic opm"
          ],
          [
           "classic pakistani pop"
          ],
          [
           "classic persian pop"
          ],
          [
           "classic peruvian pop"
          ],
          [
           "classic polish pop"
          ],
          [
           "classic praise"
          ],
          [
           "classic psychedelic rock"
          ],
          [
           "classic punjabi pop"
          ],
          [
           "classic rock"
          ],
          [
           "classic russian pop"
          ],
          [
           "classic russian rock"
          ],
          [
           "classic schlager"
          ],
          [
           "classic soul"
          ],
          [
           "classic soundtrack"
          ],
          [
           "classic swedish pop"
          ],
          [
           "classic thai pop"
          ],
          [
           "classic tunisian pop"
          ],
          [
           "classic turkish pop"
          ],
          [
           "classic uk pop"
          ],
          [
           "classic venezuelan pop"
          ],
          [
           "classical"
          ],
          [
           "classical accordion"
          ],
          [
           "classical baritone"
          ],
          [
           "classical bass"
          ],
          [
           "classical cello"
          ],
          [
           "classical clarinet"
          ],
          [
           "classical contralto"
          ],
          [
           "classical countertenor"
          ],
          [
           "classical era"
          ],
          [
           "classical flute"
          ],
          [
           "classical guitar"
          ],
          [
           "classical harp"
          ],
          [
           "classical horn"
          ],
          [
           "classical mandolin"
          ],
          [
           "classical mezzo-soprano"
          ],
          [
           "classical oboe"
          ],
          [
           "classical organ"
          ],
          [
           "classical performance"
          ],
          [
           "classical piano"
          ],
          [
           "classical piano duo"
          ],
          [
           "classical piano trio"
          ],
          [
           "classical saxophone"
          ],
          [
           "classical soprano"
          ],
          [
           "classical tenor"
          ],
          [
           "classical trumpet"
          ],
          [
           "classify"
          ],
          [
           "clawhammer banjo"
          ],
          [
           "clean comedy"
          ],
          [
           "cleveland metal"
          ],
          [
           "coco"
          ],
          [
           "collage pop"
          ],
          [
           "college a cappella"
          ],
          [
           "colombian hip hop"
          ],
          [
           "colombian pop"
          ],
          [
           "colombian rock"
          ],
          [
           "columbus ohio indie"
          ],
          [
           "comedy"
          ],
          [
           "comedy rap"
          ],
          [
           "comedy rock"
          ],
          [
           "comic"
          ],
          [
           "comic metal"
          ],
          [
           "commons"
          ],
          [
           "complextro"
          ],
          [
           "compositional ambient"
          ],
          [
           "concepcion indie"
          ],
          [
           "concert band"
          ],
          [
           "connecticut hardcore"
          ],
          [
           "connecticut indie"
          ],
          [
           "conscious hip hop"
          ],
          [
           "contemporary choir"
          ],
          [
           "contemporary classical"
          ],
          [
           "contemporary classical piano"
          ],
          [
           "contemporary country"
          ],
          [
           "contemporary folk"
          ],
          [
           "contemporary gospel"
          ],
          [
           "contemporary jazz"
          ],
          [
           "contemporary post-bop"
          ],
          [
           "contemporary vocal jazz"
          ],
          [
           "contrabass"
          ],
          [
           "cool jazz"
          ],
          [
           "copla"
          ],
          [
           "cornish folk"
          ],
          [
           "cornwall indie"
          ],
          [
           "corrido"
          ],
          [
           "corridos cristianos"
          ],
          [
           "corridos tumbados"
          ],
          [
           "corrosion"
          ],
          [
           "cosmic american"
          ],
          [
           "cosmic post-rock"
          ],
          [
           "country"
          ],
          [
           "country blues"
          ],
          [
           "country boogie"
          ],
          [
           "country dawn"
          ],
          [
           "country gospel"
          ],
          [
           "country pop"
          ],
          [
           "country rap"
          ],
          [
           "country road"
          ],
          [
           "country rock"
          ],
          [
           "coverchill"
          ],
          [
           "cowboy western"
          ],
          [
           "cowpunk"
          ],
          [
           "crack rock steady"
          ],
          [
           "croatian folk"
          ],
          [
           "croatian pop"
          ],
          [
           "croatian rock"
          ],
          [
           "crossover thrash"
          ],
          [
           "crunk"
          ],
          [
           "crust punk"
          ],
          [
           "cuarteto"
          ],
          [
           "cuatro venezolano"
          ],
          [
           "cuban alternative"
          ],
          [
           "cuban rumba"
          ],
          [
           "cubaton"
          ],
          [
           "cumbia"
          ],
          [
           "cumbia andina mexicana"
          ],
          [
           "cumbia chilena"
          ],
          [
           "cumbia colombiana regia"
          ],
          [
           "cumbia ecuatoriana"
          ],
          [
           "cumbia funk"
          ],
          [
           "cumbia lagunera"
          ],
          [
           "cumbia paraguaya"
          ],
          [
           "cumbia peruana"
          ],
          [
           "cumbia pop"
          ],
          [
           "cumbia ranchera"
          ],
          [
           "cumbia salvadorena"
          ],
          [
           "cumbia santafesina"
          ],
          [
           "cumbia sonidera"
          ],
          [
           "cumbia villera"
          ],
          [
           "cyberpunk"
          ],
          [
           "cymraeg"
          ],
          [
           "cypriot pop"
          ],
          [
           "czech classical"
          ],
          [
           "czech classical piano"
          ],
          [
           "czech contemporary classical"
          ],
          [
           "d-beat"
          ],
          [
           "dabke"
          ],
          [
           "dakke dak"
          ],
          [
           "dallas indie"
          ],
          [
           "dance pop"
          ],
          [
           "dance rock"
          ],
          [
           "dance-punk"
          ],
          [
           "dancehall"
          ],
          [
           "dangdut"
          ],
          [
           "danish alternative rock"
          ],
          [
           "danish classical"
          ],
          [
           "danish electronic"
          ],
          [
           "danish electropop"
          ],
          [
           "danish hip hop"
          ],
          [
           "danish jazz"
          ],
          [
           "danish metal"
          ],
          [
           "danish pop"
          ],
          [
           "danish pop rock"
          ],
          [
           "danish post-punk"
          ],
          [
           "danish punk"
          ],
          [
           "danish rock"
          ],
          [
           "danish singer-songwriter"
          ],
          [
           "dansband"
          ],
          [
           "danseband"
          ],
          [
           "dansktop"
          ],
          [
           "danspunk"
          ],
          [
           "dark cabaret"
          ],
          [
           "dark clubbing"
          ],
          [
           "dark disco"
          ],
          [
           "dark hardcore"
          ],
          [
           "dark jazz"
          ],
          [
           "dark minimal techno"
          ],
          [
           "dark post-punk"
          ],
          [
           "dark techno"
          ],
          [
           "dark trap"
          ],
          [
           "dark wave"
          ],
          [
           "darksynth"
          ],
          [
           "dayton indie"
          ],
          [
           "dc hardcore"
          ],
          [
           "dc indie"
          ],
          [
           "death 'n' roll"
          ],
          [
           "death metal"
          ],
          [
           "deathcore"
          ],
          [
           "deathgrass"
          ],
          [
           "deathgrind"
          ],
          [
           "deathrash"
          ],
          [
           "deathrock"
          ],
          [
           "deathstep"
          ],
          [
           "deep acoustic pop"
          ],
          [
           "deep adult standards"
          ],
          [
           "deep big room"
          ],
          [
           "deep ccm"
          ],
          [
           "deep christian rock"
          ],
          [
           "deep classic garage rock"
          ],
          [
           "deep comedy"
          ],
          [
           "deep contemporary country"
          ],
          [
           "deep dance pop"
          ],
          [
           "deep delta blues"
          ],
          [
           "deep disco"
          ],
          [
           "deep disco house"
          ],
          [
           "deep dnb"
          ],
          [
           "deep east coast hip hop"
          ],
          [
           "deep euro house"
          ],
          [
           "deep flow"
          ],
          [
           "deep free jazz"
          ],
          [
           "deep freestyle"
          ],
          [
           "deep full on"
          ],
          [
           "deep funk"
          ],
          [
           "deep g funk"
          ],
          [
           "deep gothic post-punk"
          ],
          [
           "deep groove house"
          ],
          [
           "deep house"
          ],
          [
           "deep idm"
          ],
          [
           "deep indian pop"
          ],
          [
           "deep indie singer-songwriter"
          ],
          [
           "deep latin alternative"
          ],
          [
           "deep latin christian"
          ],
          [
           "deep melodic metalcore"
          ],
          [
           "deep minimal techno"
          ],
          [
           "deep motown"
          ],
          [
           "deep new americana"
          ],
          [
           "deep new wave"
          ],
          [
           "deep norteno"
          ],
          [
           "deep northern soul"
          ],
          [
           "deep pop edm"
          ],
          [
           "deep progressive house"
          ],
          [
           "deep psychobilly"
          ],
          [
           "deep punk rock"
          ],
          [
           "deep r&b"
          ],
          [
           "deep ragga"
          ],
          [
           "deep regional mexican"
          ],
          [
           "deep smooth jazz"
          ],
          [
           "deep soft rock"
          ],
          [
           "deep soul house"
          ],
          [
           "deep soundtrack"
          ],
          [
           "deep southern soul"
          ],
          [
           "deep southern trap"
          ],
          [
           "deep space rock"
          ],
          [
           "deep talent show"
          ],
          [
           "deep tech house"
          ],
          [
           "deep techno"
          ],
          [
           "deep tropical house"
          ],
          [
           "deep underground hip hop"
          ],
          [
           "deep uplifting trance"
          ],
          [
           "delta blues"
          ],
          [
           "dembow"
          ],
          [
           "denpa-kei"
          ],
          [
           "denton tx indie"
          ],
          [
           "denver indie"
          ],
          [
           "depressive black metal"
          ],
          [
           "derby indie"
          ],
          [
           "desert blues"
          ],
          [
           "desi hip hop"
          ],
          [
           "desi pop"
          ],
          [
           "destroy techno"
          ],
          [
           "detroit hip hop"
          ],
          [
           "detroit house"
          ],
          [
           "detroit techno"
          ],
          [
           "detroit trap"
          ],
          [
           "detske pisnicky"
          ],
          [
           "detskie pesni"
          ],
          [
           "devon indie"
          ],
          [
           "dfw rap"
          ],
          [
           "dhrupad"
          ],
          [
           "digital hardcore"
          ],
          [
           "dinner jazz"
          ],
          [
           "dirty south rap"
          ],
          [
           "dirty texas rap"
          ],
          [
           "disco"
          ],
          [
           "disco house"
          ],
          [
           "disney"
          ],
          [
           "diva house"
          ],
          [
           "dixieland"
          ],
          [
           "diy emo"
          ],
          [
           "djent"
          ],
          [
           "dmv rap"
          ],
          [
           "dominican pop"
          ],
          [
           "dong-yo"
          ],
          [
           "doo-wop"
          ],
          [
           "doom metal"
          ],
          [
           "double drumming"
          ],
          [
           "downtempo"
          ],
          [
           "drama"
          ],
          [
           "dream pop"
          ],
          [
           "dream trance"
          ],
          [
           "dreamgaze"
          ],
          [
           "dreamo"
          ],
          [
           "drift"
          ],
          [
           "drill"
          ],
          [
           "drill and bass"
          ],
          [
           "drone"
          ],
          [
           "drone folk"
          ],
          [
           "drone metal"
          ],
          [
           "drum and bass"
          ],
          [
           "dub"
          ],
          [
           "dub metal"
          ],
          [
           "dub poetry"
          ],
          [
           "dub techno"
          ],
          [
           "dubstep"
          ],
          [
           "dubsteppe"
          ],
          [
           "duduk"
          ],
          [
           "duluth indie"
          ],
          [
           "dunedin indie"
          ],
          [
           "dunedin sound"
          ],
          [
           "dungeon synth"
          ],
          [
           "duranguense"
          ],
          [
           "dusseldorf electronic"
          ],
          [
           "dutch blues"
          ],
          [
           "dutch cabaret"
          ],
          [
           "dutch classical piano"
          ],
          [
           "dutch death metal"
          ],
          [
           "dutch dnb"
          ],
          [
           "dutch edm"
          ],
          [
           "dutch folk"
          ],
          [
           "dutch hip hop"
          ],
          [
           "dutch house"
          ],
          [
           "dutch indie"
          ],
          [
           "dutch jazz"
          ],
          [
           "dutch metal"
          ],
          [
           "dutch pop"
          ],
          [
           "dutch prog"
          ],
          [
           "dutch rap pop"
          ],
          [
           "dutch rock"
          ],
          [
           "dutch trance"
          ],
          [
           "e6fi"
          ],
          [
           "early american folk"
          ],
          [
           "early avant garde"
          ],
          [
           "early modern classical"
          ],
          [
           "early music"
          ],
          [
           "early music choir"
          ],
          [
           "early music ensemble"
          ],
          [
           "early reggae"
          ],
          [
           "early romantic era"
          ],
          [
           "early synthpop"
          ],
          [
           "early us punk"
          ],
          [
           "east coast hip hop"
          ],
          [
           "east coast reggae"
          ],
          [
           "eastern bloc groove"
          ],
          [
           "easy listening"
          ],
          [
           "easycore"
          ],
          [
           "eau claire indie"
          ],
          [
           "ebm"
          ],
          [
           "ecm-style jazz"
          ],
          [
           "ectofolk"
          ],
          [
           "ecuadorian pop"
          ],
          [
           "edm"
          ],
          [
           "edmonton indie"
          ],
          [
           "egyptian pop"
          ],
          [
           "egyptian traditional"
          ],
          [
           "el paso indie"
          ],
          [
           "electra"
          ],
          [
           "electric bass"
          ],
          [
           "electric blues"
          ],
          [
           "electro"
          ],
          [
           "electro house"
          ],
          [
           "electro jazz"
          ],
          [
           "electro latino"
          ],
          [
           "electro swing"
          ],
          [
           "electro-industrial"
          ],
          [
           "electro-pop francais"
          ],
          [
           "electroclash"
          ],
          [
           "electrofox"
          ],
          [
           "electronic djent"
          ],
          [
           "electronic rock"
          ],
          [
           "electronic trap"
          ],
          [
           "electronica"
          ],
          [
           "electronica argentina"
          ],
          [
           "electropop"
          ],
          [
           "electropowerpop"
          ],
          [
           "emo"
          ],
          [
           "emo mexicano"
          ],
          [
           "emo punk"
          ],
          [
           "emo rap"
          ],
          [
           "emocore"
          ],
          [
           "english baroque"
          ],
          [
           "english indie rock"
          ],
          [
           "english renaissance"
          ],
          [
           "enka"
          ],
          [
           "entehno"
          ],
          [
           "environmental"
          ],
          [
           "epic doom"
          ],
          [
           "epicore"
          ],
          [
           "erhu"
          ],
          [
           "escape room"
          ],
          [
           "esperanto"
          ],
          [
           "essex indie"
          ],
          [
           "estonian hip hop"
          ],
          [
           "estonian pop"
          ],
          [
           "ethereal wave"
          ],
          [
           "etherpop"
          ],
          [
           "ethio-jazz"
          ],
          [
           "ethiopian pop"
          ],
          [
           "ethnomusicology"
          ],
          [
           "ethnotronica"
          ],
          [
           "eugene indie"
          ],
          [
           "euphoric hardstyle"
          ],
          [
           "eurobeat"
          ],
          [
           "eurodance"
          ],
          [
           "europop"
          ],
          [
           "euroska"
          ],
          [
           "eurovision"
          ],
          [
           "exotica"
          ],
          [
           "experimental"
          ],
          [
           "experimental ambient"
          ],
          [
           "experimental big band"
          ],
          [
           "experimental dub"
          ],
          [
           "experimental folk"
          ],
          [
           "experimental guitar"
          ],
          [
           "experimental hip hop"
          ],
          [
           "experimental house"
          ],
          [
           "experimental indie"
          ],
          [
           "experimental jazz"
          ],
          [
           "experimental pop"
          ],
          [
           "experimental rock"
          ],
          [
           "experimental vocal"
          ],
          [
           "fado"
          ],
          [
           "family gospel"
          ],
          [
           "faroese pop"
          ],
          [
           "fast melodic punk"
          ],
          [
           "fidget house"
          ],
          [
           "filmi"
          ],
          [
           "filter house"
          ],
          [
           "filthstep"
          ],
          [
           "final fantasy"
          ],
          [
           "fingerstyle"
          ],
          [
           "finnish alternative rock"
          ],
          [
           "finnish classical"
          ],
          [
           "finnish contemporary classical"
          ],
          [
           "finnish death metal"
          ],
          [
           "finnish edm"
          ],
          [
           "finnish hard rock"
          ],
          [
           "finnish heavy metal"
          ],
          [
           "finnish metal"
          ],
          [
           "finnish power metal"
          ],
          [
           "finnish soul"
          ],
          [
           "flamenco"
          ],
          [
           "flamenco guitar"
          ],
          [
           "flick hop"
          ],
          [
           "flint hip hop"
          ],
          [
           "float house"
          ],
          [
           "florida death metal"
          ],
          [
           "florida rap"
          ],
          [
           "fluxwork"
          ],
          [
           "fo jing"
          ],
          [
           "focus"
          ],
          [
           "focus beats"
          ],
          [
           "focus trance"
          ],
          [
           "folclor afrocolombiano"
          ],
          [
           "folclor colombiano"
          ],
          [
           "folclore extremeno"
          ],
          [
           "folclore jujeno"
          ],
          [
           "folclore navarra"
          ],
          [
           "folclore salteno"
          ],
          [
           "folclore tucumano"
          ],
          [
           "folk"
          ],
          [
           "folk metal"
          ],
          [
           "folk punk"
          ],
          [
           "folk rock"
          ],
          [
           "folk rock italiano"
          ],
          [
           "folk-pop"
          ],
          [
           "folklore argentino"
          ],
          [
           "folklore boliviano"
          ],
          [
           "folklore chileno"
          ],
          [
           "folklore ecuatoriano"
          ],
          [
           "folklore peruano"
          ],
          [
           "folklore venezolano"
          ],
          [
           "folklore veracruzano"
          ],
          [
           "folkmusik"
          ],
          [
           "folktronica"
          ],
          [
           "footwork"
          ],
          [
           "forro"
          ],
          [
           "forro tradicional"
          ],
          [
           "fort worth indie"
          ],
          [
           "fourth world"
          ],
          [
           "francoton"
          ],
          [
           "freak folk"
          ],
          [
           "freakbeat"
          ],
          [
           "free folk"
          ],
          [
           "free improvisation"
          ],
          [
           "free jazz"
          ],
          [
           "freestyle"
          ],
          [
           "french baroque"
          ],
          [
           "french classical piano"
          ],
          [
           "french contemporary classical"
          ],
          [
           "french death metal"
          ],
          [
           "french dnb"
          ],
          [
           "french hip hop"
          ],
          [
           "french indie folk"
          ],
          [
           "french indie pop"
          ],
          [
           "french indietronica"
          ],
          [
           "french jazz"
          ],
          [
           "french metal"
          ],
          [
           "french movie tunes"
          ],
          [
           "french opera"
          ],
          [
           "french orchestra"
          ],
          [
           "french pop"
          ],
          [
           "french post-punk"
          ],
          [
           "french psychedelic"
          ],
          [
           "french reggae"
          ],
          [
           "french rock"
          ],
          [
           "french romanticism"
          ],
          [
           "french shoegaze"
          ],
          [
           "french soundtrack"
          ],
          [
           "french synthpop"
          ],
          [
           "french techno"
          ],
          [
           "frenchcore"
          ],
          [
           "full on"
          ],
          [
           "funana"
          ],
          [
           "funeral doom"
          ],
          [
           "funk"
          ],
          [
           "funk 150 bpm"
          ],
          [
           "funk carioca"
          ],
          [
           "funk das antigas"
          ],
          [
           "funk metal"
          ],
          [
           "funk mexicano"
          ],
          [
           "funk ostentacao"
          ],
          [
           "funk paulista"
          ],
          [
           "funk pop"
          ],
          [
           "funk rock"
          ],
          [
           "funky breaks"
          ],
          [
           "funky tech house"
          ],
          [
           "future bass"
          ],
          [
           "future funk"
          ],
          [
           "future garage"
          ],
          [
           "future house"
          ],
          [
           "future rock"
          ],
          [
           "futurepop"
          ],
          [
           "g funk"
          ],
          [
           "gabba"
          ],
          [
           "gabonese pop"
          ],
          [
           "gaian doom"
          ],
          [
           "gainesville indie"
          ],
          [
           "gaita zuliana"
          ],
          [
           "galante era"
          ],
          [
           "gamelan"
          ],
          [
           "gaming dubstep"
          ],
          [
           "gaming edm"
          ],
          [
           "gangster rap"
          ],
          [
           "garage house"
          ],
          [
           "garage pop"
          ],
          [
           "garage psych"
          ],
          [
           "garage punk"
          ],
          [
           "garage punk blues"
          ],
          [
           "garage rock"
          ],
          [
           "garage rock revival"
          ],
          [
           "gauze pop"
          ],
          [
           "gbvfi"
          ],
          [
           "geek folk"
          ],
          [
           "geek rock"
          ],
          [
           "georgian folk"
          ],
          [
           "german alternative rock"
          ],
          [
           "german baroque"
          ],
          [
           "german choir"
          ],
          [
           "german classical piano"
          ],
          [
           "german country"
          ],
          [
           "german dance"
          ],
          [
           "german hard rock"
          ],
          [
           "german heavy metal"
          ],
          [
           "german house"
          ],
          [
           "german indie"
          ],
          [
           "german jazz"
          ],
          [
           "german literature"
          ],
          [
           "german metal"
          ],
          [
           "german oi"
          ],
          [
           "german opera"
          ],
          [
           "german orchestra"
          ],
          [
           "german pop"
          ],
          [
           "german pop rock"
          ],
          [
           "german post-hardcore"
          ],
          [
           "german power metal"
          ],
          [
           "german punk"
          ],
          [
           "german renaissance"
          ],
          [
           "german rock"
          ],
          [
           "german romanticism"
          ],
          [
           "german show tunes"
          ],
          [
           "german soundtrack"
          ],
          [
           "german techno"
          ],
          [
           "german thrash metal"
          ],
          [
           "german trance"
          ],
          [
           "german underground rap"
          ],
          [
           "ghanaian hip hop"
          ],
          [
           "ghanaian traditional"
          ],
          [
           "ghazal"
          ],
          [
           "ghent indie"
          ],
          [
           "girl group"
          ],
          [
           "glam metal"
          ],
          [
           "glam punk"
          ],
          [
           "glam rock"
          ],
          [
           "glee club"
          ],
          [
           "glitch"
          ],
          [
           "glitch hop"
          ],
          [
           "glitch pop"
          ],
          [
           "glitchcore"
          ],
          [
           "go-go"
          ],
          [
           "goregrind"
          ],
          [
           "gospel"
          ],
          [
           "gospel antigas"
          ],
          [
           "gospel blues"
          ],
          [
           "gospel italiano"
          ],
          [
           "gospel r&b"
          ],
          [
           "gospel rap"
          ],
          [
           "gospel singers"
          ],
          [
           "gospel soul"
          ],
          [
           "gothabilly"
          ],
          [
           "gothenburg indie"
          ],
          [
           "gothenburg metal"
          ],
          [
           "gothic alternative"
          ],
          [
           "gothic americana"
          ],
          [
           "gothic black metal"
          ],
          [
           "gothic metal"
          ],
          [
           "gothic post-punk"
          ],
          [
           "gothic rock"
          ],
          [
           "gothic symphonic metal"
          ],
          [
           "gqom"
          ],
          [
           "grand rapids indie"
          ],
          [
           "grave wave"
          ],
          [
           "greek clarinet"
          ],
          [
           "greek contemporary classical"
          ],
          [
           "greek folk"
          ],
          [
           "greek guitar"
          ],
          [
           "greek house"
          ],
          [
           "greek jazz"
          ],
          [
           "greek pop"
          ],
          [
           "greek swing"
          ],
          [
           "gregorian chant"
          ],
          [
           "grime"
          ],
          [
           "grindcore"
          ],
          [
           "griot"
          ],
          [
           "groove metal"
          ],
          [
           "groove room"
          ],
          [
           "grunge"
          ],
          [
           "grunge pop"
          ],
          [
           "grupera"
          ],
          [
           "gruperas inmortales"
          ],
          [
           "guadalajara indie"
          ],
          [
           "guam indie"
          ],
          [
           "guaracha"
          ],
          [
           "guatemalan pop"
          ],
          [
           "guidance"
          ],
          [
           "guinean pop"
          ],
          [
           "guitarra argentina"
          ],
          [
           "guitarra clasica"
          ],
          [
           "guitarra portuguesa"
          ],
          [
           "gujarati garba"
          ],
          [
           "gujarati pop"
          ],
          [
           "guzheng"
          ],
          [
           "gymcore"
          ],
          [
           "gypsy"
          ],
          [
           "gypsy jazz"
          ],
          [
           "gypsy punk"
          ],
          [
           "haitian traditional"
          ],
          [
           "halifax indie"
          ],
          [
           "halloween"
          ],
          [
           "hamburg electronic"
          ],
          [
           "hammered dulcimer"
          ],
          [
           "hammond organ"
          ],
          [
           "hands up"
          ],
          [
           "hangpan"
          ],
          [
           "happy hardcore"
          ],
          [
           "hard alternative"
          ],
          [
           "hard bop"
          ],
          [
           "hard minimal techno"
          ],
          [
           "hard rock"
          ],
          [
           "hard rock brasileiro"
          ],
          [
           "hardcore"
          ],
          [
           "hardcore hip hop"
          ],
          [
           "hardcore punk"
          ],
          [
           "hardcore techno"
          ],
          [
           "hardstyle"
          ],
          [
           "harlem hip hop"
          ],
          [
           "harlem renaissance"
          ],
          [
           "harmonica blues"
          ],
          [
           "harmonica jazz"
          ],
          [
           "harp"
          ],
          [
           "harpsichord"
          ],
          [
           "haryanvi pop"
          ],
          [
           "hauntology"
          ],
          [
           "hawaiian"
          ],
          [
           "hawaiian hip hop"
          ],
          [
           "hawaiian indie"
          ],
          [
           "healing"
          ],
          [
           "heartland rock"
          ],
          [
           "hi-nrg"
          ],
          [
           "highlife"
          ],
          [
           "hindi hip hop"
          ],
          [
           "hindi indie"
          ],
          [
           "hindustani classical"
          ],
          [
           "hindustani instrumental"
          ],
          [
           "hindustani vocal"
          ],
          [
           "hip hop"
          ],
          [
           "hip hop cubano"
          ],
          [
           "hip house"
          ],
          [
           "hip pop"
          ],
          [
           "hiplife"
          ],
          [
           "histoire pour enfants"
          ],
          [
           "historic classical performance"
          ],
          [
           "historic orchestral performance"
          ],
          [
           "historic piano performance"
          ],
          [
           "historic string quartet"
          ],
          [
           "historical keyboard"
          ],
          [
           "historically informed performance"
          ],
          [
           "hoerspiel"
          ],
          [
           "hokkien pop"
          ],
          [
           "hollywood"
          ],
          [
           "hong kong hip hop"
          ],
          [
           "hong kong indie"
          ],
          [
           "hong kong rock"
          ],
          [
           "honky tonk"
          ],
          [
           "honky-tonk piano"
          ],
          [
           "hopebeat"
          ],
          [
           "horror punk"
          ],
          [
           "horror synth"
          ],
          [
           "horrorcore"
          ],
          [
           "house"
          ],
          [
           "houston rap"
          ],
          [
           "huapango"
          ],
          [
           "huayno"
          ],
          [
           "hula"
          ],
          [
           "humppa"
          ],
          [
           "hungarian choir"
          ],
          [
           "hungarian classical performance"
          ],
          [
           "hungarian classical piano"
          ],
          [
           "hungarian contemporary classical"
          ],
          [
           "hungarian edm"
          ],
          [
           "hungarian folk"
          ],
          [
           "hungarian pop"
          ],
          [
           "hungarian rock"
          ],
          [
           "hungarian techno"
          ],
          [
           "hurdy-gurdy"
          ],
          [
           "hyperpop"
          ],
          [
           "hyphy"
          ],
          [
           "icelandic classical"
          ],
          [
           "icelandic electronic"
          ],
          [
           "icelandic experimental"
          ],
          [
           "icelandic folk"
          ],
          [
           "icelandic indie"
          ],
          [
           "icelandic jazz"
          ],
          [
           "icelandic pop"
          ],
          [
           "icelandic rock"
          ],
          [
           "idaho indie"
          ],
          [
           "idol"
          ],
          [
           "idol rock"
          ],
          [
           "ilahiler"
          ],
          [
           "ilocano pop"
          ],
          [
           "impressionism"
          ],
          [
           "indian classical"
          ],
          [
           "indian edm"
          ],
          [
           "indian folk"
          ],
          [
           "indian fusion"
          ],
          [
           "indian indie"
          ],
          [
           "indian instrumental"
          ],
          [
           "indian jazz"
          ],
          [
           "indiana hip hop"
          ],
          [
           "indie anthem-folk"
          ],
          [
           "indie cafe pop"
          ],
          [
           "indie deutschrap"
          ],
          [
           "indie dream pop"
          ],
          [
           "indie electronica"
          ],
          [
           "indie electropop"
          ],
          [
           "indie folk"
          ],
          [
           "indie game soundtrack"
          ],
          [
           "indie garage rock"
          ],
          [
           "indie hip hop"
          ],
          [
           "indie jazz"
          ],
          [
           "indie pop"
          ],
          [
           "indie pop rap"
          ],
          [
           "indie poptimism"
          ],
          [
           "indie psych-pop"
          ],
          [
           "indie punk"
          ],
          [
           "indie quebecois"
          ],
          [
           "indie r&b"
          ],
          [
           "indie rock"
          ],
          [
           "indie rock mexicano"
          ],
          [
           "indie rockism"
          ],
          [
           "indie shoegaze"
          ],
          [
           "indie singer-songwriter"
          ],
          [
           "indie soul"
          ],
          [
           "indie surf"
          ],
          [
           "indie triste"
          ],
          [
           "indiecoustica"
          ],
          [
           "indietronica"
          ],
          [
           "indonesian hip hop"
          ],
          [
           "indonesian indie"
          ],
          [
           "indonesian pop"
          ],
          [
           "indonesian r&b"
          ],
          [
           "indonesian worship"
          ],
          [
           "industrial"
          ],
          [
           "industrial hardcore"
          ],
          [
           "industrial hip hop"
          ],
          [
           "industrial metal"
          ],
          [
           "industrial rock"
          ],
          [
           "indy indie"
          ],
          [
           "instrumental acoustic guitar"
          ],
          [
           "instrumental bluegrass"
          ],
          [
           "instrumental funk"
          ],
          [
           "instrumental grime"
          ],
          [
           "instrumental math rock"
          ],
          [
           "instrumental post-rock"
          ],
          [
           "instrumental progressive metal"
          ],
          [
           "instrumental rock"
          ],
          [
           "instrumental soul"
          ],
          [
           "instrumental stoner rock"
          ],
          [
           "instrumental surf"
          ],
          [
           "intelligent dance music"
          ],
          [
           "iowa hip hop"
          ],
          [
           "irish accordion"
          ],
          [
           "irish ballad"
          ],
          [
           "irish banjo"
          ],
          [
           "irish classical"
          ],
          [
           "irish country"
          ],
          [
           "irish dance"
          ],
          [
           "irish fiddle"
          ],
          [
           "irish folk"
          ],
          [
           "irish hip hop"
          ],
          [
           "irish indie"
          ],
          [
           "irish metal"
          ],
          [
           "irish pop"
          ],
          [
           "irish pub song"
          ],
          [
           "irish rock"
          ],
          [
           "irish singer-songwriter"
          ],
          [
           "iskelma"
          ],
          [
           "islamic recitation"
          ],
          [
           "isle of wight indie"
          ],
          [
           "israeli classical"
          ],
          [
           "israeli classical piano"
          ],
          [
           "israeli folk"
          ],
          [
           "israeli hip hop"
          ],
          [
           "israeli mediterranean"
          ],
          [
           "israeli pop"
          ],
          [
           "israeli rock"
          ],
          [
           "israeli singer-songwriter"
          ],
          [
           "israeli techno"
          ],
          [
           "italian adult pop"
          ],
          [
           "italian baritone"
          ],
          [
           "italian baroque"
          ],
          [
           "italian baroque ensemble"
          ],
          [
           "italian bass"
          ],
          [
           "italian blues"
          ],
          [
           "italian classical guitar"
          ],
          [
           "italian classical piano"
          ],
          [
           "italian contemporary jazz"
          ],
          [
           "italian disco"
          ],
          [
           "italian gothic"
          ],
          [
           "italian gothic metal"
          ],
          [
           "italian indie pop"
          ],
          [
           "italian jazz"
          ],
          [
           "italian library music"
          ],
          [
           "italian mandolin"
          ],
          [
           "italian metal"
          ],
          [
           "italian mezzo-soprano"
          ],
          [
           "italian modern prog"
          ],
          [
           "italian opera"
          ],
          [
           "italian orchestra"
          ],
          [
           "italian pop rock"
          ],
          [
           "italian power metal"
          ],
          [
           "italian progressive metal"
          ],
          [
           "italian progressive rock"
          ],
          [
           "italian renaissance"
          ],
          [
           "italian romanticism"
          ],
          [
           "italian soprano"
          ],
          [
           "italian soundtrack"
          ],
          [
           "italian techno"
          ],
          [
           "italian tenor"
          ],
          [
           "italian violin"
          ],
          [
           "italo dance"
          ],
          [
           "italo house"
          ],
          [
           "j-acoustic"
          ],
          [
           "j-ambient"
          ],
          [
           "j-dance"
          ],
          [
           "j-division"
          ],
          [
           "j-idol"
          ],
          [
           "j-metal"
          ],
          [
           "j-pixie"
          ],
          [
           "j-pop"
          ],
          [
           "j-pop girl group"
          ],
          [
           "j-poprock"
          ],
          [
           "j-punk"
          ],
          [
           "j-reggae"
          ],
          [
           "j-rock"
          ],
          [
           "jacksonville indie"
          ],
          [
           "jam band"
          ],
          [
           "jamgrass"
          ],
          [
           "jamtronica"
          ],
          [
           "jangle pop"
          ],
          [
           "japanese alternative rock"
          ],
          [
           "japanese chillhop"
          ],
          [
           "japanese city pop"
          ],
          [
           "japanese classical"
          ],
          [
           "japanese classical performance"
          ],
          [
           "japanese classical piano"
          ],
          [
           "japanese concert band"
          ],
          [
           "japanese dream pop"
          ],
          [
           "japanese electronic"
          ],
          [
           "japanese electropop"
          ],
          [
           "japanese emo"
          ],
          [
           "japanese experimental"
          ],
          [
           "japanese folk"
          ],
          [
           "japanese garage rock"
          ],
          [
           "japanese girl punk"
          ],
          [
           "japanese heavy metal"
          ],
          [
           "japanese idm"
          ],
          [
           "japanese indie folk"
          ],
          [
           "japanese indie rock"
          ],
          [
           "japanese instrumental"
          ],
          [
           "japanese jazz"
          ],
          [
           "japanese jazz fusion"
          ],
          [
           "japanese jazztronica"
          ],
          [
           "japanese metalcore"
          ],
          [
           "japanese new wave"
          ],
          [
           "japanese piano"
          ],
          [
           "japanese pop punk"
          ],
          [
           "japanese post-hardcore"
          ],
          [
           "japanese power metal"
          ],
          [
           "japanese prog"
          ],
          [
           "japanese psychedelic"
          ],
          [
           "japanese punk rock"
          ],
          [
           "japanese r&b"
          ],
          [
           "japanese rockabilly"
          ],
          [
           "japanese singer-songwriter"
          ],
          [
           "japanese soundtrack"
          ],
          [
           "japanese traditional"
          ],
          [
           "japanese vgm"
          ],
          [
           "japanese vocal jazz"
          ],
          [
           "jawaiian"
          ],
          [
           "jazz"
          ],
          [
           "jazz accordion"
          ],
          [
           "jazz blues"
          ],
          [
           "jazz boom bap"
          ],
          [
           "jazz brass"
          ],
          [
           "jazz chileno"
          ],
          [
           "jazz clarinet"
          ],
          [
           "jazz colombiano"
          ],
          [
           "jazz cubano"
          ],
          [
           "jazz double bass"
          ],
          [
           "jazz drums"
          ],
          [
           "jazz flute"
          ],
          [
           "jazz funk"
          ],
          [
           "jazz fusion"
          ],
          [
           "jazz guitar"
          ],
          [
           "jazz harp"
          ],
          [
           "jazz metal"
          ],
          [
           "jazz mexicano"
          ],
          [
           "jazz orchestra"
          ],
          [
           "jazz organ"
          ],
          [
           "jazz piano"
          ],
          [
           "jazz pop"
          ],
          [
           "jazz quartet"
          ],
          [
           "jazz rap"
          ],
          [
           "jazz rock"
          ],
          [
           "jazz saxophone"
          ],
          [
           "jazz trio"
          ],
          [
           "jazz trombone"
          ],
          [
           "jazz trumpet"
          ],
          [
           "jazz tuba"
          ],
          [
           "jazz venezolano"
          ],
          [
           "jazz vibraphone"
          ],
          [
           "jazz violin"
          ],
          [
           "jazztronica"
          ],
          [
           "jewish cantorial"
          ],
          [
           "jewish hip hop"
          ],
          [
           "jig and reel"
          ],
          [
           "jordanian pop"
          ],
          [
           "joropo"
          ],
          [
           "jovem guarda"
          ],
          [
           "jug band"
          ],
          [
           "juju"
          ],
          [
           "jump blues"
          ],
          [
           "jump up"
          ],
          [
           "k-indie"
          ],
          [
           "k-pop"
          ],
          [
           "k-pop boy group"
          ],
          [
           "k-pop girl group"
          ],
          [
           "k-rap"
          ],
          [
           "kabarett"
          ],
          [
           "kabyle"
          ],
          [
           "kaneka"
          ],
          [
           "kannada bhava geethe"
          ],
          [
           "kansas city hip hop"
          ],
          [
           "kashmiri pop"
          ],
          [
           "kawaii future bass"
          ],
          [
           "kawaii metal"
          ],
          [
           "kayokyoku"
          ],
          [
           "kc indie"
          ],
          [
           "kent indie"
          ],
          [
           "kentucky hip hop"
          ],
          [
           "kentucky indie"
          ],
          [
           "kentucky metal"
          ],
          [
           "kentucky mountain folk"
          ],
          [
           "kentucky punk"
          ],
          [
           "kentucky roots"
          ],
          [
           "keroncong"
          ],
          [
           "khaleeji iraqi"
          ],
          [
           "khmer"
          ],
          [
           "kids dance party"
          ],
          [
           "kindie rock"
          ],
          [
           "kingston on indie"
          ],
          [
           "kirtan"
          ],
          [
           "kiwi rock"
          ],
          [
           "kizomba antigas"
          ],
          [
           "kleine hoerspiel"
          ],
          [
           "klezmer"
          ],
          [
           "knoxville indie"
          ],
          [
           "kodomo no ongaku"
          ],
          [
           "kolsche karneval"
          ],
          [
           "komedi"
          ],
          [
           "kompa"
          ],
          [
           "kora"
          ],
          [
           "korean classical performance"
          ],
          [
           "korean classical piano"
          ],
          [
           "korean indie rock"
          ],
          [
           "korean mask singer"
          ],
          [
           "korean pop"
          ],
          [
           "korean r&b"
          ],
          [
           "korean trap"
          ],
          [
           "koto"
          ],
          [
           "krautrock"
          ],
          [
           "kundiman"
          ],
          [
           "la indie"
          ],
          [
           "la pop"
          ],
          [
           "laboratorio"
          ],
          [
           "lafayette indie"
          ],
          [
           "laiko"
          ],
          [
           "lancashire indie"
          ],
          [
           "lancaster pa indie"
          ],
          [
           "late romantic era"
          ],
          [
           "latin"
          ],
          [
           "latin afrobeat"
          ],
          [
           "latin alternative"
          ],
          [
           "latin american classical piano"
          ],
          [
           "latin arena pop"
          ],
          [
           "latin christian"
          ],
          [
           "latin classical"
          ],
          [
           "latin funk"
          ],
          [
           "latin hip hop"
          ],
          [
           "latin house"
          ],
          [
           "latin jazz"
          ],
          [
           "latin metal"
          ],
          [
           "latin pop"
          ],
          [
           "latin rock"
          ],
          [
           "latin ska"
          ],
          [
           "latin soundtrack"
          ],
          [
           "latin talent show"
          ],
          [
           "latin tech house"
          ],
          [
           "latin viral pop"
          ],
          [
           "latin worship"
          ],
          [
           "latincore"
          ],
          [
           "latino comedy"
          ],
          [
           "latintronica"
          ],
          [
           "latinx alternative"
          ],
          [
           "latvian pop"
          ],
          [
           "lds"
          ],
          [
           "lds youth"
          ],
          [
           "lebanese pop"
          ],
          [
           "leicester indie"
          ],
          [
           "lexington ky indie"
          ],
          [
           "lgbtq+ hip hop"
          ],
          [
           "library music"
          ],
          [
           "liedermacher"
          ],
          [
           "light music"
          ],
          [
           "lilith"
          ],
          [
           "liquid funk"
          ],
          [
           "lithuanian electronic"
          ],
          [
           "liverpool indie"
          ],
          [
           "livetronica"
          ],
          [
           "lldm"
          ],
          [
           "lo star"
          ],
          [
           "lo-fi"
          ],
          [
           "lo-fi beats"
          ],
          [
           "lo-fi brasileiro"
          ],
          [
           "lo-fi chill"
          ],
          [
           "lo-fi cover"
          ],
          [
           "lo-fi emo"
          ],
          [
           "lo-fi house"
          ],
          [
           "lo-fi indie"
          ],
          [
           "lo-fi vgm"
          ],
          [
           "london rap"
          ],
          [
           "louisiana blues"
          ],
          [
           "louisiana metal"
          ],
          [
           "louisville indie"
          ],
          [
           "louisville underground"
          ],
          [
           "lounge"
          ],
          [
           "louvor"
          ],
          [
           "lovers rock"
          ],
          [
           "lullaby"
          ],
          [
           "lund indie"
          ],
          [
           "lute"
          ],
          [
           "macedonian folk"
          ],
          [
           "madchester"
          ],
          [
           "madrigal"
          ],
          [
           "magyar alternative"
          ],
          [
           "maine hip hop"
          ],
          [
           "maine indie"
          ],
          [
           "mainland chinese pop"
          ],
          [
           "makossa"
          ],
          [
           "malaysian mandopop"
          ],
          [
           "malaysian pop"
          ],
          [
           "malian blues"
          ],
          [
           "mallet"
          ],
          [
           "malmo indie"
          ],
          [
           "mambo"
          ],
          [
           "manchester hip hop"
          ],
          [
           "manchester indie"
          ],
          [
           "mande pop"
          ],
          [
           "mandolin"
          ],
          [
           "mandopop"
          ],
          [
           "manguebeat"
          ],
          [
           "manila sound"
          ],
          [
           "manitoba indie"
          ],
          [
           "mantra"
          ],
          [
           "marathi pop"
          ],
          [
           "marathi traditional"
          ],
          [
           "marching band"
          ],
          [
           "mariachi"
          ],
          [
           "mariachi cristiano"
          ],
          [
           "marimba orquesta"
          ],
          [
           "martial industrial"
          ],
          [
           "mashup"
          ],
          [
           "math rock"
          ],
          [
           "mathcore"
          ],
          [
           "mbalax"
          ],
          [
           "medieval"
          ],
          [
           "medieval folk"
          ],
          [
           "medieval rock"
          ],
          [
           "meditation"
          ],
          [
           "melancholia"
          ],
          [
           "melbourne bounce"
          ],
          [
           "melbourne bounce international"
          ],
          [
           "melbourne indie"
          ],
          [
           "mellow gold"
          ],
          [
           "melodic death metal"
          ],
          [
           "melodic deathcore"
          ],
          [
           "melodic dubstep"
          ],
          [
           "melodic groove metal"
          ],
          [
           "melodic hard rock"
          ],
          [
           "melodic hardcore"
          ],
          [
           "melodic metal"
          ],
          [
           "melodic metalcore"
          ],
          [
           "melodic power metal"
          ],
          [
           "melodic rap"
          ],
          [
           "melodic thrash"
          ],
          [
           "meme rap"
          ],
          [
           "memphis americana"
          ],
          [
           "memphis blues"
          ],
          [
           "memphis hip hop"
          ],
          [
           "memphis indie"
          ],
          [
           "memphis soul"
          ],
          [
           "mento"
          ],
          [
           "merengue"
          ],
          [
           "merengue tipico"
          ],
          [
           "merseybeat"
          ],
          [
           "messianic praise"
          ],
          [
           "metal"
          ],
          [
           "metal guitar"
          ],
          [
           "metal mineiro"
          ],
          [
           "metalcore"
          ],
          [
           "metropopolis"
          ],
          [
           "mexican classic rock"
          ],
          [
           "mexican classical"
          ],
          [
           "mexican hip hop"
          ],
          [
           "mexican indie"
          ],
          [
           "mexican pop"
          ],
          [
           "mexican pop punk"
          ],
          [
           "mexican rock"
          ],
          [
           "mexican rock-and-roll"
          ],
          [
           "mexican son"
          ],
          [
           "mexican traditional"
          ],
          [
           "miami bass"
          ],
          [
           "miami hip hop"
          ],
          [
           "miami indie"
          ],
          [
           "miami metal"
          ],
          [
           "michigan indie"
          ],
          [
           "microhouse"
          ],
          [
           "microtonal"
          ],
          [
           "middle earth"
          ],
          [
           "middle east hip hop"
          ],
          [
           "middle eastern traditional"
          ],
          [
           "midwest americana"
          ],
          [
           "midwest emo"
          ],
          [
           "military cadence"
          ],
          [
           "military rap"
          ],
          [
           "milwaukee indie"
          ],
          [
           "mindfulness"
          ],
          [
           "minecraft"
          ],
          [
           "minimal melodic techno"
          ],
          [
           "minimal tech house"
          ],
          [
           "minimal techno"
          ],
          [
           "minimal wave"
          ],
          [
           "minimalism"
          ],
          [
           "minneapolis indie"
          ],
          [
           "minneapolis metal"
          ],
          [
           "minneapolis punk"
          ],
          [
           "minneapolis sound"
          ],
          [
           "minnesota hip hop"
          ],
          [
           "mississippi hip hop"
          ],
          [
           "mississippi indie"
          ],
          [
           "mizrahi"
          ],
          [
           "mod revival"
          ],
          [
           "modern alternative pop"
          ],
          [
           "modern alternative rock"
          ],
          [
           "modern big band"
          ],
          [
           "modern blues"
          ],
          [
           "modern blues rock"
          ],
          [
           "modern bollywood"
          ],
          [
           "modern country rock"
          ],
          [
           "modern dream pop"
          ],
          [
           "modern folk rock"
          ],
          [
           "modern funk"
          ],
          [
           "modern hard rock"
          ],
          [
           "modern indie pop"
          ],
          [
           "modern jazz piano"
          ],
          [
           "modern jazz trio"
          ],
          [
           "modern old-time"
          ],
          [
           "modern performance"
          ],
          [
           "modern power pop"
          ],
          [
           "modern psychedelic folk"
          ],
          [
           "modern reggae"
          ],
          [
           "modern rock"
          ],
          [
           "modern salsa"
          ],
          [
           "modern ska punk"
          ],
          [
           "modern southern rock"
          ],
          [
           "modern string quartet"
          ],
          [
           "modern swing"
          ],
          [
           "modern uplift"
          ],
          [
           "modular synth"
          ],
          [
           "moldovan pop"
          ],
          [
           "mollywood"
          ],
          [
           "mongolian hip hop"
          ],
          [
           "mongolian pop"
          ],
          [
           "monterrey indie"
          ],
          [
           "montreal indie"
          ],
          [
           "moog"
          ],
          [
           "moombahton"
          ],
          [
           "morna"
          ],
          [
           "motivation"
          ],
          [
           "motown"
          ],
          [
           "mountain dulcimer"
          ],
          [
           "movie tunes"
          ],
          [
           "mpb"
          ],
          [
           "music box"
          ],
          [
           "music hall"
          ],
          [
           "musica afroperuana"
          ],
          [
           "musica alagoana"
          ],
          [
           "musica andina"
          ],
          [
           "musica andina colombiana"
          ],
          [
           "musica antigua"
          ],
          [
           "musica aragonesa"
          ],
          [
           "musica ayacuchana"
          ],
          [
           "musica canaria"
          ],
          [
           "musica costarricense"
          ],
          [
           "musica costena"
          ],
          [
           "musica cristiana guatemalteca"
          ],
          [
           "musica de fondo"
          ],
          [
           "musica gaucha tradicionalista"
          ],
          [
           "musica hondurena"
          ],
          [
           "musica infantil"
          ],
          [
           "musica jibara"
          ],
          [
           "musica juiz-forana"
          ],
          [
           "musica llanera"
          ],
          [
           "musica nicaraguense"
          ],
          [
           "musica para criancas"
          ],
          [
           "musica para ninos"
          ],
          [
           "musica paraibana"
          ],
          [
           "musica piemonteisa"
          ],
          [
           "musica popular colombiana"
          ],
          [
           "musica popular mineira"
          ],
          [
           "musica popular paraense"
          ],
          [
           "musica potosina"
          ],
          [
           "musica prehispanica"
          ],
          [
           "musica sarda"
          ],
          [
           "musica tradicional cubana"
          ],
          [
           "musica tropical guatemalteca"
          ],
          [
           "musical advocacy"
          ],
          [
           "musikkorps"
          ],
          [
           "musique concrete"
          ],
          [
           "musique peule"
          ],
          [
           "musique pour enfant quebecois"
          ],
          [
           "musique pour enfants"
          ],
          [
           "musique touareg"
          ],
          [
           "muzica populara"
          ],
          [
           "muzika l'yeladim"
          ],
          [
           "naija worship"
          ],
          [
           "nantes indie"
          ],
          [
           "narodna muzika"
          ],
          [
           "nashville americana"
          ],
          [
           "nashville hip hop"
          ],
          [
           "nashville indie"
          ],
          [
           "nashville singer-songwriter"
          ],
          [
           "nashville sound"
          ],
          [
           "native american"
          ],
          [
           "native american contemporary"
          ],
          [
           "native american flute"
          ],
          [
           "native american hip hop"
          ],
          [
           "native american spiritual"
          ],
          [
           "navajo"
          ],
          [
           "nederlandse hardstyle"
          ],
          [
           "nederpop"
          ],
          [
           "neo classical metal"
          ],
          [
           "neo kyma"
          ],
          [
           "neo mellow"
          ],
          [
           "neo r&b"
          ],
          [
           "neo soul"
          ],
          [
           "neo-classical"
          ],
          [
           "neo-kraut"
          ],
          [
           "neo-pagan"
          ],
          [
           "neo-progressive"
          ],
          [
           "neo-psychedelic"
          ],
          [
           "neo-rockabilly"
          ],
          [
           "neo-singer-songwriter"
          ],
          [
           "neo-synthpop"
          ],
          [
           "neo-trad metal"
          ],
          [
           "neo-traditional bluegrass"
          ],
          [
           "neo-traditional country"
          ],
          [
           "neoclassical darkwave"
          ],
          [
           "neoclassicism"
          ],
          [
           "neofolk"
          ],
          [
           "neon pop punk"
          ],
          [
           "neotango"
          ],
          [
           "nepali indie"
          ],
          [
           "nepali pop"
          ],
          [
           "nerdcore"
          ],
          [
           "neue deutsche harte"
          ],
          [
           "neue deutsche todeskunst"
          ],
          [
           "neue deutsche welle"
          ],
          [
           "neurofunk"
          ],
          [
           "new age"
          ],
          [
           "new age piano"
          ],
          [
           "new americana"
          ],
          [
           "new beat"
          ],
          [
           "new comedy"
          ],
          [
           "new england americana"
          ],
          [
           "new england emo"
          ],
          [
           "new french touch"
          ],
          [
           "new isolationism"
          ],
          [
           "new jack swing"
          ],
          [
           "new jersey hardcore"
          ],
          [
           "new jersey indie"
          ],
          [
           "new jersey punk"
          ],
          [
           "new jersey rap"
          ],
          [
           "new mexico music"
          ],
          [
           "new orleans blues"
          ],
          [
           "new orleans funk"
          ],
          [
           "new orleans indie"
          ],
          [
           "new orleans jazz"
          ],
          [
           "new orleans rap"
          ],
          [
           "new rave"
          ],
          [
           "new romantic"
          ],
          [
           "new tribe"
          ],
          [
           "new wave"
          ],
          [
           "new wave of thrash metal"
          ],
          [
           "new wave pop"
          ],
          [
           "new weird america"
          ],
          [
           "new york death metal"
          ],
          [
           "new york drill"
          ],
          [
           "new zealand classical"
          ],
          [
           "newcastle indie"
          ],
          [
           "newcastle nsw indie"
          ],
          [
           "nigerian hip hop"
          ],
          [
           "nigerian pop"
          ],
          [
           "nightcore"
          ],
          [
           "nightrun"
          ],
          [
           "ninja"
          ],
          [
           "nintendocore"
          ],
          [
           "nisiotika"
          ],
          [
           "nl folk"
          ],
          [
           "no wave"
          ],
          [
           "noise pop"
          ],
          [
           "noise punk"
          ],
          [
           "noise rock"
          ],
          [
           "nordic classical piano"
          ],
          [
           "nordic contemporary classical"
          ],
          [
           "nordic folk"
          ],
          [
           "nordic house"
          ],
          [
           "nordic orchestra"
          ],
          [
           "nordic post-rock"
          ],
          [
           "nordic soundtrack"
          ],
          [
           "norman ok indie"
          ],
          [
           "norsk lovsang"
          ],
          [
           "norteno"
          ],
          [
           "norteno-sax"
          ],
          [
           "north carolina emo"
          ],
          [
           "north carolina hip hop"
          ],
          [
           "north carolina indie"
          ],
          [
           "north carolina metal"
          ],
          [
           "north carolina roots"
          ],
          [
           "north east england indie"
          ],
          [
           "northern irish indie"
          ],
          [
           "northern irish punk"
          ],
          [
           "northern soul"
          ],
          [
           "norwegian black metal"
          ],
          [
           "norwegian choir"
          ],
          [
           "norwegian classical"
          ],
          [
           "norwegian contemporary jazz"
          ],
          [
           "norwegian death metal"
          ],
          [
           "norwegian experimental"
          ],
          [
           "norwegian hip hop"
          ],
          [
           "norwegian indie"
          ],
          [
           "norwegian jazz"
          ],
          [
           "norwegian metal"
          ],
          [
           "norwegian pop"
          ],
          [
           "norwegian pop rap"
          ],
          [
           "norwegian punk rock"
          ],
          [
           "norwegian rock"
          ],
          [
           "norwegian singer-songwriter"
          ],
          [
           "norwegian space disco"
          ],
          [
           "nottingham indie"
          ],
          [
           "nouvelle chanson francaise"
          ],
          [
           "nova canco"
          ],
          [
           "nova mpb"
          ],
          [
           "nova musica pernambucana"
          ],
          [
           "novelty"
          ],
          [
           "nu age"
          ],
          [
           "nu disco"
          ],
          [
           "nu gaze"
          ],
          [
           "nu jazz"
          ],
          [
           "nu metal"
          ],
          [
           "nu skool breaks"
          ],
          [
           "nu-cumbia"
          ],
          [
           "nu-metalcore"
          ],
          [
           "nubian traditional"
          ],
          [
           "nueva cancion"
          ],
          [
           "nueva ola chilena"
          ],
          [
           "nueva ola peruana"
          ],
          [
           "nuevo flamenco"
          ],
          [
           "nuevo folklore mexicano"
          ],
          [
           "nuevo regional mexicano"
          ],
          [
           "nuevo tango"
          ],
          [
           "nursery"
          ],
          [
           "nwobhm"
          ],
          [
           "nwothm"
          ],
          [
           "ny roots"
          ],
          [
           "nyc pop"
          ],
          [
           "nyc rap"
          ],
          [
           "nyhc"
          ],
          [
           "nz christian"
          ],
          [
           "nz folk"
          ],
          [
           "nz hardcore"
          ],
          [
           "nz indie"
          ],
          [
           "nz pop"
          ],
          [
           "nz punk"
          ],
          [
           "nz reggae"
          ],
          [
           "nz singer-songwriter"
          ],
          [
           "oakland hip hop"
          ],
          [
           "oakland indie"
          ],
          [
           "oc indie"
          ],
          [
           "oc rap"
          ],
          [
           "oceania soundtrack"
          ],
          [
           "ohio hip hop"
          ],
          [
           "ohio indie"
          ],
          [
           "oi"
          ],
          [
           "ok indie"
          ],
          [
           "okc indie"
          ],
          [
           "okinawan pop"
          ],
          [
           "oklahoma country"
          ],
          [
           "old school dancehall"
          ],
          [
           "old school hip hop"
          ],
          [
           "old school rap francais"
          ],
          [
           "old school thrash"
          ],
          [
           "old school uk hip hop"
          ],
          [
           "old west"
          ],
          [
           "old-time"
          ],
          [
           "old-time fiddle"
          ],
          [
           "olympia wa indie"
          ],
          [
           "omaha indie"
          ],
          [
           "one-person band"
          ],
          [
           "ontario indie"
          ],
          [
           "opera"
          ],
          [
           "opera chorus"
          ],
          [
           "opera metal"
          ],
          [
           "operatic pop"
          ],
          [
           "operetta"
          ],
          [
           "opm"
          ],
          [
           "oratory"
          ],
          [
           "orchestra"
          ],
          [
           "orchestral performance"
          ],
          [
           "orebro indie"
          ],
          [
           "organic ambient"
          ],
          [
           "organic electronic"
          ],
          [
           "organic house"
          ],
          [
           "orgcore"
          ],
          [
           "oriental classical"
          ],
          [
           "orkney and shetland folk"
          ],
          [
           "orlando indie"
          ],
          [
           "orquesta tipica"
          ],
          [
           "orthodox chant"
          ],
          [
           "oshare kei"
          ],
          [
           "otacore"
          ],
          [
           "oth indie"
          ],
          [
           "ottawa indie"
          ],
          [
           "ottawa rap"
          ],
          [
           "oud"
          ],
          [
           "outer hip hop"
          ],
          [
           "outlaw country"
          ],
          [
           "outsider"
          ],
          [
           "outsider house"
          ],
          [
           "oxford choir"
          ],
          [
           "oxford indie"
          ],
          [
           "p funk"
          ],
          [
           "pagan black metal"
          ],
          [
           "pagode"
          ],
          [
           "pagode baiano"
          ],
          [
           "paisley underground"
          ],
          [
           "pakistani folk"
          ],
          [
           "pakistani hip hop"
          ],
          [
           "pakistani pop"
          ],
          [
           "palestinian pop"
          ],
          [
           "palm desert scene"
          ],
          [
           "panamanian pop"
          ],
          [
           "panamanian rock"
          ],
          [
           "panpipe"
          ],
          [
           "papuri"
          ],
          [
           "parody"
          ],
          [
           "partido alto"
          ],
          [
           "partyschlager"
          ],
          [
           "pei indie"
          ],
          [
           "permanent wave"
          ],
          [
           "perreo"
          ],
          [
           "persian pop"
          ],
          [
           "persian traditional"
          ],
          [
           "perth indie"
          ],
          [
           "peruvian hip hop"
          ],
          [
           "peruvian rock"
          ],
          [
           "pet calming"
          ],
          [
           "philly indie"
          ],
          [
           "philly rap"
          ],
          [
           "philly soul"
          ],
          [
           "phoenix indie"
          ],
          [
           "phonk"
          ],
          [
           "pianissimo"
          ],
          [
           "piano blues"
          ],
          [
           "piano cover"
          ],
          [
           "piano mpb"
          ],
          [
           "piano rock"
          ],
          [
           "pibroch"
          ],
          [
           "piedmont blues"
          ],
          [
           "pinoy hip hop"
          ],
          [
           "pinoy indie"
          ],
          [
           "pinoy pop punk"
          ],
          [
           "pinoy praise"
          ],
          [
           "pinoy r&b"
          ],
          [
           "pinoy reggae"
          ],
          [
           "pinoy rock"
          ],
          [
           "pinoy traditional"
          ],
          [
           "pinoy trap"
          ],
          [
           "pirate"
          ],
          [
           "pittsburgh indie"
          ],
          [
           "pittsburgh rap"
          ],
          [
           "pittsburgh rock"
          ],
          [
           "pixie"
          ],
          [
           "plunderphonics"
          ],
          [
           "poetry"
          ],
          [
           "polca paraguaya"
          ],
          [
           "polish blues"
          ],
          [
           "polish classical"
          ],
          [
           "polish classical piano"
          ],
          [
           "polish contemporary classical"
          ],
          [
           "polish jazz"
          ],
          [
           "polish modern jazz"
          ],
          [
           "polish pop"
          ],
          [
           "polish post-rock"
          ],
          [
           "polish reggae"
          ],
          [
           "polish rock"
          ],
          [
           "political hip hop"
          ],
          [
           "polka"
          ],
          [
           "polynesian hip hop"
          ],
          [
           "polynesian pop"
          ],
          [
           "polyphony"
          ],
          [
           "pony"
          ],
          [
           "pop"
          ],
          [
           "pop argentino"
          ],
          [
           "pop chileno"
          ],
          [
           "pop dance"
          ],
          [
           "pop edm"
          ],
          [
           "pop electronico"
          ],
          [
           "pop emo"
          ],
          [
           "pop flamenco"
          ],
          [
           "pop folk"
          ],
          [
           "pop house"
          ],
          [
           "pop nacional"
          ],
          [
           "pop nacional antigas"
          ],
          [
           "pop peruano"
          ],
          [
           "pop punk"
          ],
          [
           "pop quebecois"
          ],
          [
           "pop r&b"
          ],
          [
           "pop rap"
          ],
          [
           "pop reggaeton"
          ],
          [
           "pop rock"
          ],
          [
           "pop rock brasileiro"
          ],
          [
           "pop romantico"
          ],
          [
           "pop soul"
          ],
          [
           "pop venezolano"
          ],
          [
           "pop violin"
          ],
          [
           "popgaze"
          ],
          [
           "popping"
          ],
          [
           "pops orchestra"
          ],
          [
           "popwave"
          ],
          [
           "pornogrind"
          ],
          [
           "porro"
          ],
          [
           "portland hip hop"
          ],
          [
           "portland indie"
          ],
          [
           "portland metal"
          ],
          [
           "portland punk"
          ],
          [
           "portuguese early music"
          ],
          [
           "post-disco"
          ],
          [
           "post-disco soul"
          ],
          [
           "post-doom metal"
          ],
          [
           "post-grunge"
          ],
          [
           "post-hardcore"
          ],
          [
           "post-metal"
          ],
          [
           "post-minimalism"
          ],
          [
           "post-post-hardcore"
          ],
          [
           "post-punk"
          ],
          [
           "post-punk argentina"
          ],
          [
           "post-rock"
          ],
          [
           "post-romantic era"
          ],
          [
           "post-screamo"
          ],
          [
           "post-teen pop"
          ],
          [
           "power metal"
          ],
          [
           "power pop"
          ],
          [
           "power thrash"
          ],
          [
           "power-pop punk"
          ],
          [
           "praise"
          ],
          [
           "prepared piano"
          ],
          [
           "preschool children's music"
          ],
          [
           "prog quebec"
          ],
          [
           "progressive alternative"
          ],
          [
           "progressive bluegrass"
          ],
          [
           "progressive deathcore"
          ],
          [
           "progressive electro house"
          ],
          [
           "progressive groove metal"
          ],
          [
           "progressive house"
          ],
          [
           "progressive jazz fusion"
          ],
          [
           "progressive metal"
          ],
          [
           "progressive metalcore"
          ],
          [
           "progressive post-hardcore"
          ],
          [
           "progressive power metal"
          ],
          [
           "progressive psytrance"
          ],
          [
           "progressive rock"
          ],
          [
           "progressive sludge"
          ],
          [
           "progressive trance"
          ],
          [
           "progressive trance house"
          ],
          [
           "progressive uplifting trance"
          ],
          [
           "proto-rap"
          ],
          [
           "proto-techno"
          ],
          [
           "protopunk"
          ],
          [
           "psalmen"
          ],
          [
           "psicodelia brasileira"
          ],
          [
           "psybass"
          ],
          [
           "psychedelic blues-rock"
          ],
          [
           "psychedelic doom"
          ],
          [
           "psychedelic folk"
          ],
          [
           "psychedelic folk rock"
          ],
          [
           "psychedelic hip hop"
          ],
          [
           "psychedelic pop"
          ],
          [
           "psychedelic punk"
          ],
          [
           "psychedelic rock"
          ],
          [
           "psychedelic soul"
          ],
          [
           "psychedelic trance"
          ],
          [
           "psychill"
          ],
          [
           "psychobilly"
          ],
          [
           "pub rock"
          ],
          [
           "puerto rican folk"
          ],
          [
           "puerto rican pop"
          ],
          [
           "puerto rican rock"
          ],
          [
           "punjabi folk"
          ],
          [
           "punjabi hip hop"
          ],
          [
           "punjabi pop"
          ],
          [
           "punk"
          ],
          [
           "punk 'n' roll"
          ],
          [
           "punk blues"
          ],
          [
           "punk rock italiano"
          ],
          [
           "punk rock mexicano"
          ],
          [
           "punta"
          ],
          [
           "purple sound"
          ],
          [
           "qawwali"
          ],
          [
           "quartetto d'archi"
          ],
          [
           "quatuor a cordes"
          ],
          [
           "quebec death metal"
          ],
          [
           "quebec indie"
          ],
          [
           "queens hip hop"
          ],
          [
           "queer country"
          ],
          [
           "queercore"
          ],
          [
           "quiet storm"
          ],
          [
           "quran"
          ],
          [
           "r&b"
          ],
          [
           "r&b en espanol"
          ],
          [
           "rabindra sangeet"
          ],
          [
           "radio symphony"
          ],
          [
           "ragtime"
          ],
          [
           "rai"
          ],
          [
           "ranchera"
          ],
          [
           "rap"
          ],
          [
           "rap chileno"
          ],
          [
           "rap conciencia"
          ],
          [
           "rap conscient"
          ],
          [
           "rap cristiano"
          ],
          [
           "rap dominicano"
          ],
          [
           "rap kreyol"
          ],
          [
           "rap latina"
          ],
          [
           "rap metal"
          ],
          [
           "rap nacional antigo"
          ],
          [
           "rap napoletano"
          ],
          [
           "rap rock"
          ],
          [
           "rap underground mexicano"
          ],
          [
           "rare groove"
          ],
          [
           "rave"
          ],
          [
           "rawstyle"
          ],
          [
           "reading"
          ],
          [
           "reading indie"
          ],
          [
           "rebel blues"
          ],
          [
           "rebetiko"
          ],
          [
           "recorder"
          ],
          [
           "red dirt"
          ],
          [
           "redneck"
          ],
          [
           "reggae"
          ],
          [
           "reggae en espanol"
          ],
          [
           "reggae fusion"
          ],
          [
           "reggae rock"
          ],
          [
           "reggaeton"
          ],
          [
           "reggaeton colombiano"
          ],
          [
           "reggaeton cristiano"
          ],
          [
           "reggaeton flow"
          ],
          [
           "reggaeton mexicano"
          ],
          [
           "regional mexican"
          ],
          [
           "relaxative"
          ],
          [
           "renaissance"
          ],
          [
           "rennes indie"
          ],
          [
           "retro metal"
          ],
          [
           "retro soul"
          ],
          [
           "rhode island indie"
          ],
          [
           "rhode island rap"
          ],
          [
           "rhythm and blues"
          ],
          [
           "riddim"
          ],
          [
           "rif"
          ],
          [
           "riot grrrl"
          ],
          [
           "ritmo kombina"
          ],
          [
           "rochester mn indie"
          ],
          [
           "rochester ny indie"
          ],
          [
           "rock"
          ],
          [
           "rock alternatif francais"
          ],
          [
           "rock alternativo brasileiro"
          ],
          [
           "rock andaluz"
          ],
          [
           "rock baiano"
          ],
          [
           "rock brasiliense"
          ],
          [
           "rock chapin"
          ],
          [
           "rock cristiano"
          ],
          [
           "rock drums"
          ],
          [
           "rock en espanol"
          ],
          [
           "rock gaucho"
          ],
          [
           "rock independant francais"
          ],
          [
           "rock kapak"
          ],
          [
           "rock keyboard"
          ],
          [
           "rock nacional"
          ],
          [
           "rock nacional brasileiro"
          ],
          [
           "rock pernambucano"
          ],
          [
           "rock progressif francais"
          ],
          [
           "rock steady"
          ],
          [
           "rock urbano mexicano"
          ],
          [
           "rock-and-roll"
          ],
          [
           "rockabilly"
          ],
          [
           "rockabilly en espanol"
          ],
          [
           "roda de samba"
          ],
          [
           "romanian classical piano"
          ],
          [
           "romanian electronic"
          ],
          [
           "romanian folk"
          ],
          [
           "romanian pop"
          ],
          [
           "romanian rock"
          ],
          [
           "romantico"
          ],
          [
           "roots americana"
          ],
          [
           "roots reggae"
          ],
          [
           "roots rock"
          ],
          [
           "roots worship"
          ],
          [
           "rosary"
          ],
          [
           "rumba"
          ],
          [
           "rumba congolaise"
          ],
          [
           "rune folk"
          ],
          [
           "russian alternative rock"
          ],
          [
           "russian ccm"
          ],
          [
           "russian chanson"
          ],
          [
           "russian choir"
          ],
          [
           "russian classical piano"
          ],
          [
           "russian dance"
          ],
          [
           "russian edm"
          ],
          [
           "russian folk"
          ],
          [
           "russian folk rock"
          ],
          [
           "russian jazz"
          ],
          [
           "russian metal"
          ],
          [
           "russian metalcore"
          ],
          [
           "russian modern classical"
          ],
          [
           "russian orchestra"
          ],
          [
           "russian pop"
          ],
          [
           "russian post-punk"
          ],
          [
           "russian punk"
          ],
          [
           "russian rock"
          ],
          [
           "russian romanticism"
          ],
          [
           "russian shoegaze"
          ],
          [
           "russian trance"
          ],
          [
           "rva indie"
          ],
          [
           "rwandan traditional"
          ],
          [
           "ryukyu ongaku"
          ],
          [
           "sacramento hip hop"
          ],
          [
           "sacramento indie"
          ],
          [
           "sacred steel"
          ],
          [
           "sad rap"
          ],
          [
           "salsa"
          ],
          [
           "salsa choke"
          ],
          [
           "salsa colombiana"
          ],
          [
           "salsa cubana"
          ],
          [
           "salsa international"
          ],
          [
           "salsa peruana"
          ],
          [
           "salsa puertorriquena"
          ],
          [
           "salsa venezolana"
          ],
          [
           "samba"
          ],
          [
           "samba de roda"
          ],
          [
           "samba moderno"
          ],
          [
           "samba-enredo"
          ],
          [
           "samba-jazz"
          ],
          [
           "samba-rock"
          ],
          [
           "san antonio rap"
          ],
          [
           "san diego indie"
          ],
          [
           "san diego rap"
          ],
          [
           "san marcos tx indie"
          ],
          [
           "sandalwood"
          ],
          [
           "sarod"
          ],
          [
           "saskatchewan indie"
          ],
          [
           "scam rap"
          ],
          [
           "scandinavian r&b"
          ],
          [
           "scandipop"
          ],
          [
           "schlager"
          ],
          [
           "scorecore"
          ],
          [
           "scottish electronic"
          ],
          [
           "scottish fiddle"
          ],
          [
           "scottish folk"
          ],
          [
           "scottish hip hop"
          ],
          [
           "scottish indie"
          ],
          [
           "scottish jazz"
          ],
          [
           "scottish metal"
          ],
          [
           "scottish new wave"
          ],
          [
           "scottish rock"
          ],
          [
           "scottish singer-songwriter"
          ],
          [
           "scratch"
          ],
          [
           "scream rap"
          ],
          [
           "screamo"
          ],
          [
           "seattle hip hop"
          ],
          [
           "seattle indie"
          ],
          [
           "second line"
          ],
          [
           "sefardi"
          ],
          [
           "serbian electronic"
          ],
          [
           "serialism"
          ],
          [
           "sertanejo"
          ],
          [
           "sertanejo pop"
          ],
          [
           "sertanejo tradicional"
          ],
          [
           "sertanejo universitario"
          ],
          [
           "sevdah"
          ],
          [
           "sevillanas"
          ],
          [
           "shaabi"
          ],
          [
           "shabad"
          ],
          [
           "shakuhachi"
          ],
          [
           "shamanic"
          ],
          [
           "shanty"
          ],
          [
           "sheffield indie"
          ],
          [
           "shibuya-kei"
          ],
          [
           "shimmer pop"
          ],
          [
           "shimmer psych"
          ],
          [
           "shiver pop"
          ],
          [
           "shoegaze"
          ],
          [
           "show tunes"
          ],
          [
           "shred"
          ],
          [
           "shush"
          ],
          [
           "sierreno"
          ],
          [
           "singaporean mandopop"
          ],
          [
           "singaporean pop"
          ],
          [
           "singaporean singer-songwriter"
          ],
          [
           "singer-songwriter"
          ],
          [
           "singing bowl"
          ],
          [
           "sitar"
          ],
          [
           "ska"
          ],
          [
           "ska argentino"
          ],
          [
           "ska chileno"
          ],
          [
           "ska jazz"
          ],
          [
           "ska mexicano"
          ],
          [
           "ska punk"
          ],
          [
           "ska revival"
          ],
          [
           "skate punk"
          ],
          [
           "skiffle"
          ],
          [
           "skramz"
          ],
          [
           "sky room"
          ],
          [
           "slack-key guitar"
          ],
          [
           "slam poetry"
          ],
          [
           "slamming deathcore"
          ],
          [
           "slavic folk metal"
          ],
          [
           "slayer"
          ],
          [
           "slc indie"
          ],
          [
           "sleaze rock"
          ],
          [
           "sleep"
          ],
          [
           "slovak electronic"
          ],
          [
           "slovenian electronic"
          ],
          [
           "slovenian metal"
          ],
          [
           "slow game"
          ],
          [
           "slowcore"
          ],
          [
           "sludge metal"
          ],
          [
           "small room"
          ],
          [
           "smooth jazz"
          ],
          [
           "smooth saxophone"
          ],
          [
           "smooth soul"
          ],
          [
           "soca"
          ],
          [
           "socal pop punk"
          ],
          [
           "social media pop"
          ],
          [
           "soda pop"
          ],
          [
           "soft rock"
          ],
          [
           "solipsynthm"
          ],
          [
           "son cubano"
          ],
          [
           "son cubano clasico"
          ],
          [
           "son jarocho"
          ],
          [
           "sophisti-pop"
          ],
          [
           "sotalaulut"
          ],
          [
           "soukous"
          ],
          [
           "soul"
          ],
          [
           "soul blues"
          ],
          [
           "soul flow"
          ],
          [
           "soul jazz"
          ],
          [
           "souldies"
          ],
          [
           "sound"
          ],
          [
           "sound art"
          ],
          [
           "sound effects"
          ],
          [
           "sound team"
          ],
          [
           "soundtrack"
          ],
          [
           "south african alternative"
          ],
          [
           "south african choral"
          ],
          [
           "south african country"
          ],
          [
           "south african hip hop"
          ],
          [
           "south african house"
          ],
          [
           "south african jazz"
          ],
          [
           "south african pop"
          ],
          [
           "south african pop dance"
          ],
          [
           "south african rock"
          ],
          [
           "south carolina hip hop"
          ],
          [
           "south carolina indie"
          ],
          [
           "south carolina metal"
          ],
          [
           "south dakota indie"
          ],
          [
           "southampton indie"
          ],
          [
           "southern americana"
          ],
          [
           "southern gospel"
          ],
          [
           "southern hip hop"
          ],
          [
           "southern metal"
          ],
          [
           "southern rock"
          ],
          [
           "southern soul"
          ],
          [
           "southern soul blues"
          ],
          [
           "soviet synthpop"
          ],
          [
           "sovietwave"
          ],
          [
           "spa"
          ],
          [
           "space age pop"
          ],
          [
           "space ambient"
          ],
          [
           "space rock"
          ],
          [
           "spanish baroque"
          ],
          [
           "spanish classical"
          ],
          [
           "spanish classical piano"
          ],
          [
           "spanish folk metal"
          ],
          [
           "spanish hip hop"
          ],
          [
           "spanish indie pop"
          ],
          [
           "spanish invasion"
          ],
          [
           "spanish metal"
          ],
          [
           "spanish modern rock"
          ],
          [
           "spanish new wave"
          ],
          [
           "spanish noise pop"
          ],
          [
           "spanish pop"
          ],
          [
           "spanish pop rock"
          ],
          [
           "spanish renaissance"
          ],
          [
           "spanish rock"
          ],
          [
           "spanish synthpop"
          ],
          [
           "spanish techno"
          ],
          [
           "speed garage"
          ],
          [
           "speed metal"
          ],
          [
           "speedcore"
          ],
          [
           "spiritual hip hop"
          ],
          [
           "spiritual jazz"
          ],
          [
           "spirituals"
          ],
          [
           "springfield mo indie"
          ],
          [
           "spytrack"
          ],
          [
           "st louis rap"
          ],
          [
           "steampunk"
          ],
          [
           "steel guitar"
          ],
          [
           "steelpan"
          ],
          [
           "stl indie"
          ],
          [
           "stomp and flutter"
          ],
          [
           "stomp and holler"
          ],
          [
           "stomp and whittle"
          ],
          [
           "stomp pop"
          ],
          [
           "stoner metal"
          ],
          [
           "stoner rock"
          ],
          [
           "straight edge"
          ],
          [
           "straight-ahead jazz"
          ],
          [
           "street band"
          ],
          [
           "street punk"
          ],
          [
           "streichquartett"
          ],
          [
           "stride"
          ],
          [
           "string band"
          ],
          [
           "string folk"
          ],
          [
           "string orchestra"
          ],
          [
           "string quartet"
          ],
          [
           "strut"
          ],
          [
           "substep"
          ],
          [
           "sudanese pop"
          ],
          [
           "sufi"
          ],
          [
           "sufi chant"
          ],
          [
           "sunshine pop"
          ],
          [
           "supergroup"
          ],
          [
           "surf music"
          ],
          [
           "surf punk"
          ],
          [
           "svensk progg"
          ],
          [
           "swamp blues"
          ],
          [
           "swamp pop"
          ],
          [
           "swamp rock"
          ],
          [
           "swancore"
          ],
          [
           "swedish alternative rock"
          ],
          [
           "swedish americana"
          ],
          [
           "swedish black metal"
          ],
          [
           "swedish choir"
          ],
          [
           "swedish country"
          ],
          [
           "swedish dancehall"
          ],
          [
           "swedish death metal"
          ],
          [
           "swedish doom metal"
          ],
          [
           "swedish electronic"
          ],
          [
           "swedish electropop"
          ],
          [
           "swedish eurodance"
          ],
          [
           "swedish garage rock"
          ],
          [
           "swedish hard rock"
          ],
          [
           "swedish hardcore"
          ],
          [
           "swedish heavy metal"
          ],
          [
           "swedish house"
          ],
          [
           "swedish idol pop"
          ],
          [
           "swedish indie folk"
          ],
          [
           "swedish indie pop"
          ],
          [
           "swedish indie rock"
          ],
          [
           "swedish jazz"
          ],
          [
           "swedish jazz orkester"
          ],
          [
           "swedish melodic rock"
          ],
          [
           "swedish metal"
          ],
          [
           "swedish metalcore"
          ],
          [
           "swedish pop"
          ],
          [
           "swedish post-hardcore"
          ],
          [
           "swedish power metal"
          ],
          [
           "swedish prog"
          ],
          [
           "swedish progressive metal"
          ],
          [
           "swedish rock-and-roll"
          ],
          [
           "swedish singer-songwriter"
          ],
          [
           "swedish soul"
          ],
          [
           "swedish stoner rock"
          ],
          [
           "swedish synth"
          ],
          [
           "swedish synthpop"
          ],
          [
           "swedish tropical house"
          ],
          [
           "swedish underground rap"
          ],
          [
           "swing"
          ],
          [
           "swing italiano"
          ],
          [
           "swing revival"
          ],
          [
           "swiss black metal"
          ],
          [
           "swiss classical piano"
          ],
          [
           "swiss country"
          ],
          [
           "swiss metal"
          ],
          [
           "swiss pop"
          ],
          [
           "swiss rock"
          ],
          [
           "swiss worship"
          ],
          [
           "sydney indie"
          ],
          [
           "symphonic black metal"
          ],
          [
           "symphonic metal"
          ],
          [
           "symphonic rock"
          ],
          [
           "synth funk"
          ],
          [
           "synthpop"
          ],
          [
           "synthwave"
          ],
          [
           "syrian pop"
          ],
          [
           "tabla"
          ],
          [
           "tagalog rap"
          ],
          [
           "tagalog worship"
          ],
          [
           "taiwan campus folk"
          ],
          [
           "taiwan classical performance"
          ],
          [
           "taiwan hip hop"
          ],
          [
           "taiwan indie"
          ],
          [
           "taiwan pop"
          ],
          [
           "taiwan singer-songwriter"
          ],
          [
           "tajik pop"
          ],
          [
           "talent show"
          ],
          [
           "tamaulipas indie"
          ],
          [
           "tamaulipas rap"
          ],
          [
           "tamborazo"
          ],
          [
           "tamil hip hop"
          ],
          [
           "tamil pop"
          ],
          [
           "tamil worship"
          ],
          [
           "tampa indie"
          ],
          [
           "tango"
          ],
          [
           "tango cancion"
          ],
          [
           "tape club"
          ],
          [
           "tech house"
          ],
          [
           "technical death metal"
          ],
          [
           "technical deathcore"
          ],
          [
           "technical groove metal"
          ],
          [
           "technical melodic death metal"
          ],
          [
           "technical thrash"
          ],
          [
           "techno"
          ],
          [
           "techno kayo"
          ],
          [
           "tecnobanda"
          ],
          [
           "teen pop"
          ],
          [
           "tejano"
          ],
          [
           "tempe indie"
          ],
          [
           "tennessee hip hop"
          ],
          [
           "tennessee metal"
          ],
          [
           "tex-mex"
          ],
          [
           "texas blues"
          ],
          [
           "texas country"
          ],
          [
           "texas latin rap"
          ],
          [
           "texas pop punk"
          ],
          [
           "texas punk"
          ],
          [
           "thai folk"
          ],
          [
           "thai folk rock"
          ],
          [
           "thai idol"
          ],
          [
           "thai indie rock"
          ],
          [
           "thai pop"
          ],
          [
           "thall"
          ],
          [
           "theme"
          ],
          [
           "theremin"
          ],
          [
           "thrash core"
          ],
          [
           "thrash metal"
          ],
          [
           "timba"
          ],
          [
           "tin pan alley"
          ],
          [
           "tipico"
          ],
          [
           "tolkien metal"
          ],
          [
           "tollywood"
          ],
          [
           "tone"
          ],
          [
           "torch song"
          ],
          [
           "toronto indie"
          ],
          [
           "toronto rap"
          ],
          [
           "trad jazz catala"
          ],
          [
           "traditional bluegrass"
          ],
          [
           "traditional blues"
          ],
          [
           "traditional british folk"
          ],
          [
           "traditional country"
          ],
          [
           "traditional folk"
          ],
          [
           "traditional funk"
          ],
          [
           "traditional rockabilly"
          ],
          [
           "traditional ska"
          ],
          [
           "traditional soul"
          ],
          [
           "trance"
          ],
          [
           "trance mexicano"
          ],
          [
           "trancecore"
          ],
          [
           "transpop"
          ],
          [
           "trap"
          ],
          [
           "trap argentino"
          ],
          [
           "trap chileno"
          ],
          [
           "trap dominicano"
          ],
          [
           "trap latino"
          ],
          [
           "trap mexicano"
          ],
          [
           "trap queen"
          ],
          [
           "trap soul"
          ],
          [
           "trap triste"
          ],
          [
           "trap venezolano"
          ],
          [
           "traprun"
          ],
          [
           "trash rock"
          ],
          [
           "triangle indie"
          ],
          [
           "tribal house"
          ],
          [
           "trinidadian reggae"
          ],
          [
           "trio cubano"
          ],
          [
           "trip hop"
          ],
          [
           "trival"
          ],
          [
           "tropical"
          ],
          [
           "tropical house"
          ],
          [
           "tropicalia"
          ],
          [
           "trova"
          ],
          [
           "trova mexicana"
          ],
          [
           "truck-driving country"
          ],
          [
           "tuareg guitar"
          ],
          [
           "tucson indie"
          ],
          [
           "tulsa indie"
          ],
          [
           "tuna estudiantil"
          ],
          [
           "tunisian pop"
          ],
          [
           "turbo folk"
          ],
          [
           "turkish classical"
          ],
          [
           "turkish classical performance"
          ],
          [
           "turkish edm"
          ],
          [
           "turkish experimental"
          ],
          [
           "turkish folk"
          ],
          [
           "turkish jazz"
          ],
          [
           "turkish modern jazz"
          ],
          [
           "turkish pop"
          ],
          [
           "turkish psych"
          ],
          [
           "turkish trap"
          ],
          [
           "turkish trap pop"
          ],
          [
           "turntablism"
          ],
          [
           "twee pop"
          ],
          [
           "twoubadou"
          ],
          [
           "tzadik"
          ],
          [
           "ugandan pop"
          ],
          [
           "uilleann pipes"
          ],
          [
           "uk alternative hip hop"
          ],
          [
           "uk alternative pop"
          ],
          [
           "uk americana"
          ],
          [
           "uk contemporary jazz"
          ],
          [
           "uk contemporary r&b"
          ],
          [
           "uk dance"
          ],
          [
           "uk dancehall"
          ],
          [
           "uk diy punk"
          ],
          [
           "uk dnb"
          ],
          [
           "uk doom metal"
          ],
          [
           "uk dub"
          ],
          [
           "uk experimental electronic"
          ],
          [
           "uk funky"
          ],
          [
           "uk garage"
          ],
          [
           "uk hip hop"
          ],
          [
           "uk house"
          ],
          [
           "uk metalcore"
          ],
          [
           "uk noise rock"
          ],
          [
           "uk pop"
          ],
          [
           "uk pop punk"
          ],
          [
           "uk post-hardcore"
          ],
          [
           "uk post-punk"
          ],
          [
           "uk reggae"
          ],
          [
           "uk rockabilly"
          ],
          [
           "uk stoner rock"
          ],
          [
           "uk worship"
          ],
          [
           "uk82"
          ],
          [
           "ukrainian choir"
          ],
          [
           "ukrainian classical"
          ],
          [
           "ukrainian classical piano"
          ],
          [
           "ukrainian electronic"
          ],
          [
           "ukrainian pop"
          ],
          [
           "ukulele"
          ],
          [
           "umbanda"
          ],
          [
           "underground hip hop"
          ],
          [
           "underground power pop"
          ],
          [
           "underground rap"
          ],
          [
           "university choir"
          ],
          [
           "uplifting trance"
          ],
          [
           "uptempo hardcore"
          ],
          [
           "urban contemporary"
          ],
          [
           "urbano espanol"
          ],
          [
           "us power metal"
          ],
          [
           "utah indie"
          ],
          [
           "uzbek pop"
          ],
          [
           "uzbek traditional"
          ],
          [
           "v-pop"
          ],
          [
           "vallenato"
          ],
          [
           "vallenato moderno"
          ],
          [
           "vancouver indie"
          ],
          [
           "vancouver metal"
          ],
          [
           "vancouver punk"
          ],
          [
           "vapor pop"
          ],
          [
           "vapor soul"
          ],
          [
           "vapor trap"
          ],
          [
           "vapor twitch"
          ],
          [
           "vaporwave"
          ],
          [
           "variete francaise"
          ],
          [
           "vaudeville"
          ],
          [
           "vbs"
          ],
          [
           "veena"
          ],
          [
           "vegan straight edge"
          ],
          [
           "vegas indie"
          ],
          [
           "velha guarda"
          ],
          [
           "venezuelan hip hop"
          ],
          [
           "venezuelan indie"
          ],
          [
           "venezuelan rock"
          ],
          [
           "veracruz indie"
          ],
          [
           "vermont indie"
          ],
          [
           "vgm instrumental"
          ],
          [
           "vgm remix"
          ],
          [
           "victoria bc indie"
          ],
          [
           "victorian britain"
          ],
          [
           "video game music"
          ],
          [
           "vienna indie"
          ],
          [
           "vietnamese bolero"
          ],
          [
           "vietnamese pop"
          ],
          [
           "viking black metal"
          ],
          [
           "viking folk"
          ],
          [
           "viking metal"
          ],
          [
           "villancicos"
          ],
          [
           "vintage chanson"
          ],
          [
           "vintage chinese pop"
          ],
          [
           "vintage classical singing"
          ],
          [
           "vintage country folk"
          ],
          [
           "vintage dutch pop"
          ],
          [
           "vintage french electronic"
          ],
          [
           "vintage gospel"
          ],
          [
           "vintage hollywood"
          ],
          [
           "vintage italian pop"
          ],
          [
           "vintage italian soundtrack"
          ],
          [
           "vintage jazz"
          ],
          [
           "vintage old-time"
          ],
          [
           "vintage rockabilly"
          ],
          [
           "vintage schlager"
          ],
          [
           "vintage spanish pop"
          ],
          [
           "vintage swedish pop"
          ],
          [
           "vintage swing"
          ],
          [
           "vintage tango"
          ],
          [
           "viola"
          ],
          [
           "violao"
          ],
          [
           "violao classico"
          ],
          [
           "violin"
          ],
          [
           "viral pop"
          ],
          [
           "viral rap"
          ],
          [
           "viral trap"
          ],
          [
           "virgin islands reggae"
          ],
          [
           "virginia hip hop"
          ],
          [
           "virginia metal"
          ],
          [
           "virginia punk"
          ],
          [
           "visor"
          ],
          [
           "visual kei"
          ],
          [
           "vocal ensemble"
          ],
          [
           "vocal harmony group"
          ],
          [
           "vocal house"
          ],
          [
           "vocal jazz"
          ],
          [
           "vocal trance"
          ],
          [
           "vocaloid"
          ],
          [
           "vogue"
          ],
          [
           "volksmusik"
          ],
          [
           "warm drone"
          ],
          [
           "washboard"
          ],
          [
           "washington indie"
          ],
          [
           "wassoulou"
          ],
          [
           "water"
          ],
          [
           "wave"
          ],
          [
           "welsh folk"
          ],
          [
           "welsh indie"
          ],
          [
           "welsh metal"
          ],
          [
           "welsh rock"
          ],
          [
           "west african jazz"
          ],
          [
           "west australian hip hop"
          ],
          [
           "west coast rap"
          ],
          [
           "west coast reggae"
          ],
          [
           "west coast trap"
          ],
          [
           "west end"
          ],
          [
           "west virginia indie"
          ],
          [
           "western americana"
          ],
          [
           "western mass indie"
          ],
          [
           "western saharan folk"
          ],
          [
           "western swing"
          ],
          [
           "white noise"
          ],
          [
           "wind ensemble"
          ],
          [
           "wind quintet"
          ],
          [
           "wisconsin indie"
          ],
          [
           "witch house"
          ],
          [
           "women's choir"
          ],
          [
           "women's music"
          ],
          [
           "wonky"
          ],
          [
           "worcester ma indie"
          ],
          [
           "world"
          ],
          [
           "world fusion"
          ],
          [
           "world meditation"
          ],
          [
           "world worship"
          ],
          [
           "worship"
          ],
          [
           "wrestling"
          ],
          [
           "wu fam"
          ],
          [
           "wyoming indie"
          ],
          [
           "wyoming roots"
          ],
          [
           "xhosa"
          ],
          [
           "xtra raw"
          ],
          [
           "yacht rock"
          ],
          [
           "ye ye"
          ],
          [
           "yiddish folk"
          ],
          [
           "yodeling"
          ],
          [
           "yoga"
          ],
          [
           "yoik"
          ],
          [
           "york indie"
          ],
          [
           "yorkshire folk"
          ],
          [
           "yugoslav new wave"
          ],
          [
           "yugoslav rock"
          ],
          [
           "zambian pop"
          ],
          [
           "zeuhl"
          ],
          [
           "zhongguo feng"
          ],
          [
           "zimdancehall"
          ],
          [
           "zolo"
          ],
          [
           "zouglou"
          ],
          [
           "zouk"
          ],
          [
           "zurich indie"
          ],
          [
           "zydeco"
          ]
         ],
         "hovertemplate": "x=%{x}<br>y=%{y}<br>generos=%{customdata[0]}<br>cluster_pca=%{marker.color}<extra></extra>",
         "legendgroup": "",
         "marker": {
          "color": [
           3,
           3,
           4,
           1,
           1,
           2,
           2,
           4,
           1,
           1,
           0,
           2,
           0,
           3,
           1,
           2,
           4,
           2,
           0,
           2,
           1,
           1,
           4,
           1,
           2,
           4,
           4,
           3,
           4,
           4,
           4,
           4,
           4,
           2,
           2,
           0,
           2,
           4,
           0,
           2,
           0,
           4,
           4,
           4,
           2,
           4,
           4,
           2,
           4,
           0,
           4,
           2,
           2,
           0,
           0,
           4,
           0,
           0,
           4,
           4,
           0,
           2,
           4,
           3,
           0,
           2,
           0,
           0,
           2,
           3,
           2,
           2,
           3,
           3,
           3,
           3,
           3,
           1,
           0,
           3,
           2,
           3,
           2,
           3,
           3,
           0,
           1,
           0,
           3,
           4,
           0,
           0,
           0,
           2,
           2,
           0,
           0,
           2,
           1,
           4,
           1,
           3,
           2,
           2,
           2,
           2,
           3,
           2,
           4,
           0,
           4,
           2,
           4,
           4,
           4,
           4,
           4,
           0,
           2,
           4,
           2,
           3,
           2,
           4,
           2,
           3,
           4,
           2,
           4,
           3,
           2,
           4,
           4,
           4,
           0,
           4,
           3,
           0,
           4,
           0,
           4,
           0,
           0,
           1,
           0,
           2,
           2,
           4,
           2,
           4,
           3,
           4,
           3,
           3,
           3,
           2,
           0,
           0,
           4,
           4,
           0,
           0,
           2,
           0,
           4,
           0,
           0,
           4,
           4,
           2,
           0,
           2,
           2,
           4,
           4,
           0,
           2,
           4,
           4,
           3,
           3,
           3,
           2,
           3,
           4,
           1,
           0,
           3,
           3,
           0,
           4,
           1,
           4,
           4,
           4,
           4,
           3,
           3,
           1,
           2,
           1,
           4,
           1,
           1,
           1,
           0,
           2,
           3,
           3,
           1,
           3,
           4,
           0,
           4,
           4,
           4,
           1,
           1,
           1,
           1,
           2,
           3,
           4,
           1,
           1,
           1,
           3,
           3,
           3,
           3,
           2,
           3,
           3,
           1,
           4,
           2,
           0,
           4,
           4,
           0,
           4,
           4,
           4,
           4,
           0,
           4,
           4,
           1,
           2,
           1,
           4,
           2,
           1,
           2,
           4,
           0,
           0,
           0,
           3,
           3,
           0,
           0,
           4,
           2,
           0,
           1,
           0,
           4,
           2,
           2,
           2,
           2,
           1,
           4,
           4,
           2,
           3,
           1,
           4,
           3,
           1,
           0,
           0,
           3,
           3,
           4,
           4,
           0,
           0,
           0,
           4,
           0,
           0,
           0,
           0,
           2,
           0,
           2,
           1,
           2,
           1,
           0,
           0,
           2,
           4,
           1,
           1,
           4,
           4,
           1,
           4,
           4,
           1,
           1,
           2,
           4,
           4,
           4,
           0,
           0,
           2,
           4,
           4,
           1,
           2,
           4,
           4,
           3,
           3,
           3,
           2,
           3,
           3,
           4,
           3,
           3,
           3,
           4,
           0,
           4,
           1,
           1,
           0,
           1,
           1,
           4,
           4,
           4,
           0,
           4,
           0,
           0,
           4,
           2,
           3,
           2,
           2,
           0,
           0,
           0,
           4,
           0,
           0,
           2,
           4,
           3,
           3,
           4,
           3,
           1,
           0,
           2,
           1,
           0,
           0,
           2,
           2,
           2,
           3,
           3,
           2,
           0,
           2,
           4,
           3,
           0,
           2,
           2,
           4,
           4,
           4,
           0,
           0,
           4,
           0,
           2,
           4,
           4,
           4,
           2,
           0,
           3,
           1,
           1,
           2,
           2,
           1,
           4,
           0,
           4,
           3,
           1,
           4,
           3,
           2,
           4,
           1,
           4,
           0,
           4,
           1,
           3,
           3,
           3,
           1,
           4,
           2,
           2,
           0,
           4,
           3,
           1,
           0,
           4,
           0,
           2,
           1,
           2,
           4,
           4,
           0,
           0,
           2,
           4,
           0,
           0,
           3,
           2,
           0,
           0,
           4,
           2,
           3,
           2,
           0,
           2,
           2,
           2,
           1,
           2,
           2,
           1,
           1,
           0,
           1,
           1,
           4,
           1,
           1,
           1,
           4,
           3,
           3,
           3,
           0,
           4,
           3,
           1,
           3,
           0,
           4,
           4,
           1,
           3,
           1,
           3,
           3,
           2,
           3,
           2,
           2,
           0,
           4,
           2,
           2,
           4,
           0,
           1,
           4,
           4,
           0,
           1,
           1,
           4,
           0,
           4,
           0,
           0,
           0,
           4,
           2,
           0,
           4,
           4,
           4,
           1,
           1,
           4,
           1,
           4,
           2,
           2,
           4,
           0,
           3,
           1,
           2,
           1,
           4,
           1,
           0,
           2,
           2,
           3,
           3,
           3,
           0,
           0,
           4,
           2,
           0,
           3,
           2,
           2,
           3,
           3,
           3,
           4,
           3,
           1,
           2,
           1,
           2,
           0,
           4,
           0,
           4,
           4,
           2,
           0,
           0,
           2,
           0,
           0,
           4,
           3,
           0,
           4,
           2,
           3,
           2,
           4,
           4,
           4,
           0,
           0,
           2,
           4,
           1,
           1,
           4,
           4,
           1,
           4,
           2,
           1,
           1,
           1,
           1,
           0,
           1,
           4,
           4,
           4,
           2,
           1,
           0,
           0,
           0,
           1,
           2,
           1,
           2,
           0,
           1,
           1,
           1,
           2,
           4,
           2,
           1,
           2,
           4,
           1,
           2,
           2,
           4,
           2,
           1,
           0,
           1,
           2,
           3,
           4,
           4,
           4,
           2,
           2,
           4,
           3,
           2,
           3,
           3,
           3,
           3,
           3,
           3,
           3,
           3,
           3,
           3,
           3,
           1,
           3,
           3,
           3,
           3,
           3,
           3,
           3,
           2,
           3,
           3,
           3,
           1,
           1,
           4,
           0,
           4,
           4,
           4,
           4,
           4,
           4,
           4,
           4,
           4,
           1,
           4,
           0,
           2,
           0,
           3,
           4,
           3,
           0,
           0,
           4,
           3,
           3,
           3,
           4,
           2,
           2,
           3,
           1,
           1,
           3,
           1,
           1,
           1,
           0,
           4,
           4,
           4,
           0,
           2,
           3,
           4,
           1,
           1,
           2,
           1,
           4,
           4,
           4,
           2,
           1,
           1,
           4,
           4,
           2,
           4,
           4,
           0,
           4,
           0,
           4,
           4,
           4,
           1,
           4,
           4,
           4,
           4,
           4,
           4,
           4,
           4,
           4,
           1,
           4,
           1,
           4,
           4,
           4,
           4,
           0,
           0,
           1,
           3,
           3,
           1,
           0,
           1,
           4,
           4,
           4,
           4,
           0,
           4,
           0,
           0,
           3,
           0,
           3,
           4,
           3,
           0,
           4,
           2,
           0,
           4,
           0,
           0,
           1,
           4,
           1,
           4,
           4,
           0,
           4,
           0,
           3,
           2,
           0,
           2,
           4,
           0,
           0,
           0,
           0,
           2,
           0,
           0,
           0,
           4,
           0,
           0,
           0,
           0,
           4,
           1,
           0,
           0,
           2,
           4,
           1,
           2,
           4,
           1,
           4,
           2,
           0,
           4,
           4,
           4,
           1,
           4,
           0,
           4,
           4,
           0,
           4,
           4,
           3,
           1,
           0,
           1,
           2,
           0,
           2,
           1,
           2,
           4,
           4,
           3,
           0,
           0,
           0,
           4,
           0,
           4,
           4,
           2,
           2,
           2,
           3,
           1,
           4,
           2,
           4,
           2,
           2,
           4,
           4,
           0,
           1,
           4,
           4,
           4,
           4,
           2,
           4,
           2,
           4,
           4,
           0,
           4,
           2,
           0,
           4,
           2,
           1,
           2,
           4,
           1,
           0,
           3,
           4,
           4,
           4,
           4,
           1,
           4,
           1,
           0,
           0,
           4,
           4,
           4,
           1,
           0,
           0,
           2,
           1,
           2,
           0,
           0,
           0,
           3,
           4,
           2,
           3,
           3,
           0,
           0,
           4,
           0,
           4,
           3,
           0,
           2,
           3,
           2,
           1,
           1,
           0,
           4,
           2,
           0,
           1,
           3,
           0,
           0,
           4,
           1,
           4,
           0,
           1,
           3,
           0,
           4,
           0,
           4,
           2,
           0,
           2,
           1,
           1,
           3,
           3,
           3,
           3,
           4,
           3,
           2,
           0,
           4,
           4,
           2,
           1,
           4,
           2,
           0,
           3,
           2,
           4,
           0,
           4,
           4,
           1,
           0,
           0,
           1,
           2,
           4,
           0,
           2,
           4,
           4,
           0,
           2,
           0,
           4,
           0,
           0,
           0,
           2,
           4,
           4,
           4,
           0,
           0,
           0,
           4,
           0,
           3,
           0,
           3,
           2,
           1,
           3,
           0,
           2,
           1,
           4,
           3,
           0,
           1,
           4,
           2,
           2,
           2,
           3,
           1,
           2,
           4,
           0,
           0,
           4,
           4,
           4,
           4,
           1,
           2,
           3,
           3,
           4,
           4,
           3,
           2,
           4,
           0,
           3,
           2,
           2,
           1,
           1,
           2,
           1,
           0,
           4,
           1,
           4,
           0,
           2,
           3,
           0,
           3,
           3,
           0,
           0,
           0,
           0,
           0,
           0,
           4,
           2,
           2,
           3,
           4,
           2,
           0,
           4,
           0,
           2,
           3,
           4,
           0,
           4,
           4,
           1,
           1,
           1,
           1,
           2,
           2,
           0,
           4,
           2,
           2,
           2,
           2,
           4,
           1,
           1,
           4,
           4,
           4,
           1,
           2,
           2,
           4,
           4,
           0,
           3,
           4,
           2,
           2,
           2,
           3,
           3,
           4,
           3,
           3,
           1,
           0,
           0,
           4,
           2,
           2,
           0,
           1,
           0,
           1,
           3,
           3,
           2,
           4,
           0,
           4,
           4,
           3,
           0,
           1,
           4,
           0,
           0,
           0,
           4,
           0,
           2,
           1,
           4,
           4,
           0,
           0,
           1,
           4,
           4,
           4,
           4,
           0,
           0,
           4,
           2,
           4,
           0,
           2,
           4,
           0,
           2,
           0,
           0,
           4,
           1,
           3,
           0,
           0,
           4,
           4,
           0,
           2,
           0,
           2,
           0,
           4,
           0,
           2,
           2,
           4,
           2,
           0,
           3,
           3,
           3,
           2,
           4,
           0,
           0,
           4,
           4,
           3,
           1,
           0,
           0,
           3,
           3,
           4,
           4,
           4,
           0,
           4,
           3,
           0,
           3,
           3,
           3,
           0,
           0,
           0,
           4,
           4,
           1,
           1,
           0,
           4,
           0,
           0,
           2,
           4,
           0,
           0,
           0,
           4,
           4,
           0,
           2,
           1,
           1,
           1,
           2,
           4,
           1,
           2,
           0,
           2,
           0,
           4,
           4,
           0,
           0,
           2,
           0,
           0,
           4,
           4,
           0,
           1,
           3,
           1,
           1,
           0,
           3,
           1,
           1,
           3,
           4,
           0,
           2,
           0,
           4,
           0,
           0,
           4,
           4,
           4,
           4,
           0,
           0,
           1,
           2,
           1,
           3,
           1,
           1,
           1,
           3,
           0,
           1,
           1,
           2,
           1,
           4,
           4,
           4,
           3,
           2,
           4,
           3,
           0,
           0,
           1,
           2,
           0,
           4,
           0,
           4,
           0,
           0,
           0,
           4,
           1,
           1,
           1,
           3,
           3,
           3,
           3,
           1,
           4,
           4,
           3,
           4,
           4,
           4,
           2,
           4,
           3,
           3,
           1,
           4,
           4,
           4,
           4,
           4,
           3,
           3,
           3,
           3,
           3,
           3,
           3,
           1,
           2,
           2,
           4,
           2,
           2,
           1,
           1,
           4,
           0,
           3,
           4,
           4,
           4,
           4,
           4,
           1,
           4,
           3,
           3,
           3,
           3,
           2,
           1,
           1,
           1,
           2,
           2,
           4,
           4,
           3,
           0,
           3,
           2,
           2,
           2,
           2,
           2,
           2,
           2,
           0,
           2,
           1,
           3,
           1,
           4,
           4,
           3,
           4,
           1,
           1,
           4,
           2,
           2,
           1,
           2,
           3,
           4,
           2,
           2,
           2,
           4,
           2,
           2,
           4,
           4,
           2,
           0,
           2,
           4,
           2,
           0,
           4,
           0,
           2,
           2,
           0,
           1,
           2,
           0,
           4,
           0,
           2,
           4,
           3,
           2,
           2,
           4,
           0,
           0,
           2,
           1,
           1,
           2,
           4,
           0,
           0,
           0,
           0,
           2,
           0,
           2,
           2,
           4,
           4,
           1,
           2,
           3,
           2,
           2,
           1,
           1,
           4,
           3,
           0,
           2,
           1,
           0,
           1,
           4,
           1,
           1,
           3,
           3,
           1,
           4,
           0,
           4,
           2,
           2,
           2,
           2,
           3,
           3,
           3,
           3,
           0,
           3,
           3,
           2,
           4,
           0,
           0,
           4,
           3,
           2,
           3,
           0,
           3,
           0,
           3,
           3,
           2,
           0,
           2,
           0,
           3,
           3,
           3,
           3,
           2,
           1,
           1,
           4,
           4,
           0,
           3,
           2,
           0,
           4,
           0,
           0,
           0,
           4,
           0,
           0,
           4,
           0,
           0,
           2,
           2,
           4,
           4,
           0,
           1,
           4,
           3,
           3,
           3,
           3,
           0,
           3,
           4,
           0,
           2,
           2,
           4,
           0,
           0,
           3,
           1,
           4,
           2,
           1,
           2,
           0,
           0,
           2,
           0,
           0,
           0,
           0,
           2,
           0,
           0,
           4,
           4,
           0,
           2,
           3,
           2,
           2,
           4,
           1,
           1,
           1,
           4,
           1,
           1,
           1,
           2,
           1,
           3,
           1,
           1,
           2,
           2,
           1,
           1,
           0,
           3,
           1,
           2,
           1,
           2,
           1,
           4,
           2,
           1,
           3,
           1,
           1,
           1,
           1,
           1,
           1,
           2,
           3,
           4,
           2,
           4,
           4,
           2,
           1,
           4,
           1,
           0,
           4,
           4,
           4,
           4,
           4,
           1,
           1,
           4,
           1,
           4,
           1,
           0,
           0,
           2,
           0,
           2,
           4,
           2,
           4,
           1,
           4,
           4,
           1,
           3,
           4,
           4,
           1,
           4,
           3,
           2,
           2,
           1,
           1,
           4,
           3,
           3,
           3,
           2,
           1,
           3,
           3,
           0,
           4,
           4,
           4,
           4,
           3,
           3,
           1,
           4,
           0,
           3,
           4,
           1,
           2,
           2,
           3,
           4,
           4,
           4,
           3,
           4,
           2,
           1,
           4,
           4,
           4,
           4,
           0,
           4,
           4,
           4,
           1,
           4,
           4,
           4,
           2,
           4,
           4,
           4,
           4,
           1,
           3,
           2,
           2,
           0,
           4,
           4,
           1,
           2,
           3,
           2,
           0,
           2,
           2,
           0,
           1,
           4,
           2,
           1,
           4,
           1,
           2,
           2,
           1,
           2,
           2,
           4,
           1,
           0,
           0,
           0,
           1,
           2,
           4,
           3,
           2,
           1,
           2,
           0,
           3,
           1,
           4,
           2,
           2,
           4,
           2,
           0,
           2,
           3,
           0,
           1,
           4,
           0,
           2,
           2,
           2,
           4,
           1,
           2,
           1,
           4,
           1,
           1,
           2,
           2,
           4,
           2,
           4,
           2,
           0,
           2,
           3,
           2,
           0,
           3,
           2,
           4,
           4,
           0,
           2,
           0,
           0,
           0,
           0,
           0,
           0,
           0,
           0,
           0,
           4,
           0,
           4,
           2,
           1,
           4,
           0,
           2,
           1,
           4,
           4,
           2,
           1,
           0,
           0,
           0,
           0,
           0,
           2,
           3,
           4,
           0,
           4,
           0,
           4,
           1,
           4,
           4,
           4,
           4,
           4,
           0,
           4,
           2,
           3,
           3,
           2,
           3,
           2,
           0,
           1,
           4,
           2,
           3,
           2,
           0,
           4,
           2,
           0,
           3,
           2,
           0,
           0,
           4,
           4,
           4,
           2,
           3,
           0,
           2,
           0,
           2,
           2,
           0,
           4,
           4,
           0,
           2,
           2,
           4,
           2,
           3,
           3,
           4,
           3,
           0,
           4,
           4,
           0,
           4,
           4,
           4,
           3,
           0,
           0,
           3,
           4,
           1,
           1,
           1,
           2,
           4,
           3,
           4,
           1,
           1,
           2,
           1,
           1,
           2,
           1,
           1,
           4,
           2,
           2,
           4,
           3,
           0,
           4,
           4,
           2,
           4,
           2,
           3,
           1,
           4,
           1,
           1,
           4,
           4,
           1,
           4,
           1,
           1,
           1,
           4,
           2,
           4,
           4,
           1,
           1,
           1,
           4,
           2,
           1,
           0,
           0,
           4,
           3,
           2,
           1,
           1,
           0,
           0,
           2,
           2,
           4,
           0,
           2,
           1,
           3,
           4,
           3,
           4,
           3,
           1,
           0,
           2,
           0,
           1,
           2,
           4,
           4,
           3,
           2,
           1,
           2,
           0,
           4,
           2,
           0,
           0,
           2,
           2,
           2,
           3,
           2,
           4,
           2,
           1,
           1,
           2,
           0,
           0,
           4,
           0,
           3,
           3,
           2,
           4,
           4,
           2,
           0,
           2,
           3,
           4,
           0,
           2,
           0,
           4,
           1,
           1,
           4,
           4,
           1,
           4,
           0,
           4,
           2,
           4,
           0,
           4,
           2,
           0,
           4,
           3,
           0,
           0,
           4,
           4,
           0,
           0,
           2,
           0,
           1,
           4,
           2,
           0,
           0,
           0,
           3,
           3,
           2,
           4,
           3,
           2,
           3,
           1,
           0,
           4,
           4,
           0,
           4,
           2,
           0,
           2,
           0,
           4,
           0,
           4,
           0,
           3,
           3,
           3,
           0,
           3,
           4,
           2,
           3,
           0,
           0,
           0,
           0,
           0,
           2,
           0,
           2,
           4,
           2,
           2,
           4,
           4,
           3,
           4,
           0,
           2,
           0,
           0,
           4,
           0,
           1,
           2,
           2,
           2,
           2,
           1,
           4,
           1,
           1,
           0,
           0,
           4,
           4,
           4,
           0,
           3,
           2,
           4,
           2,
           4,
           4,
           0,
           2,
           4,
           4,
           0,
           4,
           3,
           4,
           2,
           0,
           4,
           2,
           4,
           2,
           4,
           4,
           4,
           0,
           4,
           2,
           1,
           1,
           2,
           0,
           4,
           2,
           3,
           3,
           0,
           3,
           3,
           2,
           3,
           3,
           3,
           0,
           3,
           0,
           2,
           0,
           3,
           3,
           1,
           1,
           3,
           4,
           0,
           4,
           4,
           4,
           1,
           4,
           2,
           2,
           3,
           3,
           0,
           4,
           0,
           4,
           4,
           0,
           1,
           4,
           1,
           2,
           2,
           4,
           4,
           3,
           2,
           4,
           4,
           4,
           1,
           2,
           4,
           2,
           1,
           0,
           4,
           4,
           1,
           0,
           4,
           2,
           4,
           4,
           4,
           1,
           3,
           2,
           2,
           3,
           1,
           4,
           0,
           0,
           0,
           1,
           2,
           0,
           2,
           4,
           4,
           4,
           4,
           4,
           0,
           0,
           1,
           3,
           4,
           3,
           3,
           3,
           3,
           3,
           1,
           0,
           1,
           4,
           4,
           1,
           4,
           4,
           3,
           4,
           4,
           4,
           2,
           4,
           0,
           4,
           0,
           4,
           2,
           4,
           4,
           2,
           4,
           0,
           2,
           4,
           4,
           4,
           4,
           0,
           2,
           2,
           4,
           2,
           4,
           4,
           3,
           0,
           1,
           4,
           2,
           2,
           0,
           2,
           3,
           4,
           4,
           0,
           0,
           0,
           0,
           3,
           0,
           2,
           2,
           3,
           3,
           0,
           4,
           0,
           4,
           0,
           0,
           2,
           3,
           4,
           2,
           2,
           2,
           0,
           0,
           0,
           0,
           0,
           0,
           0,
           0,
           0,
           0,
           2,
           0,
           0,
           2,
           0,
           1,
           0,
           2,
           1,
           2,
           0,
           2,
           0,
           1,
           2,
           4,
           2,
           0,
           2,
           2,
           0,
           0,
           0,
           4,
           1,
           2,
           4,
           1,
           4,
           4,
           0,
           0,
           0,
           4,
           0,
           4,
           4,
           1,
           3,
           3,
           0,
           2,
           4,
           4,
           4,
           2,
           1,
           4,
           4,
           1,
           3,
           1,
           2,
           2,
           4,
           4,
           4,
           4,
           2,
           4,
           4,
           4,
           0,
           4,
           3,
           0,
           4,
           2,
           0,
           0,
           1,
           0,
           4,
           1,
           1,
           0,
           4,
           4,
           4,
           4,
           4,
           4,
           4,
           0,
           4,
           4,
           4,
           1,
           3,
           4,
           0,
           4,
           2,
           4,
           1,
           4,
           2,
           0,
           4,
           0,
           4,
           0,
           4,
           4,
           4,
           4,
           2,
           0,
           0,
           2,
           4,
           0,
           0,
           4,
           2,
           2,
           4,
           1,
           2,
           4,
           0,
           2,
           4,
           4,
           1,
           3,
           2,
           3,
           4,
           1,
           2,
           2,
           4,
           2,
           2,
           1,
           2,
           2,
           2,
           0,
           0,
           1,
           3,
           3,
           0,
           0,
           1,
           2,
           1,
           0,
           0,
           3,
           3,
           4,
           0,
           2,
           2,
           3,
           2,
           0,
           4,
           3,
           1,
           4,
           0,
           4,
           4,
           4,
           4,
           4,
           4,
           4,
           4,
           4,
           2,
           1,
           1,
           4,
           4,
           1,
           4,
           4,
           0,
           4,
           2,
           1,
           3,
           1,
           4,
           2,
           4,
           2,
           3,
           4,
           3,
           2,
           4,
           2,
           1,
           4,
           4,
           4,
           4,
           4,
           4,
           0,
           4,
           2,
           4,
           4,
           2,
           3,
           2,
           1,
           1,
           4,
           2,
           2,
           4,
           1,
           3,
           3,
           1,
           0,
           2,
           0,
           2,
           2,
           0,
           2,
           0,
           3,
           4,
           2,
           2,
           0,
           2,
           3,
           3,
           4,
           4,
           4,
           2,
           4,
           4,
           4,
           0,
           1,
           1,
           0,
           1,
           0,
           0,
           0,
           0,
           2,
           0,
           3,
           2,
           4,
           0,
           4,
           2,
           0,
           2,
           2,
           2,
           2,
           4,
           0,
           4,
           1,
           2,
           4,
           2,
           1,
           4,
           4,
           4,
           1,
           2,
           2,
           4,
           1,
           2,
           3,
           3,
           3,
           4,
           3,
           4,
           1,
           4,
           4,
           4,
           1,
           4,
           4,
           0,
           4,
           2,
           0,
           0,
           2,
           4,
           2,
           4,
           0,
           2,
           2,
           4,
           4,
           0,
           3,
           1,
           3,
           2,
           3,
           3,
           3,
           0,
           4,
           2,
           4,
           0,
           2,
           4,
           2,
           4,
           4,
           3,
           4,
           4,
           2,
           4,
           0,
           2,
           4,
           2,
           1,
           2,
           1,
           4,
           4,
           1,
           1,
           4,
           1,
           2,
           1,
           4,
           0,
           0,
           0,
           3,
           4,
           0,
           3,
           1,
           1,
           3,
           3,
           3,
           4,
           0,
           2,
           2,
           2,
           2,
           2,
           2,
           0,
           0,
           4,
           4,
           4,
           0,
           0,
           2,
           0,
           3,
           4,
           4,
           0,
           0,
           2,
           0,
           0,
           4,
           0,
           0,
           2,
           2,
           0,
           2,
           0,
           0,
           3,
           1,
           2,
           0,
           0,
           4,
           0,
           0,
           0,
           0,
           4,
           2,
           2,
           2,
           3,
           2,
           0,
           4,
           1,
           1,
           2,
           0,
           3,
           3,
           0,
           4,
           2,
           3,
           1,
           0,
           0,
           2,
           4,
           4,
           0,
           1,
           1,
           4,
           2,
           2,
           3,
           1,
           2,
           2,
           2,
           1,
           4,
           4,
           4,
           4,
           1,
           1,
           1,
           0,
           1,
           1,
           2,
           2,
           0,
           2,
           0,
           0,
           0,
           2,
           2,
           4,
           4,
           4,
           4,
           4,
           0,
           4,
           2,
           2,
           4,
           4,
           4,
           4,
           4,
           2,
           1,
           4,
           0,
           1,
           3,
           0,
           0,
           4,
           1,
           2,
           2,
           1,
           3,
           1,
           2,
           4,
           1,
           2,
           1,
           2,
           1,
           1,
           2,
           4,
           4,
           4,
           0,
           0,
           0,
           4,
           4,
           4,
           0,
           2,
           4,
           4,
           4,
           4,
           4,
           4,
           0,
           0,
           0,
           4,
           1,
           1,
           2,
           4,
           4,
           4,
           2,
           2,
           1,
           1,
           2,
           4,
           2,
           4,
           4,
           4,
           1,
           3,
           0,
           0,
           1,
           1,
           1,
           2,
           1,
           0,
           2,
           4,
           2,
           1,
           3,
           2,
           1,
           4,
           4,
           2,
           2,
           4,
           4,
           4,
           0,
           0,
           0,
           4,
           2,
           4,
           4,
           4,
           4,
           0,
           4,
           4,
           4,
           0,
           2,
           4,
           4,
           0,
           2,
           0,
           3,
           3,
           3,
           0,
           4,
           1,
           4,
           4,
           4,
           4,
           3,
           0,
           0,
           4,
           4,
           0,
           2,
           1,
           1,
           4,
           4,
           4,
           2,
           0,
           0,
           2,
           2,
           4,
           2,
           0,
           2,
           1,
           4,
           1,
           0,
           0,
           1,
           4,
           4,
           4,
           4,
           2,
           3,
           0,
           4,
           3,
           2,
           2,
           4,
           4,
           0,
           2,
           0,
           1,
           1,
           1,
           3,
           1,
           1,
           2,
           1,
           1,
           1,
           3,
           1,
           1,
           4,
           1,
           1,
           1,
           1,
           1,
           3,
           1,
           1,
           3,
           2,
           4,
           4,
           4,
           4,
           0,
           0,
           1,
           0,
           3,
           1,
           4,
           1,
           0,
           0,
           4,
           1,
           3,
           1,
           4,
           2,
           3,
           4,
           3,
           0,
           0,
           0,
           2,
           4,
           4,
           4,
           4,
           1,
           4,
           2,
           4,
           2,
           1,
           3,
           3,
           3,
           3,
           2,
           0,
           2,
           2,
           4,
           2,
           2,
           3,
           0,
           2,
           0,
           4,
           0,
           2,
           2,
           0,
           2,
           2,
           3,
           1,
           3,
           3,
           1,
           2,
           4,
           4,
           4,
           0,
           4,
           4,
           2,
           4,
           4,
           1,
           4
          ],
          "coloraxis": "coloraxis",
          "symbol": "circle"
         },
         "mode": "markers",
         "name": "",
         "showlegend": false,
         "type": "scattergl",
         "x": [
          5.910268108221793,
          2.787093152808591,
          -0.7575375383744631,
          1.0205214866168164,
          0.7539105142791426,
          1.7971062652419407,
          -0.4620496054489365,
          -1.3116722595637258,
          0.5984179553898566,
          0.598201201395039,
          -1.165652538527716,
          -0.07118124655696005,
          -2.1717115858284015,
          3.673296663029769,
          0.8327855889826041,
          0.0014059392111351824,
          -0.9273057420077743,
          0.6796203745139366,
          -1.4878005371777179,
          -0.25016976307256583,
          0.9541894103960769,
          0.8894938464845359,
          -0.9349244756981557,
          2.435242216702912,
          -0.5794096848078703,
          -1.6872704870086677,
          -1.0665290759030295,
          3.743308758581932,
          -2.1543016574456946,
          -1.0808503055522523,
          -0.9549632645218931,
          -3.235872651592801,
          -1.7119755341735579,
          -0.43365637370201954,
          -0.6062336832001027,
          -0.9441629326199632,
          -0.21897352791236954,
          -1.561766720905515,
          -1.3458348880477145,
          -0.6937048482628612,
          -1.6190405446647007,
          -1.533327685835035,
          -1.6988335792571163,
          -1.8093965083506094,
          1.0018621405554706,
          -1.5505557919539052,
          -2.6162017995351023,
          -0.7218561265706737,
          -0.9358284356998533,
          -2.3217190043773908,
          -2.1698597717064194,
          -0.11704076484140147,
          -0.17798254163413804,
          -1.377097862788498,
          -1.2775706484489124,
          -1.66890822293366,
          -1.4330066722916897,
          -0.8812940272849351,
          -1.9337278510850238,
          -0.9919561769523915,
          -0.8554408012501137,
          -0.45004862859253486,
          -1.0642892702634432,
          3.462606271585076,
          0.6998427652454077,
          1.0246979229312394,
          -0.8535513919608645,
          0.6504792609298512,
          -0.4774877693274712,
          3.6547368585169053,
          -0.5680284493815144,
          1.2275685578826747,
          6.308184544302043,
          3.394757217806677,
          4.90995429279223,
          4.521497311111668,
          3.436840226679442,
          1.7065111212663084,
          -1.9949213104070929,
          2.883522671902227,
          -0.04924041576369397,
          4.251881907817699,
          1.5205339090003132,
          2.757827476352552,
          3.8188688418188854,
          0.5222233385124357,
          0.6640664570007117,
          -1.8377265384972323,
          4.307369932725614,
          -0.9793272008623074,
          -1.7532546732907157,
          -2.255179190561469,
          -2.29044156642183,
          -0.2800789416316544,
          0.22291185347269316,
          -1.5101821955287535,
          -0.619284508979635,
          -0.07420986987072377,
          1.6728243374303766,
          -1.9433530146570495,
          1.0149766128732869,
          2.7195576686454235,
          0.9057166961074974,
          -0.2183730069180107,
          -0.26256655656215444,
          0.8449080453819644,
          2.8327794759317664,
          1.4614957709996277,
          -1.5842602988284022,
          -1.8856176787118504,
          -2.3938664259095845,
          -0.008422928392726278,
          -3.0786420856227728,
          -1.6438199733026297,
          -2.0393729844155706,
          -0.996867435784072,
          -1.980988742544417,
          -1.9736099706764738,
          -0.21426030082170894,
          -2.320158888094007,
          0.6288114935083469,
          5.262718544641116,
          -0.1216653640882384,
          -1.012105475461396,
          0.035260963005684494,
          3.4926105143427906,
          -1.2753710449014173,
          0.3282646881366833,
          -1.6951789119860816,
          3.7286177933129547,
          -0.6107015592017129,
          -1.9032893260849415,
          -1.8874273931826748,
          -1.4787588103471283,
          -1.687927343644113,
          -2.1606659415912093,
          4.658088207506918,
          0.6998427652454077,
          -1.8094474553131525,
          0.6443884999442732,
          -2.8182814169138863,
          0.6443884999442732,
          -1.4716926838801563,
          1.8781753016297524,
          -1.1338434847768157,
          -0.7702516670886765,
          -0.5221138504004779,
          -0.9270989547196351,
          0.5931378934821797,
          -1.3843251626688347,
          5.271177784407817,
          -0.9642170705834131,
          3.7543195842804673,
          2.9926527080734284,
          4.167831601809075,
          -0.3896280793317456,
          -1.6424751435576144,
          -1.167543393129808,
          -1.7381524969306446,
          -1.9383384408051338,
          -1.6757529454902507,
          -1.1873372651487164,
          -0.3541927469754771,
          -1.9748930162104523,
          -1.4332166640427924,
          -1.859962127993921,
          -1.6285081252103317,
          -1.261627542204428,
          -1.2397362810749406,
          0.18868288124372667,
          -1.2018029791688294,
          0.0775439069895694,
          -0.43606997058020885,
          -1.2727953385235413,
          -1.0274090397486297,
          -1.861782165770576,
          -0.8788683358223202,
          -2.6221998744781314,
          -1.6576596345415069,
          4.075563099476095,
          4.894322340584222,
          4.158854712674678,
          0.3441558565252683,
          3.252965531703461,
          -2.0146663246069756,
          0.19335161691421668,
          0.5398747178532806,
          4.4076560013832,
          2.3595535652176154,
          -1.0134812826832043,
          -1.477559825349805,
          1.7516550987332944,
          -1.9813204401207742,
          -1.5921148477738614,
          -1.8603543986322102,
          -1.6438683942628738,
          4.743511527342339,
          2.1646111991229047,
          1.9271058748133276,
          0.24867553257171104,
          0.2640495888153461,
          -3.1062145776446375,
          1.0069292318079606,
          0.7363487998666427,
          0.013770393933030357,
          -0.9862592055897745,
          -0.010758925244005372,
          5.381249937095056,
          3.031134078256739,
          2.1219579799750274,
          5.376825054885015,
          -1.8715344938197183,
          -0.825704450018687,
          -1.8050999520940776,
          -1.5965747063171396,
          -1.3903620518490418,
          2.3817849882339286,
          0.32671054219402673,
          1.1855448365432084,
          2.2307952333073517,
          0.18273407852012685,
          4.819813386113588,
          -1.8931190472758392,
          1.0877277036361293,
          1.2390028548321212,
          2.394036667746407,
          2.5765941967237214,
          3.758125064467636,
          3.603387921723094,
          3.0892966317647024,
          -0.2978414883711006,
          4.13845704565825,
          2.6839649557379293,
          0.9951124914788212,
          -1.6409269228190297,
          -0.10733653159368318,
          -1.7242942774158063,
          -2.2972037194660815,
          -2.151173770862402,
          -1.5759181415763408,
          -1.3487051914956136,
          -2.026548482080459,
          -2.12069047476899,
          -1.9307654535976813,
          -0.9234066530601979,
          -1.2516471860681753,
          -1.9113516620063324,
          0.7812550919890989,
          -0.5237497338668538,
          1.5258122967139593,
          -1.481522903777515,
          -0.8608015003990181,
          2.066445088869664,
          -0.3918110027355381,
          -0.8627420859305028,
          -1.7244851503949097,
          -2.451976422151481,
          -2.451976422151481,
          4.911094086350663,
          2.1284228776298364,
          -2.026227680053005,
          -1.7259688400927664,
          -1.7612462995881766,
          -0.3294248445373821,
          -0.7167812722224338,
          2.359912655797251,
          -0.4109516244751076,
          -2.0724990678317305,
          0.4941512548817769,
          0.3947367578461064,
          0.50111474559944,
          -0.1501947731074116,
          2.264366565829926,
          -1.3540154536804458,
          -1.4700532554453163,
          -0.3914865896117503,
          2.9286868308441942,
          1.562734494181793,
          -1.804653395322845,
          4.421919934708996,
          1.6666341252458154,
          -0.8630069468661101,
          -1.8240161816083948,
          6.2023298324535485,
          2.7007297571142224,
          -1.9219988731601114,
          -3.885335156982537,
          -0.32373523372279206,
          -1.4830437992216363,
          -0.6661581305866577,
          -0.8975313027897447,
          -0.27150010958598964,
          -2.0260074964118404,
          0.030668548225325384,
          -0.6661581305866577,
          1.6679376175633998,
          -0.9628431990032477,
          0.05229047058608297,
          1.4342428370670819,
          -0.07440927214208748,
          0.31619568972430345,
          -1.6854348307187534,
          -1.3783735498215974,
          -0.5302811239602091,
          -1.9482834157370152,
          0.43768166538024444,
          0.46116511270965055,
          -0.6169217471719326,
          -1.1400256377059375,
          1.2533220435925625,
          -1.8065011423621282,
          -2.1058975606514676,
          0.5834156893519927,
          0.6150431813346557,
          0.8314068380244771,
          -1.167749833094719,
          -1.879745158025085,
          -1.5737313828666786,
          -1.714870972910062,
          -1.2187163240425545,
          -0.9081075934919383,
          -2.4076385061986563,
          -2.631247737130893,
          1.5673168136376308,
          1.2606761374764384,
          -1.273136278441533,
          -1.9933897451720621,
          6.078392568331343,
          6.2023298324535485,
          1.880647197466098,
          0.48550384897295196,
          3.7247868746474655,
          4.9990228510230175,
          -0.6507019188068315,
          2.831754032108111,
          5.157224121091323,
          3.8192902746508053,
          -1.8812815325483476,
          -1.0170415780895805,
          -2.343114277873313,
          -0.06139419459486069,
          1.1244973226335093,
          -1.0170415780895805,
          1.549987445185144,
          -0.23880439879088727,
          -2.054894883326248,
          -1.46085369193329,
          -1.251126848202764,
          -1.43262313690902,
          -0.8322050040893003,
          -1.0170415780895805,
          -1.4771002595731533,
          -2.62860659933416,
          -0.21035255659038918,
          3.7220411064919303,
          -0.6601937727661518,
          -0.08898081277070376,
          -1.3796424287630307,
          0.8934594009314054,
          -0.6029963198787517,
          -0.7120551860400115,
          -0.7769839379468488,
          -0.6805758573158153,
          -0.24279844901403558,
          -1.9562315383510145,
          4.118042026063585,
          5.713741031844156,
          -0.741741162639264,
          4.424095099147771,
          2.327318240629539,
          0.017763471206448073,
          0.3014939930849976,
          0.9650215283895122,
          0.02246839262249733,
          -1.2199650459691413,
          0.34177511590531023,
          -0.5378912868672477,
          0.864467896047194,
          4.004696577326853,
          4.008320181774835,
          1.3829663131262557,
          -2.057429789142764,
          1.309477413759331,
          -1.2244223547667645,
          3.3013877478747733,
          -1.1107604184765902,
          0.5360702750732717,
          -0.24744053697254745,
          -1.9441899850782929,
          -2.133057653760353,
          -1.0891187918604008,
          -1.8302469752259658,
          -0.155164164493441,
          -0.9951653539849201,
          -1.359606053701547,
          -0.6110809564064194,
          -2.549815498266093,
          -0.6067753052647097,
          -0.7288872748469303,
          -0.642756120234146,
          -0.838466182915418,
          7.048160534198849,
          3.0862995100788653,
          1.6499160539143827,
          0.5039626516959587,
          -0.7628234779254301,
          1.909886143097407,
          -0.738155470358414,
          -1.2105050375339603,
          -1.6165006411449976,
          2.915285284524163,
          0.787531539543544,
          -1.4713066508652923,
          3.8405366544879773,
          0.8180105809922922,
          -1.5363920461225506,
          1.5017010248753788,
          -0.8269573928584228,
          -1.2365537984863497,
          -1.1213910396496638,
          0.35325357571309507,
          4.156988672470461,
          4.181143915852828,
          5.874241617946338,
          0.7726737970500189,
          -1.2384651584229946,
          0.17391144426442526,
          -0.29101915682132584,
          -1.3643289196729798,
          -1.0013576229512058,
          2.8143610849320826,
          1.0152267748235697,
          -0.8997096472317087,
          -1.8161225830951806,
          -0.40691985636643235,
          -0.6222506022041557,
          0.9298554236724572,
          -0.031158874814143193,
          -1.8953253854100003,
          -2.086459473772657,
          -1.033074036500285,
          -1.648478835334428,
          -0.07688967377256145,
          -0.9626729037514548,
          -2.0140350530214666,
          -1.329341300564141,
          2.960200102558322,
          0.33666129733437317,
          -1.7136150221763604,
          -1.432279762951494,
          -0.9929724146692315,
          0.37104684811124167,
          2.638713405966959,
          -0.028077801649979237,
          -1.6676648655046535,
          -0.6079060289417968,
          0.02237747438216049,
          0.9645203776907136,
          1.2387761280336023,
          0.32115465675815724,
          0.3993101634015987,
          1.4480493860298342,
          2.279897641894935,
          -0.22663402010361855,
          0.25316511117440327,
          -0.2148012621778604,
          -2.462853233747323,
          1.3697801765357993,
          1.7508953452310558,
          1.386329849583343,
          -1.2538737101450217,
          5.133050169971326,
          3.526515125883701,
          6.3460332022222214,
          -0.6161373499207318,
          -2.3748289472525195,
          2.2533078147803627,
          0.8167571253489769,
          3.653765378813387,
          -1.8047421918261304,
          -1.8627951125034803,
          -0.924215264349161,
          0.7066524688936534,
          4.942598053975863,
          1.1252336127832727,
          4.795289250255228,
          2.4635678490114987,
          -0.09446247231001581,
          4.247306482872684,
          0.24903576136687003,
          -0.1101929401743655,
          -1.8060319312706896,
          -1.469079712748625,
          -0.025425946360965845,
          0.3370037422179009,
          -1.027211372597083,
          -1.1806601610443488,
          -0.08462383414741015,
          -1.2131974145350364,
          -1.5289774319052671,
          -1.3378086857797176,
          0.9015460755941919,
          0.3470413035334131,
          -1.839103081430006,
          -1.2105926310370008,
          -1.3843046322401935,
          -1.1745523891881087,
          -0.8900534710795275,
          -1.779252591807675,
          -1.7629015313750143,
          -0.22626369877920524,
          -1.3596743740108517,
          -1.4373298042223677,
          -1.0505476390009725,
          -1.2326907154182067,
          1.35652834990924,
          -0.3174215584679014,
          -0.8073456954282039,
          0.6294753135461066,
          -2.0174373591629937,
          -0.1145479510711895,
          -0.5797367236830112,
          -1.8188905101656405,
          -0.21705098951570226,
          4.529430260517017,
          0.3331897153750484,
          0.9708797436014677,
          -0.17127054263204095,
          -0.7941852500264388,
          0.15892132499726588,
          -1.1876432241511587,
          -0.6402858806840849,
          0.8750838457096441,
          3.6087315817291588,
          5.02298863805747,
          5.80583244770181,
          -2.484585586954589,
          -0.06723872685756663,
          -1.8199456802868195,
          -0.16463751050254657,
          -0.9373426065815242,
          3.695987464448696,
          -0.1149906354931033,
          -0.3119119497426376,
          3.6087315817291588,
          2.9628211173285957,
          1.9745255543280618,
          -1.8693347569376906,
          3.926583529422466,
          0.8514655969973888,
          0.25165487338246045,
          1.5069037952476558,
          0.8765073635953349,
          -0.8493286256975376,
          -2.767042218285057,
          -1.942678236171652,
          -1.9404583741889663,
          -2.3277141531057515,
          -0.4893008855169197,
          -1.244808553462056,
          -1.4681887969761527,
          -0.41977050789702125,
          -1.179404182055468,
          -0.7316519448921264,
          -1.9934477924940697,
          2.6589574687484148,
          -1.8424902425655325,
          -1.9752037541359388,
          0.49738213453453667,
          2.8030142480459292,
          0.8898853897758195,
          -1.6997216230484258,
          -1.1189657700263966,
          -2.229727615330854,
          -0.7369155743144534,
          -2.8860579727672397,
          -0.04773120798274679,
          -1.2455077589325836,
          1.5812933821637334,
          0.3862402573486104,
          -1.3826420603119782,
          -2.47758297768705,
          1.149762766157926,
          -1.0859697564578679,
          0.6207099620941164,
          -0.07313623450418938,
          0.0026958861477245966,
          2.1700272297685483,
          0.36718627717097785,
          -0.9314426872002087,
          2.3532485455974834,
          -1.0597890934720602,
          -2.2761098556941257,
          -0.7031780913867122,
          -0.2926633824128867,
          1.0280402330301834,
          -1.1648221376777195,
          0.4511604577525466,
          -0.5491172599185645,
          -0.6751459147216351,
          0.29979688154291073,
          2.6834129126268165,
          0.5984074638508645,
          -0.549887905800491,
          1.5305789710549675,
          1.671927373310239,
          2.3650341880945858,
          0.507376025880526,
          -1.3539098259275262,
          0.5151319213344536,
          1.0608289232294805,
          0.5729789672192861,
          -0.7152407495550083,
          -0.04317819295221023,
          1.6217258746453853,
          0.36751585684045096,
          -0.7640261804664314,
          -0.5419837729171583,
          1.0156004276682964,
          -1.0104901039718692,
          0.34745430653825066,
          -0.28074619404286877,
          3.1877031348523146,
          -0.5452603790317765,
          -1.6326205624300447,
          -1.1815682360615916,
          0.4831617885888132,
          -0.4662482753257239,
          -0.646174839100194,
          4.245475571774246,
          -0.17032794041760138,
          3.4798674918083146,
          3.840975880940371,
          4.963938781946999,
          4.408080150824801,
          4.139496296933863,
          4.031285308102276,
          3.936321424219396,
          4.187078489713526,
          4.91780816360102,
          4.959531607032033,
          5.4913638121789,
          1.5324624690552497,
          3.7860049701944294,
          4.224405197605612,
          3.813445724703182,
          4.26904729094743,
          5.3558862763863235,
          5.634525317250317,
          5.131366024213472,
          1.5778734844665672,
          3.6283998048062998,
          3.3748679584004275,
          3.136640936473178,
          1.5464616640991637,
          1.7734555001668162,
          -0.5736981384083439,
          -1.3474769379185068,
          -1.409567696943022,
          -1.7902349574504643,
          -0.9599392716314974,
          -2.337850209070728,
          -1.9219232563386317,
          -1.4554683365959464,
          -1.907226287672336,
          -0.6716795002770619,
          -2.0046562231551004,
          0.32515666255138137,
          -1.1523860720717634,
          -1.4557044571067246,
          0.18059071362684267,
          -1.9079350595148399,
          3.523659061137905,
          -2.049118693479205,
          3.6180834062291503,
          -1.7374845146577111,
          -1.4392948516572364,
          -1.5714083380161556,
          6.308184544302043,
          5.008294840003462,
          5.403265664257088,
          -1.4853710029965534,
          0.3311437672951782,
          -0.4641995131727802,
          2.793778628069705,
          2.2293271459533774,
          1.3893334009215683,
          4.269223510110591,
          2.1474447251427833,
          0.7629686163768575,
          0.53138806495396,
          -1.1115207404332903,
          -1.82042093338724,
          -2.192137645569147,
          -1.6730626775637112,
          -0.5625611286937765,
          0.4519180457487406,
          1.9195738575431924,
          -0.870217070825727,
          1.0741748437686005,
          -0.2271813656959769,
          -0.8526204872249911,
          0.43098339581022105,
          -1.5594414900233993,
          -1.7883857649490378,
          -1.2843690828034697,
          -0.3289293614603016,
          1.0518143755809606,
          0.5340816012176949,
          -1.109715194934535,
          -1.968574122871341,
          1.3526971314440277,
          -1.1080951590932828,
          -1.1080951590932828,
          -0.7862581323449483,
          -2.1866569882184588,
          -0.796602805439535,
          -1.841841154586214,
          -0.7800250543797571,
          -2.4784838201281763,
          0.2597603556403651,
          -1.3550297693817035,
          -1.6177557993272016,
          -1.8260772103567111,
          -2.304690502949195,
          -1.7235553968485762,
          -1.3761949647926437,
          -1.0218757432852514,
          -1.7791379054828045,
          -2.656622572909873,
          1.0291146255100552,
          -3.094666351260062,
          0.2724699225082957,
          -1.7900071853916144,
          -2.4793830877712426,
          -1.887169023550591,
          -2.6430738121785353,
          -0.3573801366614929,
          -2.567193649556243,
          1.3794835128663623,
          4.525123553936599,
          4.716885186699745,
          2.595025591971071,
          -1.1366165372990902,
          1.984225431997515,
          -2.428139142503912,
          -1.356175401140454,
          -1.650755700271235,
          -0.9916773688297721,
          -1.4614838432330979,
          -2.109726124754254,
          -0.5491172599185645,
          -1.9852742550337767,
          4.386572613899496,
          -1.11017229194422,
          3.3776002947938015,
          -2.434424783398597,
          3.5934938671033745,
          -0.49643132082921343,
          -2.442010816809561,
          1.0393967728352171,
          0.024172636350281367,
          -2.5360436014647654,
          -1.4224961761214605,
          0.024172636350281367,
          -0.26129956152696837,
          -0.9108428135470125,
          2.094042485609157,
          -2.5645649137076534,
          -1.238622185314989,
          -0.30842192358759657,
          -1.5155895125722445,
          -2.0312986146780383,
          3.86310488973433,
          -0.1083829959440779,
          -0.6022552644160741,
          0.5177509655213351,
          -1.709069723149361,
          -0.2761452223050108,
          -0.7551372548019916,
          -1.3763064760423567,
          -0.5312260392016578,
          0.23717195172482425,
          -0.3026081729421216,
          -0.5065280021147458,
          -1.2055895512885533,
          -0.8204348260187266,
          0.2660650637100619,
          -0.29884421461537647,
          -0.8728012554034772,
          -1.7175667292646406,
          -1.5155528888804215,
          0.886409348567177,
          -1.676646874745968,
          -0.4694345966142339,
          0.8710775895722578,
          -0.8644705676615113,
          -0.7144561741353833,
          -0.44068855694914766,
          -2.790270900922428,
          2.8904146176546694,
          -1.150727671831472,
          -0.8031773216690996,
          -1.9473824019540262,
          -2.1629636170947366,
          -1.4723654985500971,
          -2.6893121402844167,
          0.9240011933509129,
          -1.7474528809598424,
          -0.14576653368649853,
          -1.8983586902445273,
          -2.6693478479357364,
          -0.5221693744493343,
          -1.4548434949416962,
          -1.0283096381666235,
          2.3622397711804477,
          0.5436395862813677,
          -1.8689304368530792,
          1.1710036212559023,
          0.6999040042938866,
          -1.704447142955154,
          -0.5920546990026884,
          0.4498649728207436,
          -0.32957451480891453,
          -1.6376693914418612,
          -1.457260990166546,
          2.46607086961782,
          -1.2095953675949749,
          0.5254555899481599,
          0.07547147484810611,
          -1.5847134393643683,
          -2.9080619282235407,
          -1.1765084408048714,
          -1.9119343526634267,
          0.9356036829290539,
          -0.36086600256967244,
          0.9679635861196778,
          4.699816675368837,
          -0.4723314055617319,
          -2.0056305322142776,
          1.5727472398500437,
          -0.9464089318334714,
          1.46862672762292,
          0.50111474559944,
          -1.3537495043623877,
          -1.8434120476123383,
          -0.6537657414667494,
          0.8902655962892363,
          -2.81625912505893,
          -1.2235095886351688,
          -1.51278496051753,
          -0.9684779368006283,
          1.1487058582651934,
          -1.0984469249325663,
          0.5022377972137835,
          -1.4812543999862993,
          -0.5435665341609943,
          -1.2909649366086222,
          -2.162833307478608,
          -0.8354743294354073,
          -0.03314856246124834,
          -2.0149265692493197,
          1.7960332420843468,
          0.7846163460118241,
          0.3211437615970804,
          -2.190137139222609,
          2.5971373640646997,
          -1.6127967117375033,
          3.02605302894775,
          -2.065705645766962,
          -1.5210993374175876,
          -0.9258655178346512,
          -2.0743795323201732,
          0.751184978113625,
          -1.7164833605229046,
          1.3199455730608438,
          -0.2996749088548963,
          -1.0601592783170946,
          -1.5793861632167492,
          -1.6924656514757923,
          -3.133177732795539,
          -0.03724623286296989,
          -0.08421121464130073,
          -0.7467746719958058,
          -0.1647082456687926,
          1.4022482201741087,
          0.4677989764236724,
          -1.3373216840889646,
          0.08110278845448518,
          -1.377926545841368,
          5.031107844903641,
          -1.8983922147789343,
          0.5995552083481088,
          3.5252046394474528,
          2.2683191496362327,
          0.9096299592015571,
          -1.026418914347898,
          -1.069090462708078,
          0.6556631320797365,
          -2.023769019412259,
          2.195920999905058,
          -1.920267434098355,
          0.6521268829335783,
          5.262718544641116,
          -0.6974112188432153,
          0.7820338260369193,
          -0.2090432327886086,
          0.6998427652454077,
          -2.0224335239758706,
          0.4712071639952825,
          -1.2604802866831237,
          1.8271454550885464,
          6.083318328609309,
          -0.8508696332442794,
          -2.0825048372647563,
          -2.2243366255023718,
          1.4014298850676423,
          -2.7228295299586787,
          -1.6085417664418025,
          1.601305439049669,
          3.3170485154906717,
          -0.893628771252799,
          -1.0459539727090397,
          -0.7263218841933006,
          -2.9436481698922803,
          0.06221403756445271,
          -1.1663865563967561,
          -0.5132483562854895,
          0.6525178740460732,
          2.213623428481487,
          4.157689233042856,
          3.995264448657275,
          3.744144134343591,
          3.3340361292652148,
          -0.6706922862361595,
          3.7210836024692706,
          -0.7220199150774421,
          -1.5037488884709542,
          -1.8208063443174323,
          -1.309249953055686,
          -0.5828274996029217,
          1.876743018100114,
          -2.313572197189644,
          0.7099128201293102,
          -0.7812682277707917,
          3.394927981868262,
          0.9032880273730485,
          -1.536580454217271,
          -1.628345204311754,
          -1.7022684814942095,
          -2.4352854352283106,
          2.0186542826167466,
          -0.3166155515639352,
          -0.8941954290264569,
          1.1047609784727361,
          -0.1961274070336843,
          -1.3280200419065074,
          -1.8704463127127644,
          -0.7325588346573658,
          -2.4322104556325073,
          -1.063105151742824,
          -0.9018458559798227,
          -0.5690495861384955,
          -1.730386673282589,
          -2.1007718092553653,
          0.12062405251041486,
          -1.5280973319537643,
          -1.910802297361991,
          -0.21031089609908885,
          -1.794354812733885,
          -1.5361213058279377,
          -2.2160001367279674,
          -1.4955985695299725,
          -2.5500589751698026,
          -1.0982262167206456,
          -1.2393277340386915,
          -0.8577092210584598,
          3.660395664513195,
          -2.6601514416636034,
          4.225043041397306,
          0.41508078148570926,
          1.1880597387996024,
          2.753189107588192,
          -0.29049845972909033,
          0.5136929486351992,
          1.8792188806685468,
          -1.6657745499794447,
          4.16629363480601,
          -0.5221693744493343,
          1.0434337104662197,
          -1.8730996534974431,
          0.8500285353730016,
          -0.33185038438281483,
          0.2744299751321871,
          3.4812762404541284,
          2.3317755006466867,
          -0.07084590733890545,
          -1.2092837434063097,
          -1.363142729503914,
          -2.450222781385806,
          -2.0884769934788583,
          -1.80575498081437,
          -3.3995837310824393,
          -1.6998225891375287,
          1.5209018222443882,
          0.7646308800896884,
          4.478609512834521,
          2.4661133198039704,
          -2.2354904599284433,
          -0.8246614851720215,
          3.432450645076324,
          -0.48823623226826873,
          -2.081322355130964,
          0.14989400405551653,
          1.8973889528910957,
          -0.13683775308019508,
          0.45025923423541847,
          2.095768666277785,
          0.9153914685653927,
          0.5857264273779649,
          2.2333595333061402,
          -3.045076587771544,
          -2.3291508714311786,
          0.4543220270451259,
          -1.6301207350897282,
          -1.414322988460634,
          0.2443545687002823,
          3.2107996485644104,
          -0.9304532954544279,
          5.150035753984847,
          5.004281707388851,
          -1.3148675759101844,
          -0.7597385878813323,
          -1.6628375487419662,
          -1.8902303297831142,
          -1.5328467352522692,
          -1.2536233695640084,
          -1.2302352255235958,
          0.10461162581345634,
          0.5222047642496482,
          4.431045401922307,
          -1.189688486841706,
          0.382651510728623,
          -0.7773625634585377,
          -1.4952959189875163,
          1.667526722398398,
          1.4852428780681364,
          4.3567295441234375,
          -0.9108592533331858,
          0.18164272293418507,
          -1.8732582454237787,
          -1.6946786996734693,
          0.4358314317588772,
          0.4879910198583247,
          2.765858150220443,
          1.9540876681797303,
          -0.1761359959909165,
          0.4227931229385327,
          -1.6117359369821913,
          -1.0419915528465533,
          -0.12021237473150569,
          -0.11140233801850544,
          -0.3443427862674366,
          0.6672750904822243,
          -1.2131974145350364,
          2.5136903101093657,
          1.18455450436662,
          -1.7553890311473113,
          -0.69924183062105,
          -1.0580195579562366,
          2.3119403786115744,
          -0.13688948178293053,
          -0.874174981556726,
          -0.9304422088236262,
          -0.9840382097343708,
          -1.3564305630785591,
          3.3966287287929484,
          -1.768816066207472,
          0.2532494653975694,
          -0.5625432966733254,
          0.13894980838009277,
          2.9951823246963123,
          2.3219296947796297,
          -1.496489526363348,
          3.274369314931621,
          5.335536638163782,
          1.1970948667173498,
          -0.9325106706495225,
          -1.0348098358027824,
          -2.0251481991515745,
          1.0657747825801034,
          -0.3857410564931712,
          -0.6253799907794834,
          1.5479900682861583,
          -0.9325106706495225,
          1.1810200528402157,
          3.6809276424008903,
          3.757014733272656,
          0.012415187357943912,
          -3.030569719031827,
          -0.909841045316185,
          -1.519191213934289,
          -0.9195814288618506,
          3.8284561838288975,
          -1.111713310393215,
          2.267337362057982,
          -1.5150721309734034,
          -1.3925033257613084,
          -1.2995846666732838,
          -0.12266151502753729,
          -1.8668753039071242,
          -1.5018729408205707,
          -0.5700160017381584,
          3.0398822705104624,
          -1.800540543330116,
          -3.663231559968171,
          -1.4679455092351448,
          -1.08006146963036,
          0.8055109936842512,
          -2.8202672391359034,
          -3.452971033776212,
          -1.1110635172556051,
          -2.791897090464663,
          -0.6542529218710764,
          -1.2316328350265477,
          -1.3092383176769784,
          -0.446994103201411,
          -2.114793859435531,
          -0.8486770478305622,
          -0.9409778444685293,
          -1.8320832439959547,
          -1.4789288509342495,
          -0.26031174767672055,
          0.7062856706652345,
          -0.9472312383775643,
          -1.8280677033103927,
          2.8968869857554753,
          4.209593201660836,
          -2.7548708199059337,
          -1.5459459240384135,
          -1.8925052109960365,
          -1.7067784255245098,
          -1.6774539508660644,
          -0.4563518583717417,
          -1.334604345373531,
          -0.32162950035436844,
          -1.5006475935961927,
          -1.4595938170239804,
          -0.8243341544860173,
          -0.6580875903276744,
          0.2864270143471927,
          -1.2796134458978499,
          -0.3704970587555011,
          -1.2343513887207473,
          3.996300547145879,
          3.3395779158555365,
          5.384016484346954,
          0.2183770680618587,
          -2.306768848291025,
          -0.5021981388206949,
          -1.0068978534182287,
          -2.1476944439402623,
          -2.3968637435576943,
          2.709606964693455,
          1.7560435745437557,
          -0.9443973872998478,
          -1.139643098815126,
          3.557863814296516,
          3.853519820121416,
          -0.8855858941782223,
          -0.9829651653205779,
          -2.320125421270591,
          -1.2569492976214978,
          -1.7231498462043986,
          5.96107428123808,
          -0.9304306817837587,
          3.7923096640832346,
          2.533893924578384,
          2.4003469329064755,
          -1.7878372257776929,
          -0.23352895324163706,
          -1.8863702813551426,
          -3.0007847223145743,
          -2.0888534256576925,
          1.0430639994862398,
          1.4753691607777781,
          -0.7167812722224338,
          -1.8241639760866637,
          -1.0939818264875392,
          -1.4173759806756023,
          -0.9227672156589171,
          -1.1044280464120808,
          0.06735268474735812,
          -0.7895365930463448,
          -0.07072149456798876,
          -1.8517630213186198,
          -1.8601271467736304,
          -0.0882835597395772,
          -0.2554410311634317,
          1.8793807339843212,
          0.911685387880506,
          0.1001237931517792,
          -0.6039439779725393,
          -2.9298175854967052,
          0.19839714092277672,
          -0.4491867303360413,
          -0.7937960986538567,
          -0.6206510300666296,
          -1.4459240490094971,
          -2.3369061253580057,
          -1.4633820680402183,
          -1.2208847510985534,
          -1.1296546207459426,
          -0.17787330371714716,
          -0.6960752028433904,
          -1.3678339527436487,
          -2.34468824468903,
          -1.5994355501742885,
          -0.6953135901672173,
          1.6229388520328987,
          2.7823998445336753,
          2.285874428736388,
          2.155550798796949,
          -0.26478294441047184,
          2.8276062488980167,
          0.6100656850450628,
          1.3174805042783142,
          2.746800775169634,
          -2.2523754075787226,
          0.7036343124900775,
          -0.0011837602491468005,
          -1.482961908069973,
          -1.1075232058518314,
          -0.6971997960267918,
          -1.9568620208735596,
          -1.1054970278095249,
          -1.32648319357015,
          -1.784902560038934,
          -1.2811371791205044,
          -2.8860579727672397,
          -1.24183485681529,
          -0.15427203546753562,
          0.5668302283795729,
          3.1638738295315694,
          5.047031224564759,
          1.2487075452916379,
          0.6273736799906453,
          0.07539853780510594,
          4.046423353988646,
          -2.094841489535945,
          1.7704705061504296,
          1.3428053485486444,
          -0.6281159028604063,
          2.700757100788,
          -2.896459582461673,
          -0.48907148657955735,
          -2.415360371635472,
          3.3505970687397943,
          0.11785838188577148,
          -2.0818315040779076,
          3.383381376861083,
          -2.028868370344413,
          -1.929689586442023,
          1.962435287510814,
          -0.11473781767402474,
          -0.8976185323361074,
          -0.6162589382614421,
          -1.3398506344220276,
          -1.8605094581925592,
          -1.1256165151572646,
          -1.3471905127214163,
          -1.6634667301389157,
          -1.7937172212243646,
          1.711607079218843,
          0.6875307868210209,
          2.359912655797251,
          3.4077455863709964,
          3.4201634173555138,
          3.1704080433561836,
          4.189709436743141,
          0.8861883023723547,
          -1.20413368064015,
          -2.4332660384219977,
          4.396257729264007,
          -0.9943458450544881,
          -1.664078600965618,
          -0.6530120732992512,
          -0.7024160963306588,
          -1.6162721975405985,
          2.700067123399993,
          3.133230314213806,
          2.6230336450209117,
          -1.7234064226917913,
          -2.8800245580393917,
          -1.8011679111545569,
          -1.6369871043498485,
          -1.8914809660644958,
          4.618935780161161,
          4.050843042184682,
          4.352663051268988,
          5.122067061563875,
          3.9068164100335823,
          3.9866789809149874,
          2.7852234093895087,
          0.9999800069643591,
          0.6799719491218107,
          0.014298306941483858,
          -3.15615276114799,
          0.022755347441269284,
          0.022755347441269284,
          0.16215521835046656,
          1.8848249364406564,
          -1.635788369926011,
          -1.4405368092396205,
          1.9595862552593744,
          -1.9643963626404648,
          -1.5973738646502855,
          -2.0894463149704245,
          -1.802665818906081,
          -1.2917710621025629,
          1.6122957977964256,
          -1.0597890934720602,
          4.601631831528844,
          4.45056817655905,
          5.210196579660404,
          5.777399769903288,
          0.20076562572775647,
          2.1326120989580435,
          1.7459968094343292,
          1.7459968094343292,
          0.20076562572775647,
          0.345466843927741,
          -1.515422681091898,
          -1.6922378597241017,
          4.3106818782491585,
          0.46926894723910634,
          2.324208231380985,
          0.9381121233998018,
          1.1841252442734733,
          -0.37430669765646285,
          1.013309893505799,
          1.0103085340590083,
          0.7875315203113386,
          -0.5858043284252905,
          -2.643227313951728,
          0.7454678649645963,
          1.043743896138429,
          4.839564142521274,
          2.2896581436048,
          -1.3025333410462436,
          -1.32124993874134,
          4.033258007856046,
          -0.9054653279761936,
          1.407715454286361,
          1.8197767618637943,
          -2.0266801412988684,
          0.4069739919366759,
          -0.17898853073046214,
          0.484761811873596,
          0.26373780786601153,
          1.9490472897705726,
          -1.2617841821502727,
          0.14921514800553587,
          -0.21755040086465172,
          -0.7624724066787734,
          -0.9387029953969075,
          0.27949977926882447,
          -0.7588630483770612,
          -2.152795985798635,
          -1.53578146180787,
          0.8290154285889059,
          -0.9817137056298614,
          0.0007320463538190703,
          -1.0590701782309826,
          -0.7529011708788532,
          -2.517514521755164,
          -2.3199405171221916,
          -0.23471491664775224,
          -0.2212072962441547,
          -0.6810305719934208,
          -1.3423911334200622,
          0.9329099433229744,
          -0.3313859860091323,
          -1.366341923568506,
          -1.0192775239661636,
          -0.5491172599185645,
          0.05306629499184315,
          -1.256710732405581,
          5.2596615069742905,
          -0.2965634305110337,
          -0.20192591787069994,
          -2.0246023398504867,
          -1.4443686593542004,
          -0.9751839182365099,
          0.05452714640811971,
          1.4523524534217254,
          0.8192739231873553,
          0.07698261684037495,
          -2.424113347680563,
          -1.0499396836036352,
          1.359348166175822,
          -0.843701824803569,
          -0.40543864743120506,
          0.6101227140817002,
          0.12017397103911837,
          -1.0084097097668354,
          1.2229974720456414,
          -1.1031682937994682,
          -1.4083418571679749,
          2.5756303060219774,
          -0.1586483454548349,
          2.9154589235875874,
          0.014968192928109964,
          1.4088806725999026,
          0.8082967149746672,
          0.44649458027625655,
          -1.2795600059785799,
          2.8272600811544852,
          -0.4277133637975998,
          -0.8837451046928395,
          -0.23093094143364537,
          -0.5371447045574775,
          1.3880784370526695,
          -1.0597890934720602,
          0.8795324448096484,
          1.4764147298242962,
          2.765001627237035,
          5.6370756187532205,
          3.500235764018905,
          -1.510418400212593,
          -1.2334843591545106,
          -0.7529405029218758,
          0.08511187324309129,
          0.32051098514515125,
          -0.912076258193673,
          -0.278580700294141,
          3.088433624767482,
          4.143247777999696,
          2.399716316397862,
          3.1769579298468997,
          -0.6044283440694068,
          5.574219688203973,
          5.333727896640726,
          -0.17032794041760138,
          -1.4427210612478678,
          -1.3399879370214893,
          -1.3399879370214893,
          -1.0802458985701933,
          3.9166593931872025,
          1.133353987991856,
          3.1319240633605436,
          -1.3399879370214893,
          3.1351717246654642,
          0.052961063614168226,
          3.824228685300255,
          3.313960361031421,
          0.63764339753577,
          -1.3678276494516473,
          1.4795949689527144,
          0.5075398114106465,
          4.02516376389303,
          3.3976341754496957,
          3.302529115701345,
          2.8311288224741094,
          0.42987039872092525,
          2.6526038200999,
          1.9894395187425347,
          -2.44513483770625,
          -1.9828992824413232,
          -2.9088138803783687,
          4.910713009747098,
          -0.6498036654322958,
          -1.530344449493799,
          -2.715389745415451,
          -2.068754415796765,
          -2.254254299700383,
          -2.0100526796115545,
          -2.1099099573153453,
          -2.2236326075156008,
          -2.3132103064829788,
          -0.950234681424934,
          -2.136402709539325,
          -1.0065335489460205,
          -0.5635117535932601,
          -0.5452437114590933,
          -2.26980909886097,
          -1.2016336137926897,
          -1.3117714960738547,
          0.11607867116484678,
          -1.157331971183589,
          2.8442612084686383,
          4.8169710470501,
          5.3885021378864515,
          4.902234021478254,
          0.17804007974110692,
          3.1296296239009402,
          -2.6715653444756344,
          -1.4732881003033529,
          1.2109456547170123,
          -0.6283268472049905,
          -1.8232159852586594,
          -2.761626719266496,
          -0.8038412941572957,
          3.1296296239009402,
          1.2775355899569323,
          -3.499987153766302,
          1.358948304389958,
          1.73855544628032,
          -0.2257344911877689,
          -2.274067346388714,
          -2.7222920271687396,
          -0.5665714728194745,
          -0.7245547433332956,
          -1.8992419894110668,
          -2.8397395979008877,
          -2.07791733708817,
          -0.8771721526876276,
          -0.40668386778986704,
          -2.462682444077483,
          -0.950234681424934,
          -0.8848052512508221,
          -1.4759715630515937,
          1.0340563390737687,
          3.9266530882283868,
          1.3504189491626397,
          0.4022811443833137,
          -0.7883433217568939,
          2.0279654140200654,
          2.0402179546875283,
          0.897991007385602,
          -1.3703622819832757,
          2.195947876785934,
          -0.3257151107438937,
          2.166790516006024,
          -0.10849963879625066,
          0.555580192679355,
          2.6855272350918424,
          2.0629718502740517,
          1.9327789730120875,
          0.5823874663723917,
          1.4280076694700528,
          2.227950207798835,
          2.0141117237244615,
          -1.754826047247281,
          3.1452711577365053,
          1.8851878311394756,
          0.5461741363291331,
          2.356396628203319,
          0.8590333940405676,
          1.5750036225782393,
          -1.4254079176047505,
          0.13229505704734956,
          1.6585341861753566,
          2.6330801007313838,
          1.2919858967101812,
          1.5307731412375456,
          1.8030112846657085,
          0.06706942676046017,
          1.8045403505981712,
          1.3745874347744313,
          -0.08395614302769303,
          4.049749172711462,
          -2.127550029030416,
          0.5273523375187055,
          -3.0914737893276927,
          -0.9291176379098586,
          -0.40155489571023373,
          1.1987811941730064,
          -1.4489486989802909,
          0.4216419583783457,
          -1.0348098358027824,
          -0.633742057212648,
          -2.1834965098510475,
          -2.1758672952105016,
          -2.8243568560471206,
          -1.5657851439064694,
          2.488852486987384,
          1.706995293852263,
          -1.769952541362465,
          2.0944287535894546,
          -2.5389405610748903,
          1.7757562576013013,
          -1.367381381578481,
          -2.3217190043773908,
          -0.07145510003716081,
          -0.12953515656082004,
          0.017056520577367604,
          -1.691861566206562,
          0.24788898634041978,
          -3.371949005692058,
          1.8109439725347145,
          -2.9563167102804067,
          -0.9326576513945363,
          1.5453563721904249,
          2.017567630254305,
          -0.9777384825203528,
          -1.8088045851480503,
          -0.197649389337015,
          -1.7360045350795756,
          3.684220198929719,
          -0.6847094485509615,
          -0.26031174767672055,
          1.542298888804763,
          0.5930026646121637,
          -1.7912959670136774,
          3.1180214989226327,
          3.3580144918752333,
          3.509930965088284,
          -0.1946192401616189,
          2.480527963790225,
          4.517776810914007,
          6.091867137337175,
          -1.3864258127587978,
          -1.6590894291934797,
          -0.8451615089399579,
          -1.0417192548785008,
          -2.2126328441140073,
          3.904762418566285,
          2.3576582971520175,
          0.03992601661587311,
          -1.100495324757872,
          -1.3293394373721148,
          2.4179234417138873,
          -1.8494158071698894,
          0.6194589894389163,
          0.7007141496868067,
          -0.22131099576619404,
          4.06980584025991,
          -1.6915198589429592,
          -1.6480326701342507,
          -1.6266757262409495,
          5.070598490109718,
          -1.201206943076523,
          -0.20161483159628826,
          2.2123779499001266,
          -2.4649248397008874,
          -1.9249814682117177,
          -2.408016409672176,
          -0.39816065469448947,
          -1.148112784395047,
          -1.237330464390968,
          -1.4628181365509456,
          -2.6429915346372557,
          1.9533017033003968,
          -2.1195725580612312,
          -1.0140421857817665,
          -1.8430894155768573,
          -0.17434341580478302,
          -1.8079063743752266,
          -1.077009866773888,
          -1.4905481769240272,
          -1.2980784897176671,
          2.3650341880945858,
          2.805690268078531,
          0.4847235106188625,
          0.8549288236322983,
          -1.501392214950879,
          -1.3673565615888001,
          -1.5786623309290853,
          1.9460913874910193,
          0.031744030736048486,
          3.518987096487809,
          -0.12194207361813153,
          -0.8643826427197121,
          -0.34316401580846223,
          0.14879956982851675,
          -0.7021345155769471,
          2.526890730193048,
          -1.5907428957012455,
          -0.04081922184563186,
          0.7899298288307434,
          -0.9108592533331858,
          0.5345492960066751,
          1.7118640514247743,
          0.3291372387869488,
          1.193120225310695,
          1.0958689907088608,
          1.2545681987114239,
          -1.6454912421714352,
          0.06998303323160478,
          -0.6562708849308359,
          -0.8025844842561628,
          1.028867063262269,
          1.5503148149597894,
          0.7522544149888793,
          -1.359475279504687,
          3.018000391387946,
          1.071295741294713,
          3.2217287372984575,
          -0.09309152149855161,
          -1.2985779973467586,
          3.218628062553705,
          2.1326120989580435,
          -2.344673001682557,
          0.40529331240226624,
          -0.5726023021440043,
          -0.8831651240421446,
          0.28649928790183926,
          -1.1602891468274361,
          0.7158496154657068,
          3.51075343562,
          -0.2064659721466564,
          0.1389363915921864,
          -1.8058188159171575,
          -1.7690512660095565,
          0.8116576480875325,
          0.3375246919062729,
          -0.010394775910613474,
          -0.8944573785036675,
          0.21387473617623096,
          0.23100452434814028,
          2.030878227187984,
          -2.2995204704233045,
          2.464111119546669,
          2.1192178617213586,
          0.03900046465196528,
          -0.6538759240822304,
          -2.5086272188807195,
          0.8123565472634446,
          -1.5787530557618956,
          0.2146572600940381,
          -1.8370165087569896,
          0.9229565319598533,
          5.656350818133163,
          1.2758796109944477,
          -0.5087977010750429,
          4.278428722085262,
          0.6992100078765241,
          -2.384136424298683,
          -1.7777308426945022,
          -1.7803898860126568,
          -0.4167539682681076,
          -1.1894418289754771,
          -1.3168814365839527,
          -1.3415980593024461,
          -1.9057076077566908,
          -0.9399967293329496,
          -1.6808685152004788,
          -1.1904065555534993,
          -1.4119055620195076,
          -1.919022355587362,
          -1.68182039020012,
          -1.4359027004171436,
          -2.011230902479244,
          0.09121406890156446,
          0.5055869622129671,
          -2.3991249477716163,
          -1.4878005371777179,
          0.09012877718788258,
          0.3101465274982145,
          -1.446821106315741,
          -1.8879364766330242,
          -0.4308099759040465,
          1.9127398992549007,
          -0.9340739420096694,
          -0.09245424702743042,
          -1.0170415780895805,
          -1.4337106390703653,
          -1.1513085587600573,
          -0.35053272601344204,
          4.891728612485043,
          -2.262035465700967,
          -1.1646239535239469,
          -1.4194876518446777,
          -2.178982674772514,
          -1.7048467653411055,
          0.08723516303489824,
          -1.5513713971895928,
          -1.1305919329747018,
          -2.008601460302474,
          -1.971984908729132,
          -0.7603552441700426,
          -1.7081845936205502,
          -1.4526447883764566,
          1.0936536290838414,
          4.707297316935376,
          4.066416551661848,
          0.8449080453819644,
          2.017567630254305,
          -0.5221029502555893,
          -1.0819030183511784,
          0.9363603495410887,
          -1.6901930633720716,
          -0.06734437755377352,
          3.128409610084766,
          -0.013372924890362521,
          0.9315488370480688,
          -1.107898841368992,
          0.9836845171357762,
          -0.6216384167307973,
          4.1763841532248325,
          -0.8174650647916106,
          -0.9844049327521107,
          -1.9340208521383078,
          -0.9150586306583649,
          -1.9024375077661237,
          -1.5991191899978694,
          -0.3979122673442816,
          3.189010773438726,
          -1.360450566576902,
          -0.7141034047337278,
          -1.5914938986038452,
          -0.2698179011474343,
          -0.3205716019590925,
          -0.9748467556979398,
          -0.6346112423952768,
          -1.4852467869909067,
          -0.648836141309312,
          -0.6875208972982043,
          -0.5235210522524473,
          -1.2997644179330254,
          -0.3937474251797389,
          3.4924077989945728,
          2.5763577232711765,
          -1.2550502056471333,
          3.8527580670263823,
          -1.3963654042352835,
          -1.5970419948490961,
          -1.6886328758157634,
          -1.3774550293604102,
          -1.3690729524620975,
          -2.082618199581339,
          -1.1954018276570268,
          3.4027511525664953,
          -1.9587229941745243,
          -2.6463148412916926,
          2.335312795097436,
          -2.345824751081746,
          1.3957426239486534,
          0.3091765784289807,
          0.3091765784289807,
          0.04825874689567994,
          -1.0823520722647508,
          3.0490881810417636,
          -2.0975769095841947,
          0.25316511117440327,
          -0.15427203546753562,
          -0.41240181977992457,
          2.8948856676427672,
          0.9925700176837303,
          -0.10380387445274437,
          1.893819524326883,
          0.9398182903443832,
          -2.21900700019206,
          -0.40289995088326563,
          0.4855598419464204,
          -1.6946786996734693,
          4.453263833371459,
          -1.7698042251004986,
          -1.2917710621025629,
          -1.8456441547473583,
          0.09262464006245226,
          -1.8537718049763485,
          -0.3241240622174609,
          5.699030304877428,
          2.3817849882339286,
          -1.5609102360473248,
          -0.2799174074815634,
          -0.5542550572699015,
          -0.6637454999146557,
          -0.3292698306096517,
          0.6663435469489162,
          -0.8145720543150364,
          0.6939265197491392,
          1.4162075885952445,
          0.5778186477553667,
          -1.2584741789017158,
          -0.18772365879072322,
          -0.8836013757068091,
          -1.6875506785986942,
          1.5211340327985516,
          0.21959081948294984,
          0.2885020536256108,
          -1.4926217671802824,
          -0.21175692447558048,
          -0.17581020496163202,
          -0.8875625801717639,
          -1.2556219866206983,
          -1.2269361604283733,
          4.618935780161161,
          1.3552239026426225,
          1.9336164093535593,
          0.34368407284732627,
          -0.5690376399407602,
          -1.8919920103002266,
          -0.5841890549176628,
          0.33276996189999647,
          -1.9175550818936056,
          -1.2392356281844932,
          -0.09546520325791746,
          0.5577786585832494,
          3.0028015739045215,
          -0.5753522125886527,
          4.161022525837934,
          -1.9988770057703358,
          3.746890986528971,
          2.2244782603334086,
          -2.0601769600585,
          -0.7651747940113183,
          -0.881823375298756,
          2.200828587032448,
          -0.5335105742105523,
          -0.5913765417068707,
          -0.868612136538625,
          3.12692919116963,
          1.5727472398500437,
          1.8241788630931568,
          0.9487631695800594,
          -0.7979632686424222,
          -1.5274385093734053,
          -0.04031006817489349,
          -1.4688940844932505,
          -1.5189484652220913,
          -0.33363903038412474,
          -0.2874184653253744,
          1.9173914860919659,
          4.2177932577548924,
          0.8123565472634446,
          -2.0268228760359754,
          -0.9888603025879967,
          1.3505978175446598,
          1.3505978175446598,
          -0.22448253695649226,
          -1.559982375387885,
          -0.9445110188851541,
          -0.9687374941369984,
          -1.9473824019540262,
          3.262619580896008,
          3.3357502012362756,
          -0.08400104548677004,
          -1.835301661847436,
          -1.014776886033092,
          0.6805879787852319,
          -0.9288952404986107,
          -0.967363156729088,
          4.1683633391471355,
          -0.8950461905575411,
          -1.6554978350332143,
          -0.6736705457075537,
          -1.5694794034452266,
          -1.6619836307825164,
          -0.1588995810750413,
          0.6637508483382962,
          -0.8307561706234642,
          -2.283315635946638,
          0.8752453390642231,
          -2.427740105884187,
          -1.422406598148055,
          -1.1037662140332816,
          1.5650671095135869,
          -1.0895612371376295,
          -1.1687147925779526,
          -0.9946974720841744,
          0.7352426388393162,
          0.05685055929293628,
          -2.3649098795794234,
          4.904751130878136,
          -2.8030403909571473,
          -2.252562080818783,
          -1.8959245730757286,
          -2.0917516052011504,
          -2.508317131163248,
          -1.0932669094952763,
          0.2300271283486472,
          -1.7664024000158312,
          0.6845546448708273,
          -0.90246065712377,
          -0.47940453613652834,
          -0.745545863022824,
          -0.901332679054791,
          -0.7150579071819957,
          5.521484025398484,
          4.330780758381721,
          1.0507517772310686,
          -1.6734809168327205,
          4.236594177348254,
          -0.2745021491914584,
          4.055818049656475,
          2.135766913281721,
          -0.8330021081673914,
          -1.8279298926842602,
          -1.7462095781463167,
          -1.4292748016739307,
          -1.8043356480433577,
          -0.038926072238980584,
          -1.3609492642096952,
          0.44798540695465067,
          -1.688196619742154,
          -2.2605554980822578,
          -1.6032958665289632,
          -0.5719868279724856,
          0.22680621843925647,
          3.000746418246712,
          5.262058618140632,
          2.8858699481600527,
          -0.6661581305866577,
          4.647416850813504,
          -2.325980508300888,
          -0.8749418351069352,
          3.4358447536432437,
          -0.18592056996048203,
          -1.3252577961419494,
          -1.6454826504708167,
          -2.274363772769269,
          -1.137548985445838,
          -0.30594649082110376,
          -0.26321036146483884,
          0.36823439087847615,
          -0.7749919598416068,
          -0.1711919996199071,
          -0.06981557094042491,
          -1.2072588326020257,
          -0.6241021127308279,
          5.419874741023521,
          -1.5972222455784253,
          -0.36389517538093713,
          -0.3445021725092964,
          -1.6165697131635015,
          -1.102159409796176,
          -1.2273516660222628,
          -2.045214098687465,
          2.0186542826167466,
          0.4298289927167258,
          0.6052682794470804,
          -0.4423537865870957,
          0.02294714194443672,
          0.0015944771473526092,
          -1.8238846076569701,
          2.2317541681982704,
          0.7642748141635716,
          -0.8433282919666294,
          -1.3230875790813401,
          -1.3298929349932962,
          -1.2267220894847886,
          -2.149994931085678,
          -1.2163920877132453,
          3.463484711466782,
          0.4539412166357161,
          -3.061338303198414,
          0.22729614518138536,
          -1.1344768325631744,
          -3.061338303198414,
          -0.7072963438992381,
          0.3418433804143051,
          -1.56711825912349,
          -0.8696666900612369,
          -1.5795590761486484,
          -0.8772502462786007,
          3.5825006834571176,
          -2.2268342780614705,
          -0.20126115331103722,
          -1.6675215191123847,
          -1.167686938641089,
          -0.09594405636152785,
          -2.382066424984602,
          -0.12872264422547458,
          -1.5822498519629942,
          -1.6387434617760293,
          -2.0251481991515745,
          -0.6993509873931995,
          -1.8764670933076542,
          0.3544325608968114,
          0.5717167306430497,
          3.101964714448181,
          -0.5188294035461429,
          -1.0126741219338118,
          -0.7097641046725904,
          -0.7276269751785631,
          3.3634624924175163,
          2.9752226817107954,
          -0.821936659903438,
          2.2089628716223118,
          2.7850640053433664,
          0.29814635203571443,
          1.8664884741638657,
          4.140411488353789,
          4.133048817017732,
          0.5282838272987543,
          2.605572101764562,
          -0.26478294441047184,
          -0.17832420764440857,
          -1.938030371572624,
          2.903905039029223,
          3.649677021506465,
          -0.012929923744353231,
          0.9703843368446692,
          4.840030364876459,
          -2.382120428766227,
          -1.5441689772345772,
          -1.388869780980408,
          -1.9542613765865016,
          -1.584981903082228,
          2.446695535789584,
          -1.3666480483746377,
          -0.2676245317046494,
          0.40230341805213843,
          2.374570566204157,
          5.050054496026233,
          -0.9053180429942433,
          -1.2698419846443327,
          0.5398747178532806,
          -0.9479576954954879,
          -3.032449981392287,
          -1.1121517547583084,
          1.0543642222548268,
          -2.174826059050462,
          0.8783391882405465,
          0.8449080453819644,
          -0.28380427510568884,
          -1.8083647450254485,
          -3.2024704591966735,
          3.3215521054488213,
          0.8539122759964449,
          -1.0527079835431898,
          -1.623352607510671,
          -1.495184271623784,
          1.7519453777759315,
          -0.829896744628169,
          -2.1873335437017474,
          -0.24944080664634818,
          1.1074723601112293,
          -2.0859355414082126,
          -2.4125115180318626,
          -1.2499990583699125,
          1.2918669581773623,
          -1.4808604861756578,
          -2.0144429700235,
          -0.5413481296670034,
          -1.6534058002388412,
          -1.431791700304573,
          -0.9871359024336291,
          1.165541156772919,
          3.00023568586688,
          0.15000872558749045,
          -0.5219177664341913,
          3.0474287586662023,
          0.8524577565344765,
          -1.84197087713791,
          -1.4212505387436187,
          -1.5990912760966651,
          -0.09245231702928397,
          0.7589239174389404,
          -0.388617536762927,
          -0.4886912992334435,
          0.18601744652391833,
          -0.576742320239113,
          -1.0445259856521203,
          -1.410342501775071,
          -0.9467174638564446,
          -1.5570907577492823,
          -2.0316565223762755,
          -1.5050207141774004,
          2.0330414338414116,
          2.9972411903138907,
          -1.1131903712057172,
          3.4143457476927646,
          5.320867729182726,
          4.085991435509482,
          2.1274425358348843,
          4.947269754284721,
          0.4726197924305071,
          -2.2016868255719317,
          0.43167185305864175,
          -1.1131903712057172,
          -1.6057702396471825,
          0.8312197050104077,
          -1.7642479233188497,
          -1.1590732070276348,
          4.08144709943776,
          -1.1266837590924166,
          -1.2919547680535048,
          -1.7723311723076078,
          0.02190056390348021,
          -1.833336844358952,
          -1.7602758888628416,
          -1.8693460615922177,
          -2.0465422770963446,
          -1.0561390468606322,
          1.1770516789703718,
          -1.8762990960288102,
          -2.425224032256408,
          -0.12210277573933505,
          -1.6260066325782982,
          -1.8445494912080063,
          -0.30330829710303375,
          -1.2048764587975174,
          -1.8182765975060036,
          -1.4422094887527546,
          -1.0947009976647608,
          -1.9236465210710891,
          0.06349215750229728,
          -0.7967643032374755,
          -1.3089600393569705,
          0.5354649061742404,
          -1.1538421770428804,
          -1.1326586912829237,
          3.105698982407421,
          -0.5655314564562385,
          1.671184758260738,
          -1.6903592808965586,
          -0.17282411226062402,
          -0.1534234424262179,
          -1.1213935734132483,
          -0.3560114892032393,
          4.2643932634458706,
          -0.9702087331231125,
          -1.4795207011403098,
          -0.01916393802213822,
          -1.6262673095858822,
          -1.0729349066364675,
          0.6594213427915573,
          4.066995385985657,
          -1.7593947139165313,
          -0.6148631774543114,
          -0.5328443733186656,
          2.1951310166489764,
          4.211073384228148,
          -2.0951936831935867,
          -1.7126773122191739,
          -1.3176226052793822,
          -1.2398389440352915,
          -0.6365159443123247,
          -1.8680718365870297,
          -0.20774898984439633,
          4.6631581902131956,
          -0.7172902492876048,
          1.4126375362115093,
          -0.053481596291650904,
          0.12258449104649297,
          -0.6930082747630688,
          -1.6842462616801217,
          -0.9997143462304267,
          -0.992527741651936,
          -0.40554552468515137,
          -0.7943307030855636,
          -1.4179766882023692,
          -1.5077618691738783,
          -0.11864752625194043,
          0.06513251514329899,
          0.4479061806002186,
          -0.5905352698295557,
          -0.6656940772015781,
          -0.12568353651020597,
          -0.2968239783275783,
          -0.30208503695033034,
          -0.4431538767660776,
          -0.8497568273164446,
          1.5069037952476558,
          0.4803661333128791,
          -0.6970804646138766,
          -0.10347402499997156,
          0.4261184411829118,
          1.718198895670898,
          -0.14880872420562694,
          -0.8608961760184046,
          -0.21186655948989525,
          -1.2074405624776157,
          -0.2444728652772304,
          -0.11108361445809382,
          0.4331828913071622,
          -0.4666659930456585,
          -1.8413507629642503,
          -1.021406674438294,
          -0.49758848808651907,
          -0.6844849178178242,
          -1.669702850008825,
          1.9435278334052595,
          -2.590401210503965,
          -0.9832888022778706,
          -1.5102450456487504,
          -1.5772672834448835,
          -1.3747547479445197,
          -1.2001953198664033,
          -2.5500589751698026,
          -1.5609102360473248,
          -1.8902776392732565,
          1.658754391001416,
          2.793143587037334,
          3.3936697303588153,
          -0.30781971693868215,
          -0.5170085720229921,
          -1.938067491497644,
          -0.8915763547993779,
          -0.9886668262046703,
          -0.5696178874425262,
          0.8795324448096484,
          -1.1447334158703655,
          -2.006545406729143,
          2.8205742097621744,
          4.028986191210214,
          1.7372253796499775,
          1.5655853810053761,
          0.07802122878737024,
          -1.8274876886852272,
          -1.9502075389529843,
          -1.7354065296445784,
          -1.8699631356031983,
          -0.5644354650111922,
          -2.0061121385605523,
          -1.7634140784138799,
          -1.8723008941323516,
          -1.863993220422244,
          -2.1058975606514676,
          2.9575397143169195,
          -1.923281220062648,
          -1.7291945028487068,
          -0.3394603933605101,
          -1.4817947434057153,
          -1.3648272900680085,
          1.6184380633196085,
          0.6731669759445236,
          -1.3981525797114387,
          1.4897707598582162,
          1.0157432689846022,
          -1.0568509529743555,
          -1.7518249634932699,
          -1.2421958404602662,
          -1.9336938727708384,
          -1.759821704033374,
          -1.455552348294333,
          -2.1082944798688454,
          -2.060666043906393,
          -1.4904194189397022,
          -2.073494506413841,
          -3.99375471846285,
          -1.7804503009224806,
          0.41880137678603657,
          4.074252866889352,
          -1.654099602100136,
          -0.8706935586305733,
          -1.2311045301288563,
          -0.07788453537429894,
          -2.4434013956713954,
          -0.07625660353628154,
          -2.1318590249117153,
          -0.16461671372417527,
          -1.7771222855258428,
          -2.2929023354570384,
          -1.2277075421191312,
          -2.4270031251579987,
          -1.019878194683748,
          -0.6385744256983851,
          -0.6162589382614421,
          -1.5903114999670263,
          -1.1226867924008341,
          -0.7780117610925483,
          -1.24183485681529,
          -0.41877224870219926,
          -0.5887610453578068,
          -1.4255157505699625,
          -1.9236465210710891,
          -0.8321122702871245,
          -0.7103155395647759,
          -0.45457897450550955,
          -0.5006469673618129,
          -1.3433860165170097,
          -0.5586881735072344,
          0.7183670596719579,
          -0.8757146430848188,
          -1.0684891129569067,
          -0.3791907206345877,
          -0.5255270518176552,
          -0.48993083701793116,
          -0.1597267102618845,
          4.813777021504074,
          -0.8690009426865856,
          3.3215521054488213,
          -2.5792042125307075,
          1.560398159732674,
          0.8888968989143613,
          -0.47690770582583425,
          -1.3173980164012014,
          -0.4962570470088785,
          0.3375764127658352,
          2.148755017920207,
          0.5205896223390918,
          0.0023903786712641865,
          1.4438543702229794,
          -1.7722920756714393,
          -0.21138765775075444,
          0.9097158032319773,
          4.844601565033674,
          5.666384156661314,
          -1.9417108967056647,
          -2.106550982409217,
          1.1407962580835325,
          0.23103463786948544,
          0.42561757819746515,
          -1.565711492393082,
          -1.565711492393082,
          4.244480994355994,
          5.176708744973613,
          -0.8596027093370087,
          -1.0270738870476321,
          0.37512427692022704,
          0.051811371512324594,
          4.582553845204488,
          0.5168944033678439,
          0.06057426972990441,
          -1.7784927255694194,
          5.408174041012419,
          2.5327757019918766,
          -1.5302866131478008,
          -1.0610339222842116,
          -1.0947736380529185,
          -0.9227741339323361,
          -0.9605533109182776,
          -2.132240077056636,
          -1.668900179300278,
          -1.4351673016485855,
          -0.7169772246162459,
          -0.9568264963416652,
          -0.9416875707314984,
          -0.413338504705284,
          0.16883070258110147,
          1.4322493420169797,
          -0.7813213297476457,
          -1.1271281147595316,
          0.6524595908390055,
          -0.692740301404219,
          -0.6732878229230734,
          -1.1414799926170123,
          -1.4892770702646914,
          -0.355358548521067,
          1.8294487165805173,
          3.656077271822229,
          0.7261799401622575,
          -1.896971419854982,
          -0.4193939514430091,
          -1.2730663318838358,
          0.10397499296520911,
          2.096483641589661,
          -0.8776788935290594,
          2.529909789362584,
          1.0082003519061755,
          -1.8902776392732565,
          -0.4220782534476118,
          2.109005714349949,
          -2.3715612187519306,
          -1.044438834763485,
          -1.2311316155798777,
          -1.1776970800546376,
          -1.03453273120643,
          -2.723466640316102,
          -1.7104420113557295,
          -1.9914059300228162,
          -0.6226927475906402,
          -1.046852762323429,
          -1.2900248382332729,
          0.12309112973266097,
          4.652403689691262,
          -0.404623641340673,
          0.4430017973536215,
          0.7869224265474072,
          -0.5605651851159844,
          -0.12843809243295365,
          -0.5314028806277055,
          -1.0238290888621409,
          3.174879734132037,
          3.859538766764742,
          2.6026231331657725,
          0.1583326346192822,
          -0.7710403655798265,
          -0.49954195302792964,
          -1.2938074605601009,
          -0.358054268891264,
          -0.837184760004048,
          0.23327622655162247,
          -0.08852138585591827,
          -0.6084691009396404,
          3.8798628593031754,
          -1.6480835900823712,
          -0.07920628817761163,
          0.18122554674263502,
          -0.7235894288501387,
          0.3806768139362982,
          7.226544609014921,
          3.401539713522079,
          -1.4159279091453272,
          -1.9127960305645075,
          -2.0174373591629937,
          -0.8956325749527955,
          -2.2603496043111897,
          -1.940733736119525,
          -1.4539395308420218,
          -1.9899331345222508,
          0.5563608894958337,
          1.3655741274589215,
          -0.6778354788931387,
          1.4872586279570363,
          -1.423700845133622,
          -1.2748104198497443,
          -2.5524611671940147,
          -1.737566270810136,
          0.8903585804759288,
          -1.3514066895790264,
          3.673495161639019,
          0.23893979548550504,
          -1.8009380597154063,
          -0.6930082747630688,
          -1.130234615338385,
          1.0424609969554537,
          -0.3854930285215793,
          0.4808026898470222,
          0.3696015150662236,
          -0.24312431299061177,
          -0.3142989666133027,
          -2.1229905425409274,
          -1.772924699564337,
          -1.6173696754713014,
          0.23810845387496932,
          -0.48339166999374134,
          -1.7273711551849695,
          -0.10198804553304687,
          0.505514480308404,
          -0.7131430817527225,
          -0.8951228201123641,
          -1.0597890934720602,
          0.36743215471166657,
          -0.32755247999582027,
          -0.15392290335129083,
          -1.0079751959068284,
          1.331226750839261,
          0.14879178398842197,
          2.593757649392418,
          5.280198100270836,
          2.6125401236233956,
          -1.2429187294667823,
          2.8834607480253327,
          -0.8454958932986623,
          2.1255631796368912,
          -1.284844712998298,
          -2.333529043949486,
          -2.3874608455512805,
          0.4708102218623851,
          -1.8703654091300104,
          -2.6048645631439262,
          -1.5249585479981818,
          -1.9311352130461585,
          0.15925914311312803,
          -0.3368542746747277,
          -1.7238132206500614,
          -0.1452317393293594,
          -1.1513324744387912,
          0.5329054203221859,
          -1.9612249102027286,
          -1.2399292163761015,
          -0.921352042534898,
          -0.29344934812890355,
          -0.7878251517408995,
          -1.9817641589624007,
          -1.7244851503949097,
          3.925517286069735,
          1.5942931299634597,
          3.1863353179970484,
          0.9775969311537845,
          3.5867432508255224,
          2.6477450497993638,
          5.270217759644972,
          -1.7082485977385524,
          -2.199803980460221,
          -0.06578081779005372,
          -0.836870628455964,
          -0.7854677175050849,
          -0.2091640274211784,
          -1.7085754585994821,
          -0.2091640274211784,
          -1.3997320777127067,
          -1.0909590554136055,
          4.1694664715057215,
          -1.3684630603624208,
          -1.9324283671873033,
          0.11061706995923451,
          -1.8318071541194507,
          -0.9598571387641521,
          -0.20192591787069994,
          -2.322482104084646,
          1.2956242638589617,
          2.43993896804247,
          -0.003429977050851045,
          1.968987870792325,
          -1.8110394558681608,
          -1.2760228016973987,
          1.7512646091908477,
          0.04735484250802928,
          -1.4262864308855525,
          0.8119245867926477,
          -0.33516147313772554,
          -0.2885419144058597,
          -1.9135217129716555,
          -0.44506574689565664,
          -0.38980135923955944,
          -1.0965604946490628,
          2.8632445586955466,
          -1.0064366536641471,
          -1.667995626555782,
          5.037072097193788,
          2.30725166878942,
          0.9817234747421216,
          3.0232908871047814,
          4.117010734472984,
          4.113361444554915,
          -1.7640887933065441,
          0.15200397301154547,
          1.0100574747776057,
          -0.09826825918659707,
          0.7454678649645963,
          -0.07912913968776551,
          -0.5869929672815051,
          0.06137656758641648,
          -1.2493185544417873,
          -1.162532956966598,
          -0.5446464357178704,
          -0.5257359411169922,
          -0.697396904144973,
          -0.9719600477668988,
          -1.7113924337417705,
          0.6626099536052521,
          0.3799066704611542,
          4.353172762386835,
          -1.7505111883218216,
          -2.6082819147952394,
          -0.7744430956484721,
          -0.29049845972909033,
          0.19347918400083808,
          -1.5005648417719324,
          -1.3802231760043522,
          -2.52014911330961,
          -0.674259069769007,
          -1.2280633296074603,
          0.4229742125954435,
          0.19347918400083808,
          -1.6139893679672437,
          0.24592070134157068,
          -0.9320241203449573,
          -2.029188215364681,
          3.0861648235299457,
          3.2896302356289477,
          -0.8430280926050705,
          -1.0191080260121517,
          -1.2581311719443324,
          -1.42938471453238,
          -1.2280633296074603,
          -0.8918518314853032,
          -1.162532956966598,
          0.3320094024663936,
          -1.4006157751179196,
          0.4749551626010544,
          -0.3285383111216562,
          1.2317234135229203,
          1.8982351464781335,
          -0.8272044736771342,
          -1.1182953375910352,
          -1.2140979999974268,
          1.410280915572893,
          1.1162558244140939,
          -0.9625261685035061,
          -0.2277434288391733,
          4.820483671447007,
          2.806672678167791,
          -0.8910597762575789,
          -1.4197100225439543,
          -0.6373053624231062,
          2.6678110759629465,
          1.3709647550842818,
          -0.8509927620370419,
          -1.134936953231043,
          0.3083139857621746,
          -1.4183221756409599,
          -1.1093252736015085,
          -0.785882449095934,
          2.1433565649047135,
          1.6998034813955667,
          -0.5767423202391129,
          1.1753290502836982,
          0.7683249437917391,
          3.067247968624567,
          2.17138277318807,
          0.09109228763953116,
          0.17424196049511959,
          0.31907993640080995,
          0.5277083757468631,
          -1.5891418340117436,
          -1.8079063743752266,
          -3.000949411712799,
          -1.5683430554100017,
          1.2531320966526067,
          0.4800788069577344,
          1.1470176346512193,
          -1.3095170917389245,
          1.5929388159834166,
          1.0710420132491294,
          -0.6277790692076218,
          -0.7049891902633261,
          -0.3660994904340933,
          -0.48717640946067003,
          -0.7621598571323517,
          -0.09005428008473072,
          -0.1486852055596901,
          -0.2507783494082114,
          -0.7043224955062201,
          -2.1090182695832587,
          -1.8793340708111215,
          -1.4483273104314516,
          -1.6855200932596461,
          -1.8814813682552232,
          -1.4090316369170133,
          -1.8761815210993218,
          -0.41135347671405903,
          -0.866203259858258,
          -1.5843624105760055,
          -2.4428347518126077,
          -1.0024189493957543,
          -0.7470110613107903,
          -1.2099907754251196,
          0.8179688501593771,
          -0.3212642807458099,
          -1.1398522347318434,
          -0.843701824803569,
          2.042252885206129,
          4.763938610263662,
          -0.8284168584098434,
          -0.6352570447275029,
          -0.8515059856345185,
          2.2461767341646803,
          -0.3982392926568282,
          0.6404987805565759,
          1.2643075804942303,
          5.199354627810795,
          1.8583829004360757,
          0.7197917125418744,
          -1.8100918480866643,
          -0.0514358947703227,
          0.37389210195511746,
          0.7611727109350758,
          0.8241113127768864,
          0.555084456587074,
          0.7400410988074468,
          0.4304758860098776,
          -1.1913376013534462,
          -2.0196290838920703,
          -1.0362298519507225,
          -0.6266858975965722,
          -1.7617435578112304,
          -1.9484506333422846,
          -1.000808035812244,
          -1.946560939940712,
          -2.4761756352926856,
          -2.657580092427618,
          -0.7988177186083169,
          -2.1323643057110795,
          -2.5641686556704366,
          -2.130563835869555,
          -1.0271095058981732,
          -2.271182762073555,
          -2.995567970719323,
          -2.013777147378138,
          -1.5437600629004626,
          -0.5641657478210654,
          -1.953961590067143,
          0.13531177462094113,
          1.5240830508841012,
          -0.38979132753570034,
          -2.1472490541110067,
          -1.7165767230653313,
          -1.7102416567782461,
          -0.2945681091475023,
          0.6183200167275006,
          1.1050523168212674,
          0.013477089149457258,
          1.3552239026426225,
          -1.4987842085344654,
          -0.8367365709615107,
          -1.0892869241339993,
          -1.1815682360615916,
          -0.8359986265401643,
          1.8064229455207192,
          4.573522285535849,
          -2.389547203958501,
          -0.8875625801717639,
          1.5623932472527677,
          1.6129921406346894,
          2.3782870107067735,
          0.248147256412075,
          0.8731453432239895,
          -1.7647645267425442,
          -0.13139150759423388,
          -1.6129773081287333,
          -0.5758965096135341,
          0.07342012773008705,
          5.948310252700196,
          -0.26031174767672055,
          2.3439529774231596,
          -2.0317748746875957,
          -1.3422308343188218,
          0.5257049943117349,
          0.22042439977145015,
          -1.4231533307505309,
          -1.9680325183749652,
          -2.4900041877896313,
          -3.6403170139945313,
          -0.7100689834528809,
          0.1803774457546648,
          -2.7307792390101286,
          0.6051493269356278,
          -2.0122268085743857,
          -2.988237786590673,
          -1.988122656708789,
          -1.1001811056752324,
          -1.632256010248138,
          -1.5585212785368732,
          -1.2003769056176083,
          -1.1518035655172452,
          -1.5626575408762542,
          -0.7030185679656779,
          -1.5109878564250232,
          -2.09497625640537,
          0.21820803727111962,
          0.2810209256473462,
          -1.599901598510912,
          3.636437671895395,
          4.377634569812746,
          5.517832620777447,
          -0.15593220469833288,
          -2.782354500681216,
          1.7058186045512935,
          -0.33256344644116176,
          -1.560633597882818,
          -1.4666166729454653,
          -1.6720377493956826,
          5.050054496026233,
          -0.4211302351958697,
          -1.4156805781784696,
          -1.031017531753144,
          -2.059461933825434,
          -1.1993121002513587,
          0.841839116749828,
          0.5277083757468631,
          3.2000540604664494,
          -1.0918956593169193,
          -1.6640321370290694,
          -1.7940379519331608,
          0.26759154444683025,
          -1.1761461616742344,
          -0.9236608800933438,
          -0.7383878592737926,
          -0.737011567656227,
          -1.7260061487881724,
          -0.8276749826467553,
          -1.0981889258275142,
          -0.06860373314219206,
          -0.1984230049980864,
          -1.7252882884251945,
          1.90270412506427,
          -1.204137746932,
          -2.146761574037714,
          0.5675226390225955,
          -2.7378605856359575,
          -2.364673522999303,
          -1.5159051852544072,
          -1.1991820155424164,
          -0.23901879110390237,
          3.755510100997643,
          -0.917218752460374,
          -0.6027578678703442,
          4.365128553031848,
          1.357052659263262,
          1.0610805001881742,
          -1.0918956593169193,
          -1.0918956593169193,
          0.3799066704611542,
          1.0507517772310686,
          -0.8347222062998,
          -0.43629024499739394,
          1.8393460147500837,
          0.9749323262388518,
          3.599847460359529,
          1.3878500421641167,
          1.880899893264137,
          -0.24102161445379253,
          2.5242881418413683,
          1.8226454879784884,
          2.3824054687967275,
          2.7160711465674634,
          1.3400521098127438,
          2.0675085711906003,
          -1.377414780561448,
          2.1169017128094136,
          0.47253708128568184,
          1.700509033027921,
          1.012413873477642,
          1.463848986140686,
          4.517415285770567,
          1.606239066466428,
          1.5090985483914163,
          3.3281730713216438,
          -0.7586867391814031,
          -1.9710893785207464,
          -2.6279453478185073,
          -1.095921722113376,
          -1.7330340393361574,
          -1.5509421569582753,
          -1.915326423082568,
          3.2865430676300704,
          -1.885301259836649,
          4.031929446383434,
          1.0917032949632044,
          -2.099589175122623,
          1.607751513817956,
          -0.7338996331495037,
          -2.329923166852286,
          -1.671499401380419,
          1.3227936929233723,
          3.224578804871137,
          0.8493078136160145,
          -0.8991050041159993,
          -0.25963697831105526,
          2.4878459896885197,
          -1.0057381074581433,
          3.7826527020996883,
          -1.9157679231230464,
          -2.002623395739875,
          -1.669644827233121,
          0.35150546256900794,
          -2.4460483692043993,
          -1.7619019356353507,
          -1.651777456767838,
          -1.623754762123404,
          0.895776632398662,
          -1.8642286743270589,
          0.05337344824099881,
          -1.6425344618411397,
          1.3552239026426225,
          0.1462460887456534,
          5.858209721616868,
          3.718031260960788,
          4.993793590175094,
          1.8999455539621668,
          -0.8127854597663113,
          -0.9882751706880368,
          0.6321516301100979,
          0.01341666796079532,
          -1.2772504087424372,
          0.5751095293838523,
          1.8650579113698977,
          4.510568593122147,
          -0.08449905553375567,
          -0.24164638031297853,
          -1.9830682310610863,
          -1.8494850568377137,
          -2.507249276942517,
          -0.3120875385222825,
          -0.197995162763879,
          -1.9132406824951955,
          -0.46675708557075873,
          0.5301321114835891,
          2.8059892371366977,
          0.6503978876248572,
          4.008015267389633,
          3.000746418246712,
          0.3032852502015851,
          0.7826398955578462,
          -1.4792219052824103,
          -1.3563827742337005,
          -0.9660709260830563,
          -0.052599324175078684,
          -1.3776523091749269,
          -3.0725256635991194,
          -0.47513563176003204,
          -3.0267560599545065,
          -0.8325111872744717,
          1.7747900310136353,
          -1.0280691588067052
         ],
         "xaxis": "x",
         "y": [
          -0.011146290126838671,
          4.498483040491555,
          -1.2584950530912375,
          -0.9316902391794369,
          -0.999860557569932,
          1.4491987952161318,
          -0.15349105666351898,
          -1.0976948285917079,
          -1.2029511963611899,
          -1.6720710185825918,
          0.6245816077119469,
          0.35427951833409554,
          0.6218862595041168,
          -0.7257260770647127,
          -1.7533744258913735,
          0.09456002264657697,
          -0.760776541685909,
          0.09023324070523034,
          0.6354891072036875,
          0.9549247299482809,
          -0.8173396601849979,
          -1.2470979651002108,
          -1.0384504583107184,
          -1.8477530524364012,
          0.36640565879192943,
          -1.093942332682165,
          -0.513072591470397,
          0.192851910381636,
          -0.40850583478902375,
          -0.4019127768691349,
          -0.5390360868356463,
          -0.5093297116411066,
          -1.5551823065201966,
          -0.3275202482615804,
          -0.11881659332814593,
          0.635908530078468,
          -0.5876810821821727,
          -1.6234813101233756,
          0.9261554472362564,
          -0.002583714634443289,
          0.9482384115361049,
          -0.4325272360306124,
          -1.0477234546789898,
          -0.5884127949167783,
          0.10962376719394581,
          -0.17631562638303291,
          -2.231310852520517,
          0.3421759568804059,
          -0.13393724871445567,
          1.8282937839211066,
          -1.5586608599510334,
          0.394137707022946,
          -0.1689955598065924,
          0.6402870848131602,
          0.7535261568595863,
          -1.0071979202008559,
          1.251381544732153,
          0.728379525405049,
          -0.315587092070692,
          -0.3743084277381321,
          0.6971582660739034,
          0.4907815022846548,
          -1.449631329393616,
          1.4022237154782549,
          3.1825154078065783,
          -0.13343620635138198,
          0.7231412843907881,
          2.4356732324127717,
          -0.6624452959667992,
          0.882861064926852,
          -0.4539974243368552,
          1.2895652026945406,
          0.7021569500086038,
          -0.03212034941795449,
          0.1558931183333507,
          0.04483740558801737,
          0.7644853720457702,
          -1.8700830086717883,
          1.9424014130733969,
          -0.5355532328520194,
          -0.7101916522494048,
          0.6821340814378521,
          1.5096042889137338,
          1.0677125248492454,
          -0.2031934556505024,
          1.900070375991714,
          -0.9569272319374207,
          1.7957948181498615,
          -0.5045512816835342,
          -3.035114235492886,
          1.185874329517808,
          0.8760206158908901,
          1.0658710831443408,
          0.8982598530428673,
          -0.10984688935739716,
          0.7719022721632369,
          1.1990816803218638,
          -0.05275616015040322,
          -1.8569894900465935,
          -0.3264355253289221,
          -1.69394818406683,
          -0.10438796376461967,
          -0.14531043781235406,
          -0.49969689446459487,
          0.32606478883571843,
          0.5077876996618966,
          -0.05048147181217197,
          0.4746966598255559,
          -0.38797355248060056,
          0.9981145621078832,
          -0.06458868577411557,
          -0.16680607960514068,
          0.6183612930258748,
          0.3466789772890133,
          -0.849881669404757,
          0.02828535453093995,
          -0.43098808762267077,
          0.9716433758065668,
          -1.0005494442087886,
          0.566529012538567,
          1.1465811195268019,
          1.3964744337563044,
          0.43319264302379556,
          0.09286868670805389,
          0.28271702966358153,
          -0.4675119546435416,
          0.3005906656279891,
          -0.25683121926391517,
          -0.7082299299146109,
          1.965355687242326,
          0.5402660920588394,
          -0.47330522451280865,
          -0.4590570749385414,
          0.1771284073532373,
          1.3226057430132467,
          -0.18364572119185588,
          0.5715418725763874,
          3.1825154078065783,
          -0.2252076926587131,
          3.3372777729058685,
          -1.1787016560533647,
          3.3372777729058685,
          0.8919286352285131,
          -1.6621229341015193,
          0.912651891687272,
          0.04544220504715625,
          0.15799090914534886,
          -0.3881116746652953,
          0.7693841067862314,
          0.3165200353751115,
          1.5899977353431345,
          -1.904786800046839,
          -0.9570850389300142,
          0.2230345128472615,
          2.1053849872447783,
          -0.6995465461225089,
          0.7111076327776112,
          1.0092401714194625,
          0.32381188266964783,
          -0.16319434873238087,
          1.0404375904923149,
          0.6564793989659158,
          0.39517415148942164,
          1.2410104338213062,
          0.3769590932264068,
          2.4618886452370767,
          1.2357005578886249,
          0.26347434069351006,
          -0.31498030623084394,
          0.5105081730241819,
          1.1597876950391843,
          -0.15864705407278845,
          0.2960584459910364,
          0.08484118937578763,
          -0.7467089182464848,
          2.211413217937469,
          0.08320541248182269,
          -1.0443441784920722,
          0.19123446817488718,
          0.6089226265344317,
          0.7789952619638933,
          0.9523723915944745,
          1.0296391405424692,
          -0.36267015960538534,
          -0.9711390263760898,
          -2.642486423345225,
          3.1033319622259383,
          0.21619308773179494,
          0.014957619740980893,
          3.9190384728573697,
          -0.5723148273970246,
          -0.9986452552999865,
          -0.9516486023188426,
          -0.6906988660514825,
          -1.184084181842628,
          -1.3006189908905768,
          0.5947979963623243,
          0.08054162638613759,
          -1.879038751232321,
          -0.3388521257419319,
          -1.630949174398555,
          -1.0941715165686392,
          -2.446461747927905,
          -1.1407059930266383,
          -1.8453286786660497,
          0.6507379346285538,
          -0.4711808757008185,
          1.019732591308469,
          -0.273365156373653,
          0.017367780195285495,
          0.7744178910726944,
          -1.1653490752846154,
          1.5829275370760425,
          -1.2845530401926473,
          -1.3462327707720685,
          -1.1924586912170827,
          -2.355220982919509,
          -1.6350920282524652,
          -0.7943134394819907,
          -1.5948015187911315,
          -1.03677441637677,
          0.23834202586569259,
          -0.9150329918104085,
          -1.6791143643828967,
          -1.1140081837787816,
          -0.4264153508845782,
          0.19720315170070235,
          -0.767578158383627,
          -0.6634064026910828,
          0.018494863427139945,
          0.03239395742923467,
          0.5429849610833285,
          -0.5502293308844964,
          -2.587755947082535,
          0.07003755588593082,
          0.7387646468178289,
          0.8517448089595112,
          -1.0045392123559693,
          0.022744918930618564,
          1.1028840070236052,
          -0.9711482695074376,
          -0.5747759434969216,
          -0.704166570853378,
          -1.2590290776964868,
          0.5110837248386952,
          -0.4473929302746732,
          -0.7770987572885049,
          -1.5128098061317319,
          -0.010119072281301506,
          -2.656517044283658,
          -1.8578537653499592,
          0.029678348751541662,
          -0.4881176600840503,
          -0.46263501008077246,
          -0.6323213193002094,
          0.8689648267049044,
          3.24047750803049,
          3.24047750803049,
          0.023892287317250672,
          0.6703963948146925,
          0.7996627431599468,
          0.5833737164149402,
          -0.11689578549234649,
          0.7123683209024182,
          1.531094807331236,
          -1.606980022160718,
          1.855994257066209,
          0.04437539980395518,
          1.2105451052359506,
          -0.6133121765032439,
          1.0809283795560016,
          -0.21205336988886284,
          -1.1818910023338236,
          -0.7775444494726208,
          -0.6234088227383877,
          0.5694778943370097,
          1.7175189370213635,
          -1.018949062217172,
          -1.1180976339575945,
          0.5457794249420197,
          -1.2203204394225373,
          0.8906898331423558,
          0.9608276029309016,
          -1.2672613034227624,
          1.6835784222939112,
          -0.7047166607825169,
          -0.644538971037419,
          1.7118067203121359,
          2.0700335917909674,
          3.7740953500324284,
          -2.526402043882351,
          3.027705154585715,
          0.7863022708009547,
          2.853662751981012,
          3.7740953500324284,
          2.0513570557630825,
          1.401227742855317,
          -0.9266969511957183,
          -0.6326476919953288,
          -1.127956307161737,
          -1.1810383810275715,
          1.9575377687744198,
          1.9979683623798512,
          0.06784792539787114,
          0.536242582754824,
          -1.4777415250203862,
          -1.9777901671232003,
          -1.1096645491064119,
          -0.789528295659512,
          -1.4068333771286492,
          -0.8359585182991253,
          -1.547565309042906,
          -1.2046762480700823,
          -1.6143833336086213,
          -0.5314998546403839,
          0.1802771201047224,
          -0.7320794166920268,
          -0.03506686939659781,
          1.9807742361710317,
          0.42232942329204404,
          0.2836067607286726,
          -0.6255932639365444,
          0.7112353207108743,
          -1.1077101885611709,
          0.48824908011310686,
          -0.22795730447657747,
          0.19717824977674248,
          0.3150319980462697,
          -1.2672613034227624,
          1.1177165541627059,
          -0.445717277748363,
          -0.813869353548343,
          0.3178642790899851,
          -1.1464663024558053,
          -0.17714161009327883,
          0.348444211105321,
          2.406404972446325,
          -0.0003525217776438856,
          1.887320341583242,
          -1.3725204164548324,
          -1.2657688377536702,
          -0.6949733179444151,
          1.887320341583242,
          -0.8101213187323127,
          -2.9183415164682844,
          -0.9151402576715386,
          -0.9894869373615445,
          -0.2992327208272394,
          0.4760198718631151,
          -1.5094498562717877,
          1.887320341583242,
          1.1113603909961736,
          -0.3749760147515898,
          -1.2545771481814065,
          0.9048464943469012,
          0.14491983213610488,
          -1.0798413560153641,
          0.8958070512138083,
          2.060755763387275,
          1.3380694906666464,
          -0.7927850799344993,
          0.7801239402947853,
          2.38900263167866,
          0.010923878415341745,
          -2.70116288109141,
          0.30716006665628703,
          0.4060177721073558,
          -1.7931461706698173,
          0.6582528726690453,
          -1.563464426071767,
          2.415054241488731,
          0.5843336029259841,
          -0.6038418556220868,
          2.2825376777124355,
          0.5348228328720844,
          0.44349978495395975,
          -0.6515118089357849,
          1.0533504658934285,
          -0.05684593511018174,
          0.7667072369066998,
          1.99242992455851,
          1.6650019235103037,
          0.0989133857527189,
          -0.21030445971978126,
          1.4049591878689267,
          0.6572987131801558,
          -0.757260988809986,
          -0.42897885501636784,
          -1.1663827255438786,
          -1.037573785781152,
          0.317760259969522,
          1.1770272825990258,
          2.5220133022988485,
          -0.35565697175471533,
          1.2739159471111898,
          0.12552664107296152,
          -0.04443688853521306,
          -0.9598826795695862,
          -0.9994617694103689,
          -0.171922385601567,
          2.0825047669647576,
          9.808615665275749,
          -1.9109995363880066,
          -1.5953448853504675,
          -0.20772046078352638,
          0.38379843657746654,
          -1.6622338726879478,
          -0.5449138158014999,
          0.3926042114015609,
          -1.0816366373679913,
          0.2533103235365437,
          -2.3938747210539613,
          -0.47150127593609836,
          -0.1756116728172235,
          0.7451440430086295,
          -1.687349501878604,
          -0.20380451675243305,
          -0.6772495315786111,
          0.45154411590279514,
          -0.4727486064660548,
          -2.6124788945229924,
          -0.5263262266185558,
          0.8079535533547789,
          0.1138316848656279,
          -0.8406691236039696,
          -0.07662975110137549,
          -0.5132639481080146,
          -0.582058132828676,
          1.4966189151479765,
          0.21591294181917242,
          0.8749333087385139,
          -0.49583472433259457,
          1.2667969389178968,
          -0.6352214968617715,
          1.7116862484490925,
          -0.059813117058138826,
          -0.6497724736162316,
          -0.6584021042342952,
          -0.11984531532774685,
          -0.6498927216938711,
          1.6583247694069483,
          2.0021393264062324,
          0.10467094944933143,
          0.12593071239530554,
          0.9211842808505306,
          1.1566985880876266,
          4.137971827721912,
          0.4510339910091277,
          0.7392753979079749,
          0.7802223761612863,
          -2.0010115300907687,
          -0.5462424385825622,
          1.2886913072683877,
          -0.4138934852797084,
          0.5142060333389619,
          -0.19834002790450095,
          -1.1325191168425939,
          1.088833514659237,
          -0.8852774981108731,
          -0.2595736667103267,
          -0.33655960124603973,
          -1.4383020605948782,
          -0.8553689297851277,
          2.0374156634903415,
          -1.084980509930824,
          -2.624972510429552,
          -0.29118493718810723,
          -0.9406771827196875,
          -0.8619638727305513,
          -0.7446552433346836,
          -1.580640430044733,
          -0.24540199652620362,
          0.1661323479809532,
          0.2552234665149243,
          0.8974807722274426,
          0.6208671719375582,
          0.2805925306926615,
          -0.634087308501408,
          1.0661851762831895,
          1.5503964871266411,
          -0.7612398420860179,
          -0.06922749235527273,
          -2.1577156365998045,
          2.1872713095154004,
          -1.321554852062226,
          0.7356238326523753,
          0.767364251082474,
          -0.06979929244775962,
          0.488667665043323,
          0.2669812198875676,
          0.7328123563979604,
          0.586121487506144,
          -0.995385815139617,
          -0.17759522520563875,
          -0.6764116893753351,
          -1.298921322411739,
          0.8921496309187901,
          -2.2675364797362887,
          -0.6406026434243621,
          0.08160718107044328,
          0.7976536903440765,
          -2.531916305770237,
          -1.0799014176355552,
          -0.19615586969321397,
          1.138417032076645,
          0.28707549080251304,
          0.4226851034531933,
          1.5804058973004502,
          0.7663364597659555,
          -0.6146786963745657,
          -1.1175193421862732,
          0.6785761172927791,
          -1.1806363394390715,
          -1.235978876508933,
          -0.31955324249624545,
          -0.3744071069079029,
          -1.8640708749147725,
          -1.7773287436540248,
          -1.9813608548146273,
          0.25707335983407076,
          -0.6155426574374905,
          0.24292559938267919,
          -1.1616324224085042,
          1.8958622798558837,
          -0.33566063651685796,
          -1.069462485717824,
          1.7513158520768193,
          -2.4367945237996897,
          -0.7722764505011079,
          -1.1810989500449771,
          1.9317052289038248,
          0.5716358610330153,
          -0.4666957497791029,
          0.7085487574433738,
          0.2816180026787592,
          0.39077968913995687,
          1.8664572644859516,
          1.2570515395744712,
          -0.025989927797271672,
          0.08292369316000926,
          2.2125582507039705,
          0.3250617645608732,
          -1.1703087112108868,
          0.2742683209909505,
          0.7085487574433738,
          1.1437392895821465,
          1.3752645944313246,
          -0.5836498678916463,
          0.19823214236746228,
          -1.614894781019971,
          1.0620864810567907,
          -0.9361637998069964,
          -0.022866776118988016,
          0.6613537913076045,
          0.38530631843082613,
          1.2299781646381993,
          -0.0778234875157711,
          -0.15923645755136484,
          0.4627913102919559,
          0.8672704536836484,
          1.585483571819162,
          0.736754907052966,
          0.7140682739125953,
          0.9688369678118375,
          0.25126802391534486,
          0.5132039117659943,
          0.8372222203501742,
          -0.35736707481577723,
          0.7717816493277022,
          -0.6074502986415986,
          -0.26946117978951883,
          -0.8556227790287795,
          -1.1068158657389364,
          0.18685711887944606,
          0.6816277954199119,
          0.9788842536594317,
          0.45208387285022356,
          -0.7983021441809105,
          -0.1338552566481291,
          -1.3796314186286878,
          -0.21078138640284158,
          -0.9811799170595046,
          -1.3319948163180744,
          -0.19328093980775213,
          -0.27708365578956223,
          -1.978377527156464,
          -1.37389275338927,
          -1.2024447361796204,
          -1.30806945766172,
          1.7650475397544332,
          -1.1229156368814155,
          -2.730925832158358,
          -0.8706224842112569,
          -0.5243173469086181,
          -1.1097479863616226,
          -1.230803983194947,
          1.1494624022273874,
          1.964197765747778,
          2.1785293823189744,
          -2.8135610607731656,
          -0.4446860762774551,
          -1.363471634841045,
          -0.6220149462494265,
          1.041680037069989,
          -0.3952177166580213,
          -0.19449469553584073,
          -0.38526083549147105,
          -0.06318642030526929,
          -0.06793988912861046,
          0.04752527244375132,
          -1.2880149374051078,
          -0.4742245086831726,
          -1.3815311599721696,
          -1.4991282734577804,
          0.10597497457687934,
          1.2977230389711816,
          -1.486456518564598,
          -0.04309271241806868,
          -2.332831179770082,
          0.9425352116267063,
          -0.9782852103707476,
          -0.8375933378434285,
          0.24182119457517642,
          -0.8490077081291286,
          0.0673753083103237,
          -1.1745357862551764,
          -0.6271315392818447,
          -0.5770669957486695,
          -1.3448712697469216,
          0.23196544102466754,
          0.8445197390903224,
          -0.4029009897872094,
          -0.005736214361115043,
          0.4499143340358745,
          0.6750056141422729,
          0.2826921428424728,
          1.2696072180370284,
          -0.4871801805221608,
          0.6108104896236379,
          -0.4948587314914115,
          0.1181781723823452,
          0.7334875142917916,
          -0.5180917961506759,
          0.18106416040857892,
          0.7146230917208737,
          0.7428997971628287,
          0.5593656303835163,
          0.4849053310827837,
          -1.0171259983707683,
          0.3878104905547112,
          1.6226377843395527,
          -0.1780970479433491,
          -0.12476503646774172,
          -0.29617796041093697,
          -0.2737989226362741,
          -0.9268841480713071,
          -2.038010112230437,
          1.4506337137912295,
          -2.0579085201675227,
          0.033027310562339214,
          -0.6887356962529698,
          -0.5190815328898672,
          -0.7472663186110947,
          -0.8682390206907908,
          -0.23433916561783352,
          -1.405339282447948,
          -1.298186109840003,
          -1.1127467506287048,
          -0.9768526143068134,
          0.6741636247927285,
          -0.9814765781246872,
          1.0934127148953334,
          1.1383910108144235,
          0.06965396958828178,
          1.995980106755627,
          0.9755122541602347,
          0.6623848700199344,
          -0.8861233320777793,
          0.7021569500086038,
          0.7363870858767162,
          0.2330089649067168,
          0.15532837478584455,
          -0.7151335683911908,
          0.4534623044762605,
          0.595387391283043,
          -0.12083862405770172,
          -0.7904677532103997,
          0.7442943549477131,
          -0.5173945461923838,
          -1.367181553739714,
          -2.1647606862810433,
          2.406575770189157,
          -1.2491142295755049,
          -1.7138057454863647,
          -1.1199854719256772,
          1.6019710557732252,
          -0.7298052345060041,
          2.696272599035891,
          -0.3514964395317279,
          -1.702470907429887,
          -2.6028083441033267,
          -0.001861857381040199,
          -1.6785787472575258,
          0.17100843015583952,
          -0.2664486511200114,
          0.0728844182682828,
          -0.5148061391081231,
          -3.6521473312229373,
          -1.5229955970088491,
          -0.36150444423669614,
          0.33209914601970214,
          0.06386128061298135,
          -0.06798773550581373,
          -0.06798773550581373,
          1.6600878927881182,
          -0.5499230709138895,
          1.1657589760111935,
          -0.5731714708818125,
          -1.6661836834923507,
          -1.416562462785051,
          -1.4308328180936039,
          -1.1943971753589029,
          -1.4274095208739366,
          -1.1511209970770366,
          -1.4869190971071597,
          -1.5228713473950601,
          -1.451638209153421,
          0.175901650386547,
          -1.2007541057312034,
          -1.1574513304114855,
          -0.8775905383634284,
          -0.5753777267466679,
          -2.0477466943732656,
          -1.2612019677118822,
          -1.657891597204074,
          -0.9738377876979712,
          -1.3021828325620177,
          2.030428652041031,
          0.7354293886633663,
          -1.4150905188259988,
          0.5545644883197923,
          0.4961085640844218,
          -1.4305639637987222,
          1.6075802808416446,
          -0.8012284798287436,
          0.6747351899313615,
          0.12194654885889783,
          -0.09902124256603806,
          -0.06924925887923175,
          0.6715536596689553,
          -1.1968649079150164,
          2.1785293823189744,
          0.7120396547541865,
          1.0719117293829008,
          1.147852074059687,
          0.6481283190597541,
          -0.5960966025054195,
          0.22109387579757747,
          1.9766866328626074,
          0.0667644971130517,
          0.9143713972798163,
          2.846770826534308,
          0.14701877091225998,
          1.2816469698098134,
          2.846770826534308,
          -1.9407940206375245,
          0.04594027856043298,
          -2.106243615014697,
          -0.7473077818496993,
          0.3813305370708731,
          1.1563480223931895,
          0.09832857235023941,
          1.3195450645550828,
          0.6838502211062949,
          0.9286327150239226,
          1.2197449477602855,
          1.1812618877138916,
          -0.24626779839357074,
          1.0543507232367988,
          1.6346249482684638,
          1.1208526375187815,
          1.166500400610696,
          0.35920488968032716,
          2.9368444395740805,
          2.3594110153431505,
          1.5909270645632716,
          -0.21910571865285033,
          2.2780569687552257,
          2.6215188359867807,
          1.5149446421866537,
          2.152115466847553,
          0.3527371550411668,
          -1.523959546980699,
          0.8283125934152259,
          1.451635892343002,
          -0.07205021415422902,
          -1.1760735761202998,
          -3.1982178651250823,
          -0.820181843812284,
          0.6486029919662084,
          -1.8391905524002898,
          -0.2958332784407973,
          -0.08593625358313113,
          2.161647716158942,
          -1.5566511731330441,
          -0.19148102107685766,
          -0.7299870431004449,
          -0.7726676252422128,
          -0.8789815373159146,
          2.596594940330127,
          -0.9684721849669106,
          -0.012415922773767343,
          2.777631799250744,
          0.008146240049375279,
          -0.12915323542918047,
          0.6678652880289533,
          -1.510702170379668,
          3.0731493555380682,
          -1.4438610416065336,
          -0.5025097048772132,
          1.324207735558575,
          0.5827095805282622,
          -2.197356875373614,
          -0.14753873569748557,
          -0.4880953525546398,
          -1.3450083943612778,
          0.32685326130838693,
          0.8459249238174444,
          2.2524644820304025,
          3.3049931546089644,
          0.03839524739570429,
          0.9816545686601099,
          -1.7461053753967288,
          -1.4139744288995435,
          0.1059867032273619,
          -1.1229631780375937,
          1.384410689220137,
          -0.1616719729889376,
          -2.254469623879281,
          -0.6869253409334324,
          0.7902407593582286,
          -0.14973732308850868,
          2.0284456703648424,
          1.0809283795560016,
          0.2532824348560146,
          -0.13986980407637692,
          1.519353251808009,
          -1.5507576235702543,
          -0.808893510125646,
          0.15044670458467224,
          -0.04500234018913823,
          0.1872013257608104,
          1.2968594264079563,
          -0.462624015817106,
          1.0988180711853768,
          -0.42462718617279116,
          -0.8185606053174727,
          1.1197926281004666,
          -0.6119842950529563,
          0.2947456189667921,
          1.4551038711161854,
          -0.4100179474855028,
          0.5691942254362499,
          -2.590599150048014,
          -0.18202951374809392,
          -0.8607013036745852,
          -2.2960756072603274,
          1.3167076465878853,
          -0.27251690398117373,
          -0.5566738862996022,
          -0.715217088586883,
          -0.7028362760612363,
          0.06303033231618399,
          -0.9902208730061534,
          0.019724106704528763,
          -1.5601392302159744,
          1.2645522348952962,
          1.7383022229355873,
          -0.24957322851933822,
          -1.0702528843505683,
          -1.2844295150086953,
          -1.2464356433071087,
          2.2993299862982335,
          1.1641245992756335,
          0.7015448503931607,
          -1.5291054878331398,
          1.2451125043197107,
          1.2631399169680362,
          2.210371436006022,
          0.8690317957680922,
          1.7953295321679057,
          -0.2279979509833219,
          1.035496693630142,
          1.7471850168622913,
          0.6393512413680986,
          2.7322746057582,
          1.9385695616987788,
          -1.479781136508337,
          2.626893231713909,
          -0.9871339708869442,
          1.5030130287038048,
          1.0529794513877155,
          1.2377964378668687,
          1.3964744337563044,
          -0.4050203930043893,
          -0.9982484808587214,
          -1.546883743976749,
          3.1825154078065783,
          -1.5412634785360084,
          0.800140731536107,
          1.6262958353849508,
          -3.4389885917616176,
          0.5753938621894713,
          2.2122163894790066,
          2.483677273352304,
          0.588593894544172,
          -4.1211833927024335,
          -1.3940325838598735,
          0.7540240214844233,
          -0.9321725445352353,
          3.0281100691433327,
          2.2881131630279716,
          -0.4078631192511278,
          1.118236966044157,
          -1.304592313992262,
          -1.011471505430451,
          1.4550998217037538,
          -0.11640318223675959,
          -2.4161106590600325,
          -1.9796288927708474,
          0.1621336129995409,
          -0.46828752726256984,
          0.5913167294180854,
          -0.3108898220591159,
          -2.5200907369768593,
          -0.09431542449179711,
          -0.13783072116580478,
          0.6444051988424133,
          -1.1620644660524473,
          -0.5610637779327763,
          0.2316888902685793,
          -0.5581193468046416,
          0.2153890923015158,
          0.3865471295851934,
          0.9889416595795402,
          0.7515095953074555,
          -0.23329405373395656,
          -1.2297478871028988,
          0.8201643769410965,
          -0.15882043442039276,
          -0.7565388853115704,
          -2.112028615171624,
          1.8405369669807927,
          0.5764743024800899,
          -0.6914969477991736,
          -0.315770705867424,
          -0.8810996699177854,
          0.8021470798848589,
          0.193479976957007,
          -0.4260196653524405,
          -0.594341656304826,
          1.4291872876100438,
          -0.1640924591100462,
          0.8120993643015332,
          -1.5026498422538643,
          2.598779509754672,
          0.5293587436794357,
          0.7783608326259315,
          0.6238136690580938,
          -0.12191949193504475,
          0.26791616106380756,
          0.4237906487477503,
          1.0686408169382273,
          1.4026574288018112,
          1.3879816561431082,
          -0.2146218847953653,
          1.5320826718596186,
          -0.6503647631977204,
          1.3022033030346325,
          -1.339311640585974,
          0.09681015173227833,
          -1.31558800621771,
          3.2836447682990064,
          2.799421051795825,
          1.347080416482288,
          -0.18101845690861304,
          -0.17543690178552082,
          0.6064345226532654,
          2.777631799250744,
          -1.8230617493286434,
          0.13057729102599233,
          1.2313845008696012,
          0.3466045216035897,
          -0.09832938999495983,
          -0.09436777659232716,
          -1.8418970721984362,
          0.5570265612360663,
          0.33874116018653866,
          1.015145503155614,
          0.764350641692917,
          0.08291424450270446,
          -0.10603512351487261,
          -0.049998715508896265,
          -0.8471965335774997,
          -0.7625426989529589,
          0.4494971789327841,
          1.112574117525327,
          0.6084618967296075,
          -1.2541278438638601,
          -0.6314035129261307,
          1.296284905765054,
          0.24621207217738125,
          0.05394140392632323,
          1.4956554144984182,
          1.7899910019342113,
          0.47066581613318165,
          0.5196573621206042,
          -0.09702344877198567,
          -1.6289827036759468,
          -0.147621035355833,
          -1.0538483392871947,
          2.5754738973101494,
          0.32698270084520625,
          -1.0584835530918624,
          0.28102921468649195,
          1.4795346263809048,
          0.8726252657977551,
          0.019121467791144296,
          0.8287698711128362,
          1.1378368096175695,
          0.2635445790927015,
          2.2707965426279677,
          1.3077206199092626,
          0.8185767880870037,
          0.6650768549335067,
          1.7874380723813,
          2.0664051307236857,
          -0.34639268363053327,
          -0.8577415633782174,
          -0.34664296939333505,
          -1.0922817043651105,
          -1.3118166173906058,
          0.8976326080505233,
          2.5385277673135613,
          -1.1870387717949198,
          2.7869826184936715,
          0.25451437231873425,
          0.3893614766752029,
          -1.10714120551994,
          1.610770507487826,
          -1.1739525088554215,
          -2.0616820132566858,
          -2.8053945963871185,
          -0.8831663371685481,
          -2.0633678994235907,
          -1.7987616717190242,
          -0.4207314753269825,
          -0.6148024213290787,
          2.274393449922065,
          0.1859934865096031,
          -0.5898593904191548,
          -1.2018199465962702,
          -0.11050871698376971,
          -0.5749320975573821,
          -0.6406026434243621,
          -1.3543005202399963,
          -1.5725660924039002,
          -0.6421207488010781,
          -1.7657936503406615,
          -1.4009596285162926,
          -0.5103533356941572,
          0.3136669597306119,
          0.1014872054628032,
          -2.2277616611461633,
          -2.1663989305907454,
          0.979837076614423,
          1.2933397156417672,
          -0.18737478514681197,
          0.35437199497886973,
          -0.4940457410139053,
          0.4082024146126547,
          0.07545889725107978,
          -0.020097489442545854,
          -0.5232755081075607,
          -1.115184570111144,
          -0.03524547218808599,
          -1.725635605331854,
          2.565355550971353,
          3.785598078144564,
          -0.5196969124319152,
          2.0225229491030867,
          -0.3273361120999741,
          0.9020944113643289,
          -0.9310219539819895,
          2.565355550971353,
          -0.9971014093097101,
          -0.2976292993379713,
          0.3241034095638721,
          -0.3972965827435325,
          -0.29185280304219774,
          1.2589704060075477,
          -1.1152716845022312,
          -0.6068327709989882,
          -0.019608718525090912,
          1.8576890270533748,
          -0.44601320040822595,
          -0.08888667464901533,
          1.2226267391788168,
          1.3180419447934713,
          2.8347796606319826,
          -1.6881739103057403,
          0.870258249912169,
          -0.6016329590871643,
          -1.6520216682288378,
          -0.674217291375364,
          -0.1680107737918667,
          0.6829368856864003,
          1.0166141420885235,
          -1.1573513700831806,
          -0.9920311725425536,
          -0.30940759541017526,
          0.27314354771894606,
          0.015838701558658807,
          0.7240235934694027,
          0.870708059204129,
          0.21601977979558218,
          0.41830866017892565,
          -0.7748456390260198,
          1.6700907754335652,
          0.2147123427348213,
          -1.173344783806563,
          1.0707460862605047,
          -0.5757347764161701,
          2.791480637215215,
          0.8073484220482446,
          -1.0511858033336987,
          -1.1638906002201048,
          -0.9323783000383244,
          1.4338452229528589,
          1.5482517667524,
          -0.8243053696849132,
          -0.21727761748933574,
          0.7408819707686048,
          0.776644487475567,
          1.2466074522256283,
          0.799607750104284,
          0.7098984500909361,
          0.15738238233608906,
          0.8291981600164926,
          0.41152118484001077,
          0.18507012194701292,
          -1.0699889202336428,
          0.5477835991559181,
          1.0667926679701105,
          -0.8775491680441377,
          -0.41127717743982634,
          0.09562702241928536,
          0.07627133581846442,
          -0.4121154042046896,
          1.2651376595429622,
          1.1350518360935882,
          -0.06337771493283854,
          -0.4354620140625747,
          0.7196787549342663,
          -4.402578912524459,
          1.9687208683682613,
          0.6555126013851399,
          -0.0560400880553133,
          0.36014843924403567,
          -0.3393310530515716,
          -0.05618864061894675,
          -0.7620360756541434,
          2.2765844364760244,
          -0.1809785248737513,
          0.04741030706685319,
          0.9977781862139034,
          -0.10368604875802694,
          0.08477651925558286,
          0.8612425944740151,
          0.7906107892066147,
          2.222153168898032,
          0.9271137572827851,
          -0.933076573827796,
          -0.8988029806520121,
          -2.3137946958989093,
          -1.262031299788922,
          1.531094807331236,
          -0.4698002472753555,
          0.8215286852076028,
          0.7262953082237082,
          0.3474608869182147,
          0.1933160140725199,
          1.4030209257013284,
          1.4136472750859472,
          1.484689988498163,
          -0.31071788634395986,
          -0.10512270723039209,
          2.788588196063791,
          0.6942665279067887,
          -1.6221205168196704,
          -1.5358891258969745,
          -5.390230091324028,
          -0.05382714583808633,
          -0.2898665417593283,
          -1.260382298976928,
          -0.7803224545641396,
          1.5051495770311585,
          0.5803112501175964,
          2.086664936649374,
          -0.18161001740644336,
          -0.650160067771678,
          2.8005081295505834,
          2.010684631814509,
          1.0261929757046149,
          0.8826209995591442,
          1.4018861885732579,
          -0.16219622891775753,
          0.25599546097227693,
          0.8691497060902621,
          -1.5011848488732091,
          -0.3200597277327531,
          -1.2944994042026117,
          -0.5456178840144871,
          1.8888243208696973,
          -0.5729396178889065,
          -1.4908371626662968,
          -2.1898217107727223,
          -0.697981637865361,
          -0.23905295474811644,
          2.409294352998542,
          0.9257675849876759,
          1.5566745603483794,
          -1.0069374967242832,
          1.0084966732206213,
          0.932396395709247,
          -1.0527303276752815,
          -1.2373064742887583,
          -1.0619565111290759,
          -0.5555449222733351,
          0.9788842536594317,
          1.0408259298766718,
          -2.8428263971497643,
          0.5180488529611271,
          -1.6905110652741528,
          -0.3262885111417028,
          -2.130031613612813,
          -1.1278168907275803,
          -1.281563485961725,
          2.468497036072906,
          1.0838583358054046,
          -3.1349782903342973,
          -1.6413306810627137,
          -0.45250278470661287,
          -1.9522743211029703,
          0.48362291075191616,
          -1.4563425687414286,
          -0.10987314385041769,
          0.6158576137099461,
          -0.5868950184257324,
          0.5769079407121165,
          0.9088328834540096,
          0.9740543609654375,
          1.405540222780347,
          -0.45150411441299854,
          0.8918181728173353,
          0.8975360796648465,
          -0.6621999979037598,
          0.9635875557455985,
          -1.225200516924064,
          0.8707039875644644,
          0.8253771930222122,
          1.0561426926150919,
          -0.9405407931339573,
          -1.8287828386842508,
          -1.3540124493050345,
          -1.606980022160718,
          0.3460117677467244,
          -0.4822437003617033,
          -1.0797421576520245,
          2.049442378801733,
          -0.6863589864441054,
          -1.2312058155561383,
          -0.4408077734631772,
          1.9103928827399057,
          0.03270583740353485,
          -0.20996796039133742,
          -0.6289580764774891,
          0.5105359440905778,
          -0.959193673966364,
          -0.6258817633061429,
          0.06520142346467557,
          -1.7822998845983422,
          -0.8405755615134102,
          -0.6824369774306212,
          -0.3050667357507061,
          -0.6683855409374206,
          -1.2952094103434575,
          4.826559931350412,
          -0.3360372733285952,
          0.5404265351754705,
          -0.12259444631687272,
          0.404050310958112,
          -0.43068633033445164,
          -0.24231908854981232,
          -3.7463039154988067,
          0.3903540292108635,
          -0.3559583563930899,
          0.060018862612229155,
          -0.8933600247286169,
          -0.8933600247286169,
          -2.086516395357705,
          -1.7010795872307367,
          0.2606769403008009,
          1.092259393392991,
          1.2345506751356483,
          -0.4882407877851696,
          0.45241863132259663,
          -0.8399721363552378,
          -1.5610763688475255,
          -0.5750562636036319,
          -0.8381301731828616,
          -2.730925832158358,
          0.7874939756284267,
          0.4911950927440084,
          0.3774487375210159,
          -0.9967827441174442,
          1.2010413815187737,
          -1.6818591537753769,
          -1.460115509427206,
          -1.460115509427206,
          1.2010413815187737,
          1.0670428479199023,
          -0.45679465998486146,
          -1.2245378851001398,
          0.6475400473459345,
          1.7194337387580398,
          0.4721520501796555,
          0.1351467155885519,
          -0.28063377886379065,
          -0.3541260846265757,
          1.0318573930800459,
          1.7208456743530547,
          1.3009344093014228,
          0.4789975912632365,
          1.8697348981141606,
          -0.5914828614287037,
          -2.0590376645165525,
          0.2675743062137767,
          -0.9853266239471636,
          -0.4604816004754535,
          -0.5391510807840079,
          0.9443175429761823,
          -0.2599530298696151,
          -1.0649853089126,
          -0.23905742054502635,
          -0.7345811253619421,
          -0.0872040042195774,
          -0.04894204937688641,
          -2.86575963471272,
          0.6414594616910253,
          0.6520037893508116,
          0.2747868787312044,
          -0.0878401370863107,
          0.6768356895737331,
          0.3592067485852701,
          -1.3101377947307855,
          -0.06956410118681475,
          0.21875627038952997,
          -0.10658644268281296,
          0.32576837086844024,
          -0.29243541414912044,
          0.6336547576565379,
          0.31334569308871346,
          -0.5032505939465277,
          0.5371220456325414,
          2.3743377142720097,
          0.2790429935717442,
          3.1922750681240486,
          0.08380126477325524,
          -0.34517502480052176,
          0.6167098993104891,
          -1.0792900548148574,
          0.14936143468670177,
          0.44470993270299564,
          -0.5114790901334071,
          2.1785293823189744,
          0.45722060207315035,
          -0.25556123260532737,
          -0.8074208670098909,
          0.9472386308757962,
          -1.242690581437395,
          -0.3364176185262637,
          1.0736651373184187,
          1.1904782212570615,
          0.762368129241086,
          -0.6732696472195184,
          -0.644039341069931,
          -0.4569795729109625,
          -0.9355214742832675,
          2.9929437226692435,
          2.7260040104125682,
          0.5718932501658421,
          1.588926021384986,
          -0.20647348498483023,
          2.503834748957691,
          0.2961501475715492,
          1.0846189796399632,
          -2.202209531135049,
          -1.4404515406505776,
          -1.2821572583643763,
          -1.039264505002784,
          -0.8359784282430531,
          -0.3047987156006009,
          2.072970576974868,
          -1.8586859035534298,
          -1.2049475634533093,
          -0.5032153485091918,
          0.3362431205690467,
          2.5649619811228273,
          0.3017574318526996,
          -1.7667927291437828,
          0.8235435410088734,
          -0.22551329798238884,
          -2.730925832158358,
          -1.6613392304245789,
          -0.5014512201902216,
          -0.6092820716180172,
          0.8458223801724144,
          -1.9773985178392357,
          -1.0538519726242712,
          1.8607976208546826,
          -0.33956864941393383,
          -0.9174984834704695,
          -0.8125754547368469,
          0.1430170152730132,
          -0.436273793306857,
          -0.9044991715514364,
          -0.2767892181150549,
          -0.2457930742265068,
          -0.8244011946355031,
          0.9298124473763045,
          -0.5950664354754062,
          0.4412507041863315,
          0.8445197390903224,
          -0.46507013203248215,
          2.1319338498127416,
          2.1319338498127416,
          -0.33139835788936056,
          0.441532302112215,
          0.07998978375631886,
          -0.3963211426076423,
          2.1319338498127416,
          -0.8155413081291475,
          3.171873475784776,
          -0.5190281872867492,
          -0.04992336453818265,
          -0.5719527809990385,
          1.4382986039502859,
          1.0900669684738835,
          1.7843626906751464,
          0.10095590734267915,
          -0.6444052078607332,
          -0.6061843984291289,
          0.5550883374467279,
          1.5481209530840518,
          -0.7817051706674061,
          -0.6388486423779032,
          -0.17090223401107546,
          -0.32611218191329455,
          2.30122259667243,
          1.7357442769118545,
          0.04692563163928804,
          1.334490315292301,
          -0.31151254721625565,
          1.540760346052995,
          1.5085799273169238,
          0.8075604130275329,
          -0.44106858959038936,
          1.14618920911041,
          1.075078164015806,
          -0.02528769687673541,
          1.0359956773490948,
          0.7940371917879299,
          0.010298079972030333,
          -0.23136664446222235,
          -1.1263578380899089,
          0.34827356830738665,
          0.718800775980421,
          -1.2006685866016813,
          -0.48874919385379484,
          1.0511329441517385,
          0.7337050641208371,
          0.5801340207770205,
          1.7465185489496913,
          1.584539967557501,
          1.2293627570567203,
          -0.0694378539760671,
          1.3142245990799344,
          0.3466877992177145,
          -0.32247279140588697,
          0.29009240219454807,
          1.2744631039301604,
          1.9501468899176158,
          1.2293627570567203,
          -2.3742008151056515,
          0.8097924046763035,
          0.3257493828803806,
          -0.11367229774894475,
          0.5239443339764668,
          1.6637469576513095,
          1.7453471747826597,
          0.19832259823786955,
          1.725868171022628,
          1.4745753880275603,
          1.6228113586987172,
          2.1264928384127195,
          0.3083705907543958,
          1.1642030880653813,
          1.1415398106539247,
          -0.02528769687673541,
          -0.6942782995410632,
          0.6062441505324676,
          0.8056575915427356,
          -0.9718696038331139,
          1.18464750258882,
          0.22260393120987615,
          -1.1380333885721872,
          -0.4229417107027701,
          -0.9603842841299493,
          -1.265586488281601,
          -1.674309468276218,
          -0.9592325696676609,
          -2.208275782350013,
          -0.761431112746128,
          -0.9283602915772441,
          -1.0003872778034175,
          0.33305942804359606,
          -0.19978661479337217,
          -0.0977905072708859,
          -0.3273231663866195,
          0.32999149224547936,
          -0.1732878731515431,
          -0.21810390747021396,
          2.077877064765504,
          0.025489112912357555,
          -0.9418507803283749,
          -0.4804940299306698,
          -0.47779605592947244,
          -0.52363262354919,
          -0.9163671842424647,
          -1.2884126387002213,
          0.7256755059981274,
          -0.536175477047159,
          -0.20004831834695222,
          -1.5613522001109883,
          -0.6142121203837296,
          -1.194131190809027,
          -2.1123758191296766,
          -0.7475462109839732,
          -1.086255009417536,
          0.6072921779752919,
          -0.35977774728872647,
          -1.5821085055818676,
          -0.13876869479146303,
          -0.003982163539607225,
          -1.7721004542251837,
          -0.1080063382461593,
          -1.7184551482442967,
          -0.7220600773571375,
          -2.008498131172689,
          3.785598078144564,
          -0.6245323153977059,
          -0.18114110937883393,
          -0.022800292142003315,
          -0.15263025560776386,
          -0.1887950055902843,
          -2.3234479758534663,
          -1.612958575629978,
          -1.9259738186536455,
          -1.4099877285403835,
          0.10661860207796611,
          -3.205538486710099,
          0.5323072652927343,
          1.8282937839211066,
          -0.6155007542491481,
          1.3122550950150036,
          0.6822192108782642,
          -1.0354897180880496,
          -0.45676528942886385,
          -0.8453131010072429,
          -1.9210975153315735,
          -0.6527180829080172,
          0.024262505451436756,
          -1.1247553043951921,
          0.40145569484541077,
          0.05346625837849096,
          -1.7065805207387783,
          -1.9235702921852242,
          -0.6810658577223936,
          1.6164448236652194,
          0.09441690780118751,
          -0.5757347764161701,
          -5.324849710991179,
          -1.8070057827169652,
          -0.02122469233578096,
          -0.8179812815431721,
          -1.3805997531516438,
          -0.4252552251575268,
          -1.1523424561828015,
          -0.6194712237286725,
          0.2735411475255203,
          -1.2756162640421762,
          1.7770619659271756,
          -0.4548824173651341,
          -0.421761080686225,
          -0.6384313705147714,
          0.3983427053701467,
          -0.187756443276736,
          1.6973069926470363,
          -1.549598120569177,
          0.1937997624785211,
          0.48139350196031944,
          -0.20512310302811199,
          -1.0982469509351995,
          -1.5081390298152688,
          1.4235176038388107,
          0.8841847068181835,
          0.2093295113807371,
          -0.5197990686970073,
          -0.7780011535498262,
          -0.08477339014202823,
          0.7143393983015889,
          0.13736835214689766,
          0.700771847706659,
          -1.0091976515141259,
          -1.002022262410627,
          -0.7434581785609029,
          -0.780559302033209,
          -1.3122341658827257,
          1.0170344495471033,
          -0.3040733125345656,
          0.08946315030054451,
          -0.31230681270171534,
          -0.16456801441915764,
          -0.2049495698588312,
          -0.07991557811552694,
          -0.4800402335682114,
          1.0418746296709664,
          0.41832376286280415,
          -1.0277443701394149,
          -0.6611049658549464,
          -0.6489680497255808,
          -0.3852608354914712,
          0.17448410537177977,
          0.5248339009637634,
          -0.43529139936164835,
          1.1609463777718734,
          0.2589852009041755,
          -0.42691453943558605,
          -0.6464046362867742,
          0.42815031752521115,
          0.4327388460338241,
          -0.10281476747520184,
          1.7409198864727407,
          0.5389720184815596,
          0.20213755898732538,
          0.7995084254451718,
          -2.2233358551456597,
          -0.29818416988592816,
          0.41034709323556184,
          -1.1839367028471586,
          -1.10714120551994,
          -1.1559737393615048,
          0.4471515763880716,
          0.7108677100843084,
          -0.48733428196600403,
          0.6078594827312362,
          0.1493626086872385,
          -0.5306247834551361,
          -1.4600986525329203,
          2.1588799721449337,
          1.4175724059415649,
          2.323474646233736,
          -0.7264340924704062,
          0.5380051620704819,
          -1.5551401795197892,
          -0.2368190968048565,
          0.4830988146821115,
          -1.6654053221269045,
          -0.7714833608045456,
          0.43587842058410864,
          -0.9528768477392701,
          -1.6818591537753769,
          -1.1853532984892807,
          0.03981564058481191,
          0.42768027326641156,
          -1.1439320101672605,
          0.488120039268684,
          1.0666625856504648,
          0.01162612404727886,
          0.50606317802432,
          1.4863001605179265,
          -1.284496768517747,
          -0.3713389048807118,
          1.9640017001666568,
          -0.1677818071588715,
          -0.6040355782456608,
          0.2917830774541002,
          -1.4741218575235384,
          -1.112022211570133,
          0.3059623637210849,
          -0.4379365403910001,
          -0.5672204471636588,
          -1.4898328117949922,
          -0.43677317153655,
          -0.9923148417845828,
          -0.20902437743052413,
          -1.0654567706274058,
          0.7770097252992122,
          0.33401701714382903,
          0.5252445248516953,
          1.8155609678787503,
          0.508108258396573,
          -1.7117626410225615,
          0.49594484497374763,
          1.7418772023653093,
          1.4017740558582383,
          0.2819221874301162,
          0.13536712504467696,
          0.07841349962985514,
          0.6245229490939131,
          -0.3594263708981449,
          1.740676276274567,
          1.7810790132391285,
          1.6140113589621876,
          1.6826908295445586,
          1.2215784649122434,
          0.9220277790772242,
          1.7617395286963522,
          1.5690767467252906,
          2.7233564576301776,
          -0.47763708031993873,
          2.1233022870016143,
          -1.1063612328205015,
          0.10993501322158035,
          -1.6569223971159344,
          -0.7710263136821079,
          0.6354891072036875,
          -0.9350760961442338,
          -3.1540523613575266,
          -1.2137938729879856,
          -0.8438981481839081,
          -0.9125375098004527,
          0.2368117634647003,
          1.7845842030479502,
          1.9879280654500122,
          1.887320341583242,
          1.3890820852305399,
          0.525057776042806,
          -0.6949754865209058,
          -1.618776096908665,
          -1.0019065974555341,
          0.4632721312759804,
          -0.16280340377950528,
          0.9104905958323078,
          0.42987233925511226,
          -1.1802309291515336,
          -1.1011781151568327,
          -2.4095640228892585,
          -1.136790466345072,
          -0.4810385583693402,
          -1.2429177650114944,
          0.6135342320569062,
          0.06955499887095253,
          0.8825057082452495,
          5.661064469750128,
          -0.1617325261948526,
          0.5077876996618966,
          0.40145569484541077,
          0.6099267306357671,
          0.7221971732916752,
          -1.1482497042279047,
          -0.3069504230571488,
          -0.754549980995693,
          2.327751738173513,
          0.2468691144837987,
          2.436830025160062,
          0.3434852089598278,
          0.5893342154021552,
          1.017508286688113,
          0.6428230485845238,
          0.08601275154033061,
          1.3216325337985868,
          1.7160008601508703,
          -0.5715956896217799,
          -0.8386394424269163,
          -0.3763273731968017,
          -0.004324987100124469,
          0.8203433536037087,
          0.9161667510871496,
          -0.14941271670467526,
          0.6042109943935772,
          1.0137097562146573,
          0.13603763028618548,
          0.5283163487891249,
          -0.7549928952607791,
          0.16600454255353453,
          0.9505098176612305,
          -0.12126743768402085,
          -0.27660102442963935,
          0.2823440524192906,
          -0.650534021633639,
          0.5842145967287778,
          0.5598043266791897,
          -0.4591874361420234,
          1.1835659275212296,
          0.747610936615994,
          0.09042435986383489,
          -1.1641913972188558,
          0.5884791515413881,
          -0.9406279038400527,
          0.18524942989997623,
          0.19004799950629822,
          0.8947453894033434,
          1.50515065363419,
          0.8918238940497789,
          2.9135456906314823,
          0.19535040548850974,
          -2.1347042752673895,
          -1.0963441427170602,
          -1.0963441427170602,
          -0.17984935525889534,
          -0.8950542673028754,
          0.42475557998044833,
          0.5831053065264433,
          -1.084980509930824,
          -2.8428263971497643,
          -0.9306059402806293,
          -1.2361284238426493,
          -0.9994364223214954,
          -0.8532624380946275,
          -1.2052063378789575,
          -3.0064137891182603,
          -0.7091852339985241,
          -1.0871716684012835,
          -0.5411080761057503,
          -2.0616820132566858,
          -1.8606143982219363,
          1.0730684436328815,
          -0.5750562636036319,
          -1.4422160971020848,
          0.1886789586010893,
          -1.3758920059641702,
          -0.5901899611195263,
          0.9140536000059578,
          -2.355220982919509,
          -1.198245821762802,
          -1.4354924459885983,
          -2.282372401763113,
          -1.4495411317022124,
          -1.3961646106574361,
          -1.2322459853919874,
          -0.6873446047620466,
          -1.333100330985608,
          -0.3457065151016639,
          -1.6510206389647342,
          -1.2550499258583425,
          -0.6079438902660641,
          -1.3761751048259705,
          -1.5947288333897767,
          -2.756815146103763,
          -2.097517448153194,
          -1.7890453009986351,
          0.26938140551560397,
          0.6810389452681571,
          -1.4846548825159842,
          0.7411803149126388,
          1.9235878436744351,
          -3.165362786607467,
          4.826559931350412,
          -0.08741851902060387,
          -2.067410691673394,
          -2.968734440754032,
          0.9064658020706728,
          0.7987656364710389,
          -0.5571382455449457,
          -0.2985993159826215,
          -1.1430498587646876,
          0.4817104725042975,
          0.2431661077492272,
          -1.2805711408949858,
          -0.5518033813859761,
          -1.140613241176296,
          -0.6281451448687279,
          -1.8650987670142123,
          -0.07153712703738031,
          -1.5947560608544455,
          1.482939194100989,
          -0.030417443991498278,
          1.902544692499396,
          -0.6947868184198233,
          0.14542983433201492,
          -0.7902420934319374,
          -0.4958217071530858,
          0.4233905789931046,
          0.7902407593582286,
          -0.3263511848736131,
          1.144585708548666,
          0.8799311581112479,
          -0.9439438340615456,
          -0.4296076407966242,
          0.6670912404694666,
          2.293376654437114,
          -0.4854428229005883,
          -0.7261160220215055,
          0.6223149471238172,
          0.1614331792893237,
          0.7770097252992122,
          0.44940732397602035,
          0.2917261998932697,
          -2.855966032511482,
          -2.855966032511482,
          0.6559230533819522,
          1.406293735881837,
          1.0147877716635718,
          -0.25782567626502273,
          2.161647716158942,
          0.9725077360054162,
          0.5566877659983666,
          -0.12451622959309981,
          0.38684109384886667,
          -2.274267147404096,
          -0.5032745309280626,
          0.4632574382839315,
          0.24131108774216173,
          0.4347306693747588,
          -0.48608191553885083,
          1.3493684929291612,
          0.5291162113167044,
          1.3688832383135685,
          -0.7445120828736284,
          -1.487337348536496,
          -1.472350129957895,
          -0.5094951483576852,
          -0.6626360277993759,
          -1.0397485474220631,
          -0.5147913976645266,
          0.6622361023624536,
          -0.1298494266082229,
          2.509545265596501,
          0.034388253828875635,
          1.6820118145061878,
          -0.22151898410253912,
          -0.4154576536923462,
          1.8643364588341318,
          -0.6931916182715608,
          3.3892843225133245,
          1.6888125651475767,
          0.7724804102748123,
          -0.02711420406282498,
          -0.44158173588628985,
          0.8066569243264365,
          1.3009605925765602,
          0.8036905200841323,
          1.4551854278010667,
          -0.966841712081993,
          -1.6011254016144802,
          0.4239634544031925,
          0.9768693414114821,
          1.6643262992104455,
          0.6616282733623552,
          -0.0749374994094278,
          -0.053419150523244356,
          1.5817331684268623,
          0.2508037832268165,
          1.4150167553021784,
          0.9464624614115376,
          1.7854208091586665,
          -1.8986513450642606,
          1.6602819900696797,
          -1.279703419471331,
          -1.2278698439781444,
          1.5382079251100935,
          -0.9416686159264975,
          0.25954218045523514,
          1.0825135388044314,
          -0.4795650203233543,
          2.5234170447632382,
          0.5799128089869479,
          0.8994140052267788,
          -1.1652508706177414,
          3.541066134530155,
          -0.6151603064563306,
          1.2037797236775685,
          -0.19189490558533967,
          3.7740953500324284,
          1.4190247050955023,
          0.4605236227815433,
          0.19506465400558046,
          0.8894868952712869,
          3.4923409189643366,
          0.5095306889194519,
          2.558033727453963,
          2.9413296035633723,
          2.958537628387945,
          0.6664854167602081,
          1.2751122185381918,
          1.0858549905634804,
          -1.0223874893828686,
          -0.48961223115223534,
          -0.8883453305418875,
          -1.0527146426813936,
          -1.597967213088472,
          2.4205435798085655,
          -0.018409808694463535,
          1.315003907583431,
          0.0503442815388586,
          1.217523876667541,
          1.4513188974470856,
          -0.7764384500968179,
          1.4989831502198459,
          -2.112028615171624,
          -0.824295031950503,
          -0.7193176773642308,
          -0.5324102979469502,
          -0.737757044158714,
          -1.7549264883420468,
          -1.1175832891565354,
          -0.816761001859705,
          -1.4246076648562234,
          1.921009491852299,
          2.5107890898612344,
          -1.0983810149208897,
          -0.31907824241307803,
          -0.7018982279762445,
          1.1118432949722454,
          -0.43925124042932284,
          0.22403578221356613,
          0.6909457256744236,
          0.13117975779423194,
          0.17250022808780618,
          0.6909457256744236,
          0.8801445212944207,
          -0.17264943240538402,
          -0.9571843923901087,
          -0.341874427273663,
          1.2354223195199212,
          -0.4772773599784328,
          0.6744175097128852,
          -0.40133533548180683,
          0.024502695165669528,
          1.0114888345052575,
          -0.8582289768525594,
          0.9394174796720545,
          0.41812138172327407,
          -0.8914675871467134,
          -1.5430309314244661,
          -1.0478864536138912,
          -0.5196969124319152,
          2.0933789127353672,
          0.04095302452669391,
          0.9543876770247657,
          -1.261352710826355,
          -1.3497698875032407,
          0.10155215220948988,
          1.139522497877638,
          -0.622492682443778,
          -0.29961093997959903,
          -0.038761203351085634,
          -0.3328413481692126,
          2.1948710462685406,
          0.3926654752334098,
          -0.7082917138338346,
          0.29023198327406824,
          1.3922680305445996,
          0.6626605141152957,
          0.6693446790274971,
          3.8268321408784556,
          1.0358556804491126,
          1.8888243208696973,
          0.9430672461585765,
          1.2597163972076542,
          -0.8635581785887428,
          -1.6236929721271762,
          -1.2939500198084297,
          -1.6971954084152077,
          1.9663728384182122,
          0.5163649992284994,
          0.5004206553924502,
          0.14092098116822477,
          -1.386496535851084,
          -0.025169305094829564,
          -1.1102871922238369,
          -0.790197420244646,
          -0.8316780531167177,
          -0.6670526559898651,
          1.4554367646834034,
          0.9890710951795676,
          0.9287715899499609,
          -0.5819582864843352,
          3.1033319622259383,
          -1.2547084597372218,
          -0.5922012386467974,
          0.44359553061128726,
          -1.1720025427993523,
          0.13010784025672517,
          -0.8263097141400589,
          0.5077876996618966,
          0.9391439233166063,
          -0.8361202369462661,
          -0.41710445916982253,
          0.7424716521704873,
          0.6133935006749384,
          -0.6458383516302351,
          -1.7510201157210308,
          -0.3198383314567164,
          -1.4596407954660358,
          0.3245641073323009,
          -0.43057562980432723,
          -1.128065762889742,
          -0.46563576744897545,
          1.2702245745656187,
          -0.21965273572098107,
          -0.6328920510936781,
          -0.6988975412607017,
          0.7686819591582694,
          -0.8578855206836925,
          -0.6751035437408792,
          -0.48605547778189634,
          -0.6387093576147187,
          -2.3003554276697575,
          -1.4089869637399526,
          0.5329524166170319,
          -0.5503229283988346,
          0.2649669251071385,
          0.16553005113670288,
          -1.7294067262714858,
          -1.5577347517846192,
          0.7672821803529789,
          1.2004658861734105,
          1.4061401453545945,
          -2.35019320359805,
          -0.08627299783939633,
          0.8446557092574358,
          -0.6487851809748291,
          -1.7149594650926832,
          0.0013927407355487193,
          -0.654732402955598,
          -0.6716498259605349,
          -0.2359762374089452,
          0.9064187971729902,
          0.8189954933017394,
          -3.965753596410925,
          -0.11703497197782615,
          -2.256751542779663,
          -0.09410452304932396,
          0.3812586717201802,
          2.6976463366123995,
          0.5131120537669288,
          0.9959213711304622,
          -1.2402689930457098,
          1.5628972442440021,
          -1.0607416100157319,
          -2.256751542779663,
          -0.9567877399978048,
          -1.7290648744164663,
          0.20449305184851485,
          -1.4239004176118473,
          0.24505719072753482,
          -0.25033575125748797,
          -0.05687280290597382,
          -0.061435918394807,
          0.738566949401596,
          0.21719128364850077,
          0.7781800659952608,
          -0.65635136299891,
          0.6651735153459151,
          -0.8660248605849112,
          0.10023142404119581,
          0.43555699753972565,
          -0.2041627944480551,
          -0.23066117701024727,
          -0.8316304566337256,
          0.7676614983898069,
          -0.240792017359984,
          -0.2615215886055987,
          -0.41122320695676134,
          -0.8988800994715387,
          0.3336941223407054,
          0.6860578631441885,
          -0.4951214050625926,
          -0.05956019009530015,
          0.12075812107373536,
          0.44441784379878874,
          -0.6616514069680499,
          -1.4117539522982119,
          0.2781575732523068,
          1.2439293597589178,
          -0.23523107582540717,
          -1.2922767646910298,
          0.13248114283797852,
          -0.5926544520710935,
          3.1162867697322656,
          0.23782341079723954,
          -0.6096458997580967,
          -0.6930003232440021,
          -1.1323136221586492,
          2.1986968196259045,
          1.1580810480104047,
          1.2457790474239903,
          2.3900983846499235,
          0.24373481668966968,
          1.0924350472163014,
          0.2903542953149212,
          -0.22221128725045877,
          1.8975682273569174,
          0.021286560459713187,
          1.3744385074292993,
          0.01571081049753167,
          1.9290845928997926,
          0.19741899494320098,
          2.316189655961485,
          0.8430468316977235,
          0.7314162765751044,
          -0.7154802731599031,
          -2.2004649250143316,
          0.7920409187021262,
          -0.5335446105803916,
          -0.6116306323663964,
          3.6031821127767256,
          1.0162723217827383,
          2.5978306373195412,
          1.0108598689274584,
          1.0938512321728935,
          2.2513235929449396,
          1.5770042098068648,
          1.3467527027553345,
          4.185024132169871,
          2.0897495005941034,
          1.0383832443919563,
          2.3508458837380357,
          1.258371672130237,
          0.7401609265457787,
          2.160228863385682,
          -1.7852850671989073,
          1.0456398874007042,
          0.028154177287873765,
          -0.9361637998069964,
          -0.5220718237448777,
          3.5139698314658796,
          1.1131804574029112,
          2.537556457175949,
          -0.2901700140672187,
          -0.5300761897294424,
          -0.25693064754724904,
          -0.3142662177413453,
          2.556676519754194,
          -0.032935202369642036,
          -0.19885795871475306,
          2.401645428187084,
          1.0351778267918161,
          0.6444849876155514,
          0.02830607493314345,
          -2.1162902439844755,
          0.0023635999375403783,
          0.11962982789439502,
          -2.3475492425405364,
          -0.9201381858244994,
          -0.9743563680480035,
          0.6855028852755771,
          1.137090114462427,
          0.5578793427893984,
          0.26544876172433435,
          1.4026574288018112,
          -1.198245821762802,
          -0.4598399809985947,
          0.004144946964963522,
          -0.1238592683778358,
          0.9074993270322188,
          2.966117634830434,
          0.23373058553335385,
          -1.0639389150223326,
          -0.46220981259856997,
          -0.2980526711510941,
          -0.5943153326486953,
          -1.6613392304245789,
          -0.3679066722953556,
          -1.0497134604561376,
          -1.3494016832394546,
          0.7991499058784423,
          -1.6325913148629339,
          1.6707445011481434,
          -0.9660544362186665,
          -0.6556564907066509,
          -2.0606593454143702,
          -0.9655688502559326,
          -0.6386814446471751,
          0.3922359770881071,
          -0.8850916940287172,
          -0.37443829851879096,
          -0.8776851115060574,
          1.0174448376284801,
          -1.547565309042906,
          -0.34767541953337167,
          0.7476935362147721,
          -1.7158149473483149,
          -0.1072661941829634,
          1.1371005994234749,
          1.1252714892569744,
          -3.3937229407621814,
          2.008001960014269,
          0.3406402701807251,
          -1.9378358956816633,
          -1.6406240108949215,
          0.3611379628164952,
          -0.1184879455672431,
          -1.3859775972109318,
          -0.8010825313436073,
          -0.6575570841874532,
          -0.8394366975160805,
          -0.5271531372802956,
          -0.6114212774880566,
          1.5845151521137246,
          -0.46437605375359275,
          -1.3018832532958389,
          -1.151666825670537,
          -0.8751633821228616,
          -0.8847666158004636,
          -1.1693233863795702,
          1.7741759054637467,
          -0.08797624049417666,
          0.0031216044997842956,
          -0.21948269271775617,
          -1.4655689988816683,
          -1.5463730166337235,
          0.40327617661500714,
          0.7755578306120954,
          -0.705965790616285,
          0.5503898665299518,
          -1.1182317836598286,
          0.5624036751698466,
          -1.4549911125915846,
          -0.6621999979037598,
          -0.4681495641372796,
          -0.4870410138232003,
          0.33010939541902895,
          1.0408259298766718,
          1.4738730430602944,
          0.5156531889061453,
          -0.015715671755880303,
          0.6860578631441885,
          1.2872874286237435,
          -1.7328518095993393,
          0.6959769757292268,
          -0.007669339267966737,
          -0.026276856447328953,
          -2.3639641186732705,
          1.1631494108116507,
          -1.9638694381659396,
          0.5622885515036905,
          -1.1870319739345856,
          -1.2154061426403067,
          -1.4566505898126172,
          -2.2659149056848733,
          0.1794845077670368,
          0.09855330331148558,
          0.7424716521704873,
          -0.08219381352159469,
          -0.8236358611214704,
          -0.4835296956000883,
          -0.1631079482562012,
          -1.3903335627467321,
          -0.2523900390177834,
          0.48731616639509945,
          -0.47860482608152977,
          -0.3195944017333588,
          -0.4228383605114791,
          0.4615724899439213,
          1.3345949133414947,
          2.1353388542792677,
          -1.260368942063367,
          0.6396464239450966,
          0.7174376136046116,
          2.345272967063735,
          1.3733289406188698,
          -0.5966630580451396,
          -0.8228496570941337,
          -2.4169422454436025,
          0.9336350514741285,
          0.9336350514741285,
          0.23664873280865079,
          1.23869111464877,
          -0.5418841654097423,
          0.8575279188846328,
          -0.7605992017394504,
          -0.23040106781687494,
          0.5411367955330914,
          1.361841351970978,
          2.457186219925861,
          -1.4898216303774785,
          -1.0689235689502825,
          -2.046513409718879,
          -0.9547823761436236,
          0.875812830258527,
          -0.5020453808359165,
          -0.845003489669978,
          -1.1505866051408813,
          -1.0162719172752022,
          -0.6633142881216194,
          -1.669792851071191,
          -1.3533738902887793,
          -0.9919352561058706,
          -1.0803934023175576,
          -0.6401416299877902,
          -1.3024094498395524,
          -1.527463322382273,
          -1.8816369915962363,
          -0.6241541934765831,
          -1.108751387261617,
          -1.0937437785451833,
          -0.5769655569107686,
          1.350116593760214,
          -0.6835707776462004,
          -0.2133349589123069,
          -1.7208881667392972,
          0.6069933473401407,
          -0.9485578909088213,
          0.3406380049689812,
          -0.6728024875104724,
          0.00958856854999119,
          -0.3318682072964192,
          1.2099337331859252,
          -0.04351653889015136,
          0.4724973084177488,
          0.1667006178250998,
          -0.4598399809985947,
          0.8379678502770378,
          -1.8668083916396314,
          0.3913490107035048,
          0.03003234442886049,
          0.3334601091239053,
          -0.4109946285590771,
          -0.747628110827672,
          -0.5327999702766616,
          1.4165753877023473,
          -0.977875526993149,
          0.5343302360287074,
          -1.1023076661037088,
          -0.8610990263499402,
          -0.7747711983975634,
          -0.14363907758537311,
          -0.9146586648127377,
          -0.9765413938527064,
          -1.7663661393860073,
          -1.1307289608189777,
          -0.7087335536763928,
          -0.594738347218477,
          0.07306755370479649,
          -1.515879694964565,
          0.6613108686606786,
          1.1286274880828182,
          -2.0581977671877034,
          1.0677052103269238,
          -0.3012459235234418,
          0.425780149887807,
          -0.4026393357126621,
          0.2989675907068805,
          1.6285636697961783,
          -0.6663501829263657,
          1.8664334683739916,
          2.420357930284381,
          -1.1092347492996684,
          0.32008414751743847,
          0.031691890126981835,
          1.116077645714545,
          -0.439456520582333,
          2.0898309796232186,
          -0.7570751399473804,
          -0.7746598120563298,
          -0.38653891891373304,
          0.25707335983407076,
          0.06329890129218335,
          0.3373619817345928,
          0.22643180698531126,
          -1.3546107260806572,
          0.8002025039600899,
          -0.8889081107644088,
          -0.7286812887095813,
          1.3078694865346474,
          -0.6114302591907721,
          0.5466667600703212,
          1.8234840719083283,
          2.2518211503014953,
          1.5327451810884494,
          1.6920378828976936,
          0.7022921431888595,
          1.9109285289174887,
          0.2804484614653213,
          -1.0498417887903464,
          3.6031821127767256,
          -0.5242582112536117,
          0.7861182653546223,
          2.040327191221804,
          0.1689301613237654,
          -0.08526345403740591,
          -0.011024140739627961,
          -0.7916755386423829,
          -1.214727083640509,
          0.7724463413233456,
          -0.3037457413035932,
          -2.3335427199807537,
          -0.35621684950736454,
          0.1243030358694664,
          -1.1706210899866971,
          -2.3606274464677384,
          -1.6367819175495606,
          -0.5023576395671441,
          -2.730925832158358,
          -1.2423446127955213,
          -0.8386470327706342,
          -1.0079198521398594,
          -0.2276189352739314,
          -0.42160553228633396,
          -0.9631389674046099,
          2.4898319782499616,
          0.7343740197596881,
          2.115364063407615,
          0.1372487388050838,
          1.0125213152896417,
          -0.37005291574945387,
          -1.781530089631286,
          -1.1887304827614928,
          -0.24042744331689736,
          -0.6167239342012012,
          -0.9734476761826613,
          -0.5688906477444724,
          -0.48616722062179335,
          1.007660051451997,
          -0.3015057633668336,
          0.12897294715117838,
          2.530930018505618,
          0.9337858603263685,
          0.8418091510500225,
          -0.9333434321358245,
          -0.19397496311706586,
          -0.5671126380023049,
          1.5106561492724935,
          0.1807485566750751,
          -1.0463627822229717,
          -0.7333067303893004,
          -1.0246191375816271,
          0.8689648267049044,
          2.413138762792475,
          -1.0475814842246287,
          0.9736919192976671,
          1.7212392934745604,
          -1.342900371291423,
          -0.5792383396463378,
          1.3474157429635834,
          1.2378265189856168,
          -0.6277344905438672,
          -0.46693744531297277,
          -0.6195438014522855,
          1.4249282490014097,
          0.9643381077505963,
          0.11165727459267895,
          0.9643381077505963,
          -0.12094841593244876,
          -0.43451549773971815,
          -0.8717228134320273,
          0.1507974647085968,
          0.2779790895369216,
          1.1894891272965922,
          0.13692337593368228,
          2.295129874378309,
          -1.242690581437395,
          -0.3485694162350429,
          0.30276431226281064,
          -0.9565041870588198,
          -0.0345577811523839,
          -0.2352821550030316,
          -0.2877116065230749,
          0.3349014483820888,
          -0.5519801147930521,
          -1.6671675160620305,
          0.3483655714328144,
          -0.6829322826912609,
          0.10279951612119977,
          -1.995951140242707,
          0.2685118467719538,
          1.994616924866823,
          1.8483060822592727,
          1.0554925588676232,
          0.21879040449048212,
          -0.13570197581661017,
          0.985196886190002,
          1.0680519747125832,
          -0.9423944222871242,
          -1.3267365895545926,
          0.23792831775974232,
          1.0906730354380958,
          0.8260360840052882,
          -0.11461723951061656,
          1.840407711419566,
          1.0823540919940682,
          -0.8687738626484464,
          -0.5914828614287037,
          -0.8089063660175049,
          0.6170449549147405,
          -0.035800722938186265,
          1.591342828103713,
          1.35606700159957,
          -1.62874817073926,
          -1.2933490428322196,
          -0.6763485851962384,
          1.1830106693009685,
          0.6030493268732681,
          0.3823904837157785,
          3.0241485166452997,
          1.4320445004928863,
          0.34228297341502234,
          -1.4187000715910463,
          1.6814999864821394,
          2.799421051795825,
          -0.04549238763922257,
          0.46574141694873883,
          1.4198239456029456,
          0.5888953615807223,
          1.0444386933204308,
          0.5964434905315011,
          0.08844995393029563,
          -0.04549238763922257,
          0.8977977758332225,
          -0.16885058170457728,
          0.5983088128366488,
          0.6667441748139563,
          0.11485247399156086,
          -2.576925205301682,
          0.23909640755805614,
          2.2487561906623967,
          2.5387340249432437,
          -0.05632591154783124,
          0.5964434905315011,
          1.9783020811682754,
          1.35606700159957,
          2.9160689759183804,
          -0.6225797561996645,
          0.2559420671846044,
          -0.29072442076003474,
          0.37573869502044327,
          1.5556309456722213,
          0.45063092760922646,
          0.7757854374142324,
          0.07431941987263652,
          -1.3080925230982428,
          -1.352434598293572,
          0.29360917681999615,
          3.3099155081569465,
          -0.5551636406866741,
          0.567598716608109,
          2.6461398776378893,
          0.03399799833090009,
          0.6786040056615528,
          0.14923360423841536,
          -0.4559136008402386,
          2.946557942362359,
          1.948601535631257,
          0.6937156146030234,
          -0.6479161411275306,
          -0.16832643560406668,
          0.9206331889506515,
          -0.4507613510772833,
          -1.6238548107932491,
          -1.7149594650926832,
          0.8246937348674246,
          -0.6046810983191568,
          0.9951455987502085,
          -0.49439614316897423,
          -0.19789301436615137,
          -0.1776336120395264,
          -0.08113594162833096,
          -3.591928184508258,
          0.01519289863717789,
          0.41832376286280415,
          -1.343039625106527,
          -1.153338780548079,
          -1.514498807756261,
          -1.5909581557697074,
          -2.3456999619452223,
          0.5187929455099801,
          -2.00688784311654,
          -1.5610744785887507,
          0.4027243215517706,
          0.388571741171382,
          2.47119076193706,
          -0.21414035832918155,
          3.002042958139082,
          2.4311389903409233,
          2.882281167231523,
          0.9642980521378566,
          0.007995287376184153,
          -1.4448575644382058,
          -0.21558652585747362,
          -1.0494337432873824,
          -0.1688143132993541,
          -0.7392065333258869,
          2.1790993577352364,
          -1.0820263567320574,
          -0.5618613817516013,
          0.05919103367562581,
          -1.04205346531579,
          0.12324047273321456,
          -0.06624184533439256,
          -1.5632894769170895,
          -0.2045551733815307,
          -0.2825690317516747,
          -1.7373472894249409,
          -1.0465870893288538,
          0.5718932501658421,
          0.03184445897223667,
          -0.01265913126862005,
          1.040655436264778,
          2.080718977326507,
          -2.2215790057935054,
          -1.2942306228088367,
          -0.9232671973085145,
          1.6648500226504839,
          -2.2517164433175383,
          2.2279199793837776,
          -1.493430572233985,
          0.06759763053874115,
          -0.42200852490748614,
          -1.622499456596277,
          -0.8568498421627423,
          -1.7156119083516979,
          -0.4018140005258502,
          -1.918311146567525,
          -1.0284176661154842,
          0.5662509076481959,
          -1.9360921290485076,
          -1.3661970267771626,
          -0.4790532667477208,
          1.5323961175618486,
          0.6372584903149824,
          1.3733798976383902,
          -0.5126351469976407,
          -0.47065776417615496,
          0.0005851604650572152,
          0.8136001906911955,
          0.3899702635827707,
          -0.3954610481119673,
          -1.5825523645928838,
          -0.9178690058179528,
          -0.3820309089909228,
          0.1570831701082999,
          -0.9806604314366183,
          1.257391239773404,
          0.5631582113333867,
          1.1114556668423161,
          0.19309430754008072,
          -3.0573576367230793,
          -2.796405090095437,
          0.44419319813298974,
          -0.5425621727635168,
          -0.820158306284964,
          0.3751431940363835,
          -1.0223780840942382,
          -0.6070712876472274,
          -0.9624492068779531,
          -2.023747135601469,
          -0.08741851902060387,
          -0.20462864179538692,
          -0.08910926007141946,
          -2.0591628392523136,
          -1.1745357862551764,
          -0.6346088648189905,
          -0.5491745735455977,
          0.5095716897531251,
          0.8065406104992434,
          0.7411803149126388,
          -0.8558821629061244,
          -0.3657681542279319,
          -0.5309994855824157,
          -0.521399451920894,
          -0.8095689157079908,
          1.126582546311044,
          -0.20982947444075425,
          -1.1323946066926922,
          0.22119401719295287,
          -1.1950493627964536,
          1.4025390812695406,
          -0.5757347764161701,
          -0.7264869106374373,
          -0.7415878471844211,
          0.06951336384573392,
          -0.20446565868520766,
          -0.018790314063136748,
          0.031392890711789564,
          0.350670056236076,
          -1.112895632869607,
          1.819586892795912,
          1.8713013951568795,
          1.9181525956534944,
          -1.718668848043768,
          0.8757893106119172,
          0.17563027053701322,
          -0.6929183840508949,
          -0.28726002097626296,
          0.2080940661331739,
          1.7764954026041324,
          -0.4085731850932776,
          0.029405535122964347,
          0.30289029594966566,
          0.9923583707665767,
          0.43377995483685866,
          -1.3564329550862655,
          0.5863758368736304,
          2.923932736424935,
          1.023058014777483,
          0.8397768146241367,
          2.571609178955062,
          -0.39274683629951157,
          0.31036458933882755,
          1.212222119936063,
          -0.9105271986614426,
          -0.4231354934946313,
          -1.5022933704705304,
          -0.3958114038540063,
          0.1105798058358052,
          -1.1364627595215118,
          0.9890710951795676,
          1.689332261401969,
          0.9299479085907845,
          -0.4525968776137774,
          -0.7448746955627199,
          1.857421981839317,
          0.31621132843281025,
          -3.591928184508258,
          -2.7715699519860695,
          -1.0936649608603826,
          -0.898736775853538,
          -0.714485193204114,
          0.08471793830475387,
          3.402325258536721,
          0.5915376393811422,
          0.19594602619168547,
          0.0359650849812197,
          -0.7572787491134746,
          0.4800421604906781,
          0.5277834265150191,
          -0.07029951988053253,
          -2.645920314483974,
          -1.3983743516341602,
          -1.7875077633778915,
          0.8485646204971748,
          1.2059329792106643,
          -1.7241610708089135,
          -0.4721562361789341,
          -0.8206980878304466,
          -0.9083842640904385,
          -0.7454847813329025,
          -0.7426614340923879,
          -0.5761116798393014,
          1.2630604906993135,
          -0.9648409921390879,
          0.19368622313439873,
          0.9996039142658524,
          1.1575246422378067,
          -1.0936649608603826,
          -1.0936649608603826,
          3.0241485166452997,
          1.5817331684268618,
          1.6452582761714487,
          -2.4045788380748405,
          -2.4574249906447134,
          -0.5475715725911341,
          -1.3098373709567734,
          -2.0126521925813625,
          -2.4620510303808603,
          0.48391822240133286,
          -1.4091483830778606,
          -1.5557878439244375,
          -1.7104659017896566,
          -0.1493937757696479,
          -2.0027033980752855,
          -2.2204584178167073,
          -0.9119564427723749,
          -2.22090312331418,
          -1.7536558307851122,
          -1.376443720504269,
          -2.539680899330996,
          -1.9288195091233988,
          0.45865280287595994,
          -0.7370750659682043,
          -1.4238717798777545,
          0.3131378501572331,
          0.03164626132905745,
          -0.9437787672942026,
          0.4220331476734177,
          -0.19189119093840554,
          -0.5211679048184932,
          1.8836076923570377,
          1.2546259176505108,
          -1.798007110035975,
          1.6046581333958088,
          0.5308244007763782,
          -1.4677050692393347,
          -0.07553356999426532,
          -0.937130006178034,
          0.9744129361419295,
          1.0808327860734235,
          -1.349883894052111,
          -2.6382976097380952,
          1.1075741810946937,
          -1.1968544636420653,
          -0.04985157001773352,
          -1.3368586236919537,
          3.380206235874206,
          -0.9362765548657936,
          -0.8512302225203645,
          0.8312994793303596,
          1.1474159317775232,
          0.86928146203973,
          -0.06373150398819545,
          -0.45242591189058035,
          -1.048789567781992,
          -0.9786629053950864,
          -1.1203219593181108,
          -0.6009018213810927,
          0.41862414869311876,
          -0.3053760309640817,
          0.18024535423151372,
          -0.08741851902060387,
          -2.1446915046004693,
          0.8614420346143561,
          0.13071407897492596,
          -0.22775045896728233,
          1.1093919174553293,
          0.506169689465506,
          2.5114509290464655,
          -0.35625838503850066,
          0.26395567276692394,
          0.27161526261914415,
          -0.33962311293372743,
          0.813812117006182,
          1.6452114399898932,
          1.2386818562700994,
          0.8050649466533385,
          0.5777097466141735,
          -0.7454513238920548,
          0.7691464789300277,
          -0.23009953334279817,
          -1.1625225503153813,
          1.0967477999866908,
          -0.7762878624655957,
          -0.5844671710446085,
          -0.6061979063641807,
          -1.4869471807666164,
          1.7503448743454868,
          -0.6151603064563306,
          -1.6531344263407683,
          0.7427151707507386,
          -0.7054157806980503,
          -0.03251912330296244,
          -2.3414449224888663,
          1.840847976937172,
          0.4150643762265178,
          -0.5229064046857342,
          -0.01712586072171532,
          -1.3049828462456508,
          -1.0897255704646895,
          -3.6952327527777635,
          -1.3907085464763507
         ],
         "yaxis": "y"
        }
       ],
       "layout": {
        "coloraxis": {
         "colorbar": {
          "title": {
           "text": "cluster_pca"
          }
         },
         "colorscale": [
          [
           0,
           "#0d0887"
          ],
          [
           0.1111111111111111,
           "#46039f"
          ],
          [
           0.2222222222222222,
           "#7201a8"
          ],
          [
           0.3333333333333333,
           "#9c179e"
          ],
          [
           0.4444444444444444,
           "#bd3786"
          ],
          [
           0.5555555555555556,
           "#d8576b"
          ],
          [
           0.6666666666666666,
           "#ed7953"
          ],
          [
           0.7777777777777778,
           "#fb9f3a"
          ],
          [
           0.8888888888888888,
           "#fdca26"
          ],
          [
           1,
           "#f0f921"
          ]
         ]
        },
        "legend": {
         "tracegroupgap": 0
        },
        "margin": {
         "t": 60
        },
        "template": {
         "data": {
          "bar": [
           {
            "error_x": {
             "color": "#2a3f5f"
            },
            "error_y": {
             "color": "#2a3f5f"
            },
            "marker": {
             "line": {
              "color": "#E5ECF6",
              "width": 0.5
             },
             "pattern": {
              "fillmode": "overlay",
              "size": 10,
              "solidity": 0.2
             }
            },
            "type": "bar"
           }
          ],
          "barpolar": [
           {
            "marker": {
             "line": {
              "color": "#E5ECF6",
              "width": 0.5
             },
             "pattern": {
              "fillmode": "overlay",
              "size": 10,
              "solidity": 0.2
             }
            },
            "type": "barpolar"
           }
          ],
          "carpet": [
           {
            "aaxis": {
             "endlinecolor": "#2a3f5f",
             "gridcolor": "white",
             "linecolor": "white",
             "minorgridcolor": "white",
             "startlinecolor": "#2a3f5f"
            },
            "baxis": {
             "endlinecolor": "#2a3f5f",
             "gridcolor": "white",
             "linecolor": "white",
             "minorgridcolor": "white",
             "startlinecolor": "#2a3f5f"
            },
            "type": "carpet"
           }
          ],
          "choropleth": [
           {
            "colorbar": {
             "outlinewidth": 0,
             "ticks": ""
            },
            "type": "choropleth"
           }
          ],
          "contour": [
           {
            "colorbar": {
             "outlinewidth": 0,
             "ticks": ""
            },
            "colorscale": [
             [
              0,
              "#0d0887"
             ],
             [
              0.1111111111111111,
              "#46039f"
             ],
             [
              0.2222222222222222,
              "#7201a8"
             ],
             [
              0.3333333333333333,
              "#9c179e"
             ],
             [
              0.4444444444444444,
              "#bd3786"
             ],
             [
              0.5555555555555556,
              "#d8576b"
             ],
             [
              0.6666666666666666,
              "#ed7953"
             ],
             [
              0.7777777777777778,
              "#fb9f3a"
             ],
             [
              0.8888888888888888,
              "#fdca26"
             ],
             [
              1,
              "#f0f921"
             ]
            ],
            "type": "contour"
           }
          ],
          "contourcarpet": [
           {
            "colorbar": {
             "outlinewidth": 0,
             "ticks": ""
            },
            "type": "contourcarpet"
           }
          ],
          "heatmap": [
           {
            "colorbar": {
             "outlinewidth": 0,
             "ticks": ""
            },
            "colorscale": [
             [
              0,
              "#0d0887"
             ],
             [
              0.1111111111111111,
              "#46039f"
             ],
             [
              0.2222222222222222,
              "#7201a8"
             ],
             [
              0.3333333333333333,
              "#9c179e"
             ],
             [
              0.4444444444444444,
              "#bd3786"
             ],
             [
              0.5555555555555556,
              "#d8576b"
             ],
             [
              0.6666666666666666,
              "#ed7953"
             ],
             [
              0.7777777777777778,
              "#fb9f3a"
             ],
             [
              0.8888888888888888,
              "#fdca26"
             ],
             [
              1,
              "#f0f921"
             ]
            ],
            "type": "heatmap"
           }
          ],
          "heatmapgl": [
           {
            "colorbar": {
             "outlinewidth": 0,
             "ticks": ""
            },
            "colorscale": [
             [
              0,
              "#0d0887"
             ],
             [
              0.1111111111111111,
              "#46039f"
             ],
             [
              0.2222222222222222,
              "#7201a8"
             ],
             [
              0.3333333333333333,
              "#9c179e"
             ],
             [
              0.4444444444444444,
              "#bd3786"
             ],
             [
              0.5555555555555556,
              "#d8576b"
             ],
             [
              0.6666666666666666,
              "#ed7953"
             ],
             [
              0.7777777777777778,
              "#fb9f3a"
             ],
             [
              0.8888888888888888,
              "#fdca26"
             ],
             [
              1,
              "#f0f921"
             ]
            ],
            "type": "heatmapgl"
           }
          ],
          "histogram": [
           {
            "marker": {
             "pattern": {
              "fillmode": "overlay",
              "size": 10,
              "solidity": 0.2
             }
            },
            "type": "histogram"
           }
          ],
          "histogram2d": [
           {
            "colorbar": {
             "outlinewidth": 0,
             "ticks": ""
            },
            "colorscale": [
             [
              0,
              "#0d0887"
             ],
             [
              0.1111111111111111,
              "#46039f"
             ],
             [
              0.2222222222222222,
              "#7201a8"
             ],
             [
              0.3333333333333333,
              "#9c179e"
             ],
             [
              0.4444444444444444,
              "#bd3786"
             ],
             [
              0.5555555555555556,
              "#d8576b"
             ],
             [
              0.6666666666666666,
              "#ed7953"
             ],
             [
              0.7777777777777778,
              "#fb9f3a"
             ],
             [
              0.8888888888888888,
              "#fdca26"
             ],
             [
              1,
              "#f0f921"
             ]
            ],
            "type": "histogram2d"
           }
          ],
          "histogram2dcontour": [
           {
            "colorbar": {
             "outlinewidth": 0,
             "ticks": ""
            },
            "colorscale": [
             [
              0,
              "#0d0887"
             ],
             [
              0.1111111111111111,
              "#46039f"
             ],
             [
              0.2222222222222222,
              "#7201a8"
             ],
             [
              0.3333333333333333,
              "#9c179e"
             ],
             [
              0.4444444444444444,
              "#bd3786"
             ],
             [
              0.5555555555555556,
              "#d8576b"
             ],
             [
              0.6666666666666666,
              "#ed7953"
             ],
             [
              0.7777777777777778,
              "#fb9f3a"
             ],
             [
              0.8888888888888888,
              "#fdca26"
             ],
             [
              1,
              "#f0f921"
             ]
            ],
            "type": "histogram2dcontour"
           }
          ],
          "mesh3d": [
           {
            "colorbar": {
             "outlinewidth": 0,
             "ticks": ""
            },
            "type": "mesh3d"
           }
          ],
          "parcoords": [
           {
            "line": {
             "colorbar": {
              "outlinewidth": 0,
              "ticks": ""
             }
            },
            "type": "parcoords"
           }
          ],
          "pie": [
           {
            "automargin": true,
            "type": "pie"
           }
          ],
          "scatter": [
           {
            "fillpattern": {
             "fillmode": "overlay",
             "size": 10,
             "solidity": 0.2
            },
            "type": "scatter"
           }
          ],
          "scatter3d": [
           {
            "line": {
             "colorbar": {
              "outlinewidth": 0,
              "ticks": ""
             }
            },
            "marker": {
             "colorbar": {
              "outlinewidth": 0,
              "ticks": ""
             }
            },
            "type": "scatter3d"
           }
          ],
          "scattercarpet": [
           {
            "marker": {
             "colorbar": {
              "outlinewidth": 0,
              "ticks": ""
             }
            },
            "type": "scattercarpet"
           }
          ],
          "scattergeo": [
           {
            "marker": {
             "colorbar": {
              "outlinewidth": 0,
              "ticks": ""
             }
            },
            "type": "scattergeo"
           }
          ],
          "scattergl": [
           {
            "marker": {
             "colorbar": {
              "outlinewidth": 0,
              "ticks": ""
             }
            },
            "type": "scattergl"
           }
          ],
          "scattermapbox": [
           {
            "marker": {
             "colorbar": {
              "outlinewidth": 0,
              "ticks": ""
             }
            },
            "type": "scattermapbox"
           }
          ],
          "scatterpolar": [
           {
            "marker": {
             "colorbar": {
              "outlinewidth": 0,
              "ticks": ""
             }
            },
            "type": "scatterpolar"
           }
          ],
          "scatterpolargl": [
           {
            "marker": {
             "colorbar": {
              "outlinewidth": 0,
              "ticks": ""
             }
            },
            "type": "scatterpolargl"
           }
          ],
          "scatterternary": [
           {
            "marker": {
             "colorbar": {
              "outlinewidth": 0,
              "ticks": ""
             }
            },
            "type": "scatterternary"
           }
          ],
          "surface": [
           {
            "colorbar": {
             "outlinewidth": 0,
             "ticks": ""
            },
            "colorscale": [
             [
              0,
              "#0d0887"
             ],
             [
              0.1111111111111111,
              "#46039f"
             ],
             [
              0.2222222222222222,
              "#7201a8"
             ],
             [
              0.3333333333333333,
              "#9c179e"
             ],
             [
              0.4444444444444444,
              "#bd3786"
             ],
             [
              0.5555555555555556,
              "#d8576b"
             ],
             [
              0.6666666666666666,
              "#ed7953"
             ],
             [
              0.7777777777777778,
              "#fb9f3a"
             ],
             [
              0.8888888888888888,
              "#fdca26"
             ],
             [
              1,
              "#f0f921"
             ]
            ],
            "type": "surface"
           }
          ],
          "table": [
           {
            "cells": {
             "fill": {
              "color": "#EBF0F8"
             },
             "line": {
              "color": "white"
             }
            },
            "header": {
             "fill": {
              "color": "#C8D4E3"
             },
             "line": {
              "color": "white"
             }
            },
            "type": "table"
           }
          ]
         },
         "layout": {
          "annotationdefaults": {
           "arrowcolor": "#2a3f5f",
           "arrowhead": 0,
           "arrowwidth": 1
          },
          "autotypenumbers": "strict",
          "coloraxis": {
           "colorbar": {
            "outlinewidth": 0,
            "ticks": ""
           }
          },
          "colorscale": {
           "diverging": [
            [
             0,
             "#8e0152"
            ],
            [
             0.1,
             "#c51b7d"
            ],
            [
             0.2,
             "#de77ae"
            ],
            [
             0.3,
             "#f1b6da"
            ],
            [
             0.4,
             "#fde0ef"
            ],
            [
             0.5,
             "#f7f7f7"
            ],
            [
             0.6,
             "#e6f5d0"
            ],
            [
             0.7,
             "#b8e186"
            ],
            [
             0.8,
             "#7fbc41"
            ],
            [
             0.9,
             "#4d9221"
            ],
            [
             1,
             "#276419"
            ]
           ],
           "sequential": [
            [
             0,
             "#0d0887"
            ],
            [
             0.1111111111111111,
             "#46039f"
            ],
            [
             0.2222222222222222,
             "#7201a8"
            ],
            [
             0.3333333333333333,
             "#9c179e"
            ],
            [
             0.4444444444444444,
             "#bd3786"
            ],
            [
             0.5555555555555556,
             "#d8576b"
            ],
            [
             0.6666666666666666,
             "#ed7953"
            ],
            [
             0.7777777777777778,
             "#fb9f3a"
            ],
            [
             0.8888888888888888,
             "#fdca26"
            ],
            [
             1,
             "#f0f921"
            ]
           ],
           "sequentialminus": [
            [
             0,
             "#0d0887"
            ],
            [
             0.1111111111111111,
             "#46039f"
            ],
            [
             0.2222222222222222,
             "#7201a8"
            ],
            [
             0.3333333333333333,
             "#9c179e"
            ],
            [
             0.4444444444444444,
             "#bd3786"
            ],
            [
             0.5555555555555556,
             "#d8576b"
            ],
            [
             0.6666666666666666,
             "#ed7953"
            ],
            [
             0.7777777777777778,
             "#fb9f3a"
            ],
            [
             0.8888888888888888,
             "#fdca26"
            ],
            [
             1,
             "#f0f921"
            ]
           ]
          },
          "colorway": [
           "#636efa",
           "#EF553B",
           "#00cc96",
           "#ab63fa",
           "#FFA15A",
           "#19d3f3",
           "#FF6692",
           "#B6E880",
           "#FF97FF",
           "#FECB52"
          ],
          "font": {
           "color": "#2a3f5f"
          },
          "geo": {
           "bgcolor": "white",
           "lakecolor": "white",
           "landcolor": "#E5ECF6",
           "showlakes": true,
           "showland": true,
           "subunitcolor": "white"
          },
          "hoverlabel": {
           "align": "left"
          },
          "hovermode": "closest",
          "mapbox": {
           "style": "light"
          },
          "paper_bgcolor": "white",
          "plot_bgcolor": "#E5ECF6",
          "polar": {
           "angularaxis": {
            "gridcolor": "white",
            "linecolor": "white",
            "ticks": ""
           },
           "bgcolor": "#E5ECF6",
           "radialaxis": {
            "gridcolor": "white",
            "linecolor": "white",
            "ticks": ""
           }
          },
          "scene": {
           "xaxis": {
            "backgroundcolor": "#E5ECF6",
            "gridcolor": "white",
            "gridwidth": 2,
            "linecolor": "white",
            "showbackground": true,
            "ticks": "",
            "zerolinecolor": "white"
           },
           "yaxis": {
            "backgroundcolor": "#E5ECF6",
            "gridcolor": "white",
            "gridwidth": 2,
            "linecolor": "white",
            "showbackground": true,
            "ticks": "",
            "zerolinecolor": "white"
           },
           "zaxis": {
            "backgroundcolor": "#E5ECF6",
            "gridcolor": "white",
            "gridwidth": 2,
            "linecolor": "white",
            "showbackground": true,
            "ticks": "",
            "zerolinecolor": "white"
           }
          },
          "shapedefaults": {
           "line": {
            "color": "#2a3f5f"
           }
          },
          "ternary": {
           "aaxis": {
            "gridcolor": "white",
            "linecolor": "white",
            "ticks": ""
           },
           "baxis": {
            "gridcolor": "white",
            "linecolor": "white",
            "ticks": ""
           },
           "bgcolor": "#E5ECF6",
           "caxis": {
            "gridcolor": "white",
            "linecolor": "white",
            "ticks": ""
           }
          },
          "title": {
           "x": 0.05
          },
          "xaxis": {
           "automargin": true,
           "gridcolor": "white",
           "linecolor": "white",
           "ticks": "",
           "title": {
            "standoff": 15
           },
           "zerolinecolor": "white",
           "zerolinewidth": 2
          },
          "yaxis": {
           "automargin": true,
           "gridcolor": "white",
           "linecolor": "white",
           "ticks": "",
           "title": {
            "standoff": 15
           },
           "zerolinecolor": "white",
           "zerolinewidth": 2
          }
         }
        },
        "xaxis": {
         "anchor": "y",
         "domain": [
          0,
          1
         ],
         "title": {
          "text": "x"
         }
        },
        "yaxis": {
         "anchor": "x",
         "domain": [
          0,
          1
         ],
         "title": {
          "text": "y"
         }
        }
       }
      }
     },
     "metadata": {},
     "output_type": "display_data"
    }
   ],
   "source": [
    "fig = px.scatter(projection, x=\"x\", y=\"y\", color=\"cluster_pca\", hover_data=[\"x\", \"y\", \"generos\"])\n",
    "fig.show()"
   ]
  },
  {
   "cell_type": "code",
   "execution_count": 40,
   "metadata": {},
   "outputs": [
    {
     "data": {
      "text/plain": [
       "0.4927066994726638"
      ]
     },
     "execution_count": 40,
     "metadata": {},
     "output_type": "execute_result"
    }
   ],
   "source": [
    "pca_pipeline[1].explained_variance_ratio_.sum()"
   ]
  },
  {
   "cell_type": "code",
   "execution_count": 42,
   "metadata": {},
   "outputs": [
    {
     "data": {
      "text/plain": [
       "5.421597305805694"
      ]
     },
     "execution_count": 42,
     "metadata": {},
     "output_type": "execute_result"
    }
   ],
   "source": [
    "pca_pipeline[1].explained_variance_.sum()"
   ]
  }
 ],
 "metadata": {
  "kernelspec": {
   "display_name": "Python 3",
   "language": "python",
   "name": "python3"
  },
  "language_info": {
   "codemirror_mode": {
    "name": "ipython",
    "version": 3
   },
   "file_extension": ".py",
   "mimetype": "text/x-python",
   "name": "python",
   "nbconvert_exporter": "python",
   "pygments_lexer": "ipython3",
   "version": "3.10.4"
  },
  "orig_nbformat": 4,
  "vscode": {
   "interpreter": {
    "hash": "0f4aad36e1a7834f44c14e84b98527cfbefef55e7a336cfec74130d804d73c8f"
   }
  }
 },
 "nbformat": 4,
 "nbformat_minor": 2
}
